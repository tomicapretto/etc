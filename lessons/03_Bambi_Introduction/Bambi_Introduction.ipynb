{
 "cells": [
  {
   "cell_type": "code",
   "execution_count": 1,
   "metadata": {},
   "outputs": [],
   "source": [
    "import arviz as az\n",
    "import bambi as bmb\n",
    "import matplotlib as mpl\n",
    "import matplotlib.pyplot as plt\n",
    "import numpy as np\n",
    "import pandas as pd\n",
    "import pymc as pm\n",
    "import seaborn as sns"
   ]
  },
  {
   "cell_type": "code",
   "execution_count": 2,
   "metadata": {},
   "outputs": [],
   "source": [
    "%matplotlib inline\n",
    "plt.style.use(\"intuitivebayes.mplstyle\")\n",
    "\n",
    "mpl.rcParams[\"figure.dpi\"] = 120\n",
    "mpl.rcParams[\"figure.facecolor\"] = \"white\"\n",
    "mpl.rcParams[\"axes.spines.left\"] = False\n",
    "FIGSIZE = (12, 7)"
   ]
  },
  {
   "cell_type": "markdown",
   "metadata": {},
   "source": [
    "# Section 10: Introduction"
   ]
  },
  {
   "cell_type": "markdown",
   "metadata": {},
   "source": [
    "In this lesson, we'll imagine we are working in the data science team of an e-commerce company. In particular, we sell really good and fresh fish to our clients (mainly fancy restaurants).\n",
    "\n",
    "Lol! Does it sound familiar?\n",
    "\n",
    "* Of course! We're in a very similar setting than in the previous lesson\n",
    "* But it's for a good reason!\n",
    "\n",
    "In the previous lesson, we worked following these steps:\n",
    "\n",
    "* Exploratory Data Analysis\n",
    "* Planning\n",
    "* Model development\n",
    "    * Propose model\n",
    "    * Fit model\n",
    "    * Evaluate fit\n",
    "    * Inspect inferences\n",
    "* Insight extraction & communication\n",
    "\n",
    "Today, we're focusing on Model development only, because we're learning how to use a fantastic new tool: Bambi"
   ]
  },
  {
   "cell_type": "markdown",
   "metadata": {},
   "source": [
    "# Section 20: The world's simplest model, now simpler"
   ]
  },
  {
   "cell_type": "markdown",
   "metadata": {},
   "source": [
    "## First things first"
   ]
  },
  {
   "cell_type": "code",
   "execution_count": 3,
   "metadata": {},
   "outputs": [
    {
     "data": {
      "text/html": [
       "<div>\n",
       "<style scoped>\n",
       "    .dataframe tbody tr th:only-of-type {\n",
       "        vertical-align: middle;\n",
       "    }\n",
       "\n",
       "    .dataframe tbody tr th {\n",
       "        vertical-align: top;\n",
       "    }\n",
       "\n",
       "    .dataframe thead th {\n",
       "        text-align: right;\n",
       "    }\n",
       "</style>\n",
       "<table border=\"1\" class=\"dataframe\">\n",
       "  <thead>\n",
       "    <tr style=\"text-align: right;\">\n",
       "      <th></th>\n",
       "      <th>Species</th>\n",
       "      <th>Weight</th>\n",
       "      <th>Length1</th>\n",
       "      <th>Length2</th>\n",
       "      <th>Length3</th>\n",
       "      <th>Height</th>\n",
       "      <th>Width</th>\n",
       "    </tr>\n",
       "  </thead>\n",
       "  <tbody>\n",
       "    <tr>\n",
       "      <th>0</th>\n",
       "      <td>Bream</td>\n",
       "      <td>242.0</td>\n",
       "      <td>23.2</td>\n",
       "      <td>25.4</td>\n",
       "      <td>30.0</td>\n",
       "      <td>11.5200</td>\n",
       "      <td>4.0200</td>\n",
       "    </tr>\n",
       "    <tr>\n",
       "      <th>1</th>\n",
       "      <td>Bream</td>\n",
       "      <td>290.0</td>\n",
       "      <td>24.0</td>\n",
       "      <td>26.3</td>\n",
       "      <td>31.2</td>\n",
       "      <td>12.4800</td>\n",
       "      <td>4.3056</td>\n",
       "    </tr>\n",
       "    <tr>\n",
       "      <th>2</th>\n",
       "      <td>Bream</td>\n",
       "      <td>340.0</td>\n",
       "      <td>23.9</td>\n",
       "      <td>26.5</td>\n",
       "      <td>31.1</td>\n",
       "      <td>12.3778</td>\n",
       "      <td>4.6961</td>\n",
       "    </tr>\n",
       "    <tr>\n",
       "      <th>3</th>\n",
       "      <td>Bream</td>\n",
       "      <td>363.0</td>\n",
       "      <td>26.3</td>\n",
       "      <td>29.0</td>\n",
       "      <td>33.5</td>\n",
       "      <td>12.7300</td>\n",
       "      <td>4.4555</td>\n",
       "    </tr>\n",
       "    <tr>\n",
       "      <th>4</th>\n",
       "      <td>Bream</td>\n",
       "      <td>430.0</td>\n",
       "      <td>26.5</td>\n",
       "      <td>29.0</td>\n",
       "      <td>34.0</td>\n",
       "      <td>12.4440</td>\n",
       "      <td>5.1340</td>\n",
       "    </tr>\n",
       "    <tr>\n",
       "      <th>...</th>\n",
       "      <td>...</td>\n",
       "      <td>...</td>\n",
       "      <td>...</td>\n",
       "      <td>...</td>\n",
       "      <td>...</td>\n",
       "      <td>...</td>\n",
       "      <td>...</td>\n",
       "    </tr>\n",
       "    <tr>\n",
       "      <th>153</th>\n",
       "      <td>Smelt</td>\n",
       "      <td>12.2</td>\n",
       "      <td>11.5</td>\n",
       "      <td>12.2</td>\n",
       "      <td>13.4</td>\n",
       "      <td>2.0904</td>\n",
       "      <td>1.3936</td>\n",
       "    </tr>\n",
       "    <tr>\n",
       "      <th>154</th>\n",
       "      <td>Smelt</td>\n",
       "      <td>13.4</td>\n",
       "      <td>11.7</td>\n",
       "      <td>12.4</td>\n",
       "      <td>13.5</td>\n",
       "      <td>2.4300</td>\n",
       "      <td>1.2690</td>\n",
       "    </tr>\n",
       "    <tr>\n",
       "      <th>155</th>\n",
       "      <td>Smelt</td>\n",
       "      <td>12.2</td>\n",
       "      <td>12.1</td>\n",
       "      <td>13.0</td>\n",
       "      <td>13.8</td>\n",
       "      <td>2.2770</td>\n",
       "      <td>1.2558</td>\n",
       "    </tr>\n",
       "    <tr>\n",
       "      <th>156</th>\n",
       "      <td>Smelt</td>\n",
       "      <td>19.7</td>\n",
       "      <td>13.2</td>\n",
       "      <td>14.3</td>\n",
       "      <td>15.2</td>\n",
       "      <td>2.8728</td>\n",
       "      <td>2.0672</td>\n",
       "    </tr>\n",
       "    <tr>\n",
       "      <th>157</th>\n",
       "      <td>Smelt</td>\n",
       "      <td>19.9</td>\n",
       "      <td>13.8</td>\n",
       "      <td>15.0</td>\n",
       "      <td>16.2</td>\n",
       "      <td>2.9322</td>\n",
       "      <td>1.8792</td>\n",
       "    </tr>\n",
       "  </tbody>\n",
       "</table>\n",
       "<p>158 rows × 7 columns</p>\n",
       "</div>"
      ],
      "text/plain": [
       "    Species  Weight  Length1  Length2  Length3   Height   Width\n",
       "0     Bream   242.0     23.2     25.4     30.0  11.5200  4.0200\n",
       "1     Bream   290.0     24.0     26.3     31.2  12.4800  4.3056\n",
       "2     Bream   340.0     23.9     26.5     31.1  12.3778  4.6961\n",
       "3     Bream   363.0     26.3     29.0     33.5  12.7300  4.4555\n",
       "4     Bream   430.0     26.5     29.0     34.0  12.4440  5.1340\n",
       "..      ...     ...      ...      ...      ...      ...     ...\n",
       "153   Smelt    12.2     11.5     12.2     13.4   2.0904  1.3936\n",
       "154   Smelt    13.4     11.7     12.4     13.5   2.4300  1.2690\n",
       "155   Smelt    12.2     12.1     13.0     13.8   2.2770  1.2558\n",
       "156   Smelt    19.7     13.2     14.3     15.2   2.8728  2.0672\n",
       "157   Smelt    19.9     13.8     15.0     16.2   2.9322  1.8792\n",
       "\n",
       "[158 rows x 7 columns]"
      ]
     },
     "execution_count": 3,
     "metadata": {},
     "output_type": "execute_result"
    }
   ],
   "source": [
    "data = pd.read_csv(\"data/fish-market.csv\")\n",
    "data = data[data[\"Weight\"] > 0].reset_index(drop=True)\n",
    "data"
   ]
  },
  {
   "cell_type": "markdown",
   "metadata": {},
   "source": [
    "Let's quickly load the data frame and remove the observation with the null weight."
   ]
  },
  {
   "cell_type": "markdown",
   "metadata": {},
   "source": [
    "## Intercept only model"
   ]
  },
  {
   "cell_type": "markdown",
   "metadata": {},
   "source": [
    "$$\n",
    "\\begin{aligned}\n",
    "\\text{Weight}_i &= \\beta_0 + \\varepsilon_i \\\\\n",
    "\\varepsilon_i & \\sim \\text{Normal}(0, \\sigma) \n",
    "\\end{aligned}\n",
    "$$"
   ]
  },
  {
   "cell_type": "code",
   "execution_count": 4,
   "metadata": {},
   "outputs": [],
   "source": [
    "model = bmb.Model(\"Weight ~ 1\", data)"
   ]
  },
  {
   "cell_type": "markdown",
   "metadata": {},
   "source": [
    "Let's create the intercept only model using Bambi. As you can see, it fits in a single line. We only need to pass a formula describing the model and the data frame with the data. We'll come back to the details in just a moment."
   ]
  },
  {
   "cell_type": "markdown",
   "metadata": {},
   "source": [
    "## Fit"
   ]
  },
  {
   "cell_type": "code",
   "execution_count": 5,
   "metadata": {},
   "outputs": [
    {
     "name": "stderr",
     "output_type": "stream",
     "text": [
      "Auto-assigning NUTS sampler...\n",
      "Initializing NUTS using jitter+adapt_diag...\n",
      "Multiprocess sampling (2 chains in 2 jobs)\n",
      "NUTS: [Intercept, Weight_sigma]\n"
     ]
    },
    {
     "data": {
      "text/html": [
       "\n",
       "<style>\n",
       "    /* Turns off some styling */\n",
       "    progress {\n",
       "        /* gets rid of default border in Firefox and Opera. */\n",
       "        border: none;\n",
       "        /* Needs to be in here for Safari polyfill so background images work as expected. */\n",
       "        background-size: auto;\n",
       "    }\n",
       "    progress:not([value]), progress:not([value])::-webkit-progress-bar {\n",
       "        background: repeating-linear-gradient(45deg, #7e7e7e, #7e7e7e 10px, #5c5c5c 10px, #5c5c5c 20px);\n",
       "    }\n",
       "    .progress-bar-interrupted, .progress-bar-interrupted::-webkit-progress-bar {\n",
       "        background: #F44336;\n",
       "    }\n",
       "</style>\n"
      ],
      "text/plain": [
       "<IPython.core.display.HTML object>"
      ]
     },
     "metadata": {},
     "output_type": "display_data"
    },
    {
     "data": {
      "text/html": [
       "\n",
       "    <div>\n",
       "      <progress value='4000' class='' max='4000' style='width:300px; height:20px; vertical-align: middle;'></progress>\n",
       "      100.00% [4000/4000 00:03&lt;00:00 Sampling 2 chains, 0 divergences]\n",
       "    </div>\n",
       "    "
      ],
      "text/plain": [
       "<IPython.core.display.HTML object>"
      ]
     },
     "metadata": {},
     "output_type": "display_data"
    },
    {
     "name": "stderr",
     "output_type": "stream",
     "text": [
      "Sampling 2 chains for 1_000 tune and 1_000 draw iterations (2_000 + 2_000 draws total) took 4 seconds.\n"
     ]
    }
   ],
   "source": [
    "idata = model.fit()"
   ]
  },
  {
   "cell_type": "markdown",
   "metadata": {},
   "source": [
    "Yes, it's that simple. How cool is that? No need to miss you beloved scikit-learn API anymore. Bambi brings back the nice `.fit()` method. \n",
    "\n",
    "And something else, doesn't the sampler message look familiar to you? It's because Bambi is working with a PyMC model under the hood! So whenever we fit a Bambi model, we're actually fitting a PyMC one!"
   ]
  },
  {
   "cell_type": "markdown",
   "metadata": {},
   "source": [
    "## What's in the returned object?"
   ]
  },
  {
   "cell_type": "code",
   "execution_count": 6,
   "metadata": {},
   "outputs": [
    {
     "data": {
      "text/html": [
       "\n",
       "            <div>\n",
       "              <div class='xr-header'>\n",
       "                <div class=\"xr-obj-type\">arviz.InferenceData</div>\n",
       "              </div>\n",
       "              <ul class=\"xr-sections group-sections\">\n",
       "              \n",
       "            <li class = \"xr-section-item\">\n",
       "                  <input id=\"idata_posterior23a16fab-7577-4d76-be21-6c969556a0bb\" class=\"xr-section-summary-in\" type=\"checkbox\">\n",
       "                  <label for=\"idata_posterior23a16fab-7577-4d76-be21-6c969556a0bb\" class = \"xr-section-summary\">posterior</label>\n",
       "                  <div class=\"xr-section-inline-details\"></div>\n",
       "                  <div class=\"xr-section-details\">\n",
       "                      <ul id=\"xr-dataset-coord-list\" class=\"xr-var-list\">\n",
       "                          <div style=\"padding-left:2rem;\"><div><svg style=\"position: absolute; width: 0; height: 0; overflow: hidden\">\n",
       "<defs>\n",
       "<symbol id=\"icon-database\" viewBox=\"0 0 32 32\">\n",
       "<path d=\"M16 0c-8.837 0-16 2.239-16 5v4c0 2.761 7.163 5 16 5s16-2.239 16-5v-4c0-2.761-7.163-5-16-5z\"></path>\n",
       "<path d=\"M16 17c-8.837 0-16-2.239-16-5v6c0 2.761 7.163 5 16 5s16-2.239 16-5v-6c0 2.761-7.163 5-16 5z\"></path>\n",
       "<path d=\"M16 26c-8.837 0-16-2.239-16-5v6c0 2.761 7.163 5 16 5s16-2.239 16-5v-6c0 2.761-7.163 5-16 5z\"></path>\n",
       "</symbol>\n",
       "<symbol id=\"icon-file-text2\" viewBox=\"0 0 32 32\">\n",
       "<path d=\"M28.681 7.159c-0.694-0.947-1.662-2.053-2.724-3.116s-2.169-2.030-3.116-2.724c-1.612-1.182-2.393-1.319-2.841-1.319h-15.5c-1.378 0-2.5 1.121-2.5 2.5v27c0 1.378 1.122 2.5 2.5 2.5h23c1.378 0 2.5-1.122 2.5-2.5v-19.5c0-0.448-0.137-1.23-1.319-2.841zM24.543 5.457c0.959 0.959 1.712 1.825 2.268 2.543h-4.811v-4.811c0.718 0.556 1.584 1.309 2.543 2.268zM28 29.5c0 0.271-0.229 0.5-0.5 0.5h-23c-0.271 0-0.5-0.229-0.5-0.5v-27c0-0.271 0.229-0.5 0.5-0.5 0 0 15.499-0 15.5 0v7c0 0.552 0.448 1 1 1h7v19.5z\"></path>\n",
       "<path d=\"M23 26h-14c-0.552 0-1-0.448-1-1s0.448-1 1-1h14c0.552 0 1 0.448 1 1s-0.448 1-1 1z\"></path>\n",
       "<path d=\"M23 22h-14c-0.552 0-1-0.448-1-1s0.448-1 1-1h14c0.552 0 1 0.448 1 1s-0.448 1-1 1z\"></path>\n",
       "<path d=\"M23 18h-14c-0.552 0-1-0.448-1-1s0.448-1 1-1h14c0.552 0 1 0.448 1 1s-0.448 1-1 1z\"></path>\n",
       "</symbol>\n",
       "</defs>\n",
       "</svg>\n",
       "<style>/* CSS stylesheet for displaying xarray objects in jupyterlab.\n",
       " *\n",
       " */\n",
       "\n",
       ":root {\n",
       "  --xr-font-color0: var(--jp-content-font-color0, rgba(0, 0, 0, 1));\n",
       "  --xr-font-color2: var(--jp-content-font-color2, rgba(0, 0, 0, 0.54));\n",
       "  --xr-font-color3: var(--jp-content-font-color3, rgba(0, 0, 0, 0.38));\n",
       "  --xr-border-color: var(--jp-border-color2, #e0e0e0);\n",
       "  --xr-disabled-color: var(--jp-layout-color3, #bdbdbd);\n",
       "  --xr-background-color: var(--jp-layout-color0, white);\n",
       "  --xr-background-color-row-even: var(--jp-layout-color1, white);\n",
       "  --xr-background-color-row-odd: var(--jp-layout-color2, #eeeeee);\n",
       "}\n",
       "\n",
       "html[theme=dark],\n",
       "body[data-theme=dark],\n",
       "body.vscode-dark {\n",
       "  --xr-font-color0: rgba(255, 255, 255, 1);\n",
       "  --xr-font-color2: rgba(255, 255, 255, 0.54);\n",
       "  --xr-font-color3: rgba(255, 255, 255, 0.38);\n",
       "  --xr-border-color: #1F1F1F;\n",
       "  --xr-disabled-color: #515151;\n",
       "  --xr-background-color: #111111;\n",
       "  --xr-background-color-row-even: #111111;\n",
       "  --xr-background-color-row-odd: #313131;\n",
       "}\n",
       "\n",
       ".xr-wrap {\n",
       "  display: block !important;\n",
       "  min-width: 300px;\n",
       "  max-width: 700px;\n",
       "}\n",
       "\n",
       ".xr-text-repr-fallback {\n",
       "  /* fallback to plain text repr when CSS is not injected (untrusted notebook) */\n",
       "  display: none;\n",
       "}\n",
       "\n",
       ".xr-header {\n",
       "  padding-top: 6px;\n",
       "  padding-bottom: 6px;\n",
       "  margin-bottom: 4px;\n",
       "  border-bottom: solid 1px var(--xr-border-color);\n",
       "}\n",
       "\n",
       ".xr-header > div,\n",
       ".xr-header > ul {\n",
       "  display: inline;\n",
       "  margin-top: 0;\n",
       "  margin-bottom: 0;\n",
       "}\n",
       "\n",
       ".xr-obj-type,\n",
       ".xr-array-name {\n",
       "  margin-left: 2px;\n",
       "  margin-right: 10px;\n",
       "}\n",
       "\n",
       ".xr-obj-type {\n",
       "  color: var(--xr-font-color2);\n",
       "}\n",
       "\n",
       ".xr-sections {\n",
       "  padding-left: 0 !important;\n",
       "  display: grid;\n",
       "  grid-template-columns: 150px auto auto 1fr 20px 20px;\n",
       "}\n",
       "\n",
       ".xr-section-item {\n",
       "  display: contents;\n",
       "}\n",
       "\n",
       ".xr-section-item input {\n",
       "  display: none;\n",
       "}\n",
       "\n",
       ".xr-section-item input + label {\n",
       "  color: var(--xr-disabled-color);\n",
       "}\n",
       "\n",
       ".xr-section-item input:enabled + label {\n",
       "  cursor: pointer;\n",
       "  color: var(--xr-font-color2);\n",
       "}\n",
       "\n",
       ".xr-section-item input:enabled + label:hover {\n",
       "  color: var(--xr-font-color0);\n",
       "}\n",
       "\n",
       ".xr-section-summary {\n",
       "  grid-column: 1;\n",
       "  color: var(--xr-font-color2);\n",
       "  font-weight: 500;\n",
       "}\n",
       "\n",
       ".xr-section-summary > span {\n",
       "  display: inline-block;\n",
       "  padding-left: 0.5em;\n",
       "}\n",
       "\n",
       ".xr-section-summary-in:disabled + label {\n",
       "  color: var(--xr-font-color2);\n",
       "}\n",
       "\n",
       ".xr-section-summary-in + label:before {\n",
       "  display: inline-block;\n",
       "  content: '►';\n",
       "  font-size: 11px;\n",
       "  width: 15px;\n",
       "  text-align: center;\n",
       "}\n",
       "\n",
       ".xr-section-summary-in:disabled + label:before {\n",
       "  color: var(--xr-disabled-color);\n",
       "}\n",
       "\n",
       ".xr-section-summary-in:checked + label:before {\n",
       "  content: '▼';\n",
       "}\n",
       "\n",
       ".xr-section-summary-in:checked + label > span {\n",
       "  display: none;\n",
       "}\n",
       "\n",
       ".xr-section-summary,\n",
       ".xr-section-inline-details {\n",
       "  padding-top: 4px;\n",
       "  padding-bottom: 4px;\n",
       "}\n",
       "\n",
       ".xr-section-inline-details {\n",
       "  grid-column: 2 / -1;\n",
       "}\n",
       "\n",
       ".xr-section-details {\n",
       "  display: none;\n",
       "  grid-column: 1 / -1;\n",
       "  margin-bottom: 5px;\n",
       "}\n",
       "\n",
       ".xr-section-summary-in:checked ~ .xr-section-details {\n",
       "  display: contents;\n",
       "}\n",
       "\n",
       ".xr-array-wrap {\n",
       "  grid-column: 1 / -1;\n",
       "  display: grid;\n",
       "  grid-template-columns: 20px auto;\n",
       "}\n",
       "\n",
       ".xr-array-wrap > label {\n",
       "  grid-column: 1;\n",
       "  vertical-align: top;\n",
       "}\n",
       "\n",
       ".xr-preview {\n",
       "  color: var(--xr-font-color3);\n",
       "}\n",
       "\n",
       ".xr-array-preview,\n",
       ".xr-array-data {\n",
       "  padding: 0 5px !important;\n",
       "  grid-column: 2;\n",
       "}\n",
       "\n",
       ".xr-array-data,\n",
       ".xr-array-in:checked ~ .xr-array-preview {\n",
       "  display: none;\n",
       "}\n",
       "\n",
       ".xr-array-in:checked ~ .xr-array-data,\n",
       ".xr-array-preview {\n",
       "  display: inline-block;\n",
       "}\n",
       "\n",
       ".xr-dim-list {\n",
       "  display: inline-block !important;\n",
       "  list-style: none;\n",
       "  padding: 0 !important;\n",
       "  margin: 0;\n",
       "}\n",
       "\n",
       ".xr-dim-list li {\n",
       "  display: inline-block;\n",
       "  padding: 0;\n",
       "  margin: 0;\n",
       "}\n",
       "\n",
       ".xr-dim-list:before {\n",
       "  content: '(';\n",
       "}\n",
       "\n",
       ".xr-dim-list:after {\n",
       "  content: ')';\n",
       "}\n",
       "\n",
       ".xr-dim-list li:not(:last-child):after {\n",
       "  content: ',';\n",
       "  padding-right: 5px;\n",
       "}\n",
       "\n",
       ".xr-has-index {\n",
       "  font-weight: bold;\n",
       "}\n",
       "\n",
       ".xr-var-list,\n",
       ".xr-var-item {\n",
       "  display: contents;\n",
       "}\n",
       "\n",
       ".xr-var-item > div,\n",
       ".xr-var-item label,\n",
       ".xr-var-item > .xr-var-name span {\n",
       "  background-color: var(--xr-background-color-row-even);\n",
       "  margin-bottom: 0;\n",
       "}\n",
       "\n",
       ".xr-var-item > .xr-var-name:hover span {\n",
       "  padding-right: 5px;\n",
       "}\n",
       "\n",
       ".xr-var-list > li:nth-child(odd) > div,\n",
       ".xr-var-list > li:nth-child(odd) > label,\n",
       ".xr-var-list > li:nth-child(odd) > .xr-var-name span {\n",
       "  background-color: var(--xr-background-color-row-odd);\n",
       "}\n",
       "\n",
       ".xr-var-name {\n",
       "  grid-column: 1;\n",
       "}\n",
       "\n",
       ".xr-var-dims {\n",
       "  grid-column: 2;\n",
       "}\n",
       "\n",
       ".xr-var-dtype {\n",
       "  grid-column: 3;\n",
       "  text-align: right;\n",
       "  color: var(--xr-font-color2);\n",
       "}\n",
       "\n",
       ".xr-var-preview {\n",
       "  grid-column: 4;\n",
       "}\n",
       "\n",
       ".xr-var-name,\n",
       ".xr-var-dims,\n",
       ".xr-var-dtype,\n",
       ".xr-preview,\n",
       ".xr-attrs dt {\n",
       "  white-space: nowrap;\n",
       "  overflow: hidden;\n",
       "  text-overflow: ellipsis;\n",
       "  padding-right: 10px;\n",
       "}\n",
       "\n",
       ".xr-var-name:hover,\n",
       ".xr-var-dims:hover,\n",
       ".xr-var-dtype:hover,\n",
       ".xr-attrs dt:hover {\n",
       "  overflow: visible;\n",
       "  width: auto;\n",
       "  z-index: 1;\n",
       "}\n",
       "\n",
       ".xr-var-attrs,\n",
       ".xr-var-data {\n",
       "  display: none;\n",
       "  background-color: var(--xr-background-color) !important;\n",
       "  padding-bottom: 5px !important;\n",
       "}\n",
       "\n",
       ".xr-var-attrs-in:checked ~ .xr-var-attrs,\n",
       ".xr-var-data-in:checked ~ .xr-var-data {\n",
       "  display: block;\n",
       "}\n",
       "\n",
       ".xr-var-data > table {\n",
       "  float: right;\n",
       "}\n",
       "\n",
       ".xr-var-name span,\n",
       ".xr-var-data,\n",
       ".xr-attrs {\n",
       "  padding-left: 25px !important;\n",
       "}\n",
       "\n",
       ".xr-attrs,\n",
       ".xr-var-attrs,\n",
       ".xr-var-data {\n",
       "  grid-column: 1 / -1;\n",
       "}\n",
       "\n",
       "dl.xr-attrs {\n",
       "  padding: 0;\n",
       "  margin: 0;\n",
       "  display: grid;\n",
       "  grid-template-columns: 125px auto;\n",
       "}\n",
       "\n",
       ".xr-attrs dt,\n",
       ".xr-attrs dd {\n",
       "  padding: 0;\n",
       "  margin: 0;\n",
       "  float: left;\n",
       "  padding-right: 10px;\n",
       "  width: auto;\n",
       "}\n",
       "\n",
       ".xr-attrs dt {\n",
       "  font-weight: normal;\n",
       "  grid-column: 1;\n",
       "}\n",
       "\n",
       ".xr-attrs dt:hover span {\n",
       "  display: inline-block;\n",
       "  background: var(--xr-background-color);\n",
       "  padding-right: 10px;\n",
       "}\n",
       "\n",
       ".xr-attrs dd {\n",
       "  grid-column: 2;\n",
       "  white-space: pre-wrap;\n",
       "  word-break: break-all;\n",
       "}\n",
       "\n",
       ".xr-icon-database,\n",
       ".xr-icon-file-text2 {\n",
       "  display: inline-block;\n",
       "  vertical-align: middle;\n",
       "  width: 1em;\n",
       "  height: 1.5em !important;\n",
       "  stroke-width: 0;\n",
       "  stroke: currentColor;\n",
       "  fill: currentColor;\n",
       "}\n",
       "</style><pre class='xr-text-repr-fallback'>&lt;xarray.Dataset&gt;\n",
       "Dimensions:       (chain: 2, draw: 1000)\n",
       "Coordinates:\n",
       "  * chain         (chain) int64 0 1\n",
       "  * draw          (draw) int64 0 1 2 3 4 5 6 7 ... 993 994 995 996 997 998 999\n",
       "Data variables:\n",
       "    Intercept     (chain, draw) float64 430.1 435.7 435.7 ... 394.3 401.5 395.5\n",
       "    Weight_sigma  (chain, draw) float64 348.3 345.3 345.3 ... 320.4 382.9 355.4\n",
       "Attributes:\n",
       "    created_at:                  2022-11-23T02:54:47.303203\n",
       "    arviz_version:               0.12.1\n",
       "    inference_library:           pymc\n",
       "    inference_library_version:   4.1.5\n",
       "    sampling_time:               4.48614764213562\n",
       "    tuning_steps:                1000\n",
       "    modeling_interface:          bambi\n",
       "    modeling_interface_version:  0.9.1</pre><div class='xr-wrap' style='display:none'><div class='xr-header'><div class='xr-obj-type'>xarray.Dataset</div></div><ul class='xr-sections'><li class='xr-section-item'><input id='section-ef1cedc7-f774-41f7-9307-d9a0acfeab3d' class='xr-section-summary-in' type='checkbox' disabled ><label for='section-ef1cedc7-f774-41f7-9307-d9a0acfeab3d' class='xr-section-summary'  title='Expand/collapse section'>Dimensions:</label><div class='xr-section-inline-details'><ul class='xr-dim-list'><li><span class='xr-has-index'>chain</span>: 2</li><li><span class='xr-has-index'>draw</span>: 1000</li></ul></div><div class='xr-section-details'></div></li><li class='xr-section-item'><input id='section-fedf722c-1354-4c7a-afb7-3e767a95cf36' class='xr-section-summary-in' type='checkbox'  checked><label for='section-fedf722c-1354-4c7a-afb7-3e767a95cf36' class='xr-section-summary' >Coordinates: <span>(2)</span></label><div class='xr-section-inline-details'></div><div class='xr-section-details'><ul class='xr-var-list'><li class='xr-var-item'><div class='xr-var-name'><span class='xr-has-index'>chain</span></div><div class='xr-var-dims'>(chain)</div><div class='xr-var-dtype'>int64</div><div class='xr-var-preview xr-preview'>0 1</div><input id='attrs-8cadf89b-1606-4d87-ab41-808065c5f201' class='xr-var-attrs-in' type='checkbox' disabled><label for='attrs-8cadf89b-1606-4d87-ab41-808065c5f201' title='Show/Hide attributes'><svg class='icon xr-icon-file-text2'><use xlink:href='#icon-file-text2'></use></svg></label><input id='data-6994ff56-ee39-453e-91c4-c3711bcbb981' class='xr-var-data-in' type='checkbox'><label for='data-6994ff56-ee39-453e-91c4-c3711bcbb981' title='Show/Hide data repr'><svg class='icon xr-icon-database'><use xlink:href='#icon-database'></use></svg></label><div class='xr-var-attrs'><dl class='xr-attrs'></dl></div><div class='xr-var-data'><pre>array([0, 1])</pre></div></li><li class='xr-var-item'><div class='xr-var-name'><span class='xr-has-index'>draw</span></div><div class='xr-var-dims'>(draw)</div><div class='xr-var-dtype'>int64</div><div class='xr-var-preview xr-preview'>0 1 2 3 4 5 ... 995 996 997 998 999</div><input id='attrs-697678c4-7e89-49ff-9e7d-cd30027624ad' class='xr-var-attrs-in' type='checkbox' disabled><label for='attrs-697678c4-7e89-49ff-9e7d-cd30027624ad' title='Show/Hide attributes'><svg class='icon xr-icon-file-text2'><use xlink:href='#icon-file-text2'></use></svg></label><input id='data-f22a7fdd-ac7d-4043-ad03-d1b5bc6ebedd' class='xr-var-data-in' type='checkbox'><label for='data-f22a7fdd-ac7d-4043-ad03-d1b5bc6ebedd' title='Show/Hide data repr'><svg class='icon xr-icon-database'><use xlink:href='#icon-database'></use></svg></label><div class='xr-var-attrs'><dl class='xr-attrs'></dl></div><div class='xr-var-data'><pre>array([  0,   1,   2, ..., 997, 998, 999])</pre></div></li></ul></div></li><li class='xr-section-item'><input id='section-f6217438-a3a1-490b-8ed9-7f84960f9f63' class='xr-section-summary-in' type='checkbox'  checked><label for='section-f6217438-a3a1-490b-8ed9-7f84960f9f63' class='xr-section-summary' >Data variables: <span>(2)</span></label><div class='xr-section-inline-details'></div><div class='xr-section-details'><ul class='xr-var-list'><li class='xr-var-item'><div class='xr-var-name'><span>Intercept</span></div><div class='xr-var-dims'>(chain, draw)</div><div class='xr-var-dtype'>float64</div><div class='xr-var-preview xr-preview'>430.1 435.7 435.7 ... 401.5 395.5</div><input id='attrs-39932e6d-7a25-4b90-9f75-afdf6ffec589' class='xr-var-attrs-in' type='checkbox' disabled><label for='attrs-39932e6d-7a25-4b90-9f75-afdf6ffec589' title='Show/Hide attributes'><svg class='icon xr-icon-file-text2'><use xlink:href='#icon-file-text2'></use></svg></label><input id='data-2df2bb9a-d67f-4137-873e-969f056af7c6' class='xr-var-data-in' type='checkbox'><label for='data-2df2bb9a-d67f-4137-873e-969f056af7c6' title='Show/Hide data repr'><svg class='icon xr-icon-database'><use xlink:href='#icon-database'></use></svg></label><div class='xr-var-attrs'><dl class='xr-attrs'></dl></div><div class='xr-var-data'><pre>array([[430.07587252, 435.65214552, 435.65214552, ..., 415.0210298 ,\n",
       "        415.0210298 , 418.25118243],\n",
       "       [398.69940551, 400.57022146, 393.25590611, ..., 394.29958802,\n",
       "        401.51341885, 395.53617091]])</pre></div></li><li class='xr-var-item'><div class='xr-var-name'><span>Weight_sigma</span></div><div class='xr-var-dims'>(chain, draw)</div><div class='xr-var-dtype'>float64</div><div class='xr-var-preview xr-preview'>348.3 345.3 345.3 ... 382.9 355.4</div><input id='attrs-6859a553-95cb-4b8d-9e56-f472d96e910c' class='xr-var-attrs-in' type='checkbox' disabled><label for='attrs-6859a553-95cb-4b8d-9e56-f472d96e910c' title='Show/Hide attributes'><svg class='icon xr-icon-file-text2'><use xlink:href='#icon-file-text2'></use></svg></label><input id='data-8500cffd-a1b4-42ff-8c5b-0c5b1602486a' class='xr-var-data-in' type='checkbox'><label for='data-8500cffd-a1b4-42ff-8c5b-0c5b1602486a' title='Show/Hide data repr'><svg class='icon xr-icon-database'><use xlink:href='#icon-database'></use></svg></label><div class='xr-var-attrs'><dl class='xr-attrs'></dl></div><div class='xr-var-data'><pre>array([[348.2974647 , 345.3054262 , 345.3054262 , ..., 370.88784915,\n",
       "        370.88784915, 398.09904224],\n",
       "       [364.50954513, 375.4830459 , 357.90302164, ..., 320.44678934,\n",
       "        382.88798249, 355.42121284]])</pre></div></li></ul></div></li><li class='xr-section-item'><input id='section-cfe95721-6a62-42be-82df-130ad513430f' class='xr-section-summary-in' type='checkbox'  checked><label for='section-cfe95721-6a62-42be-82df-130ad513430f' class='xr-section-summary' >Attributes: <span>(8)</span></label><div class='xr-section-inline-details'></div><div class='xr-section-details'><dl class='xr-attrs'><dt><span>created_at :</span></dt><dd>2022-11-23T02:54:47.303203</dd><dt><span>arviz_version :</span></dt><dd>0.12.1</dd><dt><span>inference_library :</span></dt><dd>pymc</dd><dt><span>inference_library_version :</span></dt><dd>4.1.5</dd><dt><span>sampling_time :</span></dt><dd>4.48614764213562</dd><dt><span>tuning_steps :</span></dt><dd>1000</dd><dt><span>modeling_interface :</span></dt><dd>bambi</dd><dt><span>modeling_interface_version :</span></dt><dd>0.9.1</dd></dl></div></li></ul></div></div><br></div>\n",
       "                      </ul>\n",
       "                  </div>\n",
       "            </li>\n",
       "            \n",
       "            <li class = \"xr-section-item\">\n",
       "                  <input id=\"idata_log_likelihood32a246e4-4bd5-4b9b-83e1-556c7d692005\" class=\"xr-section-summary-in\" type=\"checkbox\">\n",
       "                  <label for=\"idata_log_likelihood32a246e4-4bd5-4b9b-83e1-556c7d692005\" class = \"xr-section-summary\">log_likelihood</label>\n",
       "                  <div class=\"xr-section-inline-details\"></div>\n",
       "                  <div class=\"xr-section-details\">\n",
       "                      <ul id=\"xr-dataset-coord-list\" class=\"xr-var-list\">\n",
       "                          <div style=\"padding-left:2rem;\"><div><svg style=\"position: absolute; width: 0; height: 0; overflow: hidden\">\n",
       "<defs>\n",
       "<symbol id=\"icon-database\" viewBox=\"0 0 32 32\">\n",
       "<path d=\"M16 0c-8.837 0-16 2.239-16 5v4c0 2.761 7.163 5 16 5s16-2.239 16-5v-4c0-2.761-7.163-5-16-5z\"></path>\n",
       "<path d=\"M16 17c-8.837 0-16-2.239-16-5v6c0 2.761 7.163 5 16 5s16-2.239 16-5v-6c0 2.761-7.163 5-16 5z\"></path>\n",
       "<path d=\"M16 26c-8.837 0-16-2.239-16-5v6c0 2.761 7.163 5 16 5s16-2.239 16-5v-6c0 2.761-7.163 5-16 5z\"></path>\n",
       "</symbol>\n",
       "<symbol id=\"icon-file-text2\" viewBox=\"0 0 32 32\">\n",
       "<path d=\"M28.681 7.159c-0.694-0.947-1.662-2.053-2.724-3.116s-2.169-2.030-3.116-2.724c-1.612-1.182-2.393-1.319-2.841-1.319h-15.5c-1.378 0-2.5 1.121-2.5 2.5v27c0 1.378 1.122 2.5 2.5 2.5h23c1.378 0 2.5-1.122 2.5-2.5v-19.5c0-0.448-0.137-1.23-1.319-2.841zM24.543 5.457c0.959 0.959 1.712 1.825 2.268 2.543h-4.811v-4.811c0.718 0.556 1.584 1.309 2.543 2.268zM28 29.5c0 0.271-0.229 0.5-0.5 0.5h-23c-0.271 0-0.5-0.229-0.5-0.5v-27c0-0.271 0.229-0.5 0.5-0.5 0 0 15.499-0 15.5 0v7c0 0.552 0.448 1 1 1h7v19.5z\"></path>\n",
       "<path d=\"M23 26h-14c-0.552 0-1-0.448-1-1s0.448-1 1-1h14c0.552 0 1 0.448 1 1s-0.448 1-1 1z\"></path>\n",
       "<path d=\"M23 22h-14c-0.552 0-1-0.448-1-1s0.448-1 1-1h14c0.552 0 1 0.448 1 1s-0.448 1-1 1z\"></path>\n",
       "<path d=\"M23 18h-14c-0.552 0-1-0.448-1-1s0.448-1 1-1h14c0.552 0 1 0.448 1 1s-0.448 1-1 1z\"></path>\n",
       "</symbol>\n",
       "</defs>\n",
       "</svg>\n",
       "<style>/* CSS stylesheet for displaying xarray objects in jupyterlab.\n",
       " *\n",
       " */\n",
       "\n",
       ":root {\n",
       "  --xr-font-color0: var(--jp-content-font-color0, rgba(0, 0, 0, 1));\n",
       "  --xr-font-color2: var(--jp-content-font-color2, rgba(0, 0, 0, 0.54));\n",
       "  --xr-font-color3: var(--jp-content-font-color3, rgba(0, 0, 0, 0.38));\n",
       "  --xr-border-color: var(--jp-border-color2, #e0e0e0);\n",
       "  --xr-disabled-color: var(--jp-layout-color3, #bdbdbd);\n",
       "  --xr-background-color: var(--jp-layout-color0, white);\n",
       "  --xr-background-color-row-even: var(--jp-layout-color1, white);\n",
       "  --xr-background-color-row-odd: var(--jp-layout-color2, #eeeeee);\n",
       "}\n",
       "\n",
       "html[theme=dark],\n",
       "body[data-theme=dark],\n",
       "body.vscode-dark {\n",
       "  --xr-font-color0: rgba(255, 255, 255, 1);\n",
       "  --xr-font-color2: rgba(255, 255, 255, 0.54);\n",
       "  --xr-font-color3: rgba(255, 255, 255, 0.38);\n",
       "  --xr-border-color: #1F1F1F;\n",
       "  --xr-disabled-color: #515151;\n",
       "  --xr-background-color: #111111;\n",
       "  --xr-background-color-row-even: #111111;\n",
       "  --xr-background-color-row-odd: #313131;\n",
       "}\n",
       "\n",
       ".xr-wrap {\n",
       "  display: block !important;\n",
       "  min-width: 300px;\n",
       "  max-width: 700px;\n",
       "}\n",
       "\n",
       ".xr-text-repr-fallback {\n",
       "  /* fallback to plain text repr when CSS is not injected (untrusted notebook) */\n",
       "  display: none;\n",
       "}\n",
       "\n",
       ".xr-header {\n",
       "  padding-top: 6px;\n",
       "  padding-bottom: 6px;\n",
       "  margin-bottom: 4px;\n",
       "  border-bottom: solid 1px var(--xr-border-color);\n",
       "}\n",
       "\n",
       ".xr-header > div,\n",
       ".xr-header > ul {\n",
       "  display: inline;\n",
       "  margin-top: 0;\n",
       "  margin-bottom: 0;\n",
       "}\n",
       "\n",
       ".xr-obj-type,\n",
       ".xr-array-name {\n",
       "  margin-left: 2px;\n",
       "  margin-right: 10px;\n",
       "}\n",
       "\n",
       ".xr-obj-type {\n",
       "  color: var(--xr-font-color2);\n",
       "}\n",
       "\n",
       ".xr-sections {\n",
       "  padding-left: 0 !important;\n",
       "  display: grid;\n",
       "  grid-template-columns: 150px auto auto 1fr 20px 20px;\n",
       "}\n",
       "\n",
       ".xr-section-item {\n",
       "  display: contents;\n",
       "}\n",
       "\n",
       ".xr-section-item input {\n",
       "  display: none;\n",
       "}\n",
       "\n",
       ".xr-section-item input + label {\n",
       "  color: var(--xr-disabled-color);\n",
       "}\n",
       "\n",
       ".xr-section-item input:enabled + label {\n",
       "  cursor: pointer;\n",
       "  color: var(--xr-font-color2);\n",
       "}\n",
       "\n",
       ".xr-section-item input:enabled + label:hover {\n",
       "  color: var(--xr-font-color0);\n",
       "}\n",
       "\n",
       ".xr-section-summary {\n",
       "  grid-column: 1;\n",
       "  color: var(--xr-font-color2);\n",
       "  font-weight: 500;\n",
       "}\n",
       "\n",
       ".xr-section-summary > span {\n",
       "  display: inline-block;\n",
       "  padding-left: 0.5em;\n",
       "}\n",
       "\n",
       ".xr-section-summary-in:disabled + label {\n",
       "  color: var(--xr-font-color2);\n",
       "}\n",
       "\n",
       ".xr-section-summary-in + label:before {\n",
       "  display: inline-block;\n",
       "  content: '►';\n",
       "  font-size: 11px;\n",
       "  width: 15px;\n",
       "  text-align: center;\n",
       "}\n",
       "\n",
       ".xr-section-summary-in:disabled + label:before {\n",
       "  color: var(--xr-disabled-color);\n",
       "}\n",
       "\n",
       ".xr-section-summary-in:checked + label:before {\n",
       "  content: '▼';\n",
       "}\n",
       "\n",
       ".xr-section-summary-in:checked + label > span {\n",
       "  display: none;\n",
       "}\n",
       "\n",
       ".xr-section-summary,\n",
       ".xr-section-inline-details {\n",
       "  padding-top: 4px;\n",
       "  padding-bottom: 4px;\n",
       "}\n",
       "\n",
       ".xr-section-inline-details {\n",
       "  grid-column: 2 / -1;\n",
       "}\n",
       "\n",
       ".xr-section-details {\n",
       "  display: none;\n",
       "  grid-column: 1 / -1;\n",
       "  margin-bottom: 5px;\n",
       "}\n",
       "\n",
       ".xr-section-summary-in:checked ~ .xr-section-details {\n",
       "  display: contents;\n",
       "}\n",
       "\n",
       ".xr-array-wrap {\n",
       "  grid-column: 1 / -1;\n",
       "  display: grid;\n",
       "  grid-template-columns: 20px auto;\n",
       "}\n",
       "\n",
       ".xr-array-wrap > label {\n",
       "  grid-column: 1;\n",
       "  vertical-align: top;\n",
       "}\n",
       "\n",
       ".xr-preview {\n",
       "  color: var(--xr-font-color3);\n",
       "}\n",
       "\n",
       ".xr-array-preview,\n",
       ".xr-array-data {\n",
       "  padding: 0 5px !important;\n",
       "  grid-column: 2;\n",
       "}\n",
       "\n",
       ".xr-array-data,\n",
       ".xr-array-in:checked ~ .xr-array-preview {\n",
       "  display: none;\n",
       "}\n",
       "\n",
       ".xr-array-in:checked ~ .xr-array-data,\n",
       ".xr-array-preview {\n",
       "  display: inline-block;\n",
       "}\n",
       "\n",
       ".xr-dim-list {\n",
       "  display: inline-block !important;\n",
       "  list-style: none;\n",
       "  padding: 0 !important;\n",
       "  margin: 0;\n",
       "}\n",
       "\n",
       ".xr-dim-list li {\n",
       "  display: inline-block;\n",
       "  padding: 0;\n",
       "  margin: 0;\n",
       "}\n",
       "\n",
       ".xr-dim-list:before {\n",
       "  content: '(';\n",
       "}\n",
       "\n",
       ".xr-dim-list:after {\n",
       "  content: ')';\n",
       "}\n",
       "\n",
       ".xr-dim-list li:not(:last-child):after {\n",
       "  content: ',';\n",
       "  padding-right: 5px;\n",
       "}\n",
       "\n",
       ".xr-has-index {\n",
       "  font-weight: bold;\n",
       "}\n",
       "\n",
       ".xr-var-list,\n",
       ".xr-var-item {\n",
       "  display: contents;\n",
       "}\n",
       "\n",
       ".xr-var-item > div,\n",
       ".xr-var-item label,\n",
       ".xr-var-item > .xr-var-name span {\n",
       "  background-color: var(--xr-background-color-row-even);\n",
       "  margin-bottom: 0;\n",
       "}\n",
       "\n",
       ".xr-var-item > .xr-var-name:hover span {\n",
       "  padding-right: 5px;\n",
       "}\n",
       "\n",
       ".xr-var-list > li:nth-child(odd) > div,\n",
       ".xr-var-list > li:nth-child(odd) > label,\n",
       ".xr-var-list > li:nth-child(odd) > .xr-var-name span {\n",
       "  background-color: var(--xr-background-color-row-odd);\n",
       "}\n",
       "\n",
       ".xr-var-name {\n",
       "  grid-column: 1;\n",
       "}\n",
       "\n",
       ".xr-var-dims {\n",
       "  grid-column: 2;\n",
       "}\n",
       "\n",
       ".xr-var-dtype {\n",
       "  grid-column: 3;\n",
       "  text-align: right;\n",
       "  color: var(--xr-font-color2);\n",
       "}\n",
       "\n",
       ".xr-var-preview {\n",
       "  grid-column: 4;\n",
       "}\n",
       "\n",
       ".xr-var-name,\n",
       ".xr-var-dims,\n",
       ".xr-var-dtype,\n",
       ".xr-preview,\n",
       ".xr-attrs dt {\n",
       "  white-space: nowrap;\n",
       "  overflow: hidden;\n",
       "  text-overflow: ellipsis;\n",
       "  padding-right: 10px;\n",
       "}\n",
       "\n",
       ".xr-var-name:hover,\n",
       ".xr-var-dims:hover,\n",
       ".xr-var-dtype:hover,\n",
       ".xr-attrs dt:hover {\n",
       "  overflow: visible;\n",
       "  width: auto;\n",
       "  z-index: 1;\n",
       "}\n",
       "\n",
       ".xr-var-attrs,\n",
       ".xr-var-data {\n",
       "  display: none;\n",
       "  background-color: var(--xr-background-color) !important;\n",
       "  padding-bottom: 5px !important;\n",
       "}\n",
       "\n",
       ".xr-var-attrs-in:checked ~ .xr-var-attrs,\n",
       ".xr-var-data-in:checked ~ .xr-var-data {\n",
       "  display: block;\n",
       "}\n",
       "\n",
       ".xr-var-data > table {\n",
       "  float: right;\n",
       "}\n",
       "\n",
       ".xr-var-name span,\n",
       ".xr-var-data,\n",
       ".xr-attrs {\n",
       "  padding-left: 25px !important;\n",
       "}\n",
       "\n",
       ".xr-attrs,\n",
       ".xr-var-attrs,\n",
       ".xr-var-data {\n",
       "  grid-column: 1 / -1;\n",
       "}\n",
       "\n",
       "dl.xr-attrs {\n",
       "  padding: 0;\n",
       "  margin: 0;\n",
       "  display: grid;\n",
       "  grid-template-columns: 125px auto;\n",
       "}\n",
       "\n",
       ".xr-attrs dt,\n",
       ".xr-attrs dd {\n",
       "  padding: 0;\n",
       "  margin: 0;\n",
       "  float: left;\n",
       "  padding-right: 10px;\n",
       "  width: auto;\n",
       "}\n",
       "\n",
       ".xr-attrs dt {\n",
       "  font-weight: normal;\n",
       "  grid-column: 1;\n",
       "}\n",
       "\n",
       ".xr-attrs dt:hover span {\n",
       "  display: inline-block;\n",
       "  background: var(--xr-background-color);\n",
       "  padding-right: 10px;\n",
       "}\n",
       "\n",
       ".xr-attrs dd {\n",
       "  grid-column: 2;\n",
       "  white-space: pre-wrap;\n",
       "  word-break: break-all;\n",
       "}\n",
       "\n",
       ".xr-icon-database,\n",
       ".xr-icon-file-text2 {\n",
       "  display: inline-block;\n",
       "  vertical-align: middle;\n",
       "  width: 1em;\n",
       "  height: 1.5em !important;\n",
       "  stroke-width: 0;\n",
       "  stroke: currentColor;\n",
       "  fill: currentColor;\n",
       "}\n",
       "</style><pre class='xr-text-repr-fallback'>&lt;xarray.Dataset&gt;\n",
       "Dimensions:       (chain: 2, draw: 1000, Weight_dim_0: 158)\n",
       "Coordinates:\n",
       "  * chain         (chain) int64 0 1\n",
       "  * draw          (draw) int64 0 1 2 3 4 5 6 7 ... 993 994 995 996 997 998 999\n",
       "  * Weight_dim_0  (Weight_dim_0) int64 0 1 2 3 4 5 6 ... 152 153 154 155 156 157\n",
       "Data variables:\n",
       "    Weight        (chain, draw, Weight_dim_0) float64 -6.918 -6.853 ... -7.351\n",
       "Attributes:\n",
       "    created_at:                  2022-11-23T02:54:47.485600\n",
       "    arviz_version:               0.12.1\n",
       "    inference_library:           pymc\n",
       "    inference_library_version:   4.1.5\n",
       "    modeling_interface:          bambi\n",
       "    modeling_interface_version:  0.9.1</pre><div class='xr-wrap' style='display:none'><div class='xr-header'><div class='xr-obj-type'>xarray.Dataset</div></div><ul class='xr-sections'><li class='xr-section-item'><input id='section-b6a1e8fa-c81b-49a7-8dbd-0408c114f1af' class='xr-section-summary-in' type='checkbox' disabled ><label for='section-b6a1e8fa-c81b-49a7-8dbd-0408c114f1af' class='xr-section-summary'  title='Expand/collapse section'>Dimensions:</label><div class='xr-section-inline-details'><ul class='xr-dim-list'><li><span class='xr-has-index'>chain</span>: 2</li><li><span class='xr-has-index'>draw</span>: 1000</li><li><span class='xr-has-index'>Weight_dim_0</span>: 158</li></ul></div><div class='xr-section-details'></div></li><li class='xr-section-item'><input id='section-a0e7c319-204d-44f2-94eb-21add3bf707c' class='xr-section-summary-in' type='checkbox'  checked><label for='section-a0e7c319-204d-44f2-94eb-21add3bf707c' class='xr-section-summary' >Coordinates: <span>(3)</span></label><div class='xr-section-inline-details'></div><div class='xr-section-details'><ul class='xr-var-list'><li class='xr-var-item'><div class='xr-var-name'><span class='xr-has-index'>chain</span></div><div class='xr-var-dims'>(chain)</div><div class='xr-var-dtype'>int64</div><div class='xr-var-preview xr-preview'>0 1</div><input id='attrs-631a8a1b-2ef6-4a4b-aada-faf0b5edb373' class='xr-var-attrs-in' type='checkbox' disabled><label for='attrs-631a8a1b-2ef6-4a4b-aada-faf0b5edb373' title='Show/Hide attributes'><svg class='icon xr-icon-file-text2'><use xlink:href='#icon-file-text2'></use></svg></label><input id='data-d74b4649-d2e7-48f2-ad1f-48ba4041c140' class='xr-var-data-in' type='checkbox'><label for='data-d74b4649-d2e7-48f2-ad1f-48ba4041c140' title='Show/Hide data repr'><svg class='icon xr-icon-database'><use xlink:href='#icon-database'></use></svg></label><div class='xr-var-attrs'><dl class='xr-attrs'></dl></div><div class='xr-var-data'><pre>array([0, 1])</pre></div></li><li class='xr-var-item'><div class='xr-var-name'><span class='xr-has-index'>draw</span></div><div class='xr-var-dims'>(draw)</div><div class='xr-var-dtype'>int64</div><div class='xr-var-preview xr-preview'>0 1 2 3 4 5 ... 995 996 997 998 999</div><input id='attrs-7eccd72d-28ce-47f2-bede-911e2843afe2' class='xr-var-attrs-in' type='checkbox' disabled><label for='attrs-7eccd72d-28ce-47f2-bede-911e2843afe2' title='Show/Hide attributes'><svg class='icon xr-icon-file-text2'><use xlink:href='#icon-file-text2'></use></svg></label><input id='data-273fdc01-9692-4ecf-8bf8-e15a1f42aa04' class='xr-var-data-in' type='checkbox'><label for='data-273fdc01-9692-4ecf-8bf8-e15a1f42aa04' title='Show/Hide data repr'><svg class='icon xr-icon-database'><use xlink:href='#icon-database'></use></svg></label><div class='xr-var-attrs'><dl class='xr-attrs'></dl></div><div class='xr-var-data'><pre>array([  0,   1,   2, ..., 997, 998, 999])</pre></div></li><li class='xr-var-item'><div class='xr-var-name'><span class='xr-has-index'>Weight_dim_0</span></div><div class='xr-var-dims'>(Weight_dim_0)</div><div class='xr-var-dtype'>int64</div><div class='xr-var-preview xr-preview'>0 1 2 3 4 5 ... 153 154 155 156 157</div><input id='attrs-0d05e75c-e17b-4216-9bc7-9ce010450003' class='xr-var-attrs-in' type='checkbox' disabled><label for='attrs-0d05e75c-e17b-4216-9bc7-9ce010450003' title='Show/Hide attributes'><svg class='icon xr-icon-file-text2'><use xlink:href='#icon-file-text2'></use></svg></label><input id='data-6efb40d8-168f-4e76-8f14-6b0bf902fcc9' class='xr-var-data-in' type='checkbox'><label for='data-6efb40d8-168f-4e76-8f14-6b0bf902fcc9' title='Show/Hide data repr'><svg class='icon xr-icon-database'><use xlink:href='#icon-database'></use></svg></label><div class='xr-var-attrs'><dl class='xr-attrs'></dl></div><div class='xr-var-data'><pre>array([  0,   1,   2,   3,   4,   5,   6,   7,   8,   9,  10,  11,  12,  13,\n",
       "        14,  15,  16,  17,  18,  19,  20,  21,  22,  23,  24,  25,  26,  27,\n",
       "        28,  29,  30,  31,  32,  33,  34,  35,  36,  37,  38,  39,  40,  41,\n",
       "        42,  43,  44,  45,  46,  47,  48,  49,  50,  51,  52,  53,  54,  55,\n",
       "        56,  57,  58,  59,  60,  61,  62,  63,  64,  65,  66,  67,  68,  69,\n",
       "        70,  71,  72,  73,  74,  75,  76,  77,  78,  79,  80,  81,  82,  83,\n",
       "        84,  85,  86,  87,  88,  89,  90,  91,  92,  93,  94,  95,  96,  97,\n",
       "        98,  99, 100, 101, 102, 103, 104, 105, 106, 107, 108, 109, 110, 111,\n",
       "       112, 113, 114, 115, 116, 117, 118, 119, 120, 121, 122, 123, 124, 125,\n",
       "       126, 127, 128, 129, 130, 131, 132, 133, 134, 135, 136, 137, 138, 139,\n",
       "       140, 141, 142, 143, 144, 145, 146, 147, 148, 149, 150, 151, 152, 153,\n",
       "       154, 155, 156, 157])</pre></div></li></ul></div></li><li class='xr-section-item'><input id='section-62e51924-48fa-4889-9beb-268b655124eb' class='xr-section-summary-in' type='checkbox'  checked><label for='section-62e51924-48fa-4889-9beb-268b655124eb' class='xr-section-summary' >Data variables: <span>(1)</span></label><div class='xr-section-inline-details'></div><div class='xr-section-details'><ul class='xr-var-list'><li class='xr-var-item'><div class='xr-var-name'><span>Weight</span></div><div class='xr-var-dims'>(chain, draw, Weight_dim_0)</div><div class='xr-var-dtype'>float64</div><div class='xr-var-preview xr-preview'>-6.918 -6.853 ... -7.351 -7.351</div><input id='attrs-ec3a2b13-bd40-4b57-81a3-9102e44252bc' class='xr-var-attrs-in' type='checkbox' disabled><label for='attrs-ec3a2b13-bd40-4b57-81a3-9102e44252bc' title='Show/Hide attributes'><svg class='icon xr-icon-file-text2'><use xlink:href='#icon-file-text2'></use></svg></label><input id='data-ba135016-6c54-490c-8ba0-be430dcd04db' class='xr-var-data-in' type='checkbox'><label for='data-ba135016-6c54-490c-8ba0-be430dcd04db' title='Show/Hide data repr'><svg class='icon xr-icon-database'><use xlink:href='#icon-database'></use></svg></label><div class='xr-var-attrs'><dl class='xr-attrs'></dl></div><div class='xr-var-data'><pre>array([[[-6.91778805, -6.85286703, -6.80543698, ..., -7.49171609,\n",
       "         -7.46611297, -7.46543656],\n",
       "        [-6.92062407, -6.8523283 , -6.80173439, ..., -7.51528826,\n",
       "         -7.48888877, -7.48819124],\n",
       "        [-6.92062407, -6.8523283 , -6.80173439, ..., -7.51528826,\n",
       "         -7.48888877, -7.48819124],\n",
       "        ...,\n",
       "        [-6.94365171, -6.89165168, -6.85529568, ..., -7.42464409,\n",
       "         -7.40288573, -7.4023111 ],\n",
       "        [-6.94365171, -6.89165168, -6.85529568, ..., -7.42464409,\n",
       "         -7.40288573, -7.4023111 ],\n",
       "        [-7.00364517, -6.95753256, -6.92495769, ..., -7.42581414,\n",
       "         -7.40677575, -7.40627292]],\n",
       "\n",
       "       [[-6.90989445, -6.86195507, -6.83045768, ..., -7.37963822,\n",
       "         -7.35803303, -7.35746269],\n",
       "        [-6.93632469, -6.8905095 , -6.86016276, ..., -7.38206243,\n",
       "         -7.3616021 , -7.36106195],\n",
       "        [-6.88850316, -6.84081743, -6.81027129, ..., -7.3659834 ,\n",
       "         -7.34389196, -7.34330886],\n",
       "        ...,\n",
       "        [-6.80159681, -6.74162396, -6.70301136, ..., -7.39955932,\n",
       "         -7.37192539, -7.37119598],\n",
       "        [-6.95346127, -6.90909223, -6.87958625, ..., -7.38360332,\n",
       "         -7.36387847, -7.36335773],\n",
       "        [-6.88554709, -6.83632664, -6.80444987, ..., -7.37386693,\n",
       "         -7.35133051, -7.35073564]]])</pre></div></li></ul></div></li><li class='xr-section-item'><input id='section-42678556-e39a-43ec-9cfa-e49622427eae' class='xr-section-summary-in' type='checkbox'  checked><label for='section-42678556-e39a-43ec-9cfa-e49622427eae' class='xr-section-summary' >Attributes: <span>(6)</span></label><div class='xr-section-inline-details'></div><div class='xr-section-details'><dl class='xr-attrs'><dt><span>created_at :</span></dt><dd>2022-11-23T02:54:47.485600</dd><dt><span>arviz_version :</span></dt><dd>0.12.1</dd><dt><span>inference_library :</span></dt><dd>pymc</dd><dt><span>inference_library_version :</span></dt><dd>4.1.5</dd><dt><span>modeling_interface :</span></dt><dd>bambi</dd><dt><span>modeling_interface_version :</span></dt><dd>0.9.1</dd></dl></div></li></ul></div></div><br></div>\n",
       "                      </ul>\n",
       "                  </div>\n",
       "            </li>\n",
       "            \n",
       "            <li class = \"xr-section-item\">\n",
       "                  <input id=\"idata_sample_stats3a8a181b-2bdd-4376-800a-2cc162b6248b\" class=\"xr-section-summary-in\" type=\"checkbox\">\n",
       "                  <label for=\"idata_sample_stats3a8a181b-2bdd-4376-800a-2cc162b6248b\" class = \"xr-section-summary\">sample_stats</label>\n",
       "                  <div class=\"xr-section-inline-details\"></div>\n",
       "                  <div class=\"xr-section-details\">\n",
       "                      <ul id=\"xr-dataset-coord-list\" class=\"xr-var-list\">\n",
       "                          <div style=\"padding-left:2rem;\"><div><svg style=\"position: absolute; width: 0; height: 0; overflow: hidden\">\n",
       "<defs>\n",
       "<symbol id=\"icon-database\" viewBox=\"0 0 32 32\">\n",
       "<path d=\"M16 0c-8.837 0-16 2.239-16 5v4c0 2.761 7.163 5 16 5s16-2.239 16-5v-4c0-2.761-7.163-5-16-5z\"></path>\n",
       "<path d=\"M16 17c-8.837 0-16-2.239-16-5v6c0 2.761 7.163 5 16 5s16-2.239 16-5v-6c0 2.761-7.163 5-16 5z\"></path>\n",
       "<path d=\"M16 26c-8.837 0-16-2.239-16-5v6c0 2.761 7.163 5 16 5s16-2.239 16-5v-6c0 2.761-7.163 5-16 5z\"></path>\n",
       "</symbol>\n",
       "<symbol id=\"icon-file-text2\" viewBox=\"0 0 32 32\">\n",
       "<path d=\"M28.681 7.159c-0.694-0.947-1.662-2.053-2.724-3.116s-2.169-2.030-3.116-2.724c-1.612-1.182-2.393-1.319-2.841-1.319h-15.5c-1.378 0-2.5 1.121-2.5 2.5v27c0 1.378 1.122 2.5 2.5 2.5h23c1.378 0 2.5-1.122 2.5-2.5v-19.5c0-0.448-0.137-1.23-1.319-2.841zM24.543 5.457c0.959 0.959 1.712 1.825 2.268 2.543h-4.811v-4.811c0.718 0.556 1.584 1.309 2.543 2.268zM28 29.5c0 0.271-0.229 0.5-0.5 0.5h-23c-0.271 0-0.5-0.229-0.5-0.5v-27c0-0.271 0.229-0.5 0.5-0.5 0 0 15.499-0 15.5 0v7c0 0.552 0.448 1 1 1h7v19.5z\"></path>\n",
       "<path d=\"M23 26h-14c-0.552 0-1-0.448-1-1s0.448-1 1-1h14c0.552 0 1 0.448 1 1s-0.448 1-1 1z\"></path>\n",
       "<path d=\"M23 22h-14c-0.552 0-1-0.448-1-1s0.448-1 1-1h14c0.552 0 1 0.448 1 1s-0.448 1-1 1z\"></path>\n",
       "<path d=\"M23 18h-14c-0.552 0-1-0.448-1-1s0.448-1 1-1h14c0.552 0 1 0.448 1 1s-0.448 1-1 1z\"></path>\n",
       "</symbol>\n",
       "</defs>\n",
       "</svg>\n",
       "<style>/* CSS stylesheet for displaying xarray objects in jupyterlab.\n",
       " *\n",
       " */\n",
       "\n",
       ":root {\n",
       "  --xr-font-color0: var(--jp-content-font-color0, rgba(0, 0, 0, 1));\n",
       "  --xr-font-color2: var(--jp-content-font-color2, rgba(0, 0, 0, 0.54));\n",
       "  --xr-font-color3: var(--jp-content-font-color3, rgba(0, 0, 0, 0.38));\n",
       "  --xr-border-color: var(--jp-border-color2, #e0e0e0);\n",
       "  --xr-disabled-color: var(--jp-layout-color3, #bdbdbd);\n",
       "  --xr-background-color: var(--jp-layout-color0, white);\n",
       "  --xr-background-color-row-even: var(--jp-layout-color1, white);\n",
       "  --xr-background-color-row-odd: var(--jp-layout-color2, #eeeeee);\n",
       "}\n",
       "\n",
       "html[theme=dark],\n",
       "body[data-theme=dark],\n",
       "body.vscode-dark {\n",
       "  --xr-font-color0: rgba(255, 255, 255, 1);\n",
       "  --xr-font-color2: rgba(255, 255, 255, 0.54);\n",
       "  --xr-font-color3: rgba(255, 255, 255, 0.38);\n",
       "  --xr-border-color: #1F1F1F;\n",
       "  --xr-disabled-color: #515151;\n",
       "  --xr-background-color: #111111;\n",
       "  --xr-background-color-row-even: #111111;\n",
       "  --xr-background-color-row-odd: #313131;\n",
       "}\n",
       "\n",
       ".xr-wrap {\n",
       "  display: block !important;\n",
       "  min-width: 300px;\n",
       "  max-width: 700px;\n",
       "}\n",
       "\n",
       ".xr-text-repr-fallback {\n",
       "  /* fallback to plain text repr when CSS is not injected (untrusted notebook) */\n",
       "  display: none;\n",
       "}\n",
       "\n",
       ".xr-header {\n",
       "  padding-top: 6px;\n",
       "  padding-bottom: 6px;\n",
       "  margin-bottom: 4px;\n",
       "  border-bottom: solid 1px var(--xr-border-color);\n",
       "}\n",
       "\n",
       ".xr-header > div,\n",
       ".xr-header > ul {\n",
       "  display: inline;\n",
       "  margin-top: 0;\n",
       "  margin-bottom: 0;\n",
       "}\n",
       "\n",
       ".xr-obj-type,\n",
       ".xr-array-name {\n",
       "  margin-left: 2px;\n",
       "  margin-right: 10px;\n",
       "}\n",
       "\n",
       ".xr-obj-type {\n",
       "  color: var(--xr-font-color2);\n",
       "}\n",
       "\n",
       ".xr-sections {\n",
       "  padding-left: 0 !important;\n",
       "  display: grid;\n",
       "  grid-template-columns: 150px auto auto 1fr 20px 20px;\n",
       "}\n",
       "\n",
       ".xr-section-item {\n",
       "  display: contents;\n",
       "}\n",
       "\n",
       ".xr-section-item input {\n",
       "  display: none;\n",
       "}\n",
       "\n",
       ".xr-section-item input + label {\n",
       "  color: var(--xr-disabled-color);\n",
       "}\n",
       "\n",
       ".xr-section-item input:enabled + label {\n",
       "  cursor: pointer;\n",
       "  color: var(--xr-font-color2);\n",
       "}\n",
       "\n",
       ".xr-section-item input:enabled + label:hover {\n",
       "  color: var(--xr-font-color0);\n",
       "}\n",
       "\n",
       ".xr-section-summary {\n",
       "  grid-column: 1;\n",
       "  color: var(--xr-font-color2);\n",
       "  font-weight: 500;\n",
       "}\n",
       "\n",
       ".xr-section-summary > span {\n",
       "  display: inline-block;\n",
       "  padding-left: 0.5em;\n",
       "}\n",
       "\n",
       ".xr-section-summary-in:disabled + label {\n",
       "  color: var(--xr-font-color2);\n",
       "}\n",
       "\n",
       ".xr-section-summary-in + label:before {\n",
       "  display: inline-block;\n",
       "  content: '►';\n",
       "  font-size: 11px;\n",
       "  width: 15px;\n",
       "  text-align: center;\n",
       "}\n",
       "\n",
       ".xr-section-summary-in:disabled + label:before {\n",
       "  color: var(--xr-disabled-color);\n",
       "}\n",
       "\n",
       ".xr-section-summary-in:checked + label:before {\n",
       "  content: '▼';\n",
       "}\n",
       "\n",
       ".xr-section-summary-in:checked + label > span {\n",
       "  display: none;\n",
       "}\n",
       "\n",
       ".xr-section-summary,\n",
       ".xr-section-inline-details {\n",
       "  padding-top: 4px;\n",
       "  padding-bottom: 4px;\n",
       "}\n",
       "\n",
       ".xr-section-inline-details {\n",
       "  grid-column: 2 / -1;\n",
       "}\n",
       "\n",
       ".xr-section-details {\n",
       "  display: none;\n",
       "  grid-column: 1 / -1;\n",
       "  margin-bottom: 5px;\n",
       "}\n",
       "\n",
       ".xr-section-summary-in:checked ~ .xr-section-details {\n",
       "  display: contents;\n",
       "}\n",
       "\n",
       ".xr-array-wrap {\n",
       "  grid-column: 1 / -1;\n",
       "  display: grid;\n",
       "  grid-template-columns: 20px auto;\n",
       "}\n",
       "\n",
       ".xr-array-wrap > label {\n",
       "  grid-column: 1;\n",
       "  vertical-align: top;\n",
       "}\n",
       "\n",
       ".xr-preview {\n",
       "  color: var(--xr-font-color3);\n",
       "}\n",
       "\n",
       ".xr-array-preview,\n",
       ".xr-array-data {\n",
       "  padding: 0 5px !important;\n",
       "  grid-column: 2;\n",
       "}\n",
       "\n",
       ".xr-array-data,\n",
       ".xr-array-in:checked ~ .xr-array-preview {\n",
       "  display: none;\n",
       "}\n",
       "\n",
       ".xr-array-in:checked ~ .xr-array-data,\n",
       ".xr-array-preview {\n",
       "  display: inline-block;\n",
       "}\n",
       "\n",
       ".xr-dim-list {\n",
       "  display: inline-block !important;\n",
       "  list-style: none;\n",
       "  padding: 0 !important;\n",
       "  margin: 0;\n",
       "}\n",
       "\n",
       ".xr-dim-list li {\n",
       "  display: inline-block;\n",
       "  padding: 0;\n",
       "  margin: 0;\n",
       "}\n",
       "\n",
       ".xr-dim-list:before {\n",
       "  content: '(';\n",
       "}\n",
       "\n",
       ".xr-dim-list:after {\n",
       "  content: ')';\n",
       "}\n",
       "\n",
       ".xr-dim-list li:not(:last-child):after {\n",
       "  content: ',';\n",
       "  padding-right: 5px;\n",
       "}\n",
       "\n",
       ".xr-has-index {\n",
       "  font-weight: bold;\n",
       "}\n",
       "\n",
       ".xr-var-list,\n",
       ".xr-var-item {\n",
       "  display: contents;\n",
       "}\n",
       "\n",
       ".xr-var-item > div,\n",
       ".xr-var-item label,\n",
       ".xr-var-item > .xr-var-name span {\n",
       "  background-color: var(--xr-background-color-row-even);\n",
       "  margin-bottom: 0;\n",
       "}\n",
       "\n",
       ".xr-var-item > .xr-var-name:hover span {\n",
       "  padding-right: 5px;\n",
       "}\n",
       "\n",
       ".xr-var-list > li:nth-child(odd) > div,\n",
       ".xr-var-list > li:nth-child(odd) > label,\n",
       ".xr-var-list > li:nth-child(odd) > .xr-var-name span {\n",
       "  background-color: var(--xr-background-color-row-odd);\n",
       "}\n",
       "\n",
       ".xr-var-name {\n",
       "  grid-column: 1;\n",
       "}\n",
       "\n",
       ".xr-var-dims {\n",
       "  grid-column: 2;\n",
       "}\n",
       "\n",
       ".xr-var-dtype {\n",
       "  grid-column: 3;\n",
       "  text-align: right;\n",
       "  color: var(--xr-font-color2);\n",
       "}\n",
       "\n",
       ".xr-var-preview {\n",
       "  grid-column: 4;\n",
       "}\n",
       "\n",
       ".xr-var-name,\n",
       ".xr-var-dims,\n",
       ".xr-var-dtype,\n",
       ".xr-preview,\n",
       ".xr-attrs dt {\n",
       "  white-space: nowrap;\n",
       "  overflow: hidden;\n",
       "  text-overflow: ellipsis;\n",
       "  padding-right: 10px;\n",
       "}\n",
       "\n",
       ".xr-var-name:hover,\n",
       ".xr-var-dims:hover,\n",
       ".xr-var-dtype:hover,\n",
       ".xr-attrs dt:hover {\n",
       "  overflow: visible;\n",
       "  width: auto;\n",
       "  z-index: 1;\n",
       "}\n",
       "\n",
       ".xr-var-attrs,\n",
       ".xr-var-data {\n",
       "  display: none;\n",
       "  background-color: var(--xr-background-color) !important;\n",
       "  padding-bottom: 5px !important;\n",
       "}\n",
       "\n",
       ".xr-var-attrs-in:checked ~ .xr-var-attrs,\n",
       ".xr-var-data-in:checked ~ .xr-var-data {\n",
       "  display: block;\n",
       "}\n",
       "\n",
       ".xr-var-data > table {\n",
       "  float: right;\n",
       "}\n",
       "\n",
       ".xr-var-name span,\n",
       ".xr-var-data,\n",
       ".xr-attrs {\n",
       "  padding-left: 25px !important;\n",
       "}\n",
       "\n",
       ".xr-attrs,\n",
       ".xr-var-attrs,\n",
       ".xr-var-data {\n",
       "  grid-column: 1 / -1;\n",
       "}\n",
       "\n",
       "dl.xr-attrs {\n",
       "  padding: 0;\n",
       "  margin: 0;\n",
       "  display: grid;\n",
       "  grid-template-columns: 125px auto;\n",
       "}\n",
       "\n",
       ".xr-attrs dt,\n",
       ".xr-attrs dd {\n",
       "  padding: 0;\n",
       "  margin: 0;\n",
       "  float: left;\n",
       "  padding-right: 10px;\n",
       "  width: auto;\n",
       "}\n",
       "\n",
       ".xr-attrs dt {\n",
       "  font-weight: normal;\n",
       "  grid-column: 1;\n",
       "}\n",
       "\n",
       ".xr-attrs dt:hover span {\n",
       "  display: inline-block;\n",
       "  background: var(--xr-background-color);\n",
       "  padding-right: 10px;\n",
       "}\n",
       "\n",
       ".xr-attrs dd {\n",
       "  grid-column: 2;\n",
       "  white-space: pre-wrap;\n",
       "  word-break: break-all;\n",
       "}\n",
       "\n",
       ".xr-icon-database,\n",
       ".xr-icon-file-text2 {\n",
       "  display: inline-block;\n",
       "  vertical-align: middle;\n",
       "  width: 1em;\n",
       "  height: 1.5em !important;\n",
       "  stroke-width: 0;\n",
       "  stroke: currentColor;\n",
       "  fill: currentColor;\n",
       "}\n",
       "</style><pre class='xr-text-repr-fallback'>&lt;xarray.Dataset&gt;\n",
       "Dimensions:              (chain: 2, draw: 1000)\n",
       "Coordinates:\n",
       "  * chain                (chain) int64 0 1\n",
       "  * draw                 (draw) int64 0 1 2 3 4 5 6 ... 994 995 996 997 998 999\n",
       "Data variables: (12/16)\n",
       "    max_energy_error     (chain, draw) float64 0.2242 -0.1573 ... 0.7823 -0.2569\n",
       "    largest_eigval       (chain, draw) float64 nan nan nan nan ... nan nan nan\n",
       "    smallest_eigval      (chain, draw) float64 nan nan nan nan ... nan nan nan\n",
       "    diverging            (chain, draw) bool False False False ... False False\n",
       "    energy               (chain, draw) float64 1.162e+03 1.162e+03 ... 1.162e+03\n",
       "    acceptance_rate      (chain, draw) float64 0.8411 0.9617 ... 0.8097 0.9797\n",
       "    ...                   ...\n",
       "    process_time_diff    (chain, draw) float64 0.0005747 0.0009079 ... 0.0006179\n",
       "    step_size            (chain, draw) float64 1.091 1.091 ... 0.8463 0.8463\n",
       "    index_in_trajectory  (chain, draw) int64 1 1 0 2 -1 -3 -2 ... -1 2 2 -1 3 -1\n",
       "    tree_depth           (chain, draw) int64 2 2 1 2 1 2 2 2 ... 2 2 2 2 2 2 2 2\n",
       "    step_size_bar        (chain, draw) float64 1.229 1.229 1.229 ... 1.177 1.177\n",
       "    energy_error         (chain, draw) float64 0.1913 0.1221 ... -0.1889 -0.2569\n",
       "Attributes:\n",
       "    created_at:                  2022-11-23T02:54:47.310542\n",
       "    arviz_version:               0.12.1\n",
       "    inference_library:           pymc\n",
       "    inference_library_version:   4.1.5\n",
       "    sampling_time:               4.48614764213562\n",
       "    tuning_steps:                1000\n",
       "    modeling_interface:          bambi\n",
       "    modeling_interface_version:  0.9.1</pre><div class='xr-wrap' style='display:none'><div class='xr-header'><div class='xr-obj-type'>xarray.Dataset</div></div><ul class='xr-sections'><li class='xr-section-item'><input id='section-0ab14d79-f41b-4022-bee0-c85346ef2ce8' class='xr-section-summary-in' type='checkbox' disabled ><label for='section-0ab14d79-f41b-4022-bee0-c85346ef2ce8' class='xr-section-summary'  title='Expand/collapse section'>Dimensions:</label><div class='xr-section-inline-details'><ul class='xr-dim-list'><li><span class='xr-has-index'>chain</span>: 2</li><li><span class='xr-has-index'>draw</span>: 1000</li></ul></div><div class='xr-section-details'></div></li><li class='xr-section-item'><input id='section-e65be95c-b9ca-4334-a740-d5f65af599ab' class='xr-section-summary-in' type='checkbox'  checked><label for='section-e65be95c-b9ca-4334-a740-d5f65af599ab' class='xr-section-summary' >Coordinates: <span>(2)</span></label><div class='xr-section-inline-details'></div><div class='xr-section-details'><ul class='xr-var-list'><li class='xr-var-item'><div class='xr-var-name'><span class='xr-has-index'>chain</span></div><div class='xr-var-dims'>(chain)</div><div class='xr-var-dtype'>int64</div><div class='xr-var-preview xr-preview'>0 1</div><input id='attrs-0e3fdb32-38d2-46f7-a370-3cb2efaf4572' class='xr-var-attrs-in' type='checkbox' disabled><label for='attrs-0e3fdb32-38d2-46f7-a370-3cb2efaf4572' title='Show/Hide attributes'><svg class='icon xr-icon-file-text2'><use xlink:href='#icon-file-text2'></use></svg></label><input id='data-55f3b024-b2f5-41d4-af03-860b1b416f3a' class='xr-var-data-in' type='checkbox'><label for='data-55f3b024-b2f5-41d4-af03-860b1b416f3a' title='Show/Hide data repr'><svg class='icon xr-icon-database'><use xlink:href='#icon-database'></use></svg></label><div class='xr-var-attrs'><dl class='xr-attrs'></dl></div><div class='xr-var-data'><pre>array([0, 1])</pre></div></li><li class='xr-var-item'><div class='xr-var-name'><span class='xr-has-index'>draw</span></div><div class='xr-var-dims'>(draw)</div><div class='xr-var-dtype'>int64</div><div class='xr-var-preview xr-preview'>0 1 2 3 4 5 ... 995 996 997 998 999</div><input id='attrs-598183fd-e7a9-49d9-9cc5-596267766be7' class='xr-var-attrs-in' type='checkbox' disabled><label for='attrs-598183fd-e7a9-49d9-9cc5-596267766be7' title='Show/Hide attributes'><svg class='icon xr-icon-file-text2'><use xlink:href='#icon-file-text2'></use></svg></label><input id='data-229361cf-e521-461d-941f-c62c438a5d97' class='xr-var-data-in' type='checkbox'><label for='data-229361cf-e521-461d-941f-c62c438a5d97' title='Show/Hide data repr'><svg class='icon xr-icon-database'><use xlink:href='#icon-database'></use></svg></label><div class='xr-var-attrs'><dl class='xr-attrs'></dl></div><div class='xr-var-data'><pre>array([  0,   1,   2, ..., 997, 998, 999])</pre></div></li></ul></div></li><li class='xr-section-item'><input id='section-f98903aa-5417-4738-b5ff-1cf319ab29fd' class='xr-section-summary-in' type='checkbox'  ><label for='section-f98903aa-5417-4738-b5ff-1cf319ab29fd' class='xr-section-summary' >Data variables: <span>(16)</span></label><div class='xr-section-inline-details'></div><div class='xr-section-details'><ul class='xr-var-list'><li class='xr-var-item'><div class='xr-var-name'><span>max_energy_error</span></div><div class='xr-var-dims'>(chain, draw)</div><div class='xr-var-dtype'>float64</div><div class='xr-var-preview xr-preview'>0.2242 -0.1573 ... 0.7823 -0.2569</div><input id='attrs-9f0a0dcb-148e-448a-a08a-c6261e9552cb' class='xr-var-attrs-in' type='checkbox' disabled><label for='attrs-9f0a0dcb-148e-448a-a08a-c6261e9552cb' title='Show/Hide attributes'><svg class='icon xr-icon-file-text2'><use xlink:href='#icon-file-text2'></use></svg></label><input id='data-d0f15eaf-0703-4c3e-88c5-0e60878a396e' class='xr-var-data-in' type='checkbox'><label for='data-d0f15eaf-0703-4c3e-88c5-0e60878a396e' title='Show/Hide data repr'><svg class='icon xr-icon-database'><use xlink:href='#icon-database'></use></svg></label><div class='xr-var-attrs'><dl class='xr-attrs'></dl></div><div class='xr-var-data'><pre>array([[ 0.22418913, -0.15726525,  0.59437301, ...,  1.33520417,\n",
       "         1.54682422,  0.4732924 ],\n",
       "       [ 0.50441206,  0.10697219, -0.12797087, ...,  0.61490637,\n",
       "         0.78226176, -0.25691904]])</pre></div></li><li class='xr-var-item'><div class='xr-var-name'><span>largest_eigval</span></div><div class='xr-var-dims'>(chain, draw)</div><div class='xr-var-dtype'>float64</div><div class='xr-var-preview xr-preview'>nan nan nan nan ... nan nan nan nan</div><input id='attrs-00e7bc24-f5fa-485d-8643-c2a2bd64c9a0' class='xr-var-attrs-in' type='checkbox' disabled><label for='attrs-00e7bc24-f5fa-485d-8643-c2a2bd64c9a0' title='Show/Hide attributes'><svg class='icon xr-icon-file-text2'><use xlink:href='#icon-file-text2'></use></svg></label><input id='data-a14ec432-06d0-4e91-926d-d04cd1fcbb34' class='xr-var-data-in' type='checkbox'><label for='data-a14ec432-06d0-4e91-926d-d04cd1fcbb34' title='Show/Hide data repr'><svg class='icon xr-icon-database'><use xlink:href='#icon-database'></use></svg></label><div class='xr-var-attrs'><dl class='xr-attrs'></dl></div><div class='xr-var-data'><pre>array([[nan, nan, nan, ..., nan, nan, nan],\n",
       "       [nan, nan, nan, ..., nan, nan, nan]])</pre></div></li><li class='xr-var-item'><div class='xr-var-name'><span>smallest_eigval</span></div><div class='xr-var-dims'>(chain, draw)</div><div class='xr-var-dtype'>float64</div><div class='xr-var-preview xr-preview'>nan nan nan nan ... nan nan nan nan</div><input id='attrs-eacd19a1-9b1e-4623-9b8b-cef83f2332d3' class='xr-var-attrs-in' type='checkbox' disabled><label for='attrs-eacd19a1-9b1e-4623-9b8b-cef83f2332d3' title='Show/Hide attributes'><svg class='icon xr-icon-file-text2'><use xlink:href='#icon-file-text2'></use></svg></label><input id='data-2eee18fe-784d-4499-bbda-b31165dd7732' class='xr-var-data-in' type='checkbox'><label for='data-2eee18fe-784d-4499-bbda-b31165dd7732' title='Show/Hide data repr'><svg class='icon xr-icon-database'><use xlink:href='#icon-database'></use></svg></label><div class='xr-var-attrs'><dl class='xr-attrs'></dl></div><div class='xr-var-data'><pre>array([[nan, nan, nan, ..., nan, nan, nan],\n",
       "       [nan, nan, nan, ..., nan, nan, nan]])</pre></div></li><li class='xr-var-item'><div class='xr-var-name'><span>diverging</span></div><div class='xr-var-dims'>(chain, draw)</div><div class='xr-var-dtype'>bool</div><div class='xr-var-preview xr-preview'>False False False ... False False</div><input id='attrs-01ea2102-b578-4d51-953f-78597973188f' class='xr-var-attrs-in' type='checkbox' disabled><label for='attrs-01ea2102-b578-4d51-953f-78597973188f' title='Show/Hide attributes'><svg class='icon xr-icon-file-text2'><use xlink:href='#icon-file-text2'></use></svg></label><input id='data-b8ed5581-9925-43b6-95e6-53e7299158f4' class='xr-var-data-in' type='checkbox'><label for='data-b8ed5581-9925-43b6-95e6-53e7299158f4' title='Show/Hide data repr'><svg class='icon xr-icon-database'><use xlink:href='#icon-database'></use></svg></label><div class='xr-var-attrs'><dl class='xr-attrs'></dl></div><div class='xr-var-data'><pre>array([[False, False, False, ..., False, False, False],\n",
       "       [False, False, False, ..., False, False, False]])</pre></div></li><li class='xr-var-item'><div class='xr-var-name'><span>energy</span></div><div class='xr-var-dims'>(chain, draw)</div><div class='xr-var-dtype'>float64</div><div class='xr-var-preview xr-preview'>1.162e+03 1.162e+03 ... 1.162e+03</div><input id='attrs-88fb159e-faa1-438e-adac-c122c3affc66' class='xr-var-attrs-in' type='checkbox' disabled><label for='attrs-88fb159e-faa1-438e-adac-c122c3affc66' title='Show/Hide attributes'><svg class='icon xr-icon-file-text2'><use xlink:href='#icon-file-text2'></use></svg></label><input id='data-b6e78809-bf14-4930-a4aa-9fafd5314617' class='xr-var-data-in' type='checkbox'><label for='data-b6e78809-bf14-4930-a4aa-9fafd5314617' title='Show/Hide data repr'><svg class='icon xr-icon-database'><use xlink:href='#icon-database'></use></svg></label><div class='xr-var-attrs'><dl class='xr-attrs'></dl></div><div class='xr-var-data'><pre>array([[1162.02531412, 1162.39538392, 1163.28560706, ..., 1164.24946422,\n",
       "        1166.33337484, 1163.20031245],\n",
       "       [1162.83158518, 1161.65324813, 1161.57454734, ..., 1163.40520992,\n",
       "        1164.87034427, 1161.86427458]])</pre></div></li><li class='xr-var-item'><div class='xr-var-name'><span>acceptance_rate</span></div><div class='xr-var-dims'>(chain, draw)</div><div class='xr-var-dtype'>float64</div><div class='xr-var-preview xr-preview'>0.8411 0.9617 ... 0.8097 0.9797</div><input id='attrs-48fd4a8e-eca2-478b-ae90-508a1ec84e3b' class='xr-var-attrs-in' type='checkbox' disabled><label for='attrs-48fd4a8e-eca2-478b-ae90-508a1ec84e3b' title='Show/Hide attributes'><svg class='icon xr-icon-file-text2'><use xlink:href='#icon-file-text2'></use></svg></label><input id='data-455d267d-2652-4b42-acf4-2cea3296838d' class='xr-var-data-in' type='checkbox'><label for='data-455d267d-2652-4b42-acf4-2cea3296838d' title='Show/Hide data repr'><svg class='icon xr-icon-database'><use xlink:href='#icon-database'></use></svg></label><div class='xr-var-attrs'><dl class='xr-attrs'></dl></div><div class='xr-var-data'><pre>array([[0.84108388, 0.96169704, 0.5519085 , ..., 0.5802982 , 0.25804633,\n",
       "        0.809139  ],\n",
       "       [0.78297494, 0.89855066, 0.99761658, ..., 0.74442226, 0.80967206,\n",
       "        0.97973502]])</pre></div></li><li class='xr-var-item'><div class='xr-var-name'><span>perf_counter_start</span></div><div class='xr-var-dims'>(chain, draw)</div><div class='xr-var-dtype'>float64</div><div class='xr-var-preview xr-preview'>5.055e+04 5.055e+04 ... 5.055e+04</div><input id='attrs-4548858a-a033-440a-87cb-85fc630593e9' class='xr-var-attrs-in' type='checkbox' disabled><label for='attrs-4548858a-a033-440a-87cb-85fc630593e9' title='Show/Hide attributes'><svg class='icon xr-icon-file-text2'><use xlink:href='#icon-file-text2'></use></svg></label><input id='data-315d4aca-d6aa-4f0a-af38-1904c8ecfc3e' class='xr-var-data-in' type='checkbox'><label for='data-315d4aca-d6aa-4f0a-af38-1904c8ecfc3e' title='Show/Hide data repr'><svg class='icon xr-icon-database'><use xlink:href='#icon-database'></use></svg></label><div class='xr-var-attrs'><dl class='xr-attrs'></dl></div><div class='xr-var-data'><pre>array([[50552.59887359, 50552.59962538, 50552.60102252, ...,\n",
       "        50553.49127204, 50553.49193641, 50553.49262779],\n",
       "       [50552.68948305, 50552.69012045, 50552.69050684, ...,\n",
       "        50553.63986515, 50553.64046738, 50553.64119358]])</pre></div></li><li class='xr-var-item'><div class='xr-var-name'><span>n_steps</span></div><div class='xr-var-dims'>(chain, draw)</div><div class='xr-var-dtype'>float64</div><div class='xr-var-preview xr-preview'>3.0 3.0 1.0 3.0 ... 3.0 3.0 3.0 3.0</div><input id='attrs-4750e354-8589-4dfe-bfe9-d3bc1460ada5' class='xr-var-attrs-in' type='checkbox' disabled><label for='attrs-4750e354-8589-4dfe-bfe9-d3bc1460ada5' title='Show/Hide attributes'><svg class='icon xr-icon-file-text2'><use xlink:href='#icon-file-text2'></use></svg></label><input id='data-a898d363-931c-4c64-9790-735b7df74522' class='xr-var-data-in' type='checkbox'><label for='data-a898d363-931c-4c64-9790-735b7df74522' title='Show/Hide data repr'><svg class='icon xr-icon-database'><use xlink:href='#icon-database'></use></svg></label><div class='xr-var-attrs'><dl class='xr-attrs'></dl></div><div class='xr-var-data'><pre>array([[3., 3., 1., ..., 3., 3., 3.],\n",
       "       [3., 1., 3., ..., 3., 3., 3.]])</pre></div></li><li class='xr-var-item'><div class='xr-var-name'><span>lp</span></div><div class='xr-var-dims'>(chain, draw)</div><div class='xr-var-dtype'>float64</div><div class='xr-var-preview xr-preview'>-1.162e+03 ... -1.161e+03</div><input id='attrs-7229e55f-847f-4be4-8f39-ca6865afe5e7' class='xr-var-attrs-in' type='checkbox' disabled><label for='attrs-7229e55f-847f-4be4-8f39-ca6865afe5e7' title='Show/Hide attributes'><svg class='icon xr-icon-file-text2'><use xlink:href='#icon-file-text2'></use></svg></label><input id='data-4fb89fe3-3800-4b79-aa5d-5491c95a0c14' class='xr-var-data-in' type='checkbox'><label for='data-4fb89fe3-3800-4b79-aa5d-5491c95a0c14' title='Show/Hide data repr'><svg class='icon xr-icon-database'><use xlink:href='#icon-database'></use></svg></label><div class='xr-var-attrs'><dl class='xr-attrs'></dl></div><div class='xr-var-data'><pre>array([[-1161.88438458, -1162.20911584, -1162.20911584, ...,\n",
       "        -1161.59430854, -1161.59430854, -1163.18490198],\n",
       "       [-1161.31752934, -1161.64911024, -1161.27656882, ...,\n",
       "        -1163.21808063, -1162.00804545, -1161.25806327]])</pre></div></li><li class='xr-var-item'><div class='xr-var-name'><span>perf_counter_diff</span></div><div class='xr-var-dims'>(chain, draw)</div><div class='xr-var-dtype'>float64</div><div class='xr-var-preview xr-preview'>0.0005741 0.0012 ... 0.0006172</div><input id='attrs-76965e60-c24a-4c99-9f65-31a591ec83e3' class='xr-var-attrs-in' type='checkbox' disabled><label for='attrs-76965e60-c24a-4c99-9f65-31a591ec83e3' title='Show/Hide attributes'><svg class='icon xr-icon-file-text2'><use xlink:href='#icon-file-text2'></use></svg></label><input id='data-4027fbcc-603c-4ca7-8efe-41e2c01789e4' class='xr-var-data-in' type='checkbox'><label for='data-4027fbcc-603c-4ca7-8efe-41e2c01789e4' title='Show/Hide data repr'><svg class='icon xr-icon-database'><use xlink:href='#icon-database'></use></svg></label><div class='xr-var-attrs'><dl class='xr-attrs'></dl></div><div class='xr-var-data'><pre>array([[0.00057414, 0.00119978, 0.00032789, ..., 0.00050995, 0.00053752,\n",
       "        0.00052265],\n",
       "       [0.00049826, 0.00025402, 0.0005272 , ..., 0.00048373, 0.0005082 ,\n",
       "        0.00061717]])</pre></div></li><li class='xr-var-item'><div class='xr-var-name'><span>process_time_diff</span></div><div class='xr-var-dims'>(chain, draw)</div><div class='xr-var-dtype'>float64</div><div class='xr-var-preview xr-preview'>0.0005747 0.0009079 ... 0.0006179</div><input id='attrs-0d399690-63ff-4a40-9346-6de0f4f38427' class='xr-var-attrs-in' type='checkbox' disabled><label for='attrs-0d399690-63ff-4a40-9346-6de0f4f38427' title='Show/Hide attributes'><svg class='icon xr-icon-file-text2'><use xlink:href='#icon-file-text2'></use></svg></label><input id='data-1b56022d-3ddf-404e-8f89-e23f2f40abe3' class='xr-var-data-in' type='checkbox'><label for='data-1b56022d-3ddf-404e-8f89-e23f2f40abe3' title='Show/Hide data repr'><svg class='icon xr-icon-database'><use xlink:href='#icon-database'></use></svg></label><div class='xr-var-attrs'><dl class='xr-attrs'></dl></div><div class='xr-var-data'><pre>array([[0.00057469, 0.00090793, 0.00032838, ..., 0.00051051, 0.00053801,\n",
       "        0.00052407],\n",
       "       [0.00049811, 0.00025482, 0.00052862, ..., 0.00048386, 0.00051123,\n",
       "        0.00061787]])</pre></div></li><li class='xr-var-item'><div class='xr-var-name'><span>step_size</span></div><div class='xr-var-dims'>(chain, draw)</div><div class='xr-var-dtype'>float64</div><div class='xr-var-preview xr-preview'>1.091 1.091 1.091 ... 0.8463 0.8463</div><input id='attrs-894567cc-3453-4878-94bb-fc8c21c4ef36' class='xr-var-attrs-in' type='checkbox' disabled><label for='attrs-894567cc-3453-4878-94bb-fc8c21c4ef36' title='Show/Hide attributes'><svg class='icon xr-icon-file-text2'><use xlink:href='#icon-file-text2'></use></svg></label><input id='data-b1eb87ba-e2af-46d8-a28a-9f217c3cff08' class='xr-var-data-in' type='checkbox'><label for='data-b1eb87ba-e2af-46d8-a28a-9f217c3cff08' title='Show/Hide data repr'><svg class='icon xr-icon-database'><use xlink:href='#icon-database'></use></svg></label><div class='xr-var-attrs'><dl class='xr-attrs'></dl></div><div class='xr-var-data'><pre>array([[1.09092301, 1.09092301, 1.09092301, ..., 1.09092301, 1.09092301,\n",
       "        1.09092301],\n",
       "       [0.84632737, 0.84632737, 0.84632737, ..., 0.84632737, 0.84632737,\n",
       "        0.84632737]])</pre></div></li><li class='xr-var-item'><div class='xr-var-name'><span>index_in_trajectory</span></div><div class='xr-var-dims'>(chain, draw)</div><div class='xr-var-dtype'>int64</div><div class='xr-var-preview xr-preview'>1 1 0 2 -1 -3 -2 ... -1 2 2 -1 3 -1</div><input id='attrs-e4a6e7dd-f0f7-4322-9240-67f662a0735b' class='xr-var-attrs-in' type='checkbox' disabled><label for='attrs-e4a6e7dd-f0f7-4322-9240-67f662a0735b' title='Show/Hide attributes'><svg class='icon xr-icon-file-text2'><use xlink:href='#icon-file-text2'></use></svg></label><input id='data-ca63ae3f-ed55-4d19-affb-5c32d3991f50' class='xr-var-data-in' type='checkbox'><label for='data-ca63ae3f-ed55-4d19-affb-5c32d3991f50' title='Show/Hide data repr'><svg class='icon xr-icon-database'><use xlink:href='#icon-database'></use></svg></label><div class='xr-var-attrs'><dl class='xr-attrs'></dl></div><div class='xr-var-data'><pre>array([[ 1,  1,  0, ..., -2,  0,  1],\n",
       "       [ 3, -1,  1, ..., -1,  3, -1]])</pre></div></li><li class='xr-var-item'><div class='xr-var-name'><span>tree_depth</span></div><div class='xr-var-dims'>(chain, draw)</div><div class='xr-var-dtype'>int64</div><div class='xr-var-preview xr-preview'>2 2 1 2 1 2 2 2 ... 2 2 2 2 2 2 2 2</div><input id='attrs-19c31c6b-a27c-4918-ad0a-b02851a161e6' class='xr-var-attrs-in' type='checkbox' disabled><label for='attrs-19c31c6b-a27c-4918-ad0a-b02851a161e6' title='Show/Hide attributes'><svg class='icon xr-icon-file-text2'><use xlink:href='#icon-file-text2'></use></svg></label><input id='data-3fa9b07a-5887-4005-9362-3eff381b4507' class='xr-var-data-in' type='checkbox'><label for='data-3fa9b07a-5887-4005-9362-3eff381b4507' title='Show/Hide data repr'><svg class='icon xr-icon-database'><use xlink:href='#icon-database'></use></svg></label><div class='xr-var-attrs'><dl class='xr-attrs'></dl></div><div class='xr-var-data'><pre>array([[2, 2, 1, ..., 2, 2, 2],\n",
       "       [2, 1, 2, ..., 2, 2, 2]])</pre></div></li><li class='xr-var-item'><div class='xr-var-name'><span>step_size_bar</span></div><div class='xr-var-dims'>(chain, draw)</div><div class='xr-var-dtype'>float64</div><div class='xr-var-preview xr-preview'>1.229 1.229 1.229 ... 1.177 1.177</div><input id='attrs-455c715e-29ca-44d4-83e3-f5cdf46e14b0' class='xr-var-attrs-in' type='checkbox' disabled><label for='attrs-455c715e-29ca-44d4-83e3-f5cdf46e14b0' title='Show/Hide attributes'><svg class='icon xr-icon-file-text2'><use xlink:href='#icon-file-text2'></use></svg></label><input id='data-73d6ae17-2156-4259-be92-6252671ab03d' class='xr-var-data-in' type='checkbox'><label for='data-73d6ae17-2156-4259-be92-6252671ab03d' title='Show/Hide data repr'><svg class='icon xr-icon-database'><use xlink:href='#icon-database'></use></svg></label><div class='xr-var-attrs'><dl class='xr-attrs'></dl></div><div class='xr-var-data'><pre>array([[1.2291177, 1.2291177, 1.2291177, ..., 1.2291177, 1.2291177,\n",
       "        1.2291177],\n",
       "       [1.1771098, 1.1771098, 1.1771098, ..., 1.1771098, 1.1771098,\n",
       "        1.1771098]])</pre></div></li><li class='xr-var-item'><div class='xr-var-name'><span>energy_error</span></div><div class='xr-var-dims'>(chain, draw)</div><div class='xr-var-dtype'>float64</div><div class='xr-var-preview xr-preview'>0.1913 0.1221 ... -0.1889 -0.2569</div><input id='attrs-eda4ed80-f95d-44eb-8378-c4b256670b70' class='xr-var-attrs-in' type='checkbox' disabled><label for='attrs-eda4ed80-f95d-44eb-8378-c4b256670b70' title='Show/Hide attributes'><svg class='icon xr-icon-file-text2'><use xlink:href='#icon-file-text2'></use></svg></label><input id='data-4e673857-08fc-47cc-969e-4b59ed5c5d2e' class='xr-var-data-in' type='checkbox'><label for='data-4e673857-08fc-47cc-969e-4b59ed5c5d2e' title='Show/Hide data repr'><svg class='icon xr-icon-database'><use xlink:href='#icon-database'></use></svg></label><div class='xr-var-attrs'><dl class='xr-attrs'></dl></div><div class='xr-var-data'><pre>array([[ 0.19130295,  0.1220647 ,  0.        , ...,  0.08976367,\n",
       "         0.        ,  0.4732924 ],\n",
       "       [-0.03602055,  0.10697219, -0.12797087, ...,  0.61490637,\n",
       "        -0.18888933, -0.25691904]])</pre></div></li></ul></div></li><li class='xr-section-item'><input id='section-c62d462b-6c07-458a-92d9-bfc43755d758' class='xr-section-summary-in' type='checkbox'  checked><label for='section-c62d462b-6c07-458a-92d9-bfc43755d758' class='xr-section-summary' >Attributes: <span>(8)</span></label><div class='xr-section-inline-details'></div><div class='xr-section-details'><dl class='xr-attrs'><dt><span>created_at :</span></dt><dd>2022-11-23T02:54:47.310542</dd><dt><span>arviz_version :</span></dt><dd>0.12.1</dd><dt><span>inference_library :</span></dt><dd>pymc</dd><dt><span>inference_library_version :</span></dt><dd>4.1.5</dd><dt><span>sampling_time :</span></dt><dd>4.48614764213562</dd><dt><span>tuning_steps :</span></dt><dd>1000</dd><dt><span>modeling_interface :</span></dt><dd>bambi</dd><dt><span>modeling_interface_version :</span></dt><dd>0.9.1</dd></dl></div></li></ul></div></div><br></div>\n",
       "                      </ul>\n",
       "                  </div>\n",
       "            </li>\n",
       "            \n",
       "            <li class = \"xr-section-item\">\n",
       "                  <input id=\"idata_observed_dataf7b19b12-4600-4e14-883c-2fef1ac5a6ae\" class=\"xr-section-summary-in\" type=\"checkbox\">\n",
       "                  <label for=\"idata_observed_dataf7b19b12-4600-4e14-883c-2fef1ac5a6ae\" class = \"xr-section-summary\">observed_data</label>\n",
       "                  <div class=\"xr-section-inline-details\"></div>\n",
       "                  <div class=\"xr-section-details\">\n",
       "                      <ul id=\"xr-dataset-coord-list\" class=\"xr-var-list\">\n",
       "                          <div style=\"padding-left:2rem;\"><div><svg style=\"position: absolute; width: 0; height: 0; overflow: hidden\">\n",
       "<defs>\n",
       "<symbol id=\"icon-database\" viewBox=\"0 0 32 32\">\n",
       "<path d=\"M16 0c-8.837 0-16 2.239-16 5v4c0 2.761 7.163 5 16 5s16-2.239 16-5v-4c0-2.761-7.163-5-16-5z\"></path>\n",
       "<path d=\"M16 17c-8.837 0-16-2.239-16-5v6c0 2.761 7.163 5 16 5s16-2.239 16-5v-6c0 2.761-7.163 5-16 5z\"></path>\n",
       "<path d=\"M16 26c-8.837 0-16-2.239-16-5v6c0 2.761 7.163 5 16 5s16-2.239 16-5v-6c0 2.761-7.163 5-16 5z\"></path>\n",
       "</symbol>\n",
       "<symbol id=\"icon-file-text2\" viewBox=\"0 0 32 32\">\n",
       "<path d=\"M28.681 7.159c-0.694-0.947-1.662-2.053-2.724-3.116s-2.169-2.030-3.116-2.724c-1.612-1.182-2.393-1.319-2.841-1.319h-15.5c-1.378 0-2.5 1.121-2.5 2.5v27c0 1.378 1.122 2.5 2.5 2.5h23c1.378 0 2.5-1.122 2.5-2.5v-19.5c0-0.448-0.137-1.23-1.319-2.841zM24.543 5.457c0.959 0.959 1.712 1.825 2.268 2.543h-4.811v-4.811c0.718 0.556 1.584 1.309 2.543 2.268zM28 29.5c0 0.271-0.229 0.5-0.5 0.5h-23c-0.271 0-0.5-0.229-0.5-0.5v-27c0-0.271 0.229-0.5 0.5-0.5 0 0 15.499-0 15.5 0v7c0 0.552 0.448 1 1 1h7v19.5z\"></path>\n",
       "<path d=\"M23 26h-14c-0.552 0-1-0.448-1-1s0.448-1 1-1h14c0.552 0 1 0.448 1 1s-0.448 1-1 1z\"></path>\n",
       "<path d=\"M23 22h-14c-0.552 0-1-0.448-1-1s0.448-1 1-1h14c0.552 0 1 0.448 1 1s-0.448 1-1 1z\"></path>\n",
       "<path d=\"M23 18h-14c-0.552 0-1-0.448-1-1s0.448-1 1-1h14c0.552 0 1 0.448 1 1s-0.448 1-1 1z\"></path>\n",
       "</symbol>\n",
       "</defs>\n",
       "</svg>\n",
       "<style>/* CSS stylesheet for displaying xarray objects in jupyterlab.\n",
       " *\n",
       " */\n",
       "\n",
       ":root {\n",
       "  --xr-font-color0: var(--jp-content-font-color0, rgba(0, 0, 0, 1));\n",
       "  --xr-font-color2: var(--jp-content-font-color2, rgba(0, 0, 0, 0.54));\n",
       "  --xr-font-color3: var(--jp-content-font-color3, rgba(0, 0, 0, 0.38));\n",
       "  --xr-border-color: var(--jp-border-color2, #e0e0e0);\n",
       "  --xr-disabled-color: var(--jp-layout-color3, #bdbdbd);\n",
       "  --xr-background-color: var(--jp-layout-color0, white);\n",
       "  --xr-background-color-row-even: var(--jp-layout-color1, white);\n",
       "  --xr-background-color-row-odd: var(--jp-layout-color2, #eeeeee);\n",
       "}\n",
       "\n",
       "html[theme=dark],\n",
       "body[data-theme=dark],\n",
       "body.vscode-dark {\n",
       "  --xr-font-color0: rgba(255, 255, 255, 1);\n",
       "  --xr-font-color2: rgba(255, 255, 255, 0.54);\n",
       "  --xr-font-color3: rgba(255, 255, 255, 0.38);\n",
       "  --xr-border-color: #1F1F1F;\n",
       "  --xr-disabled-color: #515151;\n",
       "  --xr-background-color: #111111;\n",
       "  --xr-background-color-row-even: #111111;\n",
       "  --xr-background-color-row-odd: #313131;\n",
       "}\n",
       "\n",
       ".xr-wrap {\n",
       "  display: block !important;\n",
       "  min-width: 300px;\n",
       "  max-width: 700px;\n",
       "}\n",
       "\n",
       ".xr-text-repr-fallback {\n",
       "  /* fallback to plain text repr when CSS is not injected (untrusted notebook) */\n",
       "  display: none;\n",
       "}\n",
       "\n",
       ".xr-header {\n",
       "  padding-top: 6px;\n",
       "  padding-bottom: 6px;\n",
       "  margin-bottom: 4px;\n",
       "  border-bottom: solid 1px var(--xr-border-color);\n",
       "}\n",
       "\n",
       ".xr-header > div,\n",
       ".xr-header > ul {\n",
       "  display: inline;\n",
       "  margin-top: 0;\n",
       "  margin-bottom: 0;\n",
       "}\n",
       "\n",
       ".xr-obj-type,\n",
       ".xr-array-name {\n",
       "  margin-left: 2px;\n",
       "  margin-right: 10px;\n",
       "}\n",
       "\n",
       ".xr-obj-type {\n",
       "  color: var(--xr-font-color2);\n",
       "}\n",
       "\n",
       ".xr-sections {\n",
       "  padding-left: 0 !important;\n",
       "  display: grid;\n",
       "  grid-template-columns: 150px auto auto 1fr 20px 20px;\n",
       "}\n",
       "\n",
       ".xr-section-item {\n",
       "  display: contents;\n",
       "}\n",
       "\n",
       ".xr-section-item input {\n",
       "  display: none;\n",
       "}\n",
       "\n",
       ".xr-section-item input + label {\n",
       "  color: var(--xr-disabled-color);\n",
       "}\n",
       "\n",
       ".xr-section-item input:enabled + label {\n",
       "  cursor: pointer;\n",
       "  color: var(--xr-font-color2);\n",
       "}\n",
       "\n",
       ".xr-section-item input:enabled + label:hover {\n",
       "  color: var(--xr-font-color0);\n",
       "}\n",
       "\n",
       ".xr-section-summary {\n",
       "  grid-column: 1;\n",
       "  color: var(--xr-font-color2);\n",
       "  font-weight: 500;\n",
       "}\n",
       "\n",
       ".xr-section-summary > span {\n",
       "  display: inline-block;\n",
       "  padding-left: 0.5em;\n",
       "}\n",
       "\n",
       ".xr-section-summary-in:disabled + label {\n",
       "  color: var(--xr-font-color2);\n",
       "}\n",
       "\n",
       ".xr-section-summary-in + label:before {\n",
       "  display: inline-block;\n",
       "  content: '►';\n",
       "  font-size: 11px;\n",
       "  width: 15px;\n",
       "  text-align: center;\n",
       "}\n",
       "\n",
       ".xr-section-summary-in:disabled + label:before {\n",
       "  color: var(--xr-disabled-color);\n",
       "}\n",
       "\n",
       ".xr-section-summary-in:checked + label:before {\n",
       "  content: '▼';\n",
       "}\n",
       "\n",
       ".xr-section-summary-in:checked + label > span {\n",
       "  display: none;\n",
       "}\n",
       "\n",
       ".xr-section-summary,\n",
       ".xr-section-inline-details {\n",
       "  padding-top: 4px;\n",
       "  padding-bottom: 4px;\n",
       "}\n",
       "\n",
       ".xr-section-inline-details {\n",
       "  grid-column: 2 / -1;\n",
       "}\n",
       "\n",
       ".xr-section-details {\n",
       "  display: none;\n",
       "  grid-column: 1 / -1;\n",
       "  margin-bottom: 5px;\n",
       "}\n",
       "\n",
       ".xr-section-summary-in:checked ~ .xr-section-details {\n",
       "  display: contents;\n",
       "}\n",
       "\n",
       ".xr-array-wrap {\n",
       "  grid-column: 1 / -1;\n",
       "  display: grid;\n",
       "  grid-template-columns: 20px auto;\n",
       "}\n",
       "\n",
       ".xr-array-wrap > label {\n",
       "  grid-column: 1;\n",
       "  vertical-align: top;\n",
       "}\n",
       "\n",
       ".xr-preview {\n",
       "  color: var(--xr-font-color3);\n",
       "}\n",
       "\n",
       ".xr-array-preview,\n",
       ".xr-array-data {\n",
       "  padding: 0 5px !important;\n",
       "  grid-column: 2;\n",
       "}\n",
       "\n",
       ".xr-array-data,\n",
       ".xr-array-in:checked ~ .xr-array-preview {\n",
       "  display: none;\n",
       "}\n",
       "\n",
       ".xr-array-in:checked ~ .xr-array-data,\n",
       ".xr-array-preview {\n",
       "  display: inline-block;\n",
       "}\n",
       "\n",
       ".xr-dim-list {\n",
       "  display: inline-block !important;\n",
       "  list-style: none;\n",
       "  padding: 0 !important;\n",
       "  margin: 0;\n",
       "}\n",
       "\n",
       ".xr-dim-list li {\n",
       "  display: inline-block;\n",
       "  padding: 0;\n",
       "  margin: 0;\n",
       "}\n",
       "\n",
       ".xr-dim-list:before {\n",
       "  content: '(';\n",
       "}\n",
       "\n",
       ".xr-dim-list:after {\n",
       "  content: ')';\n",
       "}\n",
       "\n",
       ".xr-dim-list li:not(:last-child):after {\n",
       "  content: ',';\n",
       "  padding-right: 5px;\n",
       "}\n",
       "\n",
       ".xr-has-index {\n",
       "  font-weight: bold;\n",
       "}\n",
       "\n",
       ".xr-var-list,\n",
       ".xr-var-item {\n",
       "  display: contents;\n",
       "}\n",
       "\n",
       ".xr-var-item > div,\n",
       ".xr-var-item label,\n",
       ".xr-var-item > .xr-var-name span {\n",
       "  background-color: var(--xr-background-color-row-even);\n",
       "  margin-bottom: 0;\n",
       "}\n",
       "\n",
       ".xr-var-item > .xr-var-name:hover span {\n",
       "  padding-right: 5px;\n",
       "}\n",
       "\n",
       ".xr-var-list > li:nth-child(odd) > div,\n",
       ".xr-var-list > li:nth-child(odd) > label,\n",
       ".xr-var-list > li:nth-child(odd) > .xr-var-name span {\n",
       "  background-color: var(--xr-background-color-row-odd);\n",
       "}\n",
       "\n",
       ".xr-var-name {\n",
       "  grid-column: 1;\n",
       "}\n",
       "\n",
       ".xr-var-dims {\n",
       "  grid-column: 2;\n",
       "}\n",
       "\n",
       ".xr-var-dtype {\n",
       "  grid-column: 3;\n",
       "  text-align: right;\n",
       "  color: var(--xr-font-color2);\n",
       "}\n",
       "\n",
       ".xr-var-preview {\n",
       "  grid-column: 4;\n",
       "}\n",
       "\n",
       ".xr-var-name,\n",
       ".xr-var-dims,\n",
       ".xr-var-dtype,\n",
       ".xr-preview,\n",
       ".xr-attrs dt {\n",
       "  white-space: nowrap;\n",
       "  overflow: hidden;\n",
       "  text-overflow: ellipsis;\n",
       "  padding-right: 10px;\n",
       "}\n",
       "\n",
       ".xr-var-name:hover,\n",
       ".xr-var-dims:hover,\n",
       ".xr-var-dtype:hover,\n",
       ".xr-attrs dt:hover {\n",
       "  overflow: visible;\n",
       "  width: auto;\n",
       "  z-index: 1;\n",
       "}\n",
       "\n",
       ".xr-var-attrs,\n",
       ".xr-var-data {\n",
       "  display: none;\n",
       "  background-color: var(--xr-background-color) !important;\n",
       "  padding-bottom: 5px !important;\n",
       "}\n",
       "\n",
       ".xr-var-attrs-in:checked ~ .xr-var-attrs,\n",
       ".xr-var-data-in:checked ~ .xr-var-data {\n",
       "  display: block;\n",
       "}\n",
       "\n",
       ".xr-var-data > table {\n",
       "  float: right;\n",
       "}\n",
       "\n",
       ".xr-var-name span,\n",
       ".xr-var-data,\n",
       ".xr-attrs {\n",
       "  padding-left: 25px !important;\n",
       "}\n",
       "\n",
       ".xr-attrs,\n",
       ".xr-var-attrs,\n",
       ".xr-var-data {\n",
       "  grid-column: 1 / -1;\n",
       "}\n",
       "\n",
       "dl.xr-attrs {\n",
       "  padding: 0;\n",
       "  margin: 0;\n",
       "  display: grid;\n",
       "  grid-template-columns: 125px auto;\n",
       "}\n",
       "\n",
       ".xr-attrs dt,\n",
       ".xr-attrs dd {\n",
       "  padding: 0;\n",
       "  margin: 0;\n",
       "  float: left;\n",
       "  padding-right: 10px;\n",
       "  width: auto;\n",
       "}\n",
       "\n",
       ".xr-attrs dt {\n",
       "  font-weight: normal;\n",
       "  grid-column: 1;\n",
       "}\n",
       "\n",
       ".xr-attrs dt:hover span {\n",
       "  display: inline-block;\n",
       "  background: var(--xr-background-color);\n",
       "  padding-right: 10px;\n",
       "}\n",
       "\n",
       ".xr-attrs dd {\n",
       "  grid-column: 2;\n",
       "  white-space: pre-wrap;\n",
       "  word-break: break-all;\n",
       "}\n",
       "\n",
       ".xr-icon-database,\n",
       ".xr-icon-file-text2 {\n",
       "  display: inline-block;\n",
       "  vertical-align: middle;\n",
       "  width: 1em;\n",
       "  height: 1.5em !important;\n",
       "  stroke-width: 0;\n",
       "  stroke: currentColor;\n",
       "  fill: currentColor;\n",
       "}\n",
       "</style><pre class='xr-text-repr-fallback'>&lt;xarray.Dataset&gt;\n",
       "Dimensions:       (Weight_dim_0: 158)\n",
       "Coordinates:\n",
       "  * Weight_dim_0  (Weight_dim_0) int64 0 1 2 3 4 5 6 ... 152 153 154 155 156 157\n",
       "Data variables:\n",
       "    Weight        (Weight_dim_0) float64 242.0 290.0 340.0 ... 12.2 19.7 19.9\n",
       "Attributes:\n",
       "    created_at:                  2022-11-23T02:54:47.487799\n",
       "    arviz_version:               0.12.1\n",
       "    inference_library:           pymc\n",
       "    inference_library_version:   4.1.5\n",
       "    modeling_interface:          bambi\n",
       "    modeling_interface_version:  0.9.1</pre><div class='xr-wrap' style='display:none'><div class='xr-header'><div class='xr-obj-type'>xarray.Dataset</div></div><ul class='xr-sections'><li class='xr-section-item'><input id='section-8dc5102b-93fd-4a95-81cd-28410abbb721' class='xr-section-summary-in' type='checkbox' disabled ><label for='section-8dc5102b-93fd-4a95-81cd-28410abbb721' class='xr-section-summary'  title='Expand/collapse section'>Dimensions:</label><div class='xr-section-inline-details'><ul class='xr-dim-list'><li><span class='xr-has-index'>Weight_dim_0</span>: 158</li></ul></div><div class='xr-section-details'></div></li><li class='xr-section-item'><input id='section-9ee625ff-99da-4efb-9128-03ad4ac97aeb' class='xr-section-summary-in' type='checkbox'  checked><label for='section-9ee625ff-99da-4efb-9128-03ad4ac97aeb' class='xr-section-summary' >Coordinates: <span>(1)</span></label><div class='xr-section-inline-details'></div><div class='xr-section-details'><ul class='xr-var-list'><li class='xr-var-item'><div class='xr-var-name'><span class='xr-has-index'>Weight_dim_0</span></div><div class='xr-var-dims'>(Weight_dim_0)</div><div class='xr-var-dtype'>int64</div><div class='xr-var-preview xr-preview'>0 1 2 3 4 5 ... 153 154 155 156 157</div><input id='attrs-0354b3cc-d79d-414e-ab84-5bb1f46bafd6' class='xr-var-attrs-in' type='checkbox' disabled><label for='attrs-0354b3cc-d79d-414e-ab84-5bb1f46bafd6' title='Show/Hide attributes'><svg class='icon xr-icon-file-text2'><use xlink:href='#icon-file-text2'></use></svg></label><input id='data-b87676de-f1b4-4e11-b54e-bb149f70ea01' class='xr-var-data-in' type='checkbox'><label for='data-b87676de-f1b4-4e11-b54e-bb149f70ea01' title='Show/Hide data repr'><svg class='icon xr-icon-database'><use xlink:href='#icon-database'></use></svg></label><div class='xr-var-attrs'><dl class='xr-attrs'></dl></div><div class='xr-var-data'><pre>array([  0,   1,   2,   3,   4,   5,   6,   7,   8,   9,  10,  11,  12,  13,\n",
       "        14,  15,  16,  17,  18,  19,  20,  21,  22,  23,  24,  25,  26,  27,\n",
       "        28,  29,  30,  31,  32,  33,  34,  35,  36,  37,  38,  39,  40,  41,\n",
       "        42,  43,  44,  45,  46,  47,  48,  49,  50,  51,  52,  53,  54,  55,\n",
       "        56,  57,  58,  59,  60,  61,  62,  63,  64,  65,  66,  67,  68,  69,\n",
       "        70,  71,  72,  73,  74,  75,  76,  77,  78,  79,  80,  81,  82,  83,\n",
       "        84,  85,  86,  87,  88,  89,  90,  91,  92,  93,  94,  95,  96,  97,\n",
       "        98,  99, 100, 101, 102, 103, 104, 105, 106, 107, 108, 109, 110, 111,\n",
       "       112, 113, 114, 115, 116, 117, 118, 119, 120, 121, 122, 123, 124, 125,\n",
       "       126, 127, 128, 129, 130, 131, 132, 133, 134, 135, 136, 137, 138, 139,\n",
       "       140, 141, 142, 143, 144, 145, 146, 147, 148, 149, 150, 151, 152, 153,\n",
       "       154, 155, 156, 157])</pre></div></li></ul></div></li><li class='xr-section-item'><input id='section-106ec4fd-1690-4568-8b12-ba7719559965' class='xr-section-summary-in' type='checkbox'  checked><label for='section-106ec4fd-1690-4568-8b12-ba7719559965' class='xr-section-summary' >Data variables: <span>(1)</span></label><div class='xr-section-inline-details'></div><div class='xr-section-details'><ul class='xr-var-list'><li class='xr-var-item'><div class='xr-var-name'><span>Weight</span></div><div class='xr-var-dims'>(Weight_dim_0)</div><div class='xr-var-dtype'>float64</div><div class='xr-var-preview xr-preview'>242.0 290.0 340.0 ... 19.7 19.9</div><input id='attrs-f1380538-cdb9-4705-b93c-e6400a33c8a2' class='xr-var-attrs-in' type='checkbox' disabled><label for='attrs-f1380538-cdb9-4705-b93c-e6400a33c8a2' title='Show/Hide attributes'><svg class='icon xr-icon-file-text2'><use xlink:href='#icon-file-text2'></use></svg></label><input id='data-4e4d76c8-575d-4fbc-b8c2-dd17a9a523b9' class='xr-var-data-in' type='checkbox'><label for='data-4e4d76c8-575d-4fbc-b8c2-dd17a9a523b9' title='Show/Hide data repr'><svg class='icon xr-icon-database'><use xlink:href='#icon-database'></use></svg></label><div class='xr-var-attrs'><dl class='xr-attrs'></dl></div><div class='xr-var-data'><pre>array([ 242. ,  290. ,  340. ,  363. ,  430. ,  450. ,  500. ,  390. ,\n",
       "        450. ,  500. ,  475. ,  500. ,  500. ,  340. ,  600. ,  600. ,\n",
       "        700. ,  700. ,  610. ,  650. ,  575. ,  685. ,  620. ,  680. ,\n",
       "        700. ,  725. ,  720. ,  714. ,  850. , 1000. ,  920. ,  955. ,\n",
       "        925. ,  975. ,  950. ,   40. ,   69. ,   78. ,   87. ,  120. ,\n",
       "        110. ,  120. ,  150. ,  145. ,  160. ,  140. ,  160. ,  169. ,\n",
       "        161. ,  200. ,  180. ,  290. ,  272. ,  390. ,  270. ,  270. ,\n",
       "        306. ,  540. ,  800. , 1000. ,   55. ,   60. ,   90. ,  120. ,\n",
       "        150. ,  140. ,  170. ,  145. ,  200. ,  273. ,  300. ,    5.9,\n",
       "         32. ,   40. ,   51.5,   70. ,  100. ,   78. ,   80. ,   85. ,\n",
       "         85. ,  110. ,  115. ,  125. ,  130. ,  120. ,  120. ,  130. ,\n",
       "        135. ,  110. ,  130. ,  150. ,  145. ,  150. ,  170. ,  225. ,\n",
       "        145. ,  188. ,  180. ,  197. ,  218. ,  300. ,  260. ,  265. ,\n",
       "        250. ,  250. ,  300. ,  320. ,  514. ,  556. ,  840. ,  685. ,\n",
       "        700. ,  700. ,  690. ,  900. ,  650. ,  820. ,  850. ,  900. ,\n",
       "       1015. ,  820. , 1100. , 1000. , 1100. , 1000. , 1000. ,  200. ,\n",
       "        300. ,  300. ,  300. ,  430. ,  345. ,  456. ,  510. ,  540. ,\n",
       "        500. ,  567. ,  770. ,  950. , 1250. , 1600. , 1550. , 1650. ,\n",
       "          6.7,    7.5,    7. ,    9.7,    9.8,    8.7,   10. ,    9.9,\n",
       "          9.8,   12.2,   13.4,   12.2,   19.7,   19.9])</pre></div></li></ul></div></li><li class='xr-section-item'><input id='section-7e4ffde8-ce3b-493b-9a58-d4b7d812412e' class='xr-section-summary-in' type='checkbox'  checked><label for='section-7e4ffde8-ce3b-493b-9a58-d4b7d812412e' class='xr-section-summary' >Attributes: <span>(6)</span></label><div class='xr-section-inline-details'></div><div class='xr-section-details'><dl class='xr-attrs'><dt><span>created_at :</span></dt><dd>2022-11-23T02:54:47.487799</dd><dt><span>arviz_version :</span></dt><dd>0.12.1</dd><dt><span>inference_library :</span></dt><dd>pymc</dd><dt><span>inference_library_version :</span></dt><dd>4.1.5</dd><dt><span>modeling_interface :</span></dt><dd>bambi</dd><dt><span>modeling_interface_version :</span></dt><dd>0.9.1</dd></dl></div></li></ul></div></div><br></div>\n",
       "                      </ul>\n",
       "                  </div>\n",
       "            </li>\n",
       "            \n",
       "              </ul>\n",
       "            </div>\n",
       "            <style> /* CSS stylesheet for displaying InferenceData objects in jupyterlab.\n",
       " *\n",
       " */\n",
       "\n",
       ":root {\n",
       "  --xr-font-color0: var(--jp-content-font-color0, rgba(0, 0, 0, 1));\n",
       "  --xr-font-color2: var(--jp-content-font-color2, rgba(0, 0, 0, 0.54));\n",
       "  --xr-font-color3: var(--jp-content-font-color3, rgba(0, 0, 0, 0.38));\n",
       "  --xr-border-color: var(--jp-border-color2, #e0e0e0);\n",
       "  --xr-disabled-color: var(--jp-layout-color3, #bdbdbd);\n",
       "  --xr-background-color: var(--jp-layout-color0, white);\n",
       "  --xr-background-color-row-even: var(--jp-layout-color1, white);\n",
       "  --xr-background-color-row-odd: var(--jp-layout-color2, #eeeeee);\n",
       "}\n",
       "\n",
       "html[theme=dark],\n",
       "body.vscode-dark {\n",
       "  --xr-font-color0: rgba(255, 255, 255, 1);\n",
       "  --xr-font-color2: rgba(255, 255, 255, 0.54);\n",
       "  --xr-font-color3: rgba(255, 255, 255, 0.38);\n",
       "  --xr-border-color: #1F1F1F;\n",
       "  --xr-disabled-color: #515151;\n",
       "  --xr-background-color: #111111;\n",
       "  --xr-background-color-row-even: #111111;\n",
       "  --xr-background-color-row-odd: #313131;\n",
       "}\n",
       "\n",
       ".xr-wrap {\n",
       "  display: block;\n",
       "  min-width: 300px;\n",
       "  max-width: 700px;\n",
       "}\n",
       "\n",
       ".xr-text-repr-fallback {\n",
       "  /* fallback to plain text repr when CSS is not injected (untrusted notebook) */\n",
       "  display: none;\n",
       "}\n",
       "\n",
       ".xr-header {\n",
       "  padding-top: 6px;\n",
       "  padding-bottom: 6px;\n",
       "  margin-bottom: 4px;\n",
       "  border-bottom: solid 1px var(--xr-border-color);\n",
       "}\n",
       "\n",
       ".xr-header > div,\n",
       ".xr-header > ul {\n",
       "  display: inline;\n",
       "  margin-top: 0;\n",
       "  margin-bottom: 0;\n",
       "}\n",
       "\n",
       ".xr-obj-type,\n",
       ".xr-array-name {\n",
       "  margin-left: 2px;\n",
       "  margin-right: 10px;\n",
       "}\n",
       "\n",
       ".xr-obj-type {\n",
       "  color: var(--xr-font-color2);\n",
       "}\n",
       "\n",
       ".xr-sections {\n",
       "  padding-left: 0 !important;\n",
       "  display: grid;\n",
       "  grid-template-columns: 150px auto auto 1fr 20px 20px;\n",
       "}\n",
       "\n",
       ".xr-sections.group-sections {\n",
       "  grid-template-columns: auto;\n",
       "}\n",
       "\n",
       ".xr-section-item {\n",
       "  display: contents;\n",
       "}\n",
       "\n",
       ".xr-section-item input {\n",
       "  display: none;\n",
       "}\n",
       "\n",
       ".xr-section-item input + label {\n",
       "  color: var(--xr-disabled-color);\n",
       "}\n",
       "\n",
       ".xr-section-item input:enabled + label {\n",
       "  cursor: pointer;\n",
       "  color: var(--xr-font-color2);\n",
       "}\n",
       "\n",
       ".xr-section-item input:enabled + label:hover {\n",
       "  color: var(--xr-font-color0);\n",
       "}\n",
       "\n",
       ".xr-section-summary {\n",
       "  grid-column: 1;\n",
       "  color: var(--xr-font-color2);\n",
       "  font-weight: 500;\n",
       "}\n",
       "\n",
       ".xr-section-summary > span {\n",
       "  display: inline-block;\n",
       "  padding-left: 0.5em;\n",
       "}\n",
       "\n",
       ".xr-section-summary-in:disabled + label {\n",
       "  color: var(--xr-font-color2);\n",
       "}\n",
       "\n",
       ".xr-section-summary-in + label:before {\n",
       "  display: inline-block;\n",
       "  content: '►';\n",
       "  font-size: 11px;\n",
       "  width: 15px;\n",
       "  text-align: center;\n",
       "}\n",
       "\n",
       ".xr-section-summary-in:disabled + label:before {\n",
       "  color: var(--xr-disabled-color);\n",
       "}\n",
       "\n",
       ".xr-section-summary-in:checked + label:before {\n",
       "  content: '▼';\n",
       "}\n",
       "\n",
       ".xr-section-summary-in:checked + label > span {\n",
       "  display: none;\n",
       "}\n",
       "\n",
       ".xr-section-summary,\n",
       ".xr-section-inline-details {\n",
       "  padding-top: 4px;\n",
       "  padding-bottom: 4px;\n",
       "}\n",
       "\n",
       ".xr-section-inline-details {\n",
       "  grid-column: 2 / -1;\n",
       "}\n",
       "\n",
       ".xr-section-details {\n",
       "  display: none;\n",
       "  grid-column: 1 / -1;\n",
       "  margin-bottom: 5px;\n",
       "}\n",
       "\n",
       ".xr-section-summary-in:checked ~ .xr-section-details {\n",
       "  display: contents;\n",
       "}\n",
       "\n",
       ".xr-array-wrap {\n",
       "  grid-column: 1 / -1;\n",
       "  display: grid;\n",
       "  grid-template-columns: 20px auto;\n",
       "}\n",
       "\n",
       ".xr-array-wrap > label {\n",
       "  grid-column: 1;\n",
       "  vertical-align: top;\n",
       "}\n",
       "\n",
       ".xr-preview {\n",
       "  color: var(--xr-font-color3);\n",
       "}\n",
       "\n",
       ".xr-array-preview,\n",
       ".xr-array-data {\n",
       "  padding: 0 5px !important;\n",
       "  grid-column: 2;\n",
       "}\n",
       "\n",
       ".xr-array-data,\n",
       ".xr-array-in:checked ~ .xr-array-preview {\n",
       "  display: none;\n",
       "}\n",
       "\n",
       ".xr-array-in:checked ~ .xr-array-data,\n",
       ".xr-array-preview {\n",
       "  display: inline-block;\n",
       "}\n",
       "\n",
       ".xr-dim-list {\n",
       "  display: inline-block !important;\n",
       "  list-style: none;\n",
       "  padding: 0 !important;\n",
       "  margin: 0;\n",
       "}\n",
       "\n",
       ".xr-dim-list li {\n",
       "  display: inline-block;\n",
       "  padding: 0;\n",
       "  margin: 0;\n",
       "}\n",
       "\n",
       ".xr-dim-list:before {\n",
       "  content: '(';\n",
       "}\n",
       "\n",
       ".xr-dim-list:after {\n",
       "  content: ')';\n",
       "}\n",
       "\n",
       ".xr-dim-list li:not(:last-child):after {\n",
       "  content: ',';\n",
       "  padding-right: 5px;\n",
       "}\n",
       "\n",
       ".xr-has-index {\n",
       "  font-weight: bold;\n",
       "}\n",
       "\n",
       ".xr-var-list,\n",
       ".xr-var-item {\n",
       "  display: contents;\n",
       "}\n",
       "\n",
       ".xr-var-item > div,\n",
       ".xr-var-item label,\n",
       ".xr-var-item > .xr-var-name span {\n",
       "  background-color: var(--xr-background-color-row-even);\n",
       "  margin-bottom: 0;\n",
       "}\n",
       "\n",
       ".xr-var-item > .xr-var-name:hover span {\n",
       "  padding-right: 5px;\n",
       "}\n",
       "\n",
       ".xr-var-list > li:nth-child(odd) > div,\n",
       ".xr-var-list > li:nth-child(odd) > label,\n",
       ".xr-var-list > li:nth-child(odd) > .xr-var-name span {\n",
       "  background-color: var(--xr-background-color-row-odd);\n",
       "}\n",
       "\n",
       ".xr-var-name {\n",
       "  grid-column: 1;\n",
       "}\n",
       "\n",
       ".xr-var-dims {\n",
       "  grid-column: 2;\n",
       "}\n",
       "\n",
       ".xr-var-dtype {\n",
       "  grid-column: 3;\n",
       "  text-align: right;\n",
       "  color: var(--xr-font-color2);\n",
       "}\n",
       "\n",
       ".xr-var-preview {\n",
       "  grid-column: 4;\n",
       "}\n",
       "\n",
       ".xr-var-name,\n",
       ".xr-var-dims,\n",
       ".xr-var-dtype,\n",
       ".xr-preview,\n",
       ".xr-attrs dt {\n",
       "  white-space: nowrap;\n",
       "  overflow: hidden;\n",
       "  text-overflow: ellipsis;\n",
       "  padding-right: 10px;\n",
       "}\n",
       "\n",
       ".xr-var-name:hover,\n",
       ".xr-var-dims:hover,\n",
       ".xr-var-dtype:hover,\n",
       ".xr-attrs dt:hover {\n",
       "  overflow: visible;\n",
       "  width: auto;\n",
       "  z-index: 1;\n",
       "}\n",
       "\n",
       ".xr-var-attrs,\n",
       ".xr-var-data {\n",
       "  display: none;\n",
       "  background-color: var(--xr-background-color) !important;\n",
       "  padding-bottom: 5px !important;\n",
       "}\n",
       "\n",
       ".xr-var-attrs-in:checked ~ .xr-var-attrs,\n",
       ".xr-var-data-in:checked ~ .xr-var-data {\n",
       "  display: block;\n",
       "}\n",
       "\n",
       ".xr-var-data > table {\n",
       "  float: right;\n",
       "}\n",
       "\n",
       ".xr-var-name span,\n",
       ".xr-var-data,\n",
       ".xr-attrs {\n",
       "  padding-left: 25px !important;\n",
       "}\n",
       "\n",
       ".xr-attrs,\n",
       ".xr-var-attrs,\n",
       ".xr-var-data {\n",
       "  grid-column: 1 / -1;\n",
       "}\n",
       "\n",
       "dl.xr-attrs {\n",
       "  padding: 0;\n",
       "  margin: 0;\n",
       "  display: grid;\n",
       "  grid-template-columns: 125px auto;\n",
       "}\n",
       "\n",
       ".xr-attrs dt, dd {\n",
       "  padding: 0;\n",
       "  margin: 0;\n",
       "  float: left;\n",
       "  padding-right: 10px;\n",
       "  width: auto;\n",
       "}\n",
       "\n",
       ".xr-attrs dt {\n",
       "  font-weight: normal;\n",
       "  grid-column: 1;\n",
       "}\n",
       "\n",
       ".xr-attrs dt:hover span {\n",
       "  display: inline-block;\n",
       "  background: var(--xr-background-color);\n",
       "  padding-right: 10px;\n",
       "}\n",
       "\n",
       ".xr-attrs dd {\n",
       "  grid-column: 2;\n",
       "  white-space: pre-wrap;\n",
       "  word-break: break-all;\n",
       "}\n",
       "\n",
       ".xr-icon-database,\n",
       ".xr-icon-file-text2 {\n",
       "  display: inline-block;\n",
       "  vertical-align: middle;\n",
       "  width: 1em;\n",
       "  height: 1.5em !important;\n",
       "  stroke-width: 0;\n",
       "  stroke: currentColor;\n",
       "  fill: currentColor;\n",
       "}\n",
       ".xr-wrap{width:700px!important;} </style>"
      ],
      "text/plain": [
       "Inference data with groups:\n",
       "\t> posterior\n",
       "\t> log_likelihood\n",
       "\t> sample_stats\n",
       "\t> observed_data"
      ]
     },
     "execution_count": 6,
     "metadata": {},
     "output_type": "execute_result"
    }
   ],
   "source": [
    "idata"
   ]
  },
  {
   "cell_type": "markdown",
   "metadata": {},
   "source": [
    "As PyMC does, Bambi also returns an `InferenceData`. It contains similar information than the `InferenceData` objects we obtain when working with PyMC models directly. We have the following groups\n",
    "\n",
    "* posterior: Draws from the posterior distribution\n",
    "* log_likelihood: The log likelihood evaluated at every draw of the posterior\n",
    "* sample_stats: Statistics of the sampler \n",
    "* observed_data: The fish weights\n",
    "\n",
    "We're mostly interested in the posterior for now. "
   ]
  },
  {
   "cell_type": "markdown",
   "metadata": {},
   "source": [
    "## The posterior"
   ]
  },
  {
   "cell_type": "code",
   "execution_count": 7,
   "metadata": {},
   "outputs": [
    {
     "data": {
      "text/html": [
       "<div><svg style=\"position: absolute; width: 0; height: 0; overflow: hidden\">\n",
       "<defs>\n",
       "<symbol id=\"icon-database\" viewBox=\"0 0 32 32\">\n",
       "<path d=\"M16 0c-8.837 0-16 2.239-16 5v4c0 2.761 7.163 5 16 5s16-2.239 16-5v-4c0-2.761-7.163-5-16-5z\"></path>\n",
       "<path d=\"M16 17c-8.837 0-16-2.239-16-5v6c0 2.761 7.163 5 16 5s16-2.239 16-5v-6c0 2.761-7.163 5-16 5z\"></path>\n",
       "<path d=\"M16 26c-8.837 0-16-2.239-16-5v6c0 2.761 7.163 5 16 5s16-2.239 16-5v-6c0 2.761-7.163 5-16 5z\"></path>\n",
       "</symbol>\n",
       "<symbol id=\"icon-file-text2\" viewBox=\"0 0 32 32\">\n",
       "<path d=\"M28.681 7.159c-0.694-0.947-1.662-2.053-2.724-3.116s-2.169-2.030-3.116-2.724c-1.612-1.182-2.393-1.319-2.841-1.319h-15.5c-1.378 0-2.5 1.121-2.5 2.5v27c0 1.378 1.122 2.5 2.5 2.5h23c1.378 0 2.5-1.122 2.5-2.5v-19.5c0-0.448-0.137-1.23-1.319-2.841zM24.543 5.457c0.959 0.959 1.712 1.825 2.268 2.543h-4.811v-4.811c0.718 0.556 1.584 1.309 2.543 2.268zM28 29.5c0 0.271-0.229 0.5-0.5 0.5h-23c-0.271 0-0.5-0.229-0.5-0.5v-27c0-0.271 0.229-0.5 0.5-0.5 0 0 15.499-0 15.5 0v7c0 0.552 0.448 1 1 1h7v19.5z\"></path>\n",
       "<path d=\"M23 26h-14c-0.552 0-1-0.448-1-1s0.448-1 1-1h14c0.552 0 1 0.448 1 1s-0.448 1-1 1z\"></path>\n",
       "<path d=\"M23 22h-14c-0.552 0-1-0.448-1-1s0.448-1 1-1h14c0.552 0 1 0.448 1 1s-0.448 1-1 1z\"></path>\n",
       "<path d=\"M23 18h-14c-0.552 0-1-0.448-1-1s0.448-1 1-1h14c0.552 0 1 0.448 1 1s-0.448 1-1 1z\"></path>\n",
       "</symbol>\n",
       "</defs>\n",
       "</svg>\n",
       "<style>/* CSS stylesheet for displaying xarray objects in jupyterlab.\n",
       " *\n",
       " */\n",
       "\n",
       ":root {\n",
       "  --xr-font-color0: var(--jp-content-font-color0, rgba(0, 0, 0, 1));\n",
       "  --xr-font-color2: var(--jp-content-font-color2, rgba(0, 0, 0, 0.54));\n",
       "  --xr-font-color3: var(--jp-content-font-color3, rgba(0, 0, 0, 0.38));\n",
       "  --xr-border-color: var(--jp-border-color2, #e0e0e0);\n",
       "  --xr-disabled-color: var(--jp-layout-color3, #bdbdbd);\n",
       "  --xr-background-color: var(--jp-layout-color0, white);\n",
       "  --xr-background-color-row-even: var(--jp-layout-color1, white);\n",
       "  --xr-background-color-row-odd: var(--jp-layout-color2, #eeeeee);\n",
       "}\n",
       "\n",
       "html[theme=dark],\n",
       "body[data-theme=dark],\n",
       "body.vscode-dark {\n",
       "  --xr-font-color0: rgba(255, 255, 255, 1);\n",
       "  --xr-font-color2: rgba(255, 255, 255, 0.54);\n",
       "  --xr-font-color3: rgba(255, 255, 255, 0.38);\n",
       "  --xr-border-color: #1F1F1F;\n",
       "  --xr-disabled-color: #515151;\n",
       "  --xr-background-color: #111111;\n",
       "  --xr-background-color-row-even: #111111;\n",
       "  --xr-background-color-row-odd: #313131;\n",
       "}\n",
       "\n",
       ".xr-wrap {\n",
       "  display: block !important;\n",
       "  min-width: 300px;\n",
       "  max-width: 700px;\n",
       "}\n",
       "\n",
       ".xr-text-repr-fallback {\n",
       "  /* fallback to plain text repr when CSS is not injected (untrusted notebook) */\n",
       "  display: none;\n",
       "}\n",
       "\n",
       ".xr-header {\n",
       "  padding-top: 6px;\n",
       "  padding-bottom: 6px;\n",
       "  margin-bottom: 4px;\n",
       "  border-bottom: solid 1px var(--xr-border-color);\n",
       "}\n",
       "\n",
       ".xr-header > div,\n",
       ".xr-header > ul {\n",
       "  display: inline;\n",
       "  margin-top: 0;\n",
       "  margin-bottom: 0;\n",
       "}\n",
       "\n",
       ".xr-obj-type,\n",
       ".xr-array-name {\n",
       "  margin-left: 2px;\n",
       "  margin-right: 10px;\n",
       "}\n",
       "\n",
       ".xr-obj-type {\n",
       "  color: var(--xr-font-color2);\n",
       "}\n",
       "\n",
       ".xr-sections {\n",
       "  padding-left: 0 !important;\n",
       "  display: grid;\n",
       "  grid-template-columns: 150px auto auto 1fr 20px 20px;\n",
       "}\n",
       "\n",
       ".xr-section-item {\n",
       "  display: contents;\n",
       "}\n",
       "\n",
       ".xr-section-item input {\n",
       "  display: none;\n",
       "}\n",
       "\n",
       ".xr-section-item input + label {\n",
       "  color: var(--xr-disabled-color);\n",
       "}\n",
       "\n",
       ".xr-section-item input:enabled + label {\n",
       "  cursor: pointer;\n",
       "  color: var(--xr-font-color2);\n",
       "}\n",
       "\n",
       ".xr-section-item input:enabled + label:hover {\n",
       "  color: var(--xr-font-color0);\n",
       "}\n",
       "\n",
       ".xr-section-summary {\n",
       "  grid-column: 1;\n",
       "  color: var(--xr-font-color2);\n",
       "  font-weight: 500;\n",
       "}\n",
       "\n",
       ".xr-section-summary > span {\n",
       "  display: inline-block;\n",
       "  padding-left: 0.5em;\n",
       "}\n",
       "\n",
       ".xr-section-summary-in:disabled + label {\n",
       "  color: var(--xr-font-color2);\n",
       "}\n",
       "\n",
       ".xr-section-summary-in + label:before {\n",
       "  display: inline-block;\n",
       "  content: '►';\n",
       "  font-size: 11px;\n",
       "  width: 15px;\n",
       "  text-align: center;\n",
       "}\n",
       "\n",
       ".xr-section-summary-in:disabled + label:before {\n",
       "  color: var(--xr-disabled-color);\n",
       "}\n",
       "\n",
       ".xr-section-summary-in:checked + label:before {\n",
       "  content: '▼';\n",
       "}\n",
       "\n",
       ".xr-section-summary-in:checked + label > span {\n",
       "  display: none;\n",
       "}\n",
       "\n",
       ".xr-section-summary,\n",
       ".xr-section-inline-details {\n",
       "  padding-top: 4px;\n",
       "  padding-bottom: 4px;\n",
       "}\n",
       "\n",
       ".xr-section-inline-details {\n",
       "  grid-column: 2 / -1;\n",
       "}\n",
       "\n",
       ".xr-section-details {\n",
       "  display: none;\n",
       "  grid-column: 1 / -1;\n",
       "  margin-bottom: 5px;\n",
       "}\n",
       "\n",
       ".xr-section-summary-in:checked ~ .xr-section-details {\n",
       "  display: contents;\n",
       "}\n",
       "\n",
       ".xr-array-wrap {\n",
       "  grid-column: 1 / -1;\n",
       "  display: grid;\n",
       "  grid-template-columns: 20px auto;\n",
       "}\n",
       "\n",
       ".xr-array-wrap > label {\n",
       "  grid-column: 1;\n",
       "  vertical-align: top;\n",
       "}\n",
       "\n",
       ".xr-preview {\n",
       "  color: var(--xr-font-color3);\n",
       "}\n",
       "\n",
       ".xr-array-preview,\n",
       ".xr-array-data {\n",
       "  padding: 0 5px !important;\n",
       "  grid-column: 2;\n",
       "}\n",
       "\n",
       ".xr-array-data,\n",
       ".xr-array-in:checked ~ .xr-array-preview {\n",
       "  display: none;\n",
       "}\n",
       "\n",
       ".xr-array-in:checked ~ .xr-array-data,\n",
       ".xr-array-preview {\n",
       "  display: inline-block;\n",
       "}\n",
       "\n",
       ".xr-dim-list {\n",
       "  display: inline-block !important;\n",
       "  list-style: none;\n",
       "  padding: 0 !important;\n",
       "  margin: 0;\n",
       "}\n",
       "\n",
       ".xr-dim-list li {\n",
       "  display: inline-block;\n",
       "  padding: 0;\n",
       "  margin: 0;\n",
       "}\n",
       "\n",
       ".xr-dim-list:before {\n",
       "  content: '(';\n",
       "}\n",
       "\n",
       ".xr-dim-list:after {\n",
       "  content: ')';\n",
       "}\n",
       "\n",
       ".xr-dim-list li:not(:last-child):after {\n",
       "  content: ',';\n",
       "  padding-right: 5px;\n",
       "}\n",
       "\n",
       ".xr-has-index {\n",
       "  font-weight: bold;\n",
       "}\n",
       "\n",
       ".xr-var-list,\n",
       ".xr-var-item {\n",
       "  display: contents;\n",
       "}\n",
       "\n",
       ".xr-var-item > div,\n",
       ".xr-var-item label,\n",
       ".xr-var-item > .xr-var-name span {\n",
       "  background-color: var(--xr-background-color-row-even);\n",
       "  margin-bottom: 0;\n",
       "}\n",
       "\n",
       ".xr-var-item > .xr-var-name:hover span {\n",
       "  padding-right: 5px;\n",
       "}\n",
       "\n",
       ".xr-var-list > li:nth-child(odd) > div,\n",
       ".xr-var-list > li:nth-child(odd) > label,\n",
       ".xr-var-list > li:nth-child(odd) > .xr-var-name span {\n",
       "  background-color: var(--xr-background-color-row-odd);\n",
       "}\n",
       "\n",
       ".xr-var-name {\n",
       "  grid-column: 1;\n",
       "}\n",
       "\n",
       ".xr-var-dims {\n",
       "  grid-column: 2;\n",
       "}\n",
       "\n",
       ".xr-var-dtype {\n",
       "  grid-column: 3;\n",
       "  text-align: right;\n",
       "  color: var(--xr-font-color2);\n",
       "}\n",
       "\n",
       ".xr-var-preview {\n",
       "  grid-column: 4;\n",
       "}\n",
       "\n",
       ".xr-var-name,\n",
       ".xr-var-dims,\n",
       ".xr-var-dtype,\n",
       ".xr-preview,\n",
       ".xr-attrs dt {\n",
       "  white-space: nowrap;\n",
       "  overflow: hidden;\n",
       "  text-overflow: ellipsis;\n",
       "  padding-right: 10px;\n",
       "}\n",
       "\n",
       ".xr-var-name:hover,\n",
       ".xr-var-dims:hover,\n",
       ".xr-var-dtype:hover,\n",
       ".xr-attrs dt:hover {\n",
       "  overflow: visible;\n",
       "  width: auto;\n",
       "  z-index: 1;\n",
       "}\n",
       "\n",
       ".xr-var-attrs,\n",
       ".xr-var-data {\n",
       "  display: none;\n",
       "  background-color: var(--xr-background-color) !important;\n",
       "  padding-bottom: 5px !important;\n",
       "}\n",
       "\n",
       ".xr-var-attrs-in:checked ~ .xr-var-attrs,\n",
       ".xr-var-data-in:checked ~ .xr-var-data {\n",
       "  display: block;\n",
       "}\n",
       "\n",
       ".xr-var-data > table {\n",
       "  float: right;\n",
       "}\n",
       "\n",
       ".xr-var-name span,\n",
       ".xr-var-data,\n",
       ".xr-attrs {\n",
       "  padding-left: 25px !important;\n",
       "}\n",
       "\n",
       ".xr-attrs,\n",
       ".xr-var-attrs,\n",
       ".xr-var-data {\n",
       "  grid-column: 1 / -1;\n",
       "}\n",
       "\n",
       "dl.xr-attrs {\n",
       "  padding: 0;\n",
       "  margin: 0;\n",
       "  display: grid;\n",
       "  grid-template-columns: 125px auto;\n",
       "}\n",
       "\n",
       ".xr-attrs dt,\n",
       ".xr-attrs dd {\n",
       "  padding: 0;\n",
       "  margin: 0;\n",
       "  float: left;\n",
       "  padding-right: 10px;\n",
       "  width: auto;\n",
       "}\n",
       "\n",
       ".xr-attrs dt {\n",
       "  font-weight: normal;\n",
       "  grid-column: 1;\n",
       "}\n",
       "\n",
       ".xr-attrs dt:hover span {\n",
       "  display: inline-block;\n",
       "  background: var(--xr-background-color);\n",
       "  padding-right: 10px;\n",
       "}\n",
       "\n",
       ".xr-attrs dd {\n",
       "  grid-column: 2;\n",
       "  white-space: pre-wrap;\n",
       "  word-break: break-all;\n",
       "}\n",
       "\n",
       ".xr-icon-database,\n",
       ".xr-icon-file-text2 {\n",
       "  display: inline-block;\n",
       "  vertical-align: middle;\n",
       "  width: 1em;\n",
       "  height: 1.5em !important;\n",
       "  stroke-width: 0;\n",
       "  stroke: currentColor;\n",
       "  fill: currentColor;\n",
       "}\n",
       "</style><pre class='xr-text-repr-fallback'>&lt;xarray.Dataset&gt;\n",
       "Dimensions:       (chain: 2, draw: 1000)\n",
       "Coordinates:\n",
       "  * chain         (chain) int64 0 1\n",
       "  * draw          (draw) int64 0 1 2 3 4 5 6 7 ... 993 994 995 996 997 998 999\n",
       "Data variables:\n",
       "    Intercept     (chain, draw) float64 430.1 435.7 435.7 ... 394.3 401.5 395.5\n",
       "    Weight_sigma  (chain, draw) float64 348.3 345.3 345.3 ... 320.4 382.9 355.4\n",
       "Attributes:\n",
       "    created_at:                  2022-11-23T02:54:47.303203\n",
       "    arviz_version:               0.12.1\n",
       "    inference_library:           pymc\n",
       "    inference_library_version:   4.1.5\n",
       "    sampling_time:               4.48614764213562\n",
       "    tuning_steps:                1000\n",
       "    modeling_interface:          bambi\n",
       "    modeling_interface_version:  0.9.1</pre><div class='xr-wrap' style='display:none'><div class='xr-header'><div class='xr-obj-type'>xarray.Dataset</div></div><ul class='xr-sections'><li class='xr-section-item'><input id='section-07180a48-4c10-4c01-8f72-8efdc5f966cd' class='xr-section-summary-in' type='checkbox' disabled ><label for='section-07180a48-4c10-4c01-8f72-8efdc5f966cd' class='xr-section-summary'  title='Expand/collapse section'>Dimensions:</label><div class='xr-section-inline-details'><ul class='xr-dim-list'><li><span class='xr-has-index'>chain</span>: 2</li><li><span class='xr-has-index'>draw</span>: 1000</li></ul></div><div class='xr-section-details'></div></li><li class='xr-section-item'><input id='section-4941b851-4531-4d69-ae7c-334843fea116' class='xr-section-summary-in' type='checkbox'  checked><label for='section-4941b851-4531-4d69-ae7c-334843fea116' class='xr-section-summary' >Coordinates: <span>(2)</span></label><div class='xr-section-inline-details'></div><div class='xr-section-details'><ul class='xr-var-list'><li class='xr-var-item'><div class='xr-var-name'><span class='xr-has-index'>chain</span></div><div class='xr-var-dims'>(chain)</div><div class='xr-var-dtype'>int64</div><div class='xr-var-preview xr-preview'>0 1</div><input id='attrs-d9c1286e-75c7-4d90-b6c3-8a8fce158a74' class='xr-var-attrs-in' type='checkbox' disabled><label for='attrs-d9c1286e-75c7-4d90-b6c3-8a8fce158a74' title='Show/Hide attributes'><svg class='icon xr-icon-file-text2'><use xlink:href='#icon-file-text2'></use></svg></label><input id='data-1d3c3ba5-4f70-4256-ab64-43fbc7cdc124' class='xr-var-data-in' type='checkbox'><label for='data-1d3c3ba5-4f70-4256-ab64-43fbc7cdc124' title='Show/Hide data repr'><svg class='icon xr-icon-database'><use xlink:href='#icon-database'></use></svg></label><div class='xr-var-attrs'><dl class='xr-attrs'></dl></div><div class='xr-var-data'><pre>array([0, 1])</pre></div></li><li class='xr-var-item'><div class='xr-var-name'><span class='xr-has-index'>draw</span></div><div class='xr-var-dims'>(draw)</div><div class='xr-var-dtype'>int64</div><div class='xr-var-preview xr-preview'>0 1 2 3 4 5 ... 995 996 997 998 999</div><input id='attrs-95fca982-0250-4211-badf-5d833d2928ef' class='xr-var-attrs-in' type='checkbox' disabled><label for='attrs-95fca982-0250-4211-badf-5d833d2928ef' title='Show/Hide attributes'><svg class='icon xr-icon-file-text2'><use xlink:href='#icon-file-text2'></use></svg></label><input id='data-f9276986-e663-423c-8c13-bb2b5db7b372' class='xr-var-data-in' type='checkbox'><label for='data-f9276986-e663-423c-8c13-bb2b5db7b372' title='Show/Hide data repr'><svg class='icon xr-icon-database'><use xlink:href='#icon-database'></use></svg></label><div class='xr-var-attrs'><dl class='xr-attrs'></dl></div><div class='xr-var-data'><pre>array([  0,   1,   2, ..., 997, 998, 999])</pre></div></li></ul></div></li><li class='xr-section-item'><input id='section-6d054422-817b-4356-b3a5-14758f38e7c8' class='xr-section-summary-in' type='checkbox'  checked><label for='section-6d054422-817b-4356-b3a5-14758f38e7c8' class='xr-section-summary' >Data variables: <span>(2)</span></label><div class='xr-section-inline-details'></div><div class='xr-section-details'><ul class='xr-var-list'><li class='xr-var-item'><div class='xr-var-name'><span>Intercept</span></div><div class='xr-var-dims'>(chain, draw)</div><div class='xr-var-dtype'>float64</div><div class='xr-var-preview xr-preview'>430.1 435.7 435.7 ... 401.5 395.5</div><input id='attrs-8f275e5c-a078-43c3-9c7b-7ead00dd7c84' class='xr-var-attrs-in' type='checkbox' disabled><label for='attrs-8f275e5c-a078-43c3-9c7b-7ead00dd7c84' title='Show/Hide attributes'><svg class='icon xr-icon-file-text2'><use xlink:href='#icon-file-text2'></use></svg></label><input id='data-bcc0e0da-f07a-4983-ab4d-a4494f004804' class='xr-var-data-in' type='checkbox'><label for='data-bcc0e0da-f07a-4983-ab4d-a4494f004804' title='Show/Hide data repr'><svg class='icon xr-icon-database'><use xlink:href='#icon-database'></use></svg></label><div class='xr-var-attrs'><dl class='xr-attrs'></dl></div><div class='xr-var-data'><pre>array([[430.07587252, 435.65214552, 435.65214552, ..., 415.0210298 ,\n",
       "        415.0210298 , 418.25118243],\n",
       "       [398.69940551, 400.57022146, 393.25590611, ..., 394.29958802,\n",
       "        401.51341885, 395.53617091]])</pre></div></li><li class='xr-var-item'><div class='xr-var-name'><span>Weight_sigma</span></div><div class='xr-var-dims'>(chain, draw)</div><div class='xr-var-dtype'>float64</div><div class='xr-var-preview xr-preview'>348.3 345.3 345.3 ... 382.9 355.4</div><input id='attrs-e1c87336-e285-4f55-bbaf-81891987398d' class='xr-var-attrs-in' type='checkbox' disabled><label for='attrs-e1c87336-e285-4f55-bbaf-81891987398d' title='Show/Hide attributes'><svg class='icon xr-icon-file-text2'><use xlink:href='#icon-file-text2'></use></svg></label><input id='data-ec8dc69b-0afd-4fce-aaad-e8a6f752171f' class='xr-var-data-in' type='checkbox'><label for='data-ec8dc69b-0afd-4fce-aaad-e8a6f752171f' title='Show/Hide data repr'><svg class='icon xr-icon-database'><use xlink:href='#icon-database'></use></svg></label><div class='xr-var-attrs'><dl class='xr-attrs'></dl></div><div class='xr-var-data'><pre>array([[348.2974647 , 345.3054262 , 345.3054262 , ..., 370.88784915,\n",
       "        370.88784915, 398.09904224],\n",
       "       [364.50954513, 375.4830459 , 357.90302164, ..., 320.44678934,\n",
       "        382.88798249, 355.42121284]])</pre></div></li></ul></div></li><li class='xr-section-item'><input id='section-d813f91b-2de9-43dd-acc0-6dbb785b753e' class='xr-section-summary-in' type='checkbox'  checked><label for='section-d813f91b-2de9-43dd-acc0-6dbb785b753e' class='xr-section-summary' >Attributes: <span>(8)</span></label><div class='xr-section-inline-details'></div><div class='xr-section-details'><dl class='xr-attrs'><dt><span>created_at :</span></dt><dd>2022-11-23T02:54:47.303203</dd><dt><span>arviz_version :</span></dt><dd>0.12.1</dd><dt><span>inference_library :</span></dt><dd>pymc</dd><dt><span>inference_library_version :</span></dt><dd>4.1.5</dd><dt><span>sampling_time :</span></dt><dd>4.48614764213562</dd><dt><span>tuning_steps :</span></dt><dd>1000</dd><dt><span>modeling_interface :</span></dt><dd>bambi</dd><dt><span>modeling_interface_version :</span></dt><dd>0.9.1</dd></dl></div></li></ul></div></div>"
      ],
      "text/plain": [
       "<xarray.Dataset>\n",
       "Dimensions:       (chain: 2, draw: 1000)\n",
       "Coordinates:\n",
       "  * chain         (chain) int64 0 1\n",
       "  * draw          (draw) int64 0 1 2 3 4 5 6 7 ... 993 994 995 996 997 998 999\n",
       "Data variables:\n",
       "    Intercept     (chain, draw) float64 430.1 435.7 435.7 ... 394.3 401.5 395.5\n",
       "    Weight_sigma  (chain, draw) float64 348.3 345.3 345.3 ... 320.4 382.9 355.4\n",
       "Attributes:\n",
       "    created_at:                  2022-11-23T02:54:47.303203\n",
       "    arviz_version:               0.12.1\n",
       "    inference_library:           pymc\n",
       "    inference_library_version:   4.1.5\n",
       "    sampling_time:               4.48614764213562\n",
       "    tuning_steps:                1000\n",
       "    modeling_interface:          bambi\n",
       "    modeling_interface_version:  0.9.1"
      ]
     },
     "execution_count": 7,
     "metadata": {},
     "output_type": "execute_result"
    }
   ],
   "source": [
    "idata.posterior"
   ]
  },
  {
   "cell_type": "markdown",
   "metadata": {},
   "source": [
    "$$\n",
    "\\begin{aligned}\n",
    "\\beta_0 & \\sim \\text{Normal}(0, \\sigma_{\\beta_0}) \\\\\n",
    "\\sigma & \\sim \\text{HalfNormal}(\\sigma_\\varepsilon) \\\\\n",
    "\\text{Weight}_i & \\sim \\text{Normal}(\\beta_0, \\sigma) \n",
    "\\end{aligned}\n",
    "$$"
   ]
  },
  {
   "cell_type": "markdown",
   "metadata": {},
   "source": [
    "There are two parameters: one called Intercept and other called Weight_sigma. If we have a second look at the distributional representation of the model, we can see they match $\\beta_0$ and $\\sigma$."
   ]
  },
  {
   "cell_type": "markdown",
   "metadata": {},
   "source": [
    "## It's simply InferenceData"
   ]
  },
  {
   "cell_type": "code",
   "execution_count": 8,
   "metadata": {},
   "outputs": [
    {
     "data": {
      "image/png": "[encoded data removed]",
      "text/plain": [
       "<Figure size 1766.4x662.4 with 2 Axes>"
      ]
     },
     "metadata": {},
     "output_type": "display_data"
    }
   ],
   "source": [
    "az.plot_posterior(idata);"
   ]
  },
  {
   "cell_type": "markdown",
   "metadata": {},
   "source": [
    "It's ArviZ friendly. We can use all the ArviZ functions we love using with PyMC models. It's the same type of object, so expect to be able to to the same!\n",
    "\n",
    "Let's have a look at the marginal posteriors now. Does it look familiar? Does it match the values we got in our previous lesson? \n",
    "\n",
    "* The posterior of the Intercept is very similar, it's just a little wider\n",
    "* The posterior of Sigma is around larger values. Looks like the priors we had for the PyMC model were more restrictive than the priors here."
   ]
  },
  {
   "cell_type": "markdown",
   "metadata": {},
   "source": [
    "## What did we do?"
   ]
  },
  {
   "cell_type": "markdown",
   "metadata": {},
   "source": [
    "* We created a Bambi model\n",
    "* It's a one liner\n",
    "\n",
    "The basics of a Bambi model are\n",
    "\n",
    "* A model formula\n",
    "    * The specification of the response and predictors\n",
    "* A data frame\n",
    "    * Where we extract variables from"
   ]
  },
  {
   "cell_type": "markdown",
   "metadata": {},
   "source": [
    "**Note:** I would like to create a visual representation (with draw.io)"
   ]
  },
  {
   "cell_type": "markdown",
   "metadata": {},
   "source": [
    "## Model formula"
   ]
  },
  {
   "cell_type": "markdown",
   "metadata": {},
   "source": [
    "**Note** A graph here as well. Maybe two. One generic and another one for the model we've just built."
   ]
  },
  {
   "cell_type": "markdown",
   "metadata": {},
   "source": [
    "The model formula is a concise and clear representation of the response and the predictors of a statistical model. One of it's main characteristics is the tilde operator (`~`). It separates the response from the predictors. Anything on left hand side is part of the response, and anything on the right hand side is part of the predictors.\n",
    "\n",
    "In this lesson we're going to cover many details about the predictors part of the formula. But we have already covered something special! The \"1\" on the right hand side is not the name of any predictor, right? However, this is how you tell Bambi that you want an intercept.\n",
    "\n",
    "**Optional?**\n",
    "\n",
    "If you want to understand why it's the one, you can think of it as a predictor that is always equal to one. In the end, multiplying a coefficient by 1 is not going to change it, and that's exactly what happens with the intercept. "
   ]
  },
  {
   "cell_type": "markdown",
   "metadata": {},
   "source": [
    "## Comparison with the PyMC model"
   ]
  },
  {
   "cell_type": "code",
   "execution_count": 9,
   "metadata": {},
   "outputs": [],
   "source": [
    "with pm.Model() as pm_model:\n",
    "    intercept = pm.Normal(\"Intercept\", sigma=200)\n",
    "    sigma = pm.HalfNormal(\"sigma\", sigma=100)\n",
    "    pm.Normal(\"Weight\", mu=intercept, sigma=sigma, observed=data[\"Weight\"])"
   ]
  },
  {
   "cell_type": "code",
   "execution_count": 10,
   "metadata": {},
   "outputs": [],
   "source": [
    "bmb_model = bmb.Model(\"Weight ~ 1\", data)"
   ]
  },
  {
   "cell_type": "markdown",
   "metadata": {},
   "source": [
    "It's 4 lines of code versus 1. That's a huge difference!\n",
    "\n",
    "But there's something that feels like cheating. We're simply not writing priors in Bambi. Why is that? Is it because it's non Bayesian? \n",
    "\n",
    "The answer is it is Bayesian, but Bambi provides automatic priors so you it's not strictly required to tell it priors manually. This is a huge topic itself, and it's going to be covered in much more detail towards the end of the lesson. For now, it's good to know that Bambi does use the Bayesian approach, but it just makes it a little easier for us so we can iterate faster and write less code. Obviously, once we get to use it more seriously, it will be good to specify our own priors."
   ]
  },
  {
   "cell_type": "markdown",
   "metadata": {},
   "source": [
    "## Section Recap\n",
    "\n",
    "* We've introduced Bambi\n",
    "* Bambi models are made of two basic components\n",
    "    * A formula\n",
    "    * A data frame\n",
    "* Benefits of Bambi\n",
    "    * More concise syntax\n",
    "    * Provides automatic priors\n",
    "    * Allows iterating quicker\n",
    "* It's a PyMC model under the hood"
   ]
  },
  {
   "cell_type": "markdown",
   "metadata": {},
   "source": [
    "Under the hood, it's just a PyMC model. Bambi takes care of all the complicated internal details."
   ]
  },
  {
   "cell_type": "markdown",
   "metadata": {},
   "source": [
    "## Section 30: What's in a Bambi model"
   ]
  },
  {
   "cell_type": "markdown",
   "metadata": {},
   "source": [
    "In the previous section we saw it's very easy to create models with Bambi. But we know very little about the details. The goal of this section is to get more familiar with these models so we can feel more comfortable when working with them."
   ]
  },
  {
   "cell_type": "markdown",
   "metadata": {},
   "source": [
    "## Print the model"
   ]
  },
  {
   "cell_type": "code",
   "execution_count": 11,
   "metadata": {},
   "outputs": [],
   "source": [
    "model = bmb.Model(\"Weight ~ 1\", data)"
   ]
  },
  {
   "cell_type": "code",
   "execution_count": 12,
   "metadata": {},
   "outputs": [
    {
     "data": {
      "text/plain": [
       "Formula: Weight ~ 1\n",
       "Family name: Gaussian\n",
       "Link: identity\n",
       "Observations: 158\n",
       "Priors:\n",
       "  Common-level effects\n",
       "    Intercept ~ Normal(mu: 400.8475, sigma: 891.4101)\n",
       "\n",
       "  Auxiliary parameters\n",
       "    sigma ~ HalfStudentT(nu: 4, sigma: 356.564)"
      ]
     },
     "execution_count": 12,
     "metadata": {},
     "output_type": "execute_result"
    }
   ],
   "source": [
    "model"
   ]
  },
  {
   "cell_type": "markdown",
   "metadata": {},
   "source": [
    "Previously, we created an intercept-only regression model using Bambi. We saw it was very concise piece of code. Fitting the model was also so easy. But there's something even cooler. When we print a Bambi model, we get so much information. "
   ]
  },
  {
   "cell_type": "markdown",
   "metadata": {},
   "source": [
    "## The formula"
   ]
  },
  {
   "cell_type": "markdown",
   "metadata": {},
   "source": [
    "Just a reminder of the formula that was used to create the model. If you've just created the model one cell above it's not of much value, but it's really useful if you have several models and you want to make sure what's in each of them."
   ]
  },
  {
   "cell_type": "markdown",
   "metadata": {},
   "source": [
    "**Note:** Would be good to show the output, higlighting the part we're talking about in each slide."
   ]
  },
  {
   "cell_type": "markdown",
   "metadata": {},
   "source": [
    "## The family"
   ]
  },
  {
   "cell_type": "markdown",
   "metadata": {},
   "source": [
    "It's a broader concept in Bambi that represents the type of the model. For now, we're happy to see it says \"gaussian\". This means the model is using a Gaussian likelihood function. \n",
    "\n",
    "This is not happening because Bambi is smart enough to read our minds, though! Since Gaussian linear regressions are so popular, the `\"gaussian\"` family is the default choice. We have so many examples where we use non-default families in the following lessons."
   ]
  },
  {
   "cell_type": "markdown",
   "metadata": {},
   "source": [
    "## The link"
   ]
  },
  {
   "cell_type": "markdown",
   "metadata": {},
   "source": [
    "Similarly to families, it's a very important concept that will not cover in depth in this lesson, because it's very well covered in Lesson 4, when it's actually needed.\n",
    "\n",
    "In a nutshell, a link is a transformation that is applied to the mean of the likelihood function. It may sound complicated, but believe me, lesson 4 will make it very clear. For now, we're happy knowing it says \"identity\" which means it doesn't change anything (because it applies the identity function!)"
   ]
  },
  {
   "cell_type": "markdown",
   "metadata": {},
   "source": [
    "## Observations"
   ]
  },
  {
   "cell_type": "markdown",
   "metadata": {},
   "source": [
    "Bambi always tells you how many observations entered the model. In some cases, when there are missing values, it's possible the number of observations that are used by Bambi is smaller than the number of rows in the data frame. So this is what it's useful for (plus quickly checking the number of observations in general, without having to look back into the original dataframe)"
   ]
  },
  {
   "cell_type": "markdown",
   "metadata": {},
   "source": [
    "## Priors"
   ]
  },
  {
   "cell_type": "code",
   "execution_count": 13,
   "metadata": {},
   "outputs": [
    {
     "name": "stdout",
     "output_type": "stream",
     "text": [
      "Formula: Weight ~ 1\n",
      "Family name: Gaussian\n",
      "Link: identity\n",
      "Observations: 158\n",
      "Priors:\n",
      "  Common-level effects\n",
      "    Intercept ~ Normal(mu: 400.8475, sigma: 891.4101)\n",
      "\n",
      "  Auxiliary parameters\n",
      "    sigma ~ HalfStudentT(nu: 4, sigma: 356.564)\n"
     ]
    }
   ],
   "source": [
    "print(model)"
   ]
  },
  {
   "cell_type": "markdown",
   "metadata": {},
   "source": [
    "Finally, here are the priors! The first thing we can see is priors come in different groups (common effects and auxiliary parameters). These groups a well defined purpose but it's too early to learn about these more advanced topics. They are very well covered later. What we need to learn now is that whenever we want to check what are the priors in the model, we can print it, and Bambi is going to show us the priors.\n",
    "\n",
    "The most important things are\n",
    "\n",
    "* The prior for the `Intercept` is a Normal distribution centered around 400, and sigma equals to 891.\n",
    "* The prior for `sigma`, the standard deviation of the error term, is a `HalfStudenT` distribution with `nu` equals to 4 and sigma equals to 356.\n",
    "\n",
    "These values were determined **automatically** by Bambi.\n",
    "\n",
    "How Bambi chooses priors is a very interesting topic, and there's so much work behind it. We have prepared an appendix that you can find in the end of the Lesson."
   ]
  },
  {
   "cell_type": "markdown",
   "metadata": {},
   "source": [
    "## Section Recap\n",
    "\n",
    "* Bambi models contain so much information\n",
    "* Printing a model shows a summary\n",
    "    * It contains the most important pieces of a model\n",
    "    * It can be used to access information quickly\n",
    "* ... ?"
   ]
  },
  {
   "cell_type": "markdown",
   "metadata": {},
   "source": [
    "# Section 40: Slopes"
   ]
  },
  {
   "cell_type": "markdown",
   "metadata": {},
   "source": [
    "## Prepare the data"
   ]
  },
  {
   "cell_type": "code",
   "execution_count": 14,
   "metadata": {},
   "outputs": [],
   "source": [
    "data[\"log_weight\"] = np.log(data[\"Weight\"])\n",
    "data[\"log_length\"] = np.log(data[\"Length1\"])"
   ]
  },
  {
   "cell_type": "markdown",
   "metadata": {},
   "source": [
    "Bambi is great. It allows us to write models with a simple formula. But variable names must exist in the data frame. So we need to compute the logarithm of the weight and the logarithm of the length and store it as a new column. Then we're ready to build the model!"
   ]
  },
  {
   "cell_type": "markdown",
   "metadata": {},
   "source": [
    "## Create the model"
   ]
  },
  {
   "cell_type": "code",
   "execution_count": 15,
   "metadata": {},
   "outputs": [
    {
     "data": {
      "text/plain": [
       "Formula: log_weight ~ 1 + log_length\n",
       "Family name: Gaussian\n",
       "Link: identity\n",
       "Observations: 158\n",
       "Priors:\n",
       "  Common-level effects\n",
       "    Intercept ~ Normal(mu: 5.41, sigma: 26.3354)\n",
       "    log_length ~ Normal(mu: 0.0, sigma: 8.1834)\n",
       "\n",
       "  Auxiliary parameters\n",
       "    sigma ~ HalfStudentT(nu: 4, sigma: 1.322)"
      ]
     },
     "execution_count": 15,
     "metadata": {},
     "output_type": "execute_result"
    }
   ],
   "source": [
    "model = bmb.Model(\"log_weight ~ 1 + log_length\", data)\n",
    "model"
   ]
  },
  {
   "cell_type": "markdown",
   "metadata": {},
   "source": [
    "## Build the model"
   ]
  },
  {
   "cell_type": "code",
   "execution_count": 16,
   "metadata": {},
   "outputs": [],
   "source": [
    "model.build()"
   ]
  },
  {
   "cell_type": "markdown",
   "metadata": {},
   "source": [
    "The construction of a Bambi model has two steps. \n",
    "\n",
    "* Creation of the Bambi model\n",
    "* Creation of the underlying PyMC model\n",
    "\n",
    "The first step occurs when we do `bmb.Model()`. The second, can occur implicitly or explicitly. If we call `model.fit()`, the PyMC model is going be built implicitly. But we can also do it in an explicit manner because we want to do other stuff for which we need the PyMC part, like creating a plot of the priors or a graphical representation of the model"
   ]
  },
  {
   "cell_type": "markdown",
   "metadata": {},
   "source": [
    "## Explore the priors"
   ]
  },
  {
   "cell_type": "code",
   "execution_count": 17,
   "metadata": {},
   "outputs": [
    {
     "data": {
      "image/png": "[encoded data removed]",
      "text/plain": [
       "<Figure size 2649.6x662.4 with 3 Axes>"
      ]
     },
     "metadata": {},
     "output_type": "display_data"
    }
   ],
   "source": [
    "model.plot_priors();"
   ]
  },
  {
   "cell_type": "markdown",
   "metadata": {},
   "source": [
    "## Graph"
   ]
  },
  {
   "cell_type": "code",
   "execution_count": 18,
   "metadata": {},
   "outputs": [
    {
     "data": {
      "image/svg+xml": "<?xml version=\"1.0\" encoding=\"UTF-8\" standalone=\"no\"?>\n<!DOCTYPE svg PUBLIC \"-//W3C//DTD SVG 1.1//EN\"\n \"http://www.w3.org/Graphics/SVG/1.1/DTD/svg11.dtd\">\n<!-- Generated by graphviz version 3.0.0 (20220315.2325)\n -->\n<!-- Pages: 1 -->\n<svg width=\"422pt\" height=\"260pt\"\n viewBox=\"0.00 0.00 421.73 259.91\" xmlns=\"http://www.w3.org/2000/svg\" xmlns:xlink=\"http://www.w3.org/1999/xlink\">\n<g id=\"graph0\" class=\"graph\" transform=\"scale(1 1) rotate(0) translate(4 255.91)\">\n<polygon fill=\"white\" stroke=\"transparent\" points=\"-4,4 -4,-255.91 417.73,-255.91 417.73,4 -4,4\"/>\n<g id=\"clust1\" class=\"cluster\">\n<title>cluster1</title>\n<path fill=\"none\" stroke=\"black\" d=\"M297.73,-129.95C297.73,-129.95 393.73,-129.95 393.73,-129.95 399.73,-129.95 405.73,-135.95 405.73,-141.95 405.73,-141.95 405.73,-231.91 405.73,-231.91 405.73,-237.91 399.73,-243.91 393.73,-243.91 393.73,-243.91 297.73,-243.91 297.73,-243.91 291.73,-243.91 285.73,-237.91 285.73,-231.91 285.73,-231.91 285.73,-141.95 285.73,-141.95 285.73,-135.95 291.73,-129.95 297.73,-129.95\"/>\n<text text-anchor=\"middle\" x=\"394.23\" y=\"-137.75\" font-family=\"Times,serif\" font-size=\"14.00\">1</text>\n</g>\n<g id=\"clust2\" class=\"cluster\">\n<title>cluster158</title>\n<path fill=\"none\" stroke=\"black\" d=\"M179.73,-8C179.73,-8 279.73,-8 279.73,-8 285.73,-8 291.73,-14 291.73,-20 291.73,-20 291.73,-109.95 291.73,-109.95 291.73,-115.95 285.73,-121.95 279.73,-121.95 279.73,-121.95 179.73,-121.95 179.73,-121.95 173.73,-121.95 167.73,-115.95 167.73,-109.95 167.73,-109.95 167.73,-20 167.73,-20 167.73,-14 173.73,-8 179.73,-8\"/>\n<text text-anchor=\"middle\" x=\"273.23\" y=\"-15.8\" font-family=\"Times,serif\" font-size=\"14.00\">158</text>\n</g>\n<!-- log_weight_sigma -->\n<g id=\"node1\" class=\"node\">\n<title>log_weight_sigma</title>\n<ellipse fill=\"none\" stroke=\"black\" cx=\"82.73\" cy=\"-198.43\" rx=\"82.96\" ry=\"37.45\"/>\n<text text-anchor=\"middle\" x=\"82.73\" y=\"-209.73\" font-family=\"Times,serif\" font-size=\"14.00\">log_weight_sigma</text>\n<text text-anchor=\"middle\" x=\"82.73\" y=\"-194.73\" font-family=\"Times,serif\" font-size=\"14.00\">~</text>\n<text text-anchor=\"middle\" x=\"82.73\" y=\"-179.73\" font-family=\"Times,serif\" font-size=\"14.00\">HalfStudentT</text>\n</g>\n<!-- log_weight -->\n<g id=\"node4\" class=\"node\">\n<title>log_weight</title>\n<ellipse fill=\"lightgrey\" stroke=\"black\" cx=\"229.73\" cy=\"-76.48\" rx=\"54.39\" ry=\"37.45\"/>\n<text text-anchor=\"middle\" x=\"229.73\" y=\"-87.78\" font-family=\"Times,serif\" font-size=\"14.00\">log_weight</text>\n<text text-anchor=\"middle\" x=\"229.73\" y=\"-72.78\" font-family=\"Times,serif\" font-size=\"14.00\">~</text>\n<text text-anchor=\"middle\" x=\"229.73\" y=\"-57.78\" font-family=\"Times,serif\" font-size=\"14.00\">Normal</text>\n</g>\n<!-- log_weight_sigma&#45;&gt;log_weight -->\n<g id=\"edge1\" class=\"edge\">\n<title>log_weight_sigma&#45;&gt;log_weight</title>\n<path fill=\"none\" stroke=\"black\" d=\"M122.12,-165.28C142.25,-148.87 166.75,-128.87 187.29,-112.11\"/>\n<polygon fill=\"black\" stroke=\"black\" points=\"189.7,-114.66 195.24,-105.62 185.28,-109.23 189.7,-114.66\"/>\n</g>\n<!-- Intercept -->\n<g id=\"node2\" class=\"node\">\n<title>Intercept</title>\n<ellipse fill=\"none\" stroke=\"black\" cx=\"229.73\" cy=\"-198.43\" rx=\"45.92\" ry=\"37.45\"/>\n<text text-anchor=\"middle\" x=\"229.73\" y=\"-209.73\" font-family=\"Times,serif\" font-size=\"14.00\">Intercept</text>\n<text text-anchor=\"middle\" x=\"229.73\" y=\"-194.73\" font-family=\"Times,serif\" font-size=\"14.00\">~</text>\n<text text-anchor=\"middle\" x=\"229.73\" y=\"-179.73\" font-family=\"Times,serif\" font-size=\"14.00\">Normal</text>\n</g>\n<!-- Intercept&#45;&gt;log_weight -->\n<g id=\"edge3\" class=\"edge\">\n<title>Intercept&#45;&gt;log_weight</title>\n<path fill=\"none\" stroke=\"black\" d=\"M229.73,-160.79C229.73,-149.38 229.73,-136.65 229.73,-124.63\"/>\n<polygon fill=\"black\" stroke=\"black\" points=\"233.23,-124.31 229.73,-114.31 226.23,-124.31 233.23,-124.31\"/>\n</g>\n<!-- log_length -->\n<g id=\"node3\" class=\"node\">\n<title>log_length</title>\n<ellipse fill=\"none\" stroke=\"black\" cx=\"345.73\" cy=\"-198.43\" rx=\"52.15\" ry=\"37.45\"/>\n<text text-anchor=\"middle\" x=\"345.73\" y=\"-209.73\" font-family=\"Times,serif\" font-size=\"14.00\">log_length</text>\n<text text-anchor=\"middle\" x=\"345.73\" y=\"-194.73\" font-family=\"Times,serif\" font-size=\"14.00\">~</text>\n<text text-anchor=\"middle\" x=\"345.73\" y=\"-179.73\" font-family=\"Times,serif\" font-size=\"14.00\">Normal</text>\n</g>\n<!-- log_length&#45;&gt;log_weight -->\n<g id=\"edge2\" class=\"edge\">\n<title>log_length&#45;&gt;log_weight</title>\n<path fill=\"none\" stroke=\"black\" d=\"M318.26,-166.08C307.93,-154.55 295.97,-141.5 284.73,-129.95 279.67,-124.75 274.24,-119.36 268.84,-114.11\"/>\n<polygon fill=\"black\" stroke=\"black\" points=\"271.16,-111.48 261.53,-107.05 266.3,-116.52 271.16,-111.48\"/>\n</g>\n</g>\n</svg>\n",
      "text/plain": [
       "<graphviz.graphs.Digraph at 0x7f364aca4670>"
      ]
     },
     "execution_count": 18,
     "metadata": {},
     "output_type": "execute_result"
    }
   ],
   "source": [
    "model.graph()"
   ]
  },
  {
   "cell_type": "markdown",
   "metadata": {},
   "source": [
    "**Note** we need to update Bambi. The '1' there is not a good think. The parameter is not actually one dimensional."
   ]
  },
  {
   "cell_type": "markdown",
   "metadata": {},
   "source": [
    "## Fit the model"
   ]
  },
  {
   "cell_type": "code",
   "execution_count": 19,
   "metadata": {},
   "outputs": [
    {
     "name": "stderr",
     "output_type": "stream",
     "text": [
      "Auto-assigning NUTS sampler...\n",
      "Initializing NUTS using jitter+adapt_diag...\n",
      "Multiprocess sampling (2 chains in 2 jobs)\n",
      "NUTS: [Intercept, log_length, log_weight_sigma]\n"
     ]
    },
    {
     "data": {
      "text/html": [
       "\n",
       "<style>\n",
       "    /* Turns off some styling */\n",
       "    progress {\n",
       "        /* gets rid of default border in Firefox and Opera. */\n",
       "        border: none;\n",
       "        /* Needs to be in here for Safari polyfill so background images work as expected. */\n",
       "        background-size: auto;\n",
       "    }\n",
       "    progress:not([value]), progress:not([value])::-webkit-progress-bar {\n",
       "        background: repeating-linear-gradient(45deg, #7e7e7e, #7e7e7e 10px, #5c5c5c 10px, #5c5c5c 20px);\n",
       "    }\n",
       "    .progress-bar-interrupted, .progress-bar-interrupted::-webkit-progress-bar {\n",
       "        background: #F44336;\n",
       "    }\n",
       "</style>\n"
      ],
      "text/plain": [
       "<IPython.core.display.HTML object>"
      ]
     },
     "metadata": {},
     "output_type": "display_data"
    },
    {
     "data": {
      "text/html": [
       "\n",
       "    <div>\n",
       "      <progress value='4000' class='' max='4000' style='width:300px; height:20px; vertical-align: middle;'></progress>\n",
       "      100.00% [4000/4000 00:02&lt;00:00 Sampling 2 chains, 0 divergences]\n",
       "    </div>\n",
       "    "
      ],
      "text/plain": [
       "<IPython.core.display.HTML object>"
      ]
     },
     "metadata": {},
     "output_type": "display_data"
    },
    {
     "name": "stderr",
     "output_type": "stream",
     "text": [
      "Sampling 2 chains for 1_000 tune and 1_000 draw iterations (2_000 + 2_000 draws total) took 3 seconds.\n"
     ]
    }
   ],
   "source": [
    "idata = model.fit()"
   ]
  },
  {
   "cell_type": "code",
   "execution_count": 20,
   "metadata": {},
   "outputs": [
    {
     "data": {
      "text/html": [
       "<div>\n",
       "<style scoped>\n",
       "    .dataframe tbody tr th:only-of-type {\n",
       "        vertical-align: middle;\n",
       "    }\n",
       "\n",
       "    .dataframe tbody tr th {\n",
       "        vertical-align: top;\n",
       "    }\n",
       "\n",
       "    .dataframe thead th {\n",
       "        text-align: right;\n",
       "    }\n",
       "</style>\n",
       "<table border=\"1\" class=\"dataframe\">\n",
       "  <thead>\n",
       "    <tr style=\"text-align: right;\">\n",
       "      <th></th>\n",
       "      <th>mean</th>\n",
       "      <th>sd</th>\n",
       "      <th>hdi_3%</th>\n",
       "      <th>hdi_97%</th>\n",
       "      <th>mcse_mean</th>\n",
       "      <th>mcse_sd</th>\n",
       "      <th>ess_bulk</th>\n",
       "      <th>ess_tail</th>\n",
       "      <th>r_hat</th>\n",
       "    </tr>\n",
       "  </thead>\n",
       "  <tbody>\n",
       "    <tr>\n",
       "      <th>Intercept</th>\n",
       "      <td>-4.627</td>\n",
       "      <td>0.237</td>\n",
       "      <td>-5.101</td>\n",
       "      <td>-4.212</td>\n",
       "      <td>0.004</td>\n",
       "      <td>0.003</td>\n",
       "      <td>2861.0</td>\n",
       "      <td>1480.0</td>\n",
       "      <td>1.0</td>\n",
       "    </tr>\n",
       "    <tr>\n",
       "      <th>log_length</th>\n",
       "      <td>3.144</td>\n",
       "      <td>0.074</td>\n",
       "      <td>3.013</td>\n",
       "      <td>3.289</td>\n",
       "      <td>0.001</td>\n",
       "      <td>0.001</td>\n",
       "      <td>2826.0</td>\n",
       "      <td>1553.0</td>\n",
       "      <td>1.0</td>\n",
       "    </tr>\n",
       "    <tr>\n",
       "      <th>log_weight_sigma</th>\n",
       "      <td>0.373</td>\n",
       "      <td>0.021</td>\n",
       "      <td>0.332</td>\n",
       "      <td>0.410</td>\n",
       "      <td>0.000</td>\n",
       "      <td>0.000</td>\n",
       "      <td>2958.0</td>\n",
       "      <td>1319.0</td>\n",
       "      <td>1.0</td>\n",
       "    </tr>\n",
       "  </tbody>\n",
       "</table>\n",
       "</div>"
      ],
      "text/plain": [
       "                   mean     sd  hdi_3%  hdi_97%  mcse_mean  mcse_sd  ess_bulk  \\\n",
       "Intercept        -4.627  0.237  -5.101   -4.212      0.004    0.003    2861.0   \n",
       "log_length        3.144  0.074   3.013    3.289      0.001    0.001    2826.0   \n",
       "log_weight_sigma  0.373  0.021   0.332    0.410      0.000    0.000    2958.0   \n",
       "\n",
       "                  ess_tail  r_hat  \n",
       "Intercept           1480.0    1.0  \n",
       "log_length          1553.0    1.0  \n",
       "log_weight_sigma    1319.0    1.0  "
      ]
     },
     "execution_count": 20,
     "metadata": {},
     "output_type": "execute_result"
    }
   ],
   "source": [
    "az.summary(idata)"
   ]
  },
  {
   "cell_type": "markdown",
   "metadata": {},
   "source": [
    "## Plot the fitted line"
   ]
  },
  {
   "cell_type": "code",
   "execution_count": 21,
   "metadata": {},
   "outputs": [
    {
     "data": {
      "image/png": "[encoded data removed]",
      "text/plain": [
       "<Figure size 768x576 with 1 Axes>"
      ]
     },
     "metadata": {},
     "output_type": "display_data"
    }
   ],
   "source": [
    "from bambi.plots import plot_cap\n",
    "\n",
    "fig, ax = plt.subplots()\n",
    "ax.scatter(data[\"log_length\"], data[\"log_weight\"], color=\"C4\", alpha=0.6, s=8);\n",
    "plot_cap(model, idata, \"log_length\", ax=ax);"
   ]
  },
  {
   "cell_type": "markdown",
   "metadata": {},
   "source": [
    "## Section Recap"
   ]
  },
  {
   "cell_type": "markdown",
   "metadata": {},
   "source": [
    "* ..."
   ]
  },
  {
   "cell_type": "markdown",
   "metadata": {},
   "source": [
    "# Section 50: Transformations in Bambi"
   ]
  },
  {
   "cell_type": "markdown",
   "metadata": {},
   "source": [
    "## Let's be honest"
   ]
  },
  {
   "cell_type": "markdown",
   "metadata": {},
   "source": [
    "We don't really need to do\n",
    "\n",
    "```python\n",
    "data[\"f_of_x\"] = f(data[\"x\"])\n",
    "bmb.Model(\"y ~ f_of_x\", data)\n",
    "```"
   ]
  },
  {
   "cell_type": "markdown",
   "metadata": {},
   "source": [
    "We can simply do \n",
    "\n",
    "```python\n",
    "bmb.Model(\"y ~ f(x)\", data)\n",
    "```"
   ]
  },
  {
   "cell_type": "markdown",
   "metadata": {},
   "source": [
    "I actually lied to you. Lol! \n",
    "\n",
    "We don't actually need to transform variables and store them in new columns **before** creating the model. \n",
    "\n",
    "Transformations are an extremely important topic. And we mean it! \n",
    "\n",
    "It's so important that Bambi allows to use inline transformations. It's so cool!\n",
    "\n",
    "Instead of having to pre-compute transformations, you can simply use the function within the formula. Bambi knows how to handle it :)"
   ]
  },
  {
   "cell_type": "markdown",
   "metadata": {},
   "source": [
    "## In our model"
   ]
  },
  {
   "cell_type": "code",
   "execution_count": 22,
   "metadata": {},
   "outputs": [
    {
     "data": {
      "text/plain": [
       "Formula: np.log(Weight) ~ np.log(Length1)\n",
       "Family name: Gaussian\n",
       "Link: identity\n",
       "Observations: 158\n",
       "Priors:\n",
       "  Common-level effects\n",
       "    Intercept ~ Normal(mu: 5.41, sigma: 26.3354)\n",
       "    np.log(Length1) ~ Normal(mu: 0.0, sigma: 8.1834)\n",
       "\n",
       "  Auxiliary parameters\n",
       "    sigma ~ HalfStudentT(nu: 4, sigma: 1.322)"
      ]
     },
     "execution_count": 22,
     "metadata": {},
     "output_type": "execute_result"
    }
   ],
   "source": [
    "model = bmb.Model(\"np.log(Weight) ~ np.log(Length1)\", data)\n",
    "model"
   ]
  },
  {
   "cell_type": "code",
   "execution_count": 23,
   "metadata": {},
   "outputs": [
    {
     "name": "stderr",
     "output_type": "stream",
     "text": [
      "Auto-assigning NUTS sampler...\n",
      "Initializing NUTS using jitter+adapt_diag...\n",
      "Multiprocess sampling (2 chains in 2 jobs)\n",
      "NUTS: [Intercept, np.log(Length1), np.log(Weight)_sigma]\n"
     ]
    },
    {
     "data": {
      "text/html": [
       "\n",
       "<style>\n",
       "    /* Turns off some styling */\n",
       "    progress {\n",
       "        /* gets rid of default border in Firefox and Opera. */\n",
       "        border: none;\n",
       "        /* Needs to be in here for Safari polyfill so background images work as expected. */\n",
       "        background-size: auto;\n",
       "    }\n",
       "    progress:not([value]), progress:not([value])::-webkit-progress-bar {\n",
       "        background: repeating-linear-gradient(45deg, #7e7e7e, #7e7e7e 10px, #5c5c5c 10px, #5c5c5c 20px);\n",
       "    }\n",
       "    .progress-bar-interrupted, .progress-bar-interrupted::-webkit-progress-bar {\n",
       "        background: #F44336;\n",
       "    }\n",
       "</style>\n"
      ],
      "text/plain": [
       "<IPython.core.display.HTML object>"
      ]
     },
     "metadata": {},
     "output_type": "display_data"
    },
    {
     "data": {
      "text/html": [
       "\n",
       "    <div>\n",
       "      <progress value='4000' class='' max='4000' style='width:300px; height:20px; vertical-align: middle;'></progress>\n",
       "      100.00% [4000/4000 00:02&lt;00:00 Sampling 2 chains, 0 divergences]\n",
       "    </div>\n",
       "    "
      ],
      "text/plain": [
       "<IPython.core.display.HTML object>"
      ]
     },
     "metadata": {},
     "output_type": "display_data"
    },
    {
     "name": "stderr",
     "output_type": "stream",
     "text": [
      "Sampling 2 chains for 1_000 tune and 1_000 draw iterations (2_000 + 2_000 draws total) took 2 seconds.\n"
     ]
    }
   ],
   "source": [
    "idata = model.fit()"
   ]
  },
  {
   "cell_type": "markdown",
   "metadata": {},
   "source": [
    "All that means we can use inline transformations with our model too. Instead of having to precompute the logs, we can simply compute them on the fly within the formula. Bambi knows how to take care of it."
   ]
  },
  {
   "cell_type": "markdown",
   "metadata": {},
   "source": [
    "See the inline transformations in action. Do you want transformed variables? It's still one-liner! How cool is that?"
   ]
  },
  {
   "cell_type": "markdown",
   "metadata": {},
   "source": [
    "## How does it work?"
   ]
  },
  {
   "cell_type": "markdown",
   "metadata": {},
   "source": [
    "Bambi allows to use two types of transformations"
   ]
  },
  {
   "cell_type": "markdown",
   "metadata": {},
   "source": [
    "* Functions available in the environment where the model is created\n",
    "    * Like `np.log()` above"
   ]
  },
  {
   "cell_type": "markdown",
   "metadata": {},
   "source": [
    "* Built-in functions\n",
    "    * `center()`\n",
    "    * `scale()`"
   ]
  },
  {
   "cell_type": "markdown",
   "metadata": {},
   "source": [
    "Transformations are functions. Transformations are Python functions. Bambi can use two types of transformations. The first, Python functions that are available in the environment where the model is created. Since we have imported NumPy as `np`, we can access `np.log()`. \n",
    "\n",
    "But there's more! Bambi also comes with several built-in transformations that make statistical modeling easier. Sometimes one wants to center the variable (subtract the mean) or scale the variable (subtract the mean and divide by the standard deviation). Instead of having to do it manually, or needing to write our own function, that comes already built-in Bambi."
   ]
  },
  {
   "cell_type": "markdown",
   "metadata": {},
   "source": [
    "## Important transformations"
   ]
  },
  {
   "cell_type": "markdown",
   "metadata": {},
   "source": [
    "* `center(x)`\n",
    "\n",
    "$$\n",
    "\\text{center}(x) = x - \\text{mean}(x)\n",
    "$$"
   ]
  },
  {
   "cell_type": "markdown",
   "metadata": {},
   "source": [
    "* `scale(x)`\n",
    "\n",
    "$$\n",
    "\\text{scale}(x) = \\frac{x - \\text{mean}(x)}{\\text{sd}(x)}\n",
    "$$"
   ]
  },
  {
   "cell_type": "markdown",
   "metadata": {},
   "source": [
    "* Explain what they are\n",
    "* Tell briefly when they're recommended\n",
    "* Say it's better to let Bambi handle these rather than writing our own functions. Not only because the amount of work, but also because of other complexities."
   ]
  },
  {
   "cell_type": "markdown",
   "metadata": {},
   "source": [
    "## Custom operations"
   ]
  },
  {
   "cell_type": "markdown",
   "metadata": {},
   "source": [
    "* What if I want my predictor \n",
    "    * Divided by 10?\n",
    "    * to the second power?"
   ]
  },
  {
   "cell_type": "markdown",
   "metadata": {},
   "source": [
    "Don't do this \n",
    "\n",
    "```python\n",
    "\"y ~ x / 10\"\n",
    "\"y ~ x ** 2\"\n",
    "```"
   ]
  },
  {
   "cell_type": "markdown",
   "metadata": {},
   "source": [
    "Do this\n",
    "\n",
    "```python\n",
    "\"y ~ I(x / 10)\"\n",
    "\"y ~ I(x ** 2)\"\n",
    "```\n",
    "\n",
    "or this\n",
    "\n",
    "```python\n",
    "\"y ~ {x / 10}\"\n",
    "\"y ~ {x ** 2}\"\n",
    "```"
   ]
  },
  {
   "cell_type": "markdown",
   "metadata": {},
   "source": [
    "The operators `/` and `**`, as many other operators, have a different meaning in the formula mini-language.  When we want these operators to have the same meaning they would do in Python (or actually, in regular math!) we have to \"escape\" them. To do that we can use the `I()` function or brackets. Anything written within them will be evaluated as regular Python. "
   ]
  },
  {
   "cell_type": "markdown",
   "metadata": {},
   "source": [
    "## Formulas are so powerful"
   ]
  },
  {
   "cell_type": "markdown",
   "metadata": {},
   "source": [
    "* The response variable"
   ]
  },
  {
   "cell_type": "markdown",
   "metadata": {},
   "source": [
    "* The predictors"
   ]
  },
  {
   "cell_type": "markdown",
   "metadata": {},
   "source": [
    "* Transformations!\n",
    "    * Of several kinds"
   ]
  },
  {
   "cell_type": "markdown",
   "metadata": {},
   "source": [
    "simplifies communication, reduces misunderstanding... it's a very powerful tool!"
   ]
  },
  {
   "cell_type": "markdown",
   "metadata": {},
   "source": [
    "## Section Recap\n",
    "\n",
    "* ..."
   ]
  },
  {
   "cell_type": "markdown",
   "metadata": {},
   "source": [
    "# Section 60: Modeling categories"
   ]
  },
  {
   "cell_type": "markdown",
   "metadata": {},
   "source": [
    "## Categorical is not the same as numeric"
   ]
  },
  {
   "cell_type": "markdown",
   "metadata": {},
   "source": [
    "* Length, Width, Height are numeric\n",
    "    * Math makes total sense"
   ]
  },
  {
   "cell_type": "markdown",
   "metadata": {},
   "source": [
    "* Species is categorical\n",
    "    * Math does not make sense"
   ]
  },
  {
   "cell_type": "markdown",
   "metadata": {},
   "source": [
    "* We need to treat categorical variables in a different way\n",
    "    * We did it with PyMC in the previous lesson"
   ]
  },
  {
   "cell_type": "markdown",
   "metadata": {},
   "source": [
    "## Categorical is the same as numeric"
   ]
  },
  {
   "cell_type": "markdown",
   "metadata": {},
   "source": [
    "* Bambi makes life easier "
   ]
  },
  {
   "cell_type": "markdown",
   "metadata": {},
   "source": [
    "* Using categories is the same"
   ]
  },
  {
   "cell_type": "markdown",
   "metadata": {},
   "source": [
    "* Bambi knows how to handle all the details for us"
   ]
  },
  {
   "cell_type": "markdown",
   "metadata": {},
   "source": [
    "## Modeling categories"
   ]
  },
  {
   "cell_type": "code",
   "execution_count": 24,
   "metadata": {},
   "outputs": [
    {
     "data": {
      "image/svg+xml": "<?xml version=\"1.0\" encoding=\"UTF-8\" standalone=\"no\"?>\n<!DOCTYPE svg PUBLIC \"-//W3C//DTD SVG 1.1//EN\"\n \"http://www.w3.org/Graphics/SVG/1.1/DTD/svg11.dtd\">\n<!-- Generated by graphviz version 3.0.0 (20220315.2325)\n -->\n<!-- Pages: 1 -->\n<svg width=\"439pt\" height=\"260pt\"\n viewBox=\"0.00 0.00 438.99 259.91\" xmlns=\"http://www.w3.org/2000/svg\" xmlns:xlink=\"http://www.w3.org/1999/xlink\">\n<g id=\"graph0\" class=\"graph\" transform=\"scale(1 1) rotate(0) translate(4 255.91)\">\n<polygon fill=\"white\" stroke=\"transparent\" points=\"-4,4 -4,-255.91 434.99,-255.91 434.99,4 -4,4\"/>\n<g id=\"clust1\" class=\"cluster\">\n<title>clusterSpecies_dim (6)</title>\n<path fill=\"none\" stroke=\"black\" d=\"M328.99,-129.95C328.99,-129.95 410.99,-129.95 410.99,-129.95 416.99,-129.95 422.99,-135.95 422.99,-141.95 422.99,-141.95 422.99,-231.91 422.99,-231.91 422.99,-237.91 416.99,-243.91 410.99,-243.91 410.99,-243.91 328.99,-243.91 328.99,-243.91 322.99,-243.91 316.99,-237.91 316.99,-231.91 316.99,-231.91 316.99,-141.95 316.99,-141.95 316.99,-135.95 322.99,-129.95 328.99,-129.95\"/>\n<text text-anchor=\"middle\" x=\"369.99\" y=\"-137.75\" font-family=\"Times,serif\" font-size=\"14.00\">Species_dim (6)</text>\n</g>\n<g id=\"clust2\" class=\"cluster\">\n<title>cluster158</title>\n<path fill=\"none\" stroke=\"black\" d=\"M194.99,-8C194.99,-8 328.99,-8 328.99,-8 334.99,-8 340.99,-14 340.99,-20 340.99,-20 340.99,-109.95 340.99,-109.95 340.99,-115.95 334.99,-121.95 328.99,-121.95 328.99,-121.95 194.99,-121.95 194.99,-121.95 188.99,-121.95 182.99,-115.95 182.99,-109.95 182.99,-109.95 182.99,-20 182.99,-20 182.99,-14 188.99,-8 194.99,-8\"/>\n<text text-anchor=\"middle\" x=\"322.49\" y=\"-15.8\" font-family=\"Times,serif\" font-size=\"14.00\">158</text>\n</g>\n<!-- np.log(Weight)_sigma -->\n<g id=\"node1\" class=\"node\">\n<title>np.log(Weight)_sigma</title>\n<ellipse fill=\"none\" stroke=\"black\" cx=\"98.99\" cy=\"-198.43\" rx=\"98.99\" ry=\"37.45\"/>\n<text text-anchor=\"middle\" x=\"98.99\" y=\"-209.73\" font-family=\"Times,serif\" font-size=\"14.00\">np.log(Weight)_sigma</text>\n<text text-anchor=\"middle\" x=\"98.99\" y=\"-194.73\" font-family=\"Times,serif\" font-size=\"14.00\">~</text>\n<text text-anchor=\"middle\" x=\"98.99\" y=\"-179.73\" font-family=\"Times,serif\" font-size=\"14.00\">HalfStudentT</text>\n</g>\n<!-- np.log(Weight) -->\n<g id=\"node4\" class=\"node\">\n<title>np.log(Weight)</title>\n<ellipse fill=\"lightgrey\" stroke=\"black\" cx=\"261.99\" cy=\"-76.48\" rx=\"70.92\" ry=\"37.45\"/>\n<text text-anchor=\"middle\" x=\"261.99\" y=\"-87.78\" font-family=\"Times,serif\" font-size=\"14.00\">np.log(Weight)</text>\n<text text-anchor=\"middle\" x=\"261.99\" y=\"-72.78\" font-family=\"Times,serif\" font-size=\"14.00\">~</text>\n<text text-anchor=\"middle\" x=\"261.99\" y=\"-57.78\" font-family=\"Times,serif\" font-size=\"14.00\">Normal</text>\n</g>\n<!-- np.log(Weight)_sigma&#45;&gt;np.log(Weight) -->\n<g id=\"edge1\" class=\"edge\">\n<title>np.log(Weight)_sigma&#45;&gt;np.log(Weight)</title>\n<path fill=\"none\" stroke=\"black\" d=\"M143.54,-164.65C165.1,-148.78 191.04,-129.69 213.15,-113.42\"/>\n<polygon fill=\"black\" stroke=\"black\" points=\"215.44,-116.09 221.41,-107.34 211.29,-110.45 215.44,-116.09\"/>\n</g>\n<!-- Intercept -->\n<g id=\"node2\" class=\"node\">\n<title>Intercept</title>\n<ellipse fill=\"none\" stroke=\"black\" cx=\"261.99\" cy=\"-198.43\" rx=\"45.92\" ry=\"37.45\"/>\n<text text-anchor=\"middle\" x=\"261.99\" y=\"-209.73\" font-family=\"Times,serif\" font-size=\"14.00\">Intercept</text>\n<text text-anchor=\"middle\" x=\"261.99\" y=\"-194.73\" font-family=\"Times,serif\" font-size=\"14.00\">~</text>\n<text text-anchor=\"middle\" x=\"261.99\" y=\"-179.73\" font-family=\"Times,serif\" font-size=\"14.00\">Normal</text>\n</g>\n<!-- Intercept&#45;&gt;np.log(Weight) -->\n<g id=\"edge3\" class=\"edge\">\n<title>Intercept&#45;&gt;np.log(Weight)</title>\n<path fill=\"none\" stroke=\"black\" d=\"M261.99,-160.79C261.99,-149.38 261.99,-136.65 261.99,-124.63\"/>\n<polygon fill=\"black\" stroke=\"black\" points=\"265.5,-124.31 261.99,-114.31 258.5,-124.31 265.5,-124.31\"/>\n</g>\n<!-- Species -->\n<g id=\"node3\" class=\"node\">\n<title>Species</title>\n<ellipse fill=\"none\" stroke=\"black\" cx=\"367.99\" cy=\"-198.43\" rx=\"41.94\" ry=\"37.45\"/>\n<text text-anchor=\"middle\" x=\"367.99\" y=\"-209.73\" font-family=\"Times,serif\" font-size=\"14.00\">Species</text>\n<text text-anchor=\"middle\" x=\"367.99\" y=\"-194.73\" font-family=\"Times,serif\" font-size=\"14.00\">~</text>\n<text text-anchor=\"middle\" x=\"367.99\" y=\"-179.73\" font-family=\"Times,serif\" font-size=\"14.00\">Normal</text>\n</g>\n<!-- Species&#45;&gt;np.log(Weight) -->\n<g id=\"edge2\" class=\"edge\">\n<title>Species&#45;&gt;np.log(Weight)</title>\n<path fill=\"none\" stroke=\"black\" d=\"M346.15,-166.37C337.48,-154.63 327.16,-141.35 316.99,-129.95 313,-125.47 308.69,-120.93 304.3,-116.48\"/>\n<polygon fill=\"black\" stroke=\"black\" points=\"306.45,-113.68 296.88,-109.12 301.52,-118.65 306.45,-113.68\"/>\n</g>\n</g>\n</svg>\n",
      "text/plain": [
       "<graphviz.graphs.Digraph at 0x7f364b850e20>"
      ]
     },
     "execution_count": 24,
     "metadata": {},
     "output_type": "execute_result"
    }
   ],
   "source": [
    "model = bmb.Model(\"np.log(Weight) ~ 1 + Species\", data)\n",
    "model.build()\n",
    "model.graph()"
   ]
  },
  {
   "cell_type": "markdown",
   "metadata": {},
   "source": [
    "## Fit"
   ]
  },
  {
   "cell_type": "code",
   "execution_count": 25,
   "metadata": {},
   "outputs": [
    {
     "name": "stderr",
     "output_type": "stream",
     "text": [
      "Auto-assigning NUTS sampler...\n",
      "Initializing NUTS using jitter+adapt_diag...\n",
      "Multiprocess sampling (2 chains in 2 jobs)\n",
      "NUTS: [Intercept, Species, np.log(Weight)_sigma]\n"
     ]
    },
    {
     "data": {
      "text/html": [
       "\n",
       "<style>\n",
       "    /* Turns off some styling */\n",
       "    progress {\n",
       "        /* gets rid of default border in Firefox and Opera. */\n",
       "        border: none;\n",
       "        /* Needs to be in here for Safari polyfill so background images work as expected. */\n",
       "        background-size: auto;\n",
       "    }\n",
       "    progress:not([value]), progress:not([value])::-webkit-progress-bar {\n",
       "        background: repeating-linear-gradient(45deg, #7e7e7e, #7e7e7e 10px, #5c5c5c 10px, #5c5c5c 20px);\n",
       "    }\n",
       "    .progress-bar-interrupted, .progress-bar-interrupted::-webkit-progress-bar {\n",
       "        background: #F44336;\n",
       "    }\n",
       "</style>\n"
      ],
      "text/plain": [
       "<IPython.core.display.HTML object>"
      ]
     },
     "metadata": {},
     "output_type": "display_data"
    },
    {
     "data": {
      "text/html": [
       "\n",
       "    <div>\n",
       "      <progress value='4000' class='' max='4000' style='width:300px; height:20px; vertical-align: middle;'></progress>\n",
       "      100.00% [4000/4000 00:03&lt;00:00 Sampling 2 chains, 0 divergences]\n",
       "    </div>\n",
       "    "
      ],
      "text/plain": [
       "<IPython.core.display.HTML object>"
      ]
     },
     "metadata": {},
     "output_type": "display_data"
    },
    {
     "name": "stderr",
     "output_type": "stream",
     "text": [
      "Sampling 2 chains for 1_000 tune and 1_000 draw iterations (2_000 + 2_000 draws total) took 4 seconds.\n"
     ]
    },
    {
     "data": {
      "text/plain": [
       "Intercept               582.890881\n",
       "Species[Parkki]           0.233868\n",
       "Species[Perch]            0.403734\n",
       "Species[Pike]             1.003005\n",
       "Species[Roach]            0.242926\n",
       "Species[Smelt]            0.018170\n",
       "Species[Whitefish]        0.789781\n",
       "np.log(Weight)_sigma      2.155451\n",
       "Name: mean, dtype: float64"
      ]
     },
     "execution_count": 25,
     "metadata": {},
     "output_type": "execute_result"
    }
   ],
   "source": [
    "idata = model.fit()\n",
    "np.exp(az.summary(idata)[\"mean\"])"
   ]
  },
  {
   "cell_type": "markdown",
   "metadata": {},
   "source": [
    "* Runs very well\n",
    "\n",
    "But it opens some questions..."
   ]
  },
  {
   "cell_type": "markdown",
   "metadata": {},
   "source": [
    "## What's going on"
   ]
  },
  {
   "cell_type": "code",
   "execution_count": 26,
   "metadata": {},
   "outputs": [
    {
     "data": {
      "text/plain": [
       "Intercept               582.890881\n",
       "Species[Parkki]           0.233868\n",
       "Species[Perch]            0.403734\n",
       "Species[Pike]             1.003005\n",
       "Species[Roach]            0.242926\n",
       "Species[Smelt]            0.018170\n",
       "Species[Whitefish]        0.789781\n",
       "np.log(Weight)_sigma      2.155451\n",
       "Name: mean, dtype: float64"
      ]
     },
     "execution_count": 26,
     "metadata": {},
     "output_type": "execute_result"
    }
   ],
   "source": [
    "np.exp(az.summary(idata)[\"mean\"])"
   ]
  },
  {
   "cell_type": "markdown",
   "metadata": {},
   "source": [
    "* Why do we have 6 species instead of 7?\n",
    "* What is the meaning of the species parameters?"
   ]
  },
  {
   "cell_type": "markdown",
   "metadata": {},
   "source": [
    "## Zoom into the formula"
   ]
  },
  {
   "cell_type": "markdown",
   "metadata": {},
   "source": [
    "<center>\n",
    "  <img src=\"imgs/formula_1_plus_species.png\" style=\"width:60%\"; />\n",
    "</center>"
   ]
  },
  {
   "cell_type": "markdown",
   "metadata": {},
   "source": [
    "To understand what's going on, and why Bambi is dropping one of the species, we need to understand how the model formula is being mapped onto a statistical model. This is an extremely important part of the course, because it explains complexities of model formulas in deep detail.\n",
    "\n",
    "We can map the formula to math as follows:\n",
    "\n",
    "The expectation of the response variable, in this case, the log weight, is equal to the sum of two components\n",
    "\n",
    "1. An intercept parameter, $\\beta_0$. This is the same for all the fish of all species.\n",
    "1. A Species-specific parameter, $\\beta_{1, j}$. "
   ]
  },
  {
   "cell_type": "markdown",
   "metadata": {},
   "source": [
    "## Zoom into the formula"
   ]
  },
  {
   "cell_type": "markdown",
   "metadata": {},
   "source": [
    "<center>\n",
    "  <img src=\"imgs/formula_1_plus_species_extended.png\" style=\"width:60%\"; />\n",
    "</center>"
   ]
  },
  {
   "cell_type": "markdown",
   "metadata": {},
   "source": [
    "* There are 7 species, so we can imagine we have 7 $\\beta_1$ parameters\n",
    "* The expected value for a given species is the sum of the intercept and the species parameter\n",
    "* Let's see how it works in the following slide"
   ]
  },
  {
   "cell_type": "markdown",
   "metadata": {},
   "source": [
    "## Mapping"
   ]
  },
  {
   "cell_type": "markdown",
   "metadata": {},
   "source": [
    "<center>\n",
    "  <img src=\"imgs/expected_values_1_plus_species.png\" style=\"width:45%\"; />\n",
    "</center>"
   ]
  },
  {
   "cell_type": "markdown",
   "metadata": {},
   "source": [
    "The story goes like...\n",
    "\n",
    "* The mean for the Bream species is the Intercept plus the Bream Beta 1\n",
    "    * Number of things we want to estimate: 1\n",
    "    * Number of parameters: 2\n",
    "        * $\\beta_0$ and $\\beta_{1, 1}$\n",
    "* The mean for the Parkki species is the Intercept plus the Parkki Beta 1\n",
    "    * Number of things we want to estimate: 2\n",
    "    * Number of parameters: 3\n",
    "        * $\\beta_0$, $\\beta_{1, 1}$, and $\\beta_{1, 2}$\n",
    "\n",
    "Until we reach Whitefish. And then **the problem** becomes more evident. We want to estimate 7 means, but we have 8 parameters!\n",
    "\n",
    "* It is a problem with infinite solutions!\n",
    "    * In other words: the model is non-identifiable.\n",
    "* How to make the solution unique? Choose a restriction\n",
    "    * And this creates a new problem!\n",
    "    * Which restriction do we choose?"
   ]
  },
  {
   "cell_type": "markdown",
   "metadata": {},
   "source": [
    "**Animation note:** \n",
    "\n",
    "* Reveal line by line, up to the second or third line. \n",
    "* Have a count of things we want to estimate (the means) and a count of parameters\n",
    "* Then it's going to be very clear that we want to estimate 7 things with 8 parameters."
   ]
  },
  {
   "cell_type": "markdown",
   "metadata": {},
   "source": [
    "## Reference encoding (what Bambi does by default)"
   ]
  },
  {
   "cell_type": "markdown",
   "metadata": {},
   "source": [
    "<center>\n",
    "  <img src=\"imgs/formula_1_plus_species_extended_with_zero.png\" style=\"width:60%\"; />\n",
    "</center>"
   ]
  },
  {
   "cell_type": "markdown",
   "metadata": {},
   "source": [
    "* Dropping a level is one of the many constrains one could apply to a categorical variable to make the model identifiable.\n",
    "* This does not mean the level does not exist anymore.\n",
    "    * It's there' but its coefficient is zero\n",
    "    * And that's why it does not appear in the posterior\n",
    "* By default, Bambi drops the first level of the categorical variable\n",
    "    * In this case, it's Bream."
   ]
  },
  {
   "cell_type": "markdown",
   "metadata": {},
   "source": [
    "## An identified model"
   ]
  },
  {
   "cell_type": "markdown",
   "metadata": {},
   "source": [
    "<center>\n",
    "  <img src=\"imgs/expected_values_1_plus_species_with_zero.png\" style=\"width:45%\"; />\n",
    "</center>"
   ]
  },
  {
   "cell_type": "markdown",
   "metadata": {},
   "source": [
    "* Number of things to estimate: 7\n",
    "* Number of parameters: 7\n",
    "* The problem has a unique solution! That's great!"
   ]
  },
  {
   "cell_type": "markdown",
   "metadata": {},
   "source": [
    "## So what..."
   ]
  },
  {
   "cell_type": "markdown",
   "metadata": {},
   "source": [
    "is the meaning of the parameters for the species?"
   ]
  },
  {
   "cell_type": "markdown",
   "metadata": {},
   "source": [
    "Using the image from the previous slide...\n",
    "\n",
    "* $\\beta_0$ is the mean response for the reference level.\n",
    "* But $\\beta_0$ is also used in the computation of the mean of all the other species.\n",
    "    * This helps us understand what's the meaning of the species parameters\n",
    "    * They **are not** the mean of each species\n",
    "    * But the difference between a given species and the reference species.\n",
    "    * If we want the mean for a given species, we need to do $\\beta_0 + \\beta_{1, j}$\n",
    "    "
   ]
  },
  {
   "cell_type": "markdown",
   "metadata": {},
   "source": [
    "## Another solution\n",
    "\n",
    "* For this particular case, there's another solution we can try\n",
    "* Do we really need an intercept term? What's the purpose?\n",
    "* Solution: Remove the intercept parameter!"
   ]
  },
  {
   "cell_type": "markdown",
   "metadata": {},
   "source": [
    "**Leading question:** If the number of parameters is the same than the number of things we want to estimate. Can't we map parameters and quantities more straightforwardly so parameters have a more interpretable meaning?\n",
    "\n",
    "Also, we didn't have to think about encodings in PyMC... why? (answer: the PyMC model we built is like the one we show next)"
   ]
  },
  {
   "cell_type": "markdown",
   "metadata": {},
   "source": [
    "## Another solution"
   ]
  },
  {
   "cell_type": "code",
   "execution_count": 27,
   "metadata": {},
   "outputs": [
    {
     "data": {
      "image/svg+xml": "<?xml version=\"1.0\" encoding=\"UTF-8\" standalone=\"no\"?>\n<!DOCTYPE svg PUBLIC \"-//W3C//DTD SVG 1.1//EN\"\n \"http://www.w3.org/Graphics/SVG/1.1/DTD/svg11.dtd\">\n<!-- Generated by graphviz version 3.0.0 (20220315.2325)\n -->\n<!-- Pages: 1 -->\n<svg width=\"329pt\" height=\"260pt\"\n viewBox=\"0.00 0.00 328.99 259.91\" xmlns=\"http://www.w3.org/2000/svg\" xmlns:xlink=\"http://www.w3.org/1999/xlink\">\n<g id=\"graph0\" class=\"graph\" transform=\"scale(1 1) rotate(0) translate(4 255.91)\">\n<polygon fill=\"white\" stroke=\"transparent\" points=\"-4,4 -4,-255.91 324.99,-255.91 324.99,4 -4,4\"/>\n<g id=\"clust1\" class=\"cluster\">\n<title>clusterSpecies_dim (7)</title>\n<path fill=\"none\" stroke=\"black\" d=\"M20,-129.95C20,-129.95 102,-129.95 102,-129.95 108,-129.95 114,-135.95 114,-141.95 114,-141.95 114,-231.91 114,-231.91 114,-237.91 108,-243.91 102,-243.91 102,-243.91 20,-243.91 20,-243.91 14,-243.91 8,-237.91 8,-231.91 8,-231.91 8,-141.95 8,-141.95 8,-135.95 14,-129.95 20,-129.95\"/>\n<text text-anchor=\"middle\" x=\"61\" y=\"-137.75\" font-family=\"Times,serif\" font-size=\"14.00\">Species_dim (7)</text>\n</g>\n<g id=\"clust2\" class=\"cluster\">\n<title>cluster158</title>\n<path fill=\"none\" stroke=\"black\" d=\"M41,-8C41,-8 175,-8 175,-8 181,-8 187,-14 187,-20 187,-20 187,-109.95 187,-109.95 187,-115.95 181,-121.95 175,-121.95 175,-121.95 41,-121.95 41,-121.95 35,-121.95 29,-115.95 29,-109.95 29,-109.95 29,-20 29,-20 29,-14 35,-8 41,-8\"/>\n<text text-anchor=\"middle\" x=\"168.5\" y=\"-15.8\" font-family=\"Times,serif\" font-size=\"14.00\">158</text>\n</g>\n<!-- Species -->\n<g id=\"node1\" class=\"node\">\n<title>Species</title>\n<ellipse fill=\"none\" stroke=\"black\" cx=\"63\" cy=\"-198.43\" rx=\"41.94\" ry=\"37.45\"/>\n<text text-anchor=\"middle\" x=\"63\" y=\"-209.73\" font-family=\"Times,serif\" font-size=\"14.00\">Species</text>\n<text text-anchor=\"middle\" x=\"63\" y=\"-194.73\" font-family=\"Times,serif\" font-size=\"14.00\">~</text>\n<text text-anchor=\"middle\" x=\"63\" y=\"-179.73\" font-family=\"Times,serif\" font-size=\"14.00\">Normal</text>\n</g>\n<!-- np.log(Weight) -->\n<g id=\"node3\" class=\"node\">\n<title>np.log(Weight)</title>\n<ellipse fill=\"lightgrey\" stroke=\"black\" cx=\"108\" cy=\"-76.48\" rx=\"70.92\" ry=\"37.45\"/>\n<text text-anchor=\"middle\" x=\"108\" y=\"-87.78\" font-family=\"Times,serif\" font-size=\"14.00\">np.log(Weight)</text>\n<text text-anchor=\"middle\" x=\"108\" y=\"-72.78\" font-family=\"Times,serif\" font-size=\"14.00\">~</text>\n<text text-anchor=\"middle\" x=\"108\" y=\"-57.78\" font-family=\"Times,serif\" font-size=\"14.00\">Normal</text>\n</g>\n<!-- Species&#45;&gt;np.log(Weight) -->\n<g id=\"edge2\" class=\"edge\">\n<title>Species&#45;&gt;np.log(Weight)</title>\n<path fill=\"none\" stroke=\"black\" d=\"M76.02,-162.73C80.69,-150.26 86.04,-136.01 91.01,-122.77\"/>\n<polygon fill=\"black\" stroke=\"black\" points=\"94.31,-123.94 94.54,-113.34 87.75,-121.48 94.31,-123.94\"/>\n</g>\n<!-- np.log(Weight)_sigma -->\n<g id=\"node2\" class=\"node\">\n<title>np.log(Weight)_sigma</title>\n<ellipse fill=\"none\" stroke=\"black\" cx=\"222\" cy=\"-198.43\" rx=\"98.99\" ry=\"37.45\"/>\n<text text-anchor=\"middle\" x=\"222\" y=\"-209.73\" font-family=\"Times,serif\" font-size=\"14.00\">np.log(Weight)_sigma</text>\n<text text-anchor=\"middle\" x=\"222\" y=\"-194.73\" font-family=\"Times,serif\" font-size=\"14.00\">~</text>\n<text text-anchor=\"middle\" x=\"222\" y=\"-179.73\" font-family=\"Times,serif\" font-size=\"14.00\">HalfStudentT</text>\n</g>\n<!-- np.log(Weight)_sigma&#45;&gt;np.log(Weight) -->\n<g id=\"edge1\" class=\"edge\">\n<title>np.log(Weight)_sigma&#45;&gt;np.log(Weight)</title>\n<path fill=\"none\" stroke=\"black\" d=\"M189.03,-162.73C175.7,-148.71 160.23,-132.43 146.4,-117.88\"/>\n<polygon fill=\"black\" stroke=\"black\" points=\"148.76,-115.28 139.33,-110.45 143.68,-120.11 148.76,-115.28\"/>\n</g>\n</g>\n</svg>\n",
      "text/plain": [
       "<graphviz.graphs.Digraph at 0x7f364accf4c0>"
      ]
     },
     "execution_count": 27,
     "metadata": {},
     "output_type": "execute_result"
    }
   ],
   "source": [
    "model = bmb.Model(\"np.log(Weight) ~ 0 + Species\", data)\n",
    "model.build()\n",
    "model.graph()"
   ]
  },
  {
   "cell_type": "code",
   "execution_count": 28,
   "metadata": {},
   "outputs": [
    {
     "name": "stderr",
     "output_type": "stream",
     "text": [
      "Auto-assigning NUTS sampler...\n",
      "Initializing NUTS using jitter+adapt_diag...\n",
      "Multiprocess sampling (2 chains in 2 jobs)\n",
      "NUTS: [Species, np.log(Weight)_sigma]\n"
     ]
    },
    {
     "data": {
      "text/html": [
       "\n",
       "<style>\n",
       "    /* Turns off some styling */\n",
       "    progress {\n",
       "        /* gets rid of default border in Firefox and Opera. */\n",
       "        border: none;\n",
       "        /* Needs to be in here for Safari polyfill so background images work as expected. */\n",
       "        background-size: auto;\n",
       "    }\n",
       "    progress:not([value]), progress:not([value])::-webkit-progress-bar {\n",
       "        background: repeating-linear-gradient(45deg, #7e7e7e, #7e7e7e 10px, #5c5c5c 10px, #5c5c5c 20px);\n",
       "    }\n",
       "    .progress-bar-interrupted, .progress-bar-interrupted::-webkit-progress-bar {\n",
       "        background: #F44336;\n",
       "    }\n",
       "</style>\n"
      ],
      "text/plain": [
       "<IPython.core.display.HTML object>"
      ]
     },
     "metadata": {},
     "output_type": "display_data"
    },
    {
     "data": {
      "text/html": [
       "\n",
       "    <div>\n",
       "      <progress value='4000' class='' max='4000' style='width:300px; height:20px; vertical-align: middle;'></progress>\n",
       "      100.00% [4000/4000 00:02&lt;00:00 Sampling 2 chains, 0 divergences]\n",
       "    </div>\n",
       "    "
      ],
      "text/plain": [
       "<IPython.core.display.HTML object>"
      ]
     },
     "metadata": {},
     "output_type": "display_data"
    },
    {
     "name": "stderr",
     "output_type": "stream",
     "text": [
      "Sampling 2 chains for 1_000 tune and 1_000 draw iterations (2_000 + 2_000 draws total) took 3 seconds.\n"
     ]
    }
   ],
   "source": [
    "idata = model.fit()"
   ]
  },
  {
   "cell_type": "code",
   "execution_count": 29,
   "metadata": {},
   "outputs": [
    {
     "data": {
      "text/plain": [
       "Species[Bream]          580.563974\n",
       "Species[Parkki]         136.592221\n",
       "Species[Perch]          234.393189\n",
       "Species[Pike]           582.308281\n",
       "Species[Roach]          140.611392\n",
       "Species[Smelt]           10.601548\n",
       "Species[Whitefish]      459.436161\n",
       "np.log(Weight)_sigma      2.157608\n",
       "Name: mean, dtype: float64"
      ]
     },
     "execution_count": 29,
     "metadata": {},
     "output_type": "execute_result"
    }
   ],
   "source": [
    "np.exp(az.summary(idata)[\"mean\"])"
   ]
  },
  {
   "cell_type": "markdown",
   "metadata": {},
   "source": [
    "* All the species appear now! \n",
    "* Why?\n",
    "* Let's figure it out!"
   ]
  },
  {
   "cell_type": "markdown",
   "metadata": {},
   "source": [
    "## Another solution\n",
    "\n",
    "<center>\n",
    "  <img src=\"imgs/formula_0_plus_species.png\" style=\"width:60%\"; />\n",
    "</center>"
   ]
  },
  {
   "cell_type": "markdown",
   "metadata": {},
   "source": [
    "## Another solution\n",
    "\n",
    "<center>\n",
    "  <img src=\"imgs/formula_0_plus_species_extended.png\" style=\"width:60%\"; />\n",
    "</center>"
   ]
  },
  {
   "cell_type": "markdown",
   "metadata": {},
   "source": [
    "## Mapping a simpler model"
   ]
  },
  {
   "cell_type": "markdown",
   "metadata": {},
   "source": [
    "<center>\n",
    "  <img src=\"imgs/expected_values_0_plus_species.png\" style=\"width:45%\"; />\n",
    "</center>"
   ]
  },
  {
   "cell_type": "markdown",
   "metadata": {},
   "source": [
    "* 7 quantities to estimate\n",
    "* 7 parameters\n",
    "* There's a unique solution without having to impose a restriction!\n",
    "* Parameters have a one-to-one mapping with quantities of interest\n",
    "    * Each parameter is the mean of the group!\n",
    "    * This is way better!"
   ]
  },
  {
   "cell_type": "markdown",
   "metadata": {},
   "source": [
    "## Section Recap"
   ]
  },
  {
   "cell_type": "markdown",
   "metadata": {},
   "source": [
    "# Section 70: Understanding encodings"
   ]
  },
  {
   "cell_type": "markdown",
   "metadata": {},
   "source": [
    "**NOTE:** I got excited writing and I covered most (if not all) concepts in Section 60. But it looks like a very long section. So maybe it's sensible to split Section 60 in two, and make the second part the new Section 70, showing the model with cell means encoding (y ~ 0 + Species)"
   ]
  },
  {
   "cell_type": "markdown",
   "metadata": {},
   "source": [
    "## Section Recap"
   ]
  },
  {
   "cell_type": "markdown",
   "metadata": {},
   "source": [
    "# Section 80: The full model"
   ]
  },
  {
   "cell_type": "markdown",
   "metadata": {},
   "source": [
    "## Section Recap"
   ]
  },
  {
   "cell_type": "markdown",
   "metadata": {},
   "source": [
    "## Section 90: Predictions"
   ]
  },
  {
   "cell_type": "markdown",
   "metadata": {},
   "source": [
    "## Section Recap"
   ]
  },
  {
   "cell_type": "markdown",
   "metadata": {},
   "source": [
    "## Section 100: End to end analysis with Bambi"
   ]
  },
  {
   "cell_type": "markdown",
   "metadata": {},
   "source": [
    "## Section Recap"
   ]
  },
  {
   "cell_type": "markdown",
   "metadata": {},
   "source": [
    "# Appendix: Priors in Bambi"
   ]
  }
 ],
 "metadata": {
  "kernelspec": {
   "display_name": "Python 3 (ipykernel)",
   "language": "python",
   "name": "python3"
  },
  "language_info": {
   "codemirror_mode": {
    "name": "ipython",
    "version": 3
   },
   "file_extension": ".py",
   "mimetype": "text/x-python",
   "name": "python",
   "nbconvert_exporter": "python",
   "pygments_lexer": "ipython3",
   "version": "3.10.4"
  },
  "vscode": {
   "interpreter": {
    "hash": "96b52e1d985b6c457db8356caeb4e1b2f8f20b187e2d2aa9e312ebd461d4cda7"
   }
  }
 },
 "nbformat": 4,
 "nbformat_minor": 2
}
