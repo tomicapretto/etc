{
 "cells": [
  {
   "cell_type": "markdown",
   "metadata": {},
   "source": [
    "# Regression Refresher Exercises"
   ]
  },
  {
   "cell_type": "markdown",
   "metadata": {},
   "source": [
    "## Exercise 1: Create a basic linear regression model\n",
    "\n",
    "You're asked to build a linear regression model to predict the weight of the fish based on their width. Take the following points into consideration while building your model.\n",
    "\n",
    "* Are transformations needed? Does it make sense to... \n",
    "    * Transform the predictor?\n",
    "    * Transform the response?\n",
    "    * Both?\n",
    "* How many lines of code is it?\n",
    "* How does the fit of this model compares to the fit of the simple model we created in the lesson?\n",
    "\n",
    "In addition, this is the opportunity to be creative. You can try other transformations and custom visualizations as well. \n",
    "\n",
    "Have fun!"
   ]
  },
  {
   "cell_type": "markdown",
   "metadata": {},
   "source": [
    "## Exercise 2: What if we only use the species of fish?\n",
    "\n",
    "In \"Section 70: Accounting for species\" we included the species variable as predictor in a model that already had a numerical predictor. Mathematically, it's the following model\n",
    "\n",
    "$$\n",
    "\\begin{aligned}\n",
    "\\beta_{0,j} & \\sim \\text{Normal}(0, \\sigma_{\\beta_0}) \\\\\n",
    "\\beta_{1,j} & \\sim \\text{Normal}(0, \\sigma_{\\beta_1}) \\\\\n",
    "\\sigma & \\sim \\text{HalfNormal}(\\sigma_\\varepsilon) \\\\\n",
    "\\mu_{i, j} & = \\beta_{0,j} + \\beta_{1,j} \\log{(\\text{Length}_{i, j})} \\\\\n",
    "\\log{(\\text{Weight}_{i,j})} & \\sim \\text{Normal}(\\mu_{i, j}, \\sigma)\n",
    "\\end{aligned}\n",
    "$$\n",
    "\n",
    "for $j=1, \\cdots, 7$.\n",
    "\n",
    "Which in PyMC code is\n",
    "\n",
    "```python\n",
    "log_length = np.log(data[\"Length1\"].to_numpy())\n",
    "log_weight = np.log(data[\"Weight\"].to_numpy())\n",
    "species, species_idx = np.unique(data[\"Species\"], return_inverse=True)\n",
    "coords = {\"species\": species}\n",
    "\n",
    "with pm.Model(coords=coords) as model:\n",
    "    β0 = pm.Normal(\"β0\", mu=0, sigma=5, dims=\"species\")\n",
    "    β1 = pm.Normal(\"β1\", mu=0, sigma=5, dims=\"species\")\n",
    "    sigma = pm.HalfNormal(\"sigma\", sigma=5)\n",
    "    mu = β0[species_idx] + β1[species_idx] * log_length\n",
    "    pm.Normal(\"log(weight)\", mu=mu, sigma=sigma, observed=log_weight)\n",
    "```"
   ]
  },
  {
   "cell_type": "markdown",
   "metadata": {},
   "source": [
    "However, we didn't cover how a model that includes the species, but not the length, would look like. That's what this exercise is about!\n",
    "\n",
    "You have to create a linear regression model using only the species of fish as predictor. Answer the following questions:\n",
    "\n",
    "* Is there a slope parameter? \n",
    "* How many intercept parameters does the model have? Is it one, or more than one? Why?\n",
    "* What is the meaning of the intercept parameter(s)?\n",
    "* Is it necessary to transform the response variable?\n",
    "* What's the difference between this model and the intercept-only model?"
   ]
  },
  {
   "cell_type": "markdown",
   "metadata": {},
   "source": [
    "## Exercise 3: Multiple intercepts, but a single slope\n",
    "\n",
    "The model we created in \"Section 70: Accounting for species\" considers varying intercepts and slopes for every species. It is, every species had its own intercept and its own slope. We did this because we mentioned it was the most flexible approach. However, when we analyzed the posterior estimates we noticed the slope posteriors were all quite similar, meaning regression lines for the species were indeed parallel. Because of this, it makes sense to have a single slope parameter instead of multiple ones, which reduces the complexity of the model a little.\n",
    "\n",
    "The goal of this exercise is to write a regression model with unpooled intercepts, one intercept per species, but a completely pooled slope -- a single, common, slope for all species. Consider the following points when solving the exercise\n",
    "\n",
    "* Perform the same train-test split than in \"Section 80: New fish arrive\". \n",
    "* Build the model with a single slope, but multiple intercepts, using the train dataset.\n",
    "* Predict the weight of the fish in the test set.\n",
    "* Compare the predictions obtained here with the ones obtained in \"Section 80: New fish arrive\"\n",
    "\n",
    "Also, do you notice any difference in sampling speed? Why? Is that what you were expecting?"
   ]
  },
  {
   "cell_type": "markdown",
   "metadata": {},
   "source": [
    "## Exercise 4: Test your skills with a brand new problem!\n",
    "\n",
    "You are the data scientist in a research team at large construction company. You are part of a project testing the strength of concrete samples.\n",
    "\n",
    "Concrete is the most widely used building material in the world. It is a mix of cement and water with gravel and sand. It can also include other materials like fly ash, blast furnace slag, and additives.\n",
    "\n",
    "The compressive strength of concrete is a function of components and age, so your team is testing different combinations of ingredients at different time intervals.\n",
    "\n",
    "The project leader asked you to find a simple way to estimate concrete strength so that it's possible to predict how a particular sample is expected to perform."
   ]
  },
  {
   "cell_type": "markdown",
   "metadata": {},
   "source": [
    "### The data\n",
    "\n",
    "The team has already tested more than a thousand samples ([source](https://archive.ics.uci.edu/ml/datasets/concrete+compressive+strength)) and the following variables were measured and recorded\n",
    "\n",
    "* **cement** - Portland cement in kg/m3\n",
    "* **slag** - Blast furnace slag in kg/m3\n",
    "* **fly_ash** - Fly ash in kg/m3\n",
    "* **water** - Water in liters/m3\n",
    "* **superplasticizer** - Superplasticizer additive in kg/m3\n",
    "* **coarse_aggregate** - Coarse aggregate (gravel) in kg/m3\n",
    "* **fine_aggregate** - Fine aggregate (sand) in kg/m3\n",
    "* **age** - Age of the sample in days\n",
    "* **strength** - Concrete compressive strength in megapascals (MPa)\n",
    "\n",
    "### The challenge\n",
    "\n",
    "This is the initial iteration of the modeling process, so we are not using all the variables in the dataset. You're asked to provide your project leader with a formula that estimates the compressive strength based on **cement** and **water**. \n",
    "\n",
    "Estimate the following regression model:\n",
    "\n",
    "$$\n",
    "\\text{Concrete Strenght} = \\beta_0  + \\beta_1 \\text{cement} + \\beta_2 \\text{water}\n",
    "$$\n",
    "\n",
    "Compute the strength of concrete for all the combinations of the following water and cement values:\n",
    "\n",
    "* Cement: 300, 400, 500 kg/m3\n",
    "* Water: 140, 160, 180 liters/m3"
   ]
  },
  {
   "cell_type": "markdown",
   "metadata": {},
   "source": [
    "### Citations\n",
    "\n",
    "The data for this exercise originally comes from\n",
    "\n",
    "* I-Cheng Yeh, \"Modeling of strength of high performance concrete using artificial neural networks,\" Cement and Concrete Research, Vol. 28, No. 12, pp. 1797-1808 (1998)."
   ]
  }
 ],
 "metadata": {
  "kernelspec": {
   "display_name": "Python 3.10.6 64-bit",
   "language": "python",
   "name": "python3"
  },
  "language_info": {
   "name": "python",
   "version": "3.10.6"
  },
  "orig_nbformat": 4,
  "vscode": {
   "interpreter": {
    "hash": "916dbcbb3f70747c44a77c7bcd40155683ae19c65e1c03b4aa3499c5328201f1"
   }
  }
 },
 "nbformat": 4,
 "nbformat_minor": 2
}
