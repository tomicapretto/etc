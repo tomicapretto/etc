{
 "cells": [
  {
   "cell_type": "markdown",
   "id": "08d140e6",
   "metadata": {},
   "source": [
    "# Link Functions, Logistic Regressions, and Advanced AB Testing\n",
    "**Current Status**: Code grade notebook"
   ]
  },
  {
   "cell_type": "markdown",
   "id": "5d1655b6",
   "metadata": {},
   "source": [
    "**Insert picture of a video game store**"
   ]
  },
  {
   "cell_type": "markdown",
   "id": "1b123461",
   "metadata": {},
   "source": [
    "Congratulations, in this lesson we are all data scientists at a video game shop. Our job is to help sell more video games. You have all sorts of data on customers and your boss wants to know who to market to. But before we get ahead of ourselves lets talk through the over vi"
   ]
  },
  {
   "cell_type": "markdown",
   "id": "d781da00",
   "metadata": {},
   "source": [
    "## Bayesian AB Test Review\n",
    "* Revisit the basic AB test\n",
    "* Estimate probability of a potential customer converting\n",
    "* Interpret the result"
   ]
  },
  {
   "cell_type": "markdown",
   "id": "815c2ce4",
   "metadata": {},
   "source": [
    "## AB Testing Limitations\n",
    "* Try AB Testing with a continuous observed value\n",
    "  * Age of customer\n",
    "* Understand why the \"obvious\" approaches fail"
   ]
  },
  {
   "cell_type": "markdown",
   "id": "4aa71daa",
   "metadata": {},
   "source": [
    "## Generalizing linear models with link functions\n",
    "* Introduce the most important concept of this course  \n",
    "  * Link functions\n",
    "  * Generalized linear models\n",
    "* (Re)introduce Transformations\n"
   ]
  },
  {
   "cell_type": "markdown",
   "id": "a954e1ae",
   "metadata": {},
   "source": [
    "## End to End \"A Infinite Testing\"\n",
    "* Apply our new GLM "
   ]
  },
  {
   "cell_type": "markdown",
   "id": "ad1c441e",
   "metadata": {},
   "source": [
    "## Logistic Regression in the real world\n",
    "* Work through an example with a real world dataset"
   ]
  },
  {
   "cell_type": "code",
   "execution_count": 1,
   "id": "7e81b773",
   "metadata": {},
   "outputs": [
    {
     "ename": "ModuleNotFoundError",
     "evalue": "No module named 'bambi'",
     "output_type": "error",
     "traceback": [
      "\u001b[0;31m---------------------------------------------------------------------------\u001b[0m",
      "\u001b[0;31mModuleNotFoundError\u001b[0m                       Traceback (most recent call last)",
      "Input \u001b[0;32mIn [1]\u001b[0m, in \u001b[0;36m<cell line: 1>\u001b[0;34m()\u001b[0m\n\u001b[0;32m----> 1\u001b[0m \u001b[38;5;28;01mimport\u001b[39;00m \u001b[38;5;21;01mbambi\u001b[39;00m \u001b[38;5;28;01mas\u001b[39;00m \u001b[38;5;21;01mbmb\u001b[39;00m\n\u001b[1;32m      2\u001b[0m \u001b[38;5;28;01mfrom\u001b[39;00m \u001b[38;5;21;01mbambi\u001b[39;00m \u001b[38;5;28;01mimport\u001b[39;00m plots\n\u001b[1;32m      3\u001b[0m \u001b[38;5;28;01mimport\u001b[39;00m \u001b[38;5;21;01marviz\u001b[39;00m \u001b[38;5;28;01mas\u001b[39;00m \u001b[38;5;21;01maz\u001b[39;00m\n",
      "\u001b[0;31mModuleNotFoundError\u001b[0m: No module named 'bambi'"
     ]
    }
   ],
   "source": [
    "import bambi as bmb\n",
    "from bambi import plots\n",
    "import arviz as az\n",
    "from scipy import stats\n",
    "from scipy import special\n",
    "import numpy as np\n",
    "import pandas as pd\n",
    "import matplotlib.pyplot as plt\n",
    "import pymc as pm\n",
    "import seaborn as sns\n",
    "import statsmodels\n",
    "\n",
    "\n",
    "plt.style.use('intuitivebayes.mplstyle')\n",
    "\n",
    "FIGSIZE = (16, 8)\n",
    "rng = np.random.default_rng(0)"
   ]
  },
  {
   "cell_type": "markdown",
   "id": "1c3f789a",
   "metadata": {},
   "source": [
    "# Hidden Section: Generate data\n",
    "**Hello students**\n",
    "\n",
    "Welcome to the hidden section where we generate the data. We've included this in the notebook purposefully so you can use it to aid your learnings. Simulation is an important tool because\n",
    "\n",
    "* During learning you can create new scenarios to have an infinite amount of practice data\n",
    "* During EDA you can use simulation to see what functional\n",
    "* Check if your models are correctly specified, especially complex models, by simulating data and seeing if you can recover the parameters\n",
    "\n"
   ]
  },
  {
   "cell_type": "code",
   "execution_count": null,
   "id": "99dd2b01",
   "metadata": {},
   "outputs": [],
   "source": [
    "np.random.seed(SEED)\n",
    "\n",
    "samples = 1000\n",
    "\n",
    "# 1 indicates likes videogames\n",
    "likes_videogames_bool = stats.bernoulli(p=.5).rvs(samples)\n",
    "like_videogames_categorical = [\"No\" if x == 0 else \"Yes\" for x in likes_videogames_bool]\n",
    "\n",
    "# Age\n",
    "age = stats.randint(low=18, high=60).rvs(samples).astype(float)\n",
    "\n",
    "df = pd.DataFrame({\"age\":age,\n",
    "                   \"likes_videogames\":like_videogames_categorical,\n",
    "                   \"likes_videogames_bool\":likes_videogames_bool}).sort_values(\"age\")\n",
    "df.head()"
   ]
  },
  {
   "cell_type": "markdown",
   "id": "6287c2e4",
   "metadata": {},
   "source": [
    "## Simulate our data\n",
    "Unfortunately there are differing names for the sigmoid function in particular\n",
    "* logistic (or logistic sigmoid)\n",
    "* expit\n",
    "\n",
    "Scipy uses the name expit. Since we use scipy in this course we'll use their naming so you learn both, and also can find the documentation for the code"
   ]
  },
  {
   "cell_type": "code",
   "execution_count": null,
   "id": "55da86ad",
   "metadata": {},
   "outputs": [],
   "source": [
    "special.expit(3)"
   ]
  },
  {
   "cell_type": "code",
   "execution_count": null,
   "id": "9ad840b4",
   "metadata": {
    "scrolled": true
   },
   "outputs": [],
   "source": [
    "# Parameters of model\n",
    "intercept = 1\n",
    "coeff_age = -0.1\n",
    "coeff_likes_videogames = 2\n",
    "\n",
    "# Construction of mean p_convert\n",
    "y = intercept + coeff_age * df[\"age\"] + coeff_likes_videogames * df[\"likes_videogames_bool\"]\n",
    "\n",
    "# Convert the continuous value to 0 1 bounded\n",
    "# This is the link function\n",
    "p_convert = special.expit(y)\n",
    "\n",
    "# Simulate actual conversions. Rememver a prob of .99 doesn't guarantee someone will convert!\n",
    "# To see that look at the graph below\n",
    "converted_bool = stats.bernoulli(p=p_convert).rvs(random_state=rng)\n",
    "\n",
    "df[\"p_convert\"] = p_convert\n",
    "df[\"converted_bool\"] = converted_bool\n",
    "df[\"converted\"] = [{1:\"Yes\", 0:\"No\"}[outcome] for outcome in converted_bool]\n",
    "df.head()"
   ]
  },
  {
   "cell_type": "markdown",
   "id": "dc57dfd9",
   "metadata": {},
   "source": [
    "## Logistic curves"
   ]
  },
  {
   "cell_type": "code",
   "execution_count": null,
   "id": "16455203",
   "metadata": {},
   "outputs": [],
   "source": [
    "fig, ax = plt.subplots(figsize=FIGSIZE)\n",
    "sns.scatterplot(x=\"age\", y=\"p_convert\", hue=\"converted\", data=df, ax=ax, s=200);"
   ]
  },
  {
   "cell_type": "code",
   "execution_count": null,
   "id": "d2eda971",
   "metadata": {},
   "outputs": [],
   "source": [
    "customers_table = (df.drop(\"p_convert\", axis=1).sample(frac=1, random_state=5).reset_index()\n",
    "                          [[\"age\", \"likes_videogames\", \"converted\", \"likes_videogames_bool\", \"converted_bool\"]])\n",
    "customers_table.head(10)"
   ]
  },
  {
   "cell_type": "markdown",
   "id": "44fa8651",
   "metadata": {},
   "source": [
    "## AB Testing at the video game store\n",
    "**Insert picture of video game store"
   ]
  },
  {
   "cell_type": "markdown",
   "id": "dab27a08",
   "metadata": {},
   "source": [
    "# Bayesian AB Test Review\n",
    "What every company wants to know"
   ]
  },
  {
   "cell_type": "markdown",
   "id": "83919bde",
   "metadata": {},
   "source": [
    "## Your bosses as\n",
    "\n",
    "\"Take a look at our website checkout data.I want to know which customers are most likely to convert so we can focus our marketing efforts on them\"\n",
    "\n",
    "\"I feel like age is important\"\n",
    "\n",
    "\"Oh and also I want the results by the end of the day. I have a meeting with the CEO\""
   ]
  },
  {
   "cell_type": "markdown",
   "id": "4b20c6b5",
   "metadata": {},
   "source": [
    "Your boss comes to you with a question, a question that basically every data scientist will get asked in their career. Given a new feature, or some properties about the customer, which are most likely to convert?\n",
    "\n",
    "Now you're stressed out. You need to turn our results fast. Better get to it"
   ]
  },
  {
   "cell_type": "markdown",
   "id": "3cc6afcd",
   "metadata": {},
   "source": [
    "## The data\n",
    "* The age of the customer\n",
    "* Whether they like video games or not\n",
    "* Whether this customer has converted (or not)"
   ]
  },
  {
   "cell_type": "code",
   "execution_count": null,
   "id": "06413a68",
   "metadata": {},
   "outputs": [],
   "source": [
    "customers_table.head(10)"
   ]
  },
  {
   "cell_type": "markdown",
   "id": "7f98018d",
   "metadata": {},
   "source": [
    "So we look at the data we have three things. The age, whether they like video, and whether they converted or not.\n",
    "\n",
    "We can see four cases here\n",
    "The first two are obvious.\n",
    "We have\n",
    "* People that don't like videogames that didn't convert\n",
    "* People that did like videogmes and did convert\n",
    "\n",
    "The second two though are more interesting\n",
    "* Folks that didn't like videogames but did convert\n",
    "* Folks that do like videogames that didn't convert\n"
   ]
  },
  {
   "cell_type": "markdown",
   "id": "fbfd4389",
   "metadata": {},
   "source": [
    "## Summarizing our DF"
   ]
  },
  {
   "cell_type": "code",
   "execution_count": null,
   "id": "e126732e",
   "metadata": {},
   "outputs": [],
   "source": [
    "(df\n",
    "  .groupby(\"likes_videogames\")\n",
    "  .agg(\n",
    "       converted = (\"converted_bool\", sum),\n",
    "        visited = (\"converted_bool\", len)\n",
    "    )\n",
    ")"
   ]
  },
  {
   "cell_type": "markdown",
   "id": "87c9ce52",
   "metadata": {},
   "source": [
    "Because were short on time we start with the obvious thing, which is the boolean. Lets summarize our customer level data to 2x2 grid for simplicity. Just glancing at the rows we can already see a difference."
   ]
  },
  {
   "cell_type": "markdown",
   "id": "4ddecb12",
   "metadata": {},
   "source": [
    "## Quick EDA"
   ]
  },
  {
   "cell_type": "code",
   "execution_count": null,
   "id": "29747375",
   "metadata": {},
   "outputs": [],
   "source": [
    "fig, ax = plt.subplots(figsize=FIGSIZE)\n",
    "ax.set_title(\"Conversions by like_videogame indicator\")\n",
    "ax.set_label(\"Count Conversion\")\n",
    "customers_table_summarized.plot(kind=\"bar\", ax=ax);"
   ]
  },
  {
   "cell_type": "markdown",
   "id": "e3cefa13",
   "metadata": {},
   "source": [
    "We can plot the results as well  just as as double check"
   ]
  },
  {
   "cell_type": "markdown",
   "id": "e9525bde",
   "metadata": {},
   "source": [
    "## AB Comparison in PyMC"
   ]
  },
  {
   "cell_type": "code",
   "execution_count": null,
   "id": "964c4710",
   "metadata": {},
   "outputs": [],
   "source": [
    "visited = customers_table_summarized[\"visited\"].to_numpy()\n",
    "converted = customers_table_summarized[\"converted\"].to_numpy())\n",
    "coords = {\"age_buckets\": customers_table_summarized.index}\n",
    "\n",
    "with pm.Model(coords=coords) as ab_test:\n",
    "\n",
    "    p_convert = pm.Beta(\"p_convert\", 2, 2, dims=\"age_buckets\")\n",
    "    pm.Binomial(\"obs\", p=p_convert, n=visited, observed=converted)\n",
    "\n",
    "    idata_buckets = pm.sample()"
   ]
  },
  {
   "cell_type": "markdown",
   "id": "9ba47cad",
   "metadata": {},
   "source": [
    "We're not quite sure how to AB test in Bambi so for now we just use PyMC. Luckily the model is quite small so its quick to code up. Because we summed Everything here should look familiar to you\n"
   ]
  },
  {
   "cell_type": "markdown",
   "id": "9fc409ed",
   "metadata": {},
   "source": [
    "## Let's check out results"
   ]
  },
  {
   "cell_type": "code",
   "execution_count": null,
   "id": "e64afb69",
   "metadata": {},
   "outputs": [],
   "source": [
    "az.plot_trace(idata_likes_video_games, kind=\"rank_bars\");"
   ]
  },
  {
   "cell_type": "markdown",
   "id": "f01cb996",
   "metadata": {},
   "source": [
    "Our sampling looks good, and we can already see from the KDE estimate that theres a big difference"
   ]
  },
  {
   "cell_type": "markdown",
   "id": "d4f436a2",
   "metadata": {},
   "source": [
    "## Comparing the two groups"
   ]
  },
  {
   "cell_type": "code",
   "execution_count": null,
   "id": "0b6f9e8f",
   "metadata": {},
   "outputs": [],
   "source": [
    "az.plot_forest(idata_likes_video_games);"
   ]
  },
  {
   "cell_type": "markdown",
   "id": "c7e5ed09",
   "metadata": {},
   "source": [
    "Great, were now very sure that there's a difference, but this is very obvious. The subtle issue is age but lets discuss that in the next section"
   ]
  },
  {
   "cell_type": "markdown",
   "id": "b41805c4",
   "metadata": {},
   "source": [
    "## Section Recap\n",
    "* We want to know how conversion probability relates to\n",
    "  * Whether people like video games\n",
    "  * Age\n",
    "* Coded a PPL model there is a difference in p_conversion on just the preference boolean"
   ]
  },
  {
   "cell_type": "markdown",
   "id": "5ac56af2",
   "metadata": {},
   "source": [
    "# Section 30: Regressing by age\n",
    "* Your boss then says, well what about age?\n",
    "  * I'm pretty sure older people are less likely to convert based on my experience\n",
    "* we can see a trend and fit a line to it but that has problem\n",
    "* Prob has to be between 0 or 1, most of these are invalid\n",
    "* But what if we use this function here to squash the input\n",
    "  * This is nothing new! You saw transformations in the last lesson\n",
    "\n",
    "* The solution is a link function\n",
    "  * This is most important part of this course\n",
    "  * Now we're just formalizing it\n",
    "* The link function we'll use here is sigmoid\n",
    "  * Widely used in many fields like Neural nets etc"
   ]
  },
  {
   "cell_type": "markdown",
   "id": "31fb793d",
   "metadata": {},
   "source": [
    "## How do include a continuous attribute into our framework?\n",
    "* Our AB Testing framework was based on a discrete attribute (likes_videogame bool)\n",
    "* How do we extend it?"
   ]
  },
  {
   "cell_type": "markdown",
   "id": "d35cf006",
   "metadata": {},
   "source": [
    "## A, B, C, D, E, .... Comparison\n"
   ]
  },
  {
   "cell_type": "code",
   "execution_count": null,
   "id": "e3fc98fb",
   "metadata": {},
   "outputs": [],
   "source": [
    "customers_table[\"age_buckets\"] = pd.cut(customers_table[\"age\"], bins=5)\n",
    "customers_table"
   ]
  },
  {
   "cell_type": "code",
   "execution_count": null,
   "id": "6a4f3cea",
   "metadata": {},
   "outputs": [],
   "source": [
    "customers_table_summarized = customers_table[[\"age_buckets\", \"converted_bool\"]].groupby(\"age_buckets\").agg([np.sum, len])\n",
    "customers_table_summarized.columns = [\"converted\", \"visited\"]\n",
    "customers_table_summarized"
   ]
  },
  {
   "cell_type": "code",
   "execution_count": null,
   "id": "4f8b561e",
   "metadata": {},
   "outputs": [],
   "source": [
    "customers_table_summarized = (customers_table.groupby(\"age_buckets\")\n",
    "    .agg(\n",
    "        converted = (\"converted_bool\", sum),\n",
    "        visited = (\"converted_bool\", len)\n",
    "    )\n",
    ")"
   ]
  },
  {
   "cell_type": "markdown",
   "id": "be8c854b",
   "metadata": {},
   "source": [
    "## Another quick EDA"
   ]
  },
  {
   "cell_type": "code",
   "execution_count": null,
   "id": "0e6489e0",
   "metadata": {},
   "outputs": [],
   "source": [
    "fig, ax = plt.subplots(figsize=FIGSIZE)\n",
    "ax.set_title(\"Conversions by like_videogame indicator\")\n",
    "ax.set_label(\"Count Conversion\")\n",
    "customers_table_summarized.plot(kind=\"bar\", ax=ax);"
   ]
  },
  {
   "cell_type": "markdown",
   "id": "59829b2d",
   "metadata": {},
   "source": [
    "## Our model"
   ]
  },
  {
   "cell_type": "code",
   "execution_count": null,
   "id": "b50e47f1",
   "metadata": {},
   "outputs": [],
   "source": [
    "coords = {\"age_buckets\": customers_table_summarized.index}\n",
    "\n",
    "with pm.Model(coords=coords) as ab_test:\n",
    "    p_convert = pm.Beta(\"p_convert\", 2, 2, dims=(\"age_buckets\"))\n",
    "    \n",
    "    obs = pm.Binomial(\"obs\", p=p_convert,\n",
    "                      n=customers_table_summarized[\"visited\"].to_numpy(),\n",
    "                      observed=customers_table_summarized[\"converted\"].to_numpy())\n",
    "    \n",
    "    idata_buckets = pm.sample()"
   ]
  },
  {
   "cell_type": "markdown",
   "id": "704da106",
   "metadata": {},
   "source": [
    "* Our AB testing framework only allowed for discrete variables\n",
    "* Maybe we could bucket more"
   ]
  },
  {
   "cell_type": "markdown",
   "id": "56c78795",
   "metadata": {},
   "source": [
    "## Checking our inference"
   ]
  },
  {
   "cell_type": "code",
   "execution_count": null,
   "id": "da320c1d",
   "metadata": {},
   "outputs": [],
   "source": [
    "az.plot_trace(idata_buckets);"
   ]
  },
  {
   "cell_type": "markdown",
   "id": "29f5ea2f",
   "metadata": {},
   "source": [
    "Now we can see something going on, but this doesn't exactly answer our question of how age relates to conversion directly. We can compare group to group but our boss specifically wants to know exactly how the percentage conversion drops by age."
   ]
  },
  {
   "cell_type": "markdown",
   "id": "36c6a5c3",
   "metadata": {},
   "source": [
    "## But wait we know regression!"
   ]
  },
  {
   "cell_type": "code",
   "execution_count": null,
   "id": "023b2992",
   "metadata": {},
   "outputs": [],
   "source": [
    "converted_bool = df[\"converted_bool\"].to_numpy()\n",
    "\n",
    "with pm.Model() as ab_test:\n",
    "    sigma = pm.Normal(\"p_convert\", .001)\n",
    "    β = pm.Normal(\"β\", 0, .001, size=2)\n",
    "    \n",
    "    mu = pm.Deterministic(\"p\", β[0] + β[1]*df[\"age\"].to_numpy())\n",
    "    \n",
    "    # Switch to Bernoulli because we're predicting individual observations\n",
    "    obs = pm.Bernoulli(\"obs\", p=mu, observed=converted_bool)\n"
   ]
  },
  {
   "cell_type": "markdown",
   "id": "0b40ae18",
   "metadata": {},
   "source": [
    "If we take this to the logical extreme we could  plot conversion by age, but since conversion is just 0 or 1 we get this plot. How do we get a covariate for slope?\n",
    "\n",
    "Note, potentially call this out as a difference between prior lessons to ensure its a learning point"
   ]
  },
  {
   "cell_type": "markdown",
   "id": "5f83eaae",
   "metadata": {},
   "source": [
    "## Lets try sampling"
   ]
  },
  {
   "cell_type": "code",
   "execution_count": null,
   "id": "01eb411c",
   "metadata": {},
   "outputs": [],
   "source": [
    "with ab_test:\n",
    "    idata_age_reg = pm.sample()"
   ]
  },
  {
   "cell_type": "markdown",
   "id": "70d04b60",
   "metadata": {},
   "source": [
    "Ugh we're running into sampler issues. Looking at the error we see some things about negative p_convert but we don't ahve time for this"
   ]
  },
  {
   "cell_type": "markdown",
   "id": "e5464203",
   "metadata": {},
   "source": [
    "## Forget Bayes. Go back to OLS"
   ]
  },
  {
   "cell_type": "code",
   "execution_count": null,
   "id": "df0f8d0f",
   "metadata": {},
   "outputs": [],
   "source": [
    "import statsmodels.formula.api as smf\n",
    "results = smf.ols('converted_bool ~ age', data=df).fit()\n",
    "results.params"
   ]
  },
  {
   "cell_type": "markdown",
   "id": "429551b4",
   "metadata": {},
   "source": [
    "We obviously see a trend related to age though and we want to use regression. Our bayesian regression isn't working so lets just go to statsmodel and use ordinary least squares. A\n",
    "\n",
    "And look we immediately get an answer. The probability of conversin drop 1% for every year \n",
    "Check it out, now we know the prob of conversion across our observed vals. \n",
    "\n",
    "Lets go tell our boss!"
   ]
  },
  {
   "cell_type": "markdown",
   "id": "b6ff07eb",
   "metadata": {},
   "source": [
    "## Issues when we look at our result"
   ]
  },
  {
   "cell_type": "code",
   "execution_count": null,
   "id": "3145fb6c",
   "metadata": {},
   "outputs": [],
   "source": [
    "fig, ax = plt.subplots(1)\n",
    "\n",
    "converted_filter = df[\"converted_bool\"].astype(bool)\n",
    "# Add some jitter\n",
    "\n",
    "jittered_y = df[\"converted_bool\"] + stats.norm(scale=.05).rvs(df.shape[0])\n",
    "\n",
    "alpha = .3\n",
    "ax.scatter(df.loc[converted_filter, \"age\"],\n",
    "          jittered_y[converted_filter],\n",
    "          label=\"Converted\",\n",
    "          alpha=alpha)\n",
    "\n",
    "ax.scatter( df.loc[~converted_filter, \"age\"],\n",
    "           jittered_y[~converted_filter],\n",
    "           label=\"Not Converted\",\n",
    "           alpha=alpha)\n",
    "\n",
    "\n",
    "age_x = np.linspace(df[\"age\"].min(), 80, 1000 )\n",
    "y_pred = results.params[0] + results.params[1]*age_x\n",
    "ax.plot(age_x, y_pred)\n",
    "ax.legend()"
   ]
  },
  {
   "cell_type": "markdown",
   "id": "601b7997",
   "metadata": {},
   "source": [
    "But before we do lets just double check out plot. \n",
    "Negative probability? This is why our sampler was failing, it was telling us something\n",
    "Oh man if we had reported these results we would have been fired\n",
    "But look at the age of 60, something seems off?\n"
   ]
  },
  {
   "cell_type": "markdown",
   "id": "75b89486",
   "metadata": {},
   "source": [
    "## Section Recap\n",
    "* Discrete AB testing is quite straightforward\n",
    "* Run into issues when we're trying to estimate prob against a continuous variable\n",
    "  * Discretizing isn't super usfeul\n",
    "* Regression against average has\n",
    "  * Non continuous\n",
    "  * Probability can go over 0 and 1 which is impossible\n",
    "* A big advantage of modern Bayesian frameworks is they \"tell you\" when something is wrong\n",
    "  *  The standard solvers in most other tools don't tell you when something is wrong!\n",
    "  * They just give you an answer"
   ]
  },
  {
   "cell_type": "markdown",
   "id": "2d79734b",
   "metadata": {},
   "source": [
    "# Section 40: Link Functions\n"
   ]
  },
  {
   "cell_type": "markdown",
   "id": "0f577569",
   "metadata": {},
   "source": [
    "## Statistics and math review\n",
    "* Probability is 0 1 bounded\n",
    "* Linear regression is not"
   ]
  },
  {
   "cell_type": "markdown",
   "id": "a932293b",
   "metadata": {},
   "source": [
    "Linear regression will \n",
    "What if we can remap our observed to be between 0 and 1?\n",
    "\n",
    "\n",
    "Turns out we you already know how. Remember our log transformation in the last lesson? What if we can apply a transformation?"
   ]
  },
  {
   "cell_type": "markdown",
   "id": "a6fae345",
   "metadata": {},
   "source": [
    "## Sigmoid transformation\n",
    "$$ \\large\n",
    "S(x) = \\frac{1}{1 + e^{-x}} = \\frac{e^x}{e^x + 1}\n",
    "$$\n",
    "\n",
    "Note this is also called\n",
    "* Logistic \n",
    "* Expit \n",
    "* Logistic Sigmoid"
   ]
  },
  {
   "cell_type": "markdown",
   "id": "76688c91",
   "metadata": {},
   "source": [
    "Here's what it looks like in math"
   ]
  },
  {
   "cell_type": "markdown",
   "id": "dfcfb9bb",
   "metadata": {},
   "source": [
    "## Plotting the Sigmoid function\n",
    "**Note** We will switch this to an animation to make it more clear what's happening"
   ]
  },
  {
   "cell_type": "code",
   "execution_count": null,
   "id": "29225552",
   "metadata": {},
   "outputs": [],
   "source": [
    "x = np.linspace(-10, 10, 1000)\n",
    "y = x\n",
    "transformed_y = 1/(1+np.exp(-x))"
   ]
  },
  {
   "cell_type": "code",
   "execution_count": null,
   "id": "2f89ba2d",
   "metadata": {},
   "outputs": [],
   "source": [
    "fig, axes = plt.subplots(1,2, figsize=(25,8))\n",
    "axes[0].plot(x, y)\n",
    "axes[1].plot(x, transformed_y)"
   ]
  },
  {
   "cell_type": "markdown",
   "id": "51cbb7a0",
   "metadata": {},
   "source": [
    "And here's what it looks like in code"
   ]
  },
  {
   "cell_type": "markdown",
   "id": "53bcaaa0",
   "metadata": {},
   "source": [
    "## Logistic Regression in PyMC"
   ]
  },
  {
   "cell_type": "code",
   "execution_count": null,
   "id": "9937ad3f",
   "metadata": {},
   "outputs": [],
   "source": [
    "converted_bool = df[\"converted_bool\"].to_numpy()\n",
    "\n",
    "with pm.Model() as ab_test:\n",
    "    \n",
    "    # This is all the same linear regression as before\n",
    "    sigma = pm.Normal(\"p_convert\", 1)\n",
    "    β = pm.Normal(\"β\", 0, 1, size=2)\n",
    "    \n",
    "    mu = pm.Deterministic(\"mu\", β[0] + β[1]*df[\"age\"])\n",
    "    \n",
    "    # Our is our new sigmoid transoformation\n",
    "    p = pm.Deterministic(\"p\", pm.math.sigmoid(mu))\n",
    "    \n",
    "    # Switch to Bernoulli because we're predicting individual observations\n",
    "    obs = pm.Bernoulli(\"obs\", p=p, observed=converted_bool)\n",
    "    idata_sigmoid = pm.sample()"
   ]
  },
  {
   "cell_type": "markdown",
   "id": "fb705030",
   "metadata": {},
   "source": [
    "You might notice we used the beta symbol here"
   ]
  },
  {
   "cell_type": "code",
   "execution_count": null,
   "id": "1bf24f28",
   "metadata": {},
   "outputs": [],
   "source": [
    "az.summary(idata_sigmoid, var_names=[\"β\"])"
   ]
  },
  {
   "cell_type": "code",
   "execution_count": null,
   "id": "2676d8a1",
   "metadata": {},
   "outputs": [],
   "source": [
    "az.plot_trace(idata_sigmoid, var_names=[\"β\"], compact=False, kind=\"rank_bars\");"
   ]
  },
  {
   "cell_type": "markdown",
   "id": "d903d2b7",
   "metadata": {},
   "source": [
    "## This is a generalized linear model\n",
    "$$\n",
    "g(\\mu_i) = \\eta_i = \\mathbf{x}_i^T\\mathbf{\\beta}\n",
    "$$"
   ]
  },
  {
   "cell_type": "markdown",
   "id": "9ad63cb5",
   "metadata": {},
   "source": [
    "We took an ordinary linear regression, and how we've generalized it. Its typically notated as this\n",
    "\n",
    "G is the the **link function** in this case sigmoid. You're going to see other versions of this in the upcoming lesson"
   ]
  },
  {
   "cell_type": "markdown",
   "id": "b3372e4e",
   "metadata": {},
   "source": [
    "## Link functions in Bambi"
   ]
  },
  {
   "cell_type": "code",
   "execution_count": null,
   "id": "108f3744",
   "metadata": {},
   "outputs": [],
   "source": [
    "model = bmb.Model(\"converted[Yes] ~ age\", df, family=\"bernoulli\")\n",
    "idata = model.fit(draws=2000, target_accept=0.85, random_seed=SEED)\n",
    "az.summary(idata)"
   ]
  },
  {
   "cell_type": "markdown",
   "id": "ca355cbb",
   "metadata": {},
   "source": [
    "Turns out we can \n",
    "Look we get the same answer as the PyMC Model!"
   ]
  },
  {
   "cell_type": "markdown",
   "id": "47600aca",
   "metadata": {},
   "source": [
    "## Section Recap\n",
    "* Transformations are the tool that turns linear regression into generalized linear equations\n",
    "* Typically these are referred to as link functions "
   ]
  },
  {
   "cell_type": "markdown",
   "id": "b185ae33",
   "metadata": {},
   "source": [
    "# End to End Analysis with Bambi and A infinite testing\n",
    "Lets go through the Bayesian workflow step by step to ensure we have a reliable result for out boss"
   ]
  },
  {
   "cell_type": "markdown",
   "id": "0be56eff",
   "metadata": {},
   "source": [
    "## Single bool covariate regression"
   ]
  },
  {
   "cell_type": "code",
   "execution_count": null,
   "id": "88fad139",
   "metadata": {},
   "outputs": [],
   "source": [
    "model = bmb.Model(\"converted['Yes'] ~ likes_videogames+0\", df, link=\"logit\", family=\"bernoulli\")\n",
    "idata = model.fit(draws=2000, target_accept=0.85, random_seed=SEED)\n",
    "az.summary(idata)"
   ]
  },
  {
   "cell_type": "code",
   "execution_count": null,
   "id": "76e7fc02",
   "metadata": {},
   "outputs": [],
   "source": [
    "special.expit(az.summary(idata)[\"mean\"])"
   ]
  },
  {
   "cell_type": "markdown",
   "id": "b47f40a1",
   "metadata": {},
   "source": [
    "Lets start with the easiest thing. Now check this out. Do these numbers look familiar? that's because its the exact same thing as our first AB Test how cool is that? When we transform the means we end up with our original probabilities"
   ]
  },
  {
   "cell_type": "markdown",
   "id": "e824c273",
   "metadata": {},
   "source": [
    "## Lets fit on age and A infinite testing"
   ]
  },
  {
   "cell_type": "code",
   "execution_count": null,
   "id": "8b44029b",
   "metadata": {},
   "outputs": [],
   "source": [
    "model = bmb.Model(\"converted['Yes'] ~ age\", df, link=\"logit\", family=\"bernoulli\")\n",
    "idata = model.fit(draws=2000, target_accept=0.85, random_seed=SEED)\n",
    "az.summary(idata)"
   ]
  },
  {
   "cell_type": "code",
   "execution_count": null,
   "id": "45b2c46b",
   "metadata": {},
   "outputs": [],
   "source": [
    "fig, ax = plt.subplots(figsize=(9, 6))\n",
    "plot_cap(model, idata, [\"age\"], ax=ax)\n",
    "ax.set(ylabel=\"Conversion probability\");"
   ]
  },
  {
   "cell_type": "markdown",
   "id": "07edde4e",
   "metadata": {},
   "source": [
    "Check this out! We have the answer for our boss. As age increase prob decrease by this much.\n",
    "\n",
    "This is basically A infinite testing because we have the p value as an INFINITE amount of ages along the x range. How freaking cool is that?"
   ]
  },
  {
   "cell_type": "markdown",
   "id": "250c521c",
   "metadata": {},
   "source": [
    "## Lets fit on age and likes videogames\n"
   ]
  },
  {
   "cell_type": "code",
   "execution_count": null,
   "id": "d2d9f878",
   "metadata": {},
   "outputs": [],
   "source": [
    "model = bmb.Model(\"converted['Yes'] ~ age + likes_videogames\", df, link=\"logit\", family=\"bernoulli\")\n",
    "idata = model.fit(draws=2000, target_accept=0.85, random_seed=SEED)\n",
    "az.summary(idata)"
   ]
  },
  {
   "cell_type": "code",
   "execution_count": null,
   "id": "5fd96188",
   "metadata": {},
   "outputs": [],
   "source": [
    "# # Testing an intercept only fit\n",
    "# model_age_videogames = bmb.Model(\"converted['Yes'] ~ age + likes_videogames + 0\", df, link=\"logit\", family=\"bernoulli\")\n",
    "# idata_age_videogames = model_age_videogames.fit(draws=2000, target_accept=0.85, random_seed=SEED)\n",
    "# az.summary(idata_age_videogames)"
   ]
  },
  {
   "cell_type": "code",
   "execution_count": null,
   "id": "82605b7d",
   "metadata": {},
   "outputs": [],
   "source": [
    "fig, ax = plt.subplots(figsize=(9, 6))\n",
    "plots.plot_cap(model_age_videogames, idata_age_videogames, [\"age\", \"likes_videogames\"], ax=ax);"
   ]
  },
  {
   "cell_type": "markdown",
   "id": "5ca6b810",
   "metadata": {},
   "source": [
    "Holy crap guys this result is truly mindblowing. Not only do we know the prob at every age. When we control for whether people like videogames or not we see a totally different trend.\n",
    "\n",
    "Now when you go talk to your boss you not only provided the age insight, but you can recommend who to target per age and preference. And with this intuitive plot your boss is sure to give you a rise!"
   ]
  },
  {
   "cell_type": "markdown",
   "id": "701580d3",
   "metadata": {},
   "source": [
    "## Making a prediction"
   ]
  },
  {
   "cell_type": "code",
   "execution_count": null,
   "id": "1c04e3d8",
   "metadata": {},
   "outputs": [],
   "source": [
    "df_predict = pd.DataFrame({\"age\": [20, 30, 40], \"likes_videogames\":[\"No\",\"Yes\", \"Yes\"]})\n",
    "predictions = model.predict(idata, data=df_predict, inplace=False, kind=\"pps\")"
   ]
  },
  {
   "cell_type": "code",
   "execution_count": null,
   "id": "c591bab0",
   "metadata": {},
   "outputs": [],
   "source": [
    "predictions.posterior_predictive.mean([\"chain\", \"draw\"])[\"converted\"]"
   ]
  },
  {
   "cell_type": "markdown",
   "id": "874fb300",
   "metadata": {},
   "source": [
    "Check this out\n",
    "Turns out a 20 year old will convert at 20 percent rate, even if they dont like videogames, which is less than 30 year old that does like video games, and about the same as a 40 year old that likes videogames!\n",
    "\n",
    "Now if any new customer comes in we can predict their prob conversion"
   ]
  },
  {
   "cell_type": "markdown",
   "id": "5dd414a3",
   "metadata": {},
   "source": [
    "## Section Recap\n",
    "* AB testing is equivalent to categorical regression\n",
    "* plot_cap helps us easily visualize continuous results\n",
    "  * Gives us the answer for probability of conversion with age\n",
    "* Since this is regression we can even control for preference quite easily\n",
    "  * Can easily discern the differing trend in conversion between the two groups\n",
    "* Predictions are quite easy as well!"
   ]
  },
  {
   "cell_type": "markdown",
   "id": "84515cee",
   "metadata": {},
   "source": [
    "# Logistic Regression in practice\n",
    "**Insert applied example here**"
   ]
  },
  {
   "cell_type": "markdown",
   "id": "3a175115",
   "metadata": {},
   "source": [
    "The ANES is a nationally representative, cross-sectional survey used extensively in political science. This is a dataset from the 2016 pilot study, consisting of responses from 1200 voting-age U.S. citizens.\n",
    "\n",
    "https://electionstudies.org/data-center/anes-2016-pilot-study/"
   ]
  },
  {
   "cell_type": "code",
   "execution_count": null,
   "id": "133ea4aa",
   "metadata": {},
   "outputs": [],
   "source": [
    "data = bmb.load_data(\"ANES\")\n",
    "data.shape"
   ]
  },
  {
   "cell_type": "code",
   "execution_count": null,
   "id": "0a4de1f6",
   "metadata": {},
   "outputs": [],
   "source": [
    "data[\"vote\"].value_counts()"
   ]
  },
  {
   "cell_type": "code",
   "execution_count": null,
   "id": "7fde1d0f",
   "metadata": {},
   "outputs": [],
   "source": [
    "data = data.loc[data[\"vote\"].isin([\"clinton\", \"trump\"]), :]\n",
    "print(data.shape)\n",
    "data.head()"
   ]
  },
  {
   "cell_type": "code",
   "execution_count": null,
   "id": "1dcfe515",
   "metadata": {},
   "outputs": [],
   "source": [
    "model_age = bmb.Model(\"vote[clinton] ~ party_id + scale(age)\", data, family=\"bernoulli\")\n",
    "inf_data_age = model_age.fit(draws = 2000, tune = 2000)"
   ]
  },
  {
   "cell_type": "code",
   "execution_count": null,
   "id": "3e65ef01",
   "metadata": {},
   "outputs": [],
   "source": [
    "model_age.graph()"
   ]
  },
  {
   "cell_type": "code",
   "execution_count": null,
   "id": "3c5cf8a4",
   "metadata": {},
   "outputs": [],
   "source": [
    "az.summary(inf_data_age, var_names=[\"party_id\", \"scale(age)\"])"
   ]
  },
  {
   "cell_type": "markdown",
   "id": "c5124b1a",
   "metadata": {},
   "source": [
    "## Create a new dataset with age going from 18 to 90"
   ]
  },
  {
   "cell_type": "code",
   "execution_count": null,
   "id": "32f2bd9d",
   "metadata": {},
   "outputs": [],
   "source": [
    "age = np.arange(18, 91)\n",
    "parties = [\"democrat\", \"republican\", \"independent\"]\n",
    "new_data = pd.DataFrame({\n",
    "    \"age\": np.tile(age, 3),\n",
    "    \"party_id\": np.repeat(parties, len(age))\n",
    "})\n",
    "new_data"
   ]
  },
  {
   "cell_type": "markdown",
   "id": "2fec7f01",
   "metadata": {},
   "source": [
    "## Define Prediction Machine"
   ]
  },
  {
   "cell_type": "code",
   "execution_count": null,
   "id": "0735e023",
   "metadata": {},
   "outputs": [],
   "source": [
    "def make_vote_predictions(model, idata):\n",
    "\n",
    "    # Predict mean of P(vote = clinton | age) by plugging in new data\n",
    "    model.predict(idata, data=new_data)\n",
    "\n",
    "    # Compute mean across chains\n",
    "    posterior_mean = idata.posterior[\"vote_mean\"].values.mean(0)\n",
    "\n",
    "    # Select 500 draws\n",
    "    # Transpose to get an array of shape (219, 500)\n",
    "    posterior_mean = posterior_mean[:500, :].T\n",
    "    return posterior_mean\n",
    "\n",
    "posterior_mean = make_vote_predictions(model_age, inf_data_age)"
   ]
  },
  {
   "cell_type": "code",
   "execution_count": null,
   "id": "dbdbd692",
   "metadata": {},
   "outputs": [],
   "source": [
    "from matplotlib.lines import Line2D\n",
    "\n",
    "\n",
    "def plot_vote_predictions(posterior_mean, ax):\n",
    "\n",
    "    for i, party in enumerate(parties):\n",
    "        idx = new_data.index[new_data[\"party_id\"] == party]\n",
    "        ax.plot(age, posterior_mean[idx], alpha=0.05, color=f\"C{i}\")\n",
    "\n",
    "    ax.axhline(y = 0, ls=\"--\", color=\"#a3a3a3\", zorder=1)\n",
    "    ax.axhline(y = 1, ls=\"--\", color=\"#a3a3a3\", zorder=1)\n",
    "    ax.set_ylabel(\"P(vote=clinton | age)\")\n",
    "    ax.set_xlabel(\"Age\", fontsize=15)\n",
    "    ax.set_ylim(-0.025, 1.025)\n",
    "    ax.set_xlim(18, 90)\n",
    "\n",
    "    fig.subplots_adjust(top=0.925, left=0.1, right=0.95, bottom=0.1)\n",
    "\n",
    "    labels = [party.capitalize() for party in parties]\n",
    "\n",
    "    # Create legend\n",
    "    handles = [\n",
    "        Line2D(\n",
    "            [0], [0], label=label, marker=\"o\", color=\"None\", \n",
    "            markerfacecolor=f\"C{i}\", markeredgewidth=0, markersize=10\n",
    "        )\n",
    "        for i, label in enumerate(labels)\n",
    "    ]\n",
    "\n",
    "    # Add legend\n",
    "    x_center = 0.1 + (0.95 - 0.1) / 2 \n",
    "    legend = fig.legend(\n",
    "        handles=handles, \n",
    "        ncol=5,\n",
    "        loc=\"lower center\",\n",
    "        bbox_to_anchor=(x_center, 0.925),\n",
    "        handletextpad=0.2,\n",
    "        columnspacing=2,\n",
    "        fontsize=11,\n",
    "    )"
   ]
  },
  {
   "cell_type": "code",
   "execution_count": null,
   "id": "efca6229",
   "metadata": {},
   "outputs": [],
   "source": [
    "fig, ax = plt.subplots(figsize=(12, 5))\n",
    "\n",
    "posterior_mean = make_vote_predictions(model_age, inf_data_age)\n",
    "plot_vote_predictions(posterior_mean, ax=ax)"
   ]
  },
  {
   "cell_type": "markdown",
   "id": "ee14f9f4",
   "metadata": {},
   "source": [
    "## Voting Age Interaction Model"
   ]
  },
  {
   "cell_type": "code",
   "execution_count": null,
   "id": "120949ee",
   "metadata": {},
   "outputs": [],
   "source": [
    "model_age_interaction = bmb.Model(\"vote[clinton] ~ party_id + party_id:scale(age)\", data, family=\"bernoulli\")\n",
    "idata_age_interaction = model_age_interaction.fit(draws = 2000, tune = 2000)"
   ]
  },
  {
   "cell_type": "code",
   "execution_count": null,
   "id": "818c54e7",
   "metadata": {},
   "outputs": [],
   "source": [
    "model_age_interaction.graph()"
   ]
  },
  {
   "cell_type": "code",
   "execution_count": null,
   "id": "299c5ff1",
   "metadata": {},
   "outputs": [],
   "source": [
    "az.summary(idata_age_interaction, var_names=[\"party_id\", \"party_id:scale(age)\"])"
   ]
  },
  {
   "cell_type": "code",
   "execution_count": null,
   "id": "5346bcdd",
   "metadata": {},
   "outputs": [],
   "source": [
    "fig, ax = plt.subplots(figsize=(12, 5))\n",
    "\n",
    "posterior_mean = make_vote_predictions(model_age_interaction, idata_age_interaction)\n",
    "plot_vote_predictions(posterior_mean, ax=ax)"
   ]
  },
  {
   "cell_type": "markdown",
   "id": "e2f33918",
   "metadata": {},
   "source": [
    "## Section Recap\n",
    "* Logistic Regression can help us understand voter preferences\n",
    "* Interaction effects help us answer different questions\n",
    "  * How does propensity to vote for one candidate or another?\n",
    "  * How does it change per subgroup\n",
    "* Plotting many posterior predictive samples helps us understand varability"
   ]
  },
  {
   "cell_type": "markdown",
   "id": "d0ddd978",
   "metadata": {},
   "source": [
    "# Lesson Recap\n"
   ]
  },
  {
   "cell_type": "markdown",
   "id": "bdb69fb6",
   "metadata": {},
   "source": [
    "# Appendix Section: Binomial Model\n",
    "Reviewer's note: This section would be recorded\n",
    "If we'd rather prefer binomial heres how todo it."
   ]
  },
  {
   "cell_type": "markdown",
   "id": "64b16425",
   "metadata": {},
   "source": [
    "## Original DataFrame at individual level"
   ]
  },
  {
   "cell_type": "code",
   "execution_count": null,
   "id": "ec691f60",
   "metadata": {},
   "outputs": [],
   "source": [
    "df"
   ]
  },
  {
   "cell_type": "markdown",
   "id": "89c5e456",
   "metadata": {},
   "source": [
    "## Aggregate to (Converted, Count)"
   ]
  },
  {
   "cell_type": "code",
   "execution_count": null,
   "id": "0f19b9b8",
   "metadata": {},
   "outputs": [],
   "source": [
    "binom_df = df[[\"likes_videogames\", \"age\", \"converted_bool\"]].groupby([\"likes_videogames\", \"age\"]).agg([np.sum, len])\n",
    "binom_df.columns = [\"Converted\", \"Count\"]\n",
    "\n",
    "binom_df  = binom_df.reset_index()\n",
    "binom_df"
   ]
  },
  {
   "cell_type": "code",
   "execution_count": null,
   "id": "a8fe92cf",
   "metadata": {},
   "outputs": [],
   "source": [
    "conversion_model = bmb.Model(\"p(Converted, Count) ~ likes_videogames + age\", binom_df, family=\"binomial\")\n",
    "conversion_model_fitted = conversion_model.fit(draws=2000, target_accept=0.85, random_seed=SEED)"
   ]
  },
  {
   "cell_type": "code",
   "execution_count": null,
   "id": "efc71ef7",
   "metadata": {},
   "outputs": [],
   "source": [
    "az.summary(conversion_model_fitted)"
   ]
  },
  {
   "cell_type": "code",
   "execution_count": null,
   "id": "7a892f1e",
   "metadata": {},
   "outputs": [],
   "source": [
    "conversion_model = bmb.Model(\"p(Converted, Count) ~ likes_videogames + age\", binom_df, family=\"binomial\")\n",
    "conversion_model_fitted = conversion_model.fit(draws=2000, target_accept=0.85, random_seed=SEED)"
   ]
  }
 ],
 "metadata": {
  "kernelspec": {
   "display_name": "Python 3 (ipykernel)",
   "language": "python",
   "name": "python3"
  },
  "language_info": {
   "codemirror_mode": {
    "name": "ipython",
    "version": 3
   },
   "file_extension": ".py",
   "mimetype": "text/x-python",
   "name": "python",
   "nbconvert_exporter": "python",
   "pygments_lexer": "ipython3",
   "version": "3.9.13"
  },
  "vscode": {
   "interpreter": {
    "hash": "894fb80d761728a628e76ec26c428594c877627242f4f1d028aa39863aa2798a"
   }
  }
 },
 "nbformat": 4,
 "nbformat_minor": 5
}
