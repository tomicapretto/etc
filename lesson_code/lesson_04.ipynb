{
 "cells": [
  {
   "cell_type": "markdown",
   "id": "08d140e6",
   "metadata": {},
   "source": [
    "# Link Functions, Logistic Regressions, and Advanced AB Testing\n",
    "**Current Status**: Code grade notebook"
   ]
  },
  {
   "cell_type": "markdown",
   "id": "5d1655b6",
   "metadata": {},
   "source": [
    "**Insert picture of a video game store**"
   ]
  },
  {
   "cell_type": "markdown",
   "id": "1b123461",
   "metadata": {},
   "source": [
    "Congratulations, in this lesson we are all data scientists at a video game shop. Our job is to help sell more video games. You have all sorts of data on customers and your boss wants to know who to market to. But before we get ahead of ourselves lets talk through the over vi"
   ]
  },
  {
   "cell_type": "markdown",
   "id": "d781da00",
   "metadata": {},
   "source": [
    "## Bayesian AB Test Review\n",
    "* Revisit the basic AB test\n",
    "* Estimate probability of a potential customer converting\n",
    "* Interpret the result"
   ]
  },
  {
   "cell_type": "markdown",
   "id": "815c2ce4",
   "metadata": {},
   "source": [
    "## AB Testing Limitations\n",
    "* Try AB Testing with a continuous observed value\n",
    "  * Age of customer\n",
    "* Understand why the \"obvious\" approaches fail"
   ]
  },
  {
   "cell_type": "markdown",
   "id": "4aa71daa",
   "metadata": {},
   "source": [
    "## Generalizing linear models with link functions\n",
    "* Introduce the most important concept of this course  \n",
    "  * Link functions\n",
    "  * Generalized linear models\n",
    "* (Re)introduce Transformations\n"
   ]
  },
  {
   "cell_type": "markdown",
   "id": "a954e1ae",
   "metadata": {},
   "source": [
    "## End to End \"A Infinite Testing\"\n",
    "* Apply our new GLM "
   ]
  },
  {
   "cell_type": "markdown",
   "id": "ad1c441e",
   "metadata": {},
   "source": [
    "## Logistic Regression in the real world\n",
    "* Work through an example with a real world dataset"
   ]
  },
  {
   "cell_type": "code",
   "execution_count": 82,
   "id": "7e81b773",
   "metadata": {},
   "outputs": [],
   "source": [
    "import bambi as bmb\n",
    "import arviz as az\n",
    "from scipy import stats\n",
    "from scipy import special\n",
    "import numpy as np\n",
    "import pandas as pd\n",
    "import matplotlib.pyplot as plt\n",
    "import pymc as pm\n",
    "import seaborn as sns\n",
    "\n",
    "plt.style.use('../notebooks/intuitivebayes.mplstyle')\n",
    "\n",
    "FIGSIZE = (16, 8)\n",
    "SEED = 0"
   ]
  },
  {
   "cell_type": "code",
   "execution_count": null,
   "id": "5e93b296",
   "metadata": {},
   "outputs": [],
   "source": [
    "# Will add to dependecies if we agree \n",
    "!pip install statsmodels"
   ]
  },
  {
   "cell_type": "markdown",
   "id": "1c3f789a",
   "metadata": {},
   "source": [
    "# Hidden Section: Generate data\n",
    "**Hello students**\n",
    "\n",
    "Welcome to the hidden section where we generate the data. We've included this in the notebook purposefully so you can use it to aid your learnings. Simulation is an important tool because\n",
    "\n",
    "* During learning you can create new scenarios to have an infinite amount of practice data\n",
    "* During EDA you can use simulation to see what functional\n",
    "* Check if your models are correctly specified, especially complex models, by simulating data and seeing if you can recover the parameters\n",
    "\n"
   ]
  },
  {
   "cell_type": "code",
   "execution_count": 25,
   "id": "99dd2b01",
   "metadata": {},
   "outputs": [
    {
     "data": {
      "text/html": [
       "<div>\n",
       "<style scoped>\n",
       "    .dataframe tbody tr th:only-of-type {\n",
       "        vertical-align: middle;\n",
       "    }\n",
       "\n",
       "    .dataframe tbody tr th {\n",
       "        vertical-align: top;\n",
       "    }\n",
       "\n",
       "    .dataframe thead th {\n",
       "        text-align: right;\n",
       "    }\n",
       "</style>\n",
       "<table border=\"1\" class=\"dataframe\">\n",
       "  <thead>\n",
       "    <tr style=\"text-align: right;\">\n",
       "      <th></th>\n",
       "      <th>age</th>\n",
       "      <th>likes_videogames</th>\n",
       "      <th>likes_videogames_bool</th>\n",
       "    </tr>\n",
       "  </thead>\n",
       "  <tbody>\n",
       "    <tr>\n",
       "      <th>355</th>\n",
       "      <td>18.0</td>\n",
       "      <td>Yes</td>\n",
       "      <td>1</td>\n",
       "    </tr>\n",
       "    <tr>\n",
       "      <th>720</th>\n",
       "      <td>18.0</td>\n",
       "      <td>Yes</td>\n",
       "      <td>1</td>\n",
       "    </tr>\n",
       "    <tr>\n",
       "      <th>678</th>\n",
       "      <td>18.0</td>\n",
       "      <td>No</td>\n",
       "      <td>0</td>\n",
       "    </tr>\n",
       "    <tr>\n",
       "      <th>113</th>\n",
       "      <td>18.0</td>\n",
       "      <td>No</td>\n",
       "      <td>0</td>\n",
       "    </tr>\n",
       "    <tr>\n",
       "      <th>425</th>\n",
       "      <td>18.0</td>\n",
       "      <td>No</td>\n",
       "      <td>0</td>\n",
       "    </tr>\n",
       "  </tbody>\n",
       "</table>\n",
       "</div>"
      ],
      "text/plain": [
       "      age likes_videogames  likes_videogames_bool\n",
       "355  18.0              Yes                      1\n",
       "720  18.0              Yes                      1\n",
       "678  18.0               No                      0\n",
       "113  18.0               No                      0\n",
       "425  18.0               No                      0"
      ]
     },
     "execution_count": 25,
     "metadata": {},
     "output_type": "execute_result"
    }
   ],
   "source": [
    "np.random.seed(SEED)\n",
    "\n",
    "samples = 1000\n",
    "\n",
    "# 1 indicates likes videogames\n",
    "likes_videogames_bool = stats.bernoulli(p=.5).rvs(samples)\n",
    "like_videogames_categorical = [\"No\" if x == 0 else \"Yes\" for x in likes_videogames_bool]\n",
    "\n",
    "# Age\n",
    "age = stats.randint(low=18, high=60).rvs(samples).astype(float)\n",
    "\n",
    "df = pd.DataFrame({\"age\":age,\n",
    "                   \"likes_videogames\":like_videogames_categorical,\n",
    "                   \"likes_videogames_bool\":likes_videogames_bool}).sort_values(\"age\")\n",
    "df.head()"
   ]
  },
  {
   "cell_type": "markdown",
   "id": "6287c2e4",
   "metadata": {},
   "source": [
    "## Simulate our data\n",
    "Unfortunately there are differing names for the sigmoid function in particular\n",
    "* logistic (or logistic sigmoid)\n",
    "* expit\n",
    "\n",
    "Scipy uses the name expit. Since we use scipy in this course we'll use their naming so you learn both, and also can find the documentation for the code"
   ]
  },
  {
   "cell_type": "code",
   "execution_count": 4,
   "id": "55da86ad",
   "metadata": {},
   "outputs": [
    {
     "data": {
      "text/plain": [
       "0.9525741268224334"
      ]
     },
     "execution_count": 4,
     "metadata": {},
     "output_type": "execute_result"
    }
   ],
   "source": [
    "special.expit(3)"
   ]
  },
  {
   "cell_type": "code",
   "execution_count": 26,
   "id": "9ad840b4",
   "metadata": {},
   "outputs": [
    {
     "data": {
      "text/html": [
       "<div>\n",
       "<style scoped>\n",
       "    .dataframe tbody tr th:only-of-type {\n",
       "        vertical-align: middle;\n",
       "    }\n",
       "\n",
       "    .dataframe tbody tr th {\n",
       "        vertical-align: top;\n",
       "    }\n",
       "\n",
       "    .dataframe thead th {\n",
       "        text-align: right;\n",
       "    }\n",
       "</style>\n",
       "<table border=\"1\" class=\"dataframe\">\n",
       "  <thead>\n",
       "    <tr style=\"text-align: right;\">\n",
       "      <th></th>\n",
       "      <th>age</th>\n",
       "      <th>likes_videogames</th>\n",
       "      <th>likes_videogames_bool</th>\n",
       "      <th>p_convert</th>\n",
       "      <th>converted_bool</th>\n",
       "      <th>converted</th>\n",
       "    </tr>\n",
       "  </thead>\n",
       "  <tbody>\n",
       "    <tr>\n",
       "      <th>355</th>\n",
       "      <td>18.0</td>\n",
       "      <td>Yes</td>\n",
       "      <td>1</td>\n",
       "      <td>0.768525</td>\n",
       "      <td>1</td>\n",
       "      <td>Yes</td>\n",
       "    </tr>\n",
       "    <tr>\n",
       "      <th>720</th>\n",
       "      <td>18.0</td>\n",
       "      <td>Yes</td>\n",
       "      <td>1</td>\n",
       "      <td>0.768525</td>\n",
       "      <td>1</td>\n",
       "      <td>Yes</td>\n",
       "    </tr>\n",
       "    <tr>\n",
       "      <th>678</th>\n",
       "      <td>18.0</td>\n",
       "      <td>No</td>\n",
       "      <td>0</td>\n",
       "      <td>0.310026</td>\n",
       "      <td>0</td>\n",
       "      <td>No</td>\n",
       "    </tr>\n",
       "    <tr>\n",
       "      <th>113</th>\n",
       "      <td>18.0</td>\n",
       "      <td>No</td>\n",
       "      <td>0</td>\n",
       "      <td>0.310026</td>\n",
       "      <td>0</td>\n",
       "      <td>No</td>\n",
       "    </tr>\n",
       "    <tr>\n",
       "      <th>425</th>\n",
       "      <td>18.0</td>\n",
       "      <td>No</td>\n",
       "      <td>0</td>\n",
       "      <td>0.310026</td>\n",
       "      <td>0</td>\n",
       "      <td>No</td>\n",
       "    </tr>\n",
       "  </tbody>\n",
       "</table>\n",
       "</div>"
      ],
      "text/plain": [
       "      age likes_videogames  likes_videogames_bool  p_convert  converted_bool  \\\n",
       "355  18.0              Yes                      1   0.768525               1   \n",
       "720  18.0              Yes                      1   0.768525               1   \n",
       "678  18.0               No                      0   0.310026               0   \n",
       "113  18.0               No                      0   0.310026               0   \n",
       "425  18.0               No                      0   0.310026               0   \n",
       "\n",
       "    converted  \n",
       "355       Yes  \n",
       "720       Yes  \n",
       "678        No  \n",
       "113        No  \n",
       "425        No  "
      ]
     },
     "execution_count": 26,
     "metadata": {},
     "output_type": "execute_result"
    }
   ],
   "source": [
    "np.random.seed(SEED)\n",
    "\n",
    "# Parameters of model\n",
    "intercept = 1\n",
    "coeff_age = -0.1\n",
    "coeff_likes_videogames = 2\n",
    "\n",
    "# Construction of mean p_convert\n",
    "y = intercept + coeff_age * df[\"age\"] + coeff_likes_videogames * df[\"likes_videogames_bool\"]\n",
    "\n",
    "# Convert the continuous value to 0 1 bounded\n",
    "# This is the link function\n",
    "p_convert = special.expit(y)\n",
    "\n",
    "# Simulate actual conversions. Rememver a prob of .99 doesn't guarantee someone will convert!\n",
    "# To see that look at the graph below\n",
    "converted_bool = stats.bernoulli(p=p_convert).rvs()\n",
    "\n",
    "df[\"p_convert\"] = p_convert\n",
    "df[\"converted_bool\"] = converted_bool\n",
    "df[\"converted\"] = [{1:\"Yes\", 0:\"No\"}[outcome] for outcome in converted_bool]\n",
    "df.head()"
   ]
  },
  {
   "cell_type": "markdown",
   "id": "dc57dfd9",
   "metadata": {},
   "source": [
    "## Logistic curves"
   ]
  },
  {
   "cell_type": "code",
   "execution_count": 85,
   "id": "16455203",
   "metadata": {},
   "outputs": [
    {
     "data": {
      "image/png": "[encoded data removed]",
      "text/plain": [
       "<Figure size 1152x576 with 1 Axes>"
      ]
     },
     "metadata": {
      "needs_background": "light"
     },
     "output_type": "display_data"
    }
   ],
   "source": [
    "fig, ax = plt.subplots(figsize=FIGSIZE)\n",
    "sns.scatterplot(x=\"age\", y=\"p_convert\", hue=\"converted\", data=df, ax=ax, s=200);"
   ]
  },
  {
   "cell_type": "code",
   "execution_count": 71,
   "id": "d2eda971",
   "metadata": {},
   "outputs": [
    {
     "data": {
      "text/html": [
       "<div>\n",
       "<style scoped>\n",
       "    .dataframe tbody tr th:only-of-type {\n",
       "        vertical-align: middle;\n",
       "    }\n",
       "\n",
       "    .dataframe tbody tr th {\n",
       "        vertical-align: top;\n",
       "    }\n",
       "\n",
       "    .dataframe thead th {\n",
       "        text-align: right;\n",
       "    }\n",
       "</style>\n",
       "<table border=\"1\" class=\"dataframe\">\n",
       "  <thead>\n",
       "    <tr style=\"text-align: right;\">\n",
       "      <th></th>\n",
       "      <th>age</th>\n",
       "      <th>likes_videogames</th>\n",
       "      <th>converted</th>\n",
       "      <th>likes_videogames_bool</th>\n",
       "      <th>converted_bool</th>\n",
       "    </tr>\n",
       "  </thead>\n",
       "  <tbody>\n",
       "    <tr>\n",
       "      <th>0</th>\n",
       "      <td>40.0</td>\n",
       "      <td>No</td>\n",
       "      <td>Yes</td>\n",
       "      <td>0</td>\n",
       "      <td>1</td>\n",
       "    </tr>\n",
       "    <tr>\n",
       "      <th>1</th>\n",
       "      <td>39.0</td>\n",
       "      <td>No</td>\n",
       "      <td>No</td>\n",
       "      <td>0</td>\n",
       "      <td>0</td>\n",
       "    </tr>\n",
       "    <tr>\n",
       "      <th>2</th>\n",
       "      <td>26.0</td>\n",
       "      <td>No</td>\n",
       "      <td>Yes</td>\n",
       "      <td>0</td>\n",
       "      <td>1</td>\n",
       "    </tr>\n",
       "    <tr>\n",
       "      <th>3</th>\n",
       "      <td>18.0</td>\n",
       "      <td>No</td>\n",
       "      <td>No</td>\n",
       "      <td>0</td>\n",
       "      <td>0</td>\n",
       "    </tr>\n",
       "    <tr>\n",
       "      <th>4</th>\n",
       "      <td>29.0</td>\n",
       "      <td>Yes</td>\n",
       "      <td>No</td>\n",
       "      <td>1</td>\n",
       "      <td>0</td>\n",
       "    </tr>\n",
       "    <tr>\n",
       "      <th>5</th>\n",
       "      <td>45.0</td>\n",
       "      <td>No</td>\n",
       "      <td>No</td>\n",
       "      <td>0</td>\n",
       "      <td>0</td>\n",
       "    </tr>\n",
       "    <tr>\n",
       "      <th>6</th>\n",
       "      <td>44.0</td>\n",
       "      <td>No</td>\n",
       "      <td>No</td>\n",
       "      <td>0</td>\n",
       "      <td>0</td>\n",
       "    </tr>\n",
       "    <tr>\n",
       "      <th>7</th>\n",
       "      <td>49.0</td>\n",
       "      <td>Yes</td>\n",
       "      <td>No</td>\n",
       "      <td>1</td>\n",
       "      <td>0</td>\n",
       "    </tr>\n",
       "    <tr>\n",
       "      <th>8</th>\n",
       "      <td>26.0</td>\n",
       "      <td>Yes</td>\n",
       "      <td>Yes</td>\n",
       "      <td>1</td>\n",
       "      <td>1</td>\n",
       "    </tr>\n",
       "    <tr>\n",
       "      <th>9</th>\n",
       "      <td>47.0</td>\n",
       "      <td>Yes</td>\n",
       "      <td>Yes</td>\n",
       "      <td>1</td>\n",
       "      <td>1</td>\n",
       "    </tr>\n",
       "  </tbody>\n",
       "</table>\n",
       "</div>"
      ],
      "text/plain": [
       "    age likes_videogames converted  likes_videogames_bool  converted_bool\n",
       "0  40.0               No       Yes                      0               1\n",
       "1  39.0               No        No                      0               0\n",
       "2  26.0               No       Yes                      0               1\n",
       "3  18.0               No        No                      0               0\n",
       "4  29.0              Yes        No                      1               0\n",
       "5  45.0               No        No                      0               0\n",
       "6  44.0               No        No                      0               0\n",
       "7  49.0              Yes        No                      1               0\n",
       "8  26.0              Yes       Yes                      1               1\n",
       "9  47.0              Yes       Yes                      1               1"
      ]
     },
     "execution_count": 71,
     "metadata": {},
     "output_type": "execute_result"
    }
   ],
   "source": [
    "customers_table = (df.drop(\"p_convert\", axis=1).sample(frac=1, random_state=5).reset_index()\n",
    "                          [[\"age\", \"likes_videogames\", \"converted\", \"likes_videogames_bool\", \"converted_bool\"]])\n",
    "customers_table.head(10)"
   ]
  },
  {
   "cell_type": "markdown",
   "id": "44fa8651",
   "metadata": {},
   "source": [
    "## AB Testing at the video game store\n",
    "**Insert picture of video game store"
   ]
  },
  {
   "cell_type": "markdown",
   "id": "dab27a08",
   "metadata": {},
   "source": [
    "# Bayesian AB Test Review\n",
    "What every company wants to know"
   ]
  },
  {
   "cell_type": "markdown",
   "id": "83919bde",
   "metadata": {},
   "source": [
    "## Your bosses as\n",
    "\n",
    "\"Take a look at our website checkout data.I want to know which customers are most likely to convert so we can focus our marketing efforts on them\"\n",
    "\n",
    "\"I feel like age is important\"\n",
    "\n",
    "\"Oh and also I want the results by the end of the day. I have a meeting with the CEO\""
   ]
  },
  {
   "cell_type": "markdown",
   "id": "4b20c6b5",
   "metadata": {},
   "source": [
    "Your boss comes to you with a question, a question that basically every data scientist will get asked in their career. Given a new feature, or some properties about the customer, which are most likely to convert?\n",
    "\n",
    "Now you're stressed out. You need to turn our results fast. Better get to it"
   ]
  },
  {
   "cell_type": "markdown",
   "id": "3cc6afcd",
   "metadata": {},
   "source": [
    "## The data\n",
    "* The age of the customer\n",
    "* Whether they like video games or not\n",
    "* Whether this customer has converted (or not)"
   ]
  },
  {
   "cell_type": "code",
   "execution_count": 72,
   "id": "06413a68",
   "metadata": {},
   "outputs": [
    {
     "data": {
      "text/html": [
       "<div>\n",
       "<style scoped>\n",
       "    .dataframe tbody tr th:only-of-type {\n",
       "        vertical-align: middle;\n",
       "    }\n",
       "\n",
       "    .dataframe tbody tr th {\n",
       "        vertical-align: top;\n",
       "    }\n",
       "\n",
       "    .dataframe thead th {\n",
       "        text-align: right;\n",
       "    }\n",
       "</style>\n",
       "<table border=\"1\" class=\"dataframe\">\n",
       "  <thead>\n",
       "    <tr style=\"text-align: right;\">\n",
       "      <th></th>\n",
       "      <th>age</th>\n",
       "      <th>likes_videogames</th>\n",
       "      <th>converted</th>\n",
       "      <th>likes_videogames_bool</th>\n",
       "      <th>converted_bool</th>\n",
       "    </tr>\n",
       "  </thead>\n",
       "  <tbody>\n",
       "    <tr>\n",
       "      <th>0</th>\n",
       "      <td>40.0</td>\n",
       "      <td>No</td>\n",
       "      <td>Yes</td>\n",
       "      <td>0</td>\n",
       "      <td>1</td>\n",
       "    </tr>\n",
       "    <tr>\n",
       "      <th>1</th>\n",
       "      <td>39.0</td>\n",
       "      <td>No</td>\n",
       "      <td>No</td>\n",
       "      <td>0</td>\n",
       "      <td>0</td>\n",
       "    </tr>\n",
       "    <tr>\n",
       "      <th>2</th>\n",
       "      <td>26.0</td>\n",
       "      <td>No</td>\n",
       "      <td>Yes</td>\n",
       "      <td>0</td>\n",
       "      <td>1</td>\n",
       "    </tr>\n",
       "    <tr>\n",
       "      <th>3</th>\n",
       "      <td>18.0</td>\n",
       "      <td>No</td>\n",
       "      <td>No</td>\n",
       "      <td>0</td>\n",
       "      <td>0</td>\n",
       "    </tr>\n",
       "    <tr>\n",
       "      <th>4</th>\n",
       "      <td>29.0</td>\n",
       "      <td>Yes</td>\n",
       "      <td>No</td>\n",
       "      <td>1</td>\n",
       "      <td>0</td>\n",
       "    </tr>\n",
       "    <tr>\n",
       "      <th>5</th>\n",
       "      <td>45.0</td>\n",
       "      <td>No</td>\n",
       "      <td>No</td>\n",
       "      <td>0</td>\n",
       "      <td>0</td>\n",
       "    </tr>\n",
       "    <tr>\n",
       "      <th>6</th>\n",
       "      <td>44.0</td>\n",
       "      <td>No</td>\n",
       "      <td>No</td>\n",
       "      <td>0</td>\n",
       "      <td>0</td>\n",
       "    </tr>\n",
       "    <tr>\n",
       "      <th>7</th>\n",
       "      <td>49.0</td>\n",
       "      <td>Yes</td>\n",
       "      <td>No</td>\n",
       "      <td>1</td>\n",
       "      <td>0</td>\n",
       "    </tr>\n",
       "    <tr>\n",
       "      <th>8</th>\n",
       "      <td>26.0</td>\n",
       "      <td>Yes</td>\n",
       "      <td>Yes</td>\n",
       "      <td>1</td>\n",
       "      <td>1</td>\n",
       "    </tr>\n",
       "    <tr>\n",
       "      <th>9</th>\n",
       "      <td>47.0</td>\n",
       "      <td>Yes</td>\n",
       "      <td>Yes</td>\n",
       "      <td>1</td>\n",
       "      <td>1</td>\n",
       "    </tr>\n",
       "  </tbody>\n",
       "</table>\n",
       "</div>"
      ],
      "text/plain": [
       "    age likes_videogames converted  likes_videogames_bool  converted_bool\n",
       "0  40.0               No       Yes                      0               1\n",
       "1  39.0               No        No                      0               0\n",
       "2  26.0               No       Yes                      0               1\n",
       "3  18.0               No        No                      0               0\n",
       "4  29.0              Yes        No                      1               0\n",
       "5  45.0               No        No                      0               0\n",
       "6  44.0               No        No                      0               0\n",
       "7  49.0              Yes        No                      1               0\n",
       "8  26.0              Yes       Yes                      1               1\n",
       "9  47.0              Yes       Yes                      1               1"
      ]
     },
     "execution_count": 72,
     "metadata": {},
     "output_type": "execute_result"
    }
   ],
   "source": [
    "customers_table.head(10)"
   ]
  },
  {
   "cell_type": "markdown",
   "id": "7f98018d",
   "metadata": {},
   "source": [
    "So we look at the data we have three things. The age, whether they like video, and whether they converted or not.\n",
    "\n",
    "We can see four cases here\n",
    "The first two are obvious.\n",
    "We have\n",
    "* People that don't like videogames that didn't convert\n",
    "* People that did like videogmes and did convert\n",
    "\n",
    "The second two though are more interesting\n",
    "* Folks that didn't like videogames but did convert\n",
    "* Folks that do like videogames that didn't convert\n"
   ]
  },
  {
   "cell_type": "markdown",
   "id": "fbfd4389",
   "metadata": {},
   "source": [
    "## Summarizing our DF"
   ]
  },
  {
   "cell_type": "code",
   "execution_count": 69,
   "id": "e126732e",
   "metadata": {},
   "outputs": [],
   "source": [
    "customers_table_summarized = df[[\"likes_videogames\", \"converted_bool\"]].groupby(\"likes_videogames\").agg([np.sum, len])\n",
    "customers_table_summarized.columns = [\"converted\", \"visited\"]"
   ]
  },
  {
   "cell_type": "code",
   "execution_count": 87,
   "id": "f99975ef",
   "metadata": {},
   "outputs": [
    {
     "data": {
      "text/html": [
       "<div>\n",
       "<style scoped>\n",
       "    .dataframe tbody tr th:only-of-type {\n",
       "        vertical-align: middle;\n",
       "    }\n",
       "\n",
       "    .dataframe tbody tr th {\n",
       "        vertical-align: top;\n",
       "    }\n",
       "\n",
       "    .dataframe thead th {\n",
       "        text-align: right;\n",
       "    }\n",
       "</style>\n",
       "<table border=\"1\" class=\"dataframe\">\n",
       "  <thead>\n",
       "    <tr style=\"text-align: right;\">\n",
       "      <th></th>\n",
       "      <th>converted</th>\n",
       "      <th>visited</th>\n",
       "    </tr>\n",
       "    <tr>\n",
       "      <th>likes_videogames</th>\n",
       "      <th></th>\n",
       "      <th></th>\n",
       "    </tr>\n",
       "  </thead>\n",
       "  <tbody>\n",
       "    <tr>\n",
       "      <th>No</th>\n",
       "      <td>51</td>\n",
       "      <td>517</td>\n",
       "    </tr>\n",
       "    <tr>\n",
       "      <th>Yes</th>\n",
       "      <td>173</td>\n",
       "      <td>483</td>\n",
       "    </tr>\n",
       "  </tbody>\n",
       "</table>\n",
       "</div>"
      ],
      "text/plain": [
       "                  converted  visited\n",
       "likes_videogames                    \n",
       "No                       51      517\n",
       "Yes                     173      483"
      ]
     },
     "execution_count": 87,
     "metadata": {},
     "output_type": "execute_result"
    }
   ],
   "source": [
    "customers_table_summarized"
   ]
  },
  {
   "cell_type": "markdown",
   "id": "87c9ce52",
   "metadata": {},
   "source": [
    "Because were short on time we start with the obvious thing, which is the boolean. Lets summarize our customer level data to 2x2 grid for simplicity. Just glancing at the rows we can already see a difference."
   ]
  },
  {
   "cell_type": "markdown",
   "id": "4ddecb12",
   "metadata": {},
   "source": [
    "## Quick EDA"
   ]
  },
  {
   "cell_type": "code",
   "execution_count": 77,
   "id": "29747375",
   "metadata": {},
   "outputs": [
    {
     "data": {
      "image/png": "[encoded data removed]",
      "text/plain": [
       "<Figure size 1152x576 with 1 Axes>"
      ]
     },
     "metadata": {
      "needs_background": "light"
     },
     "output_type": "display_data"
    }
   ],
   "source": [
    "fig, ax = plt.subplots(figsize=FIGSIZE)\n",
    "ax.set_title(\"Conversions by like_videogame indicator\")\n",
    "ax.set_label(\"Count Conversion\")\n",
    "customers_table_summarized.plot(kind=\"bar\", ax=ax);"
   ]
  },
  {
   "cell_type": "markdown",
   "id": "e3cefa13",
   "metadata": {},
   "source": [
    "We can plot the results as well  just as as double check"
   ]
  },
  {
   "cell_type": "markdown",
   "id": "e9525bde",
   "metadata": {},
   "source": [
    "## AB Comparison in PyMC"
   ]
  },
  {
   "cell_type": "code",
   "execution_count": 79,
   "id": "964c4710",
   "metadata": {},
   "outputs": [
    {
     "name": "stderr",
     "output_type": "stream",
     "text": [
      "Auto-assigning NUTS sampler...\n",
      "Initializing NUTS using jitter+adapt_diag...\n",
      "Multiprocess sampling (4 chains in 4 jobs)\n",
      "NUTS: [p_convert]\n"
     ]
    },
    {
     "data": {
      "text/html": [
       "\n",
       "<style>\n",
       "    /* Turns off some styling */\n",
       "    progress {\n",
       "        /* gets rid of default border in Firefox and Opera. */\n",
       "        border: none;\n",
       "        /* Needs to be in here for Safari polyfill so background images work as expected. */\n",
       "        background-size: auto;\n",
       "    }\n",
       "    progress:not([value]), progress:not([value])::-webkit-progress-bar {\n",
       "        background: repeating-linear-gradient(45deg, #7e7e7e, #7e7e7e 10px, #5c5c5c 10px, #5c5c5c 20px);\n",
       "    }\n",
       "    .progress-bar-interrupted, .progress-bar-interrupted::-webkit-progress-bar {\n",
       "        background: #F44336;\n",
       "    }\n",
       "</style>\n"
      ],
      "text/plain": [
       "<IPython.core.display.HTML object>"
      ]
     },
     "metadata": {},
     "output_type": "display_data"
    },
    {
     "data": {
      "text/html": [
       "\n",
       "    <div>\n",
       "      <progress value='8000' class='' max='8000' style='width:300px; height:20px; vertical-align: middle;'></progress>\n",
       "      100.00% [8000/8000 00:02&lt;00:00 Sampling 4 chains, 0 divergences]\n",
       "    </div>\n",
       "    "
      ],
      "text/plain": [
       "<IPython.core.display.HTML object>"
      ]
     },
     "metadata": {},
     "output_type": "display_data"
    },
    {
     "name": "stderr",
     "output_type": "stream",
     "text": [
      "Sampling 4 chains for 1_000 tune and 1_000 draw iterations (4_000 + 4_000 draws total) took 3 seconds.\n"
     ]
    }
   ],
   "source": [
    "coords = {\"likes_videogames\": customers_table_summarized.index}\n",
    "\n",
    "with pm.Model(coords=coords) as ab_test:\n",
    "    p_convert = pm.Beta(\"p_convert\", 2, 2, dims=\"likes_videogames\")\n",
    "    \n",
    "    obs = pm.Binomial(\"obs\", p=p_convert, n=customers_table_summarized[\"visited\"].to_numpy(), \n",
    "                      observed=customers_table_summarized[\"converted\"].to_numpy())\n",
    "    \n",
    "    idata_likes_video_games= pm.sample()"
   ]
  },
  {
   "cell_type": "markdown",
   "id": "9ba47cad",
   "metadata": {},
   "source": [
    "We're not quite sure how to AB test in Bambi so for now we just use PyMC. Luckily the model is quite small so its quick to code up. Because we summed Everything here should look familiar to you\n"
   ]
  },
  {
   "cell_type": "markdown",
   "id": "9fc409ed",
   "metadata": {},
   "source": [
    "## Let's check out results"
   ]
  },
  {
   "cell_type": "code",
   "execution_count": 84,
   "id": "e64afb69",
   "metadata": {},
   "outputs": [
    {
     "data": {
      "text/plain": [
       "array([[<AxesSubplot:title={'center':'p_convert'}>,\n",
       "        <AxesSubplot:title={'center':'p_convert'}, xlabel='Rank (all chains)', ylabel='Chain'>]],\n",
       "      dtype=object)"
      ]
     },
     "execution_count": 84,
     "metadata": {},
     "output_type": "execute_result"
    },
    {
     "data": {
      "image/png": "[encoded data removed]",
      "text/plain": [
       "<Figure size 864x144 with 2 Axes>"
      ]
     },
     "metadata": {
      "needs_background": "light"
     },
     "output_type": "display_data"
    }
   ],
   "source": [
    "az.plot_trace(idata_likes_video_games, kind=\"rank_bars\");"
   ]
  },
  {
   "cell_type": "markdown",
   "id": "f01cb996",
   "metadata": {},
   "source": [
    "Our sampling looks good, and we can already see from the KDE estimate that theres a big difference"
   ]
  },
  {
   "cell_type": "markdown",
   "id": "d4f436a2",
   "metadata": {},
   "source": [
    "## Comparing the two groups"
   ]
  },
  {
   "cell_type": "code",
   "execution_count": 86,
   "id": "0b6f9e8f",
   "metadata": {},
   "outputs": [
    {
     "data": {
      "text/plain": [
       "array([<AxesSubplot:title={'center':'94.0% HDI'}>], dtype=object)"
      ]
     },
     "execution_count": 86,
     "metadata": {},
     "output_type": "execute_result"
    },
    {
     "data": {
      "image/png": "[encoded data removed]",
      "text/plain": [
       "<Figure size 432x345.6 with 1 Axes>"
      ]
     },
     "metadata": {
      "needs_background": "light"
     },
     "output_type": "display_data"
    }
   ],
   "source": [
    "az.plot_forest(idata_likes_video_games);"
   ]
  },
  {
   "cell_type": "markdown",
   "id": "c7e5ed09",
   "metadata": {},
   "source": [
    "Great, were now very sure that there's a difference, but this is very obvious. The subtle issue is age but lets discuss that in the next section"
   ]
  },
  {
   "cell_type": "markdown",
   "id": "b41805c4",
   "metadata": {},
   "source": [
    "## Section Recap\n",
    "* We want to know how conversion probability relates to\n",
    "  * Whether people like video games\n",
    "  * Age\n",
    "* Coded a PPL model there is a difference in p_conversion on just the preference boolean"
   ]
  },
  {
   "cell_type": "markdown",
   "id": "5ac56af2",
   "metadata": {},
   "source": [
    "# Section 30: Regressing by age\n",
    "* Your boss then says, well what about age?\n",
    "  * I'm pretty sure older people are less likely to convert based on my experience\n",
    "* we can see a trend and fit a line to it but that has problem\n",
    "* Prob has to be between 0 or 1, most of these are invalid\n",
    "* But what if we use this function here to squash the input\n",
    "  * This is nothing new! You saw transformations in the last lesson\n",
    "\n",
    "* The solution is a link function\n",
    "  * This is most important part of this course\n",
    "  * Now we're just formalizing it\n",
    "* The link function we'll use here is sigmoid\n",
    "  * Widely used in many fields like Neural nets etc"
   ]
  },
  {
   "cell_type": "markdown",
   "id": "31fb793d",
   "metadata": {},
   "source": [
    "## How do include a continuous attribute into our framework?\n",
    "* Our AB Testing framework was based on a discrete attribute (likes_videogame bool)\n",
    "* How do we extend it?"
   ]
  },
  {
   "cell_type": "markdown",
   "id": "d35cf006",
   "metadata": {},
   "source": [
    "## A, B, C, D, E, .... Comparison\n"
   ]
  },
  {
   "cell_type": "code",
   "execution_count": 92,
   "id": "e3fc98fb",
   "metadata": {},
   "outputs": [
    {
     "data": {
      "text/html": [
       "<div>\n",
       "<style scoped>\n",
       "    .dataframe tbody tr th:only-of-type {\n",
       "        vertical-align: middle;\n",
       "    }\n",
       "\n",
       "    .dataframe tbody tr th {\n",
       "        vertical-align: top;\n",
       "    }\n",
       "\n",
       "    .dataframe thead th {\n",
       "        text-align: right;\n",
       "    }\n",
       "</style>\n",
       "<table border=\"1\" class=\"dataframe\">\n",
       "  <thead>\n",
       "    <tr style=\"text-align: right;\">\n",
       "      <th></th>\n",
       "      <th>age</th>\n",
       "      <th>likes_videogames</th>\n",
       "      <th>converted</th>\n",
       "      <th>likes_videogames_bool</th>\n",
       "      <th>converted_bool</th>\n",
       "      <th>age_buckets</th>\n",
       "    </tr>\n",
       "  </thead>\n",
       "  <tbody>\n",
       "    <tr>\n",
       "      <th>0</th>\n",
       "      <td>40.0</td>\n",
       "      <td>No</td>\n",
       "      <td>Yes</td>\n",
       "      <td>0</td>\n",
       "      <td>1</td>\n",
       "      <td>(34.4, 42.6]</td>\n",
       "    </tr>\n",
       "    <tr>\n",
       "      <th>1</th>\n",
       "      <td>39.0</td>\n",
       "      <td>No</td>\n",
       "      <td>No</td>\n",
       "      <td>0</td>\n",
       "      <td>0</td>\n",
       "      <td>(34.4, 42.6]</td>\n",
       "    </tr>\n",
       "    <tr>\n",
       "      <th>2</th>\n",
       "      <td>26.0</td>\n",
       "      <td>No</td>\n",
       "      <td>Yes</td>\n",
       "      <td>0</td>\n",
       "      <td>1</td>\n",
       "      <td>(17.959, 26.2]</td>\n",
       "    </tr>\n",
       "    <tr>\n",
       "      <th>3</th>\n",
       "      <td>18.0</td>\n",
       "      <td>No</td>\n",
       "      <td>No</td>\n",
       "      <td>0</td>\n",
       "      <td>0</td>\n",
       "      <td>(17.959, 26.2]</td>\n",
       "    </tr>\n",
       "    <tr>\n",
       "      <th>4</th>\n",
       "      <td>29.0</td>\n",
       "      <td>Yes</td>\n",
       "      <td>No</td>\n",
       "      <td>1</td>\n",
       "      <td>0</td>\n",
       "      <td>(26.2, 34.4]</td>\n",
       "    </tr>\n",
       "    <tr>\n",
       "      <th>...</th>\n",
       "      <td>...</td>\n",
       "      <td>...</td>\n",
       "      <td>...</td>\n",
       "      <td>...</td>\n",
       "      <td>...</td>\n",
       "      <td>...</td>\n",
       "    </tr>\n",
       "    <tr>\n",
       "      <th>995</th>\n",
       "      <td>34.0</td>\n",
       "      <td>Yes</td>\n",
       "      <td>No</td>\n",
       "      <td>1</td>\n",
       "      <td>0</td>\n",
       "      <td>(26.2, 34.4]</td>\n",
       "    </tr>\n",
       "    <tr>\n",
       "      <th>996</th>\n",
       "      <td>23.0</td>\n",
       "      <td>No</td>\n",
       "      <td>Yes</td>\n",
       "      <td>0</td>\n",
       "      <td>1</td>\n",
       "      <td>(17.959, 26.2]</td>\n",
       "    </tr>\n",
       "    <tr>\n",
       "      <th>997</th>\n",
       "      <td>46.0</td>\n",
       "      <td>No</td>\n",
       "      <td>No</td>\n",
       "      <td>0</td>\n",
       "      <td>0</td>\n",
       "      <td>(42.6, 50.8]</td>\n",
       "    </tr>\n",
       "    <tr>\n",
       "      <th>998</th>\n",
       "      <td>26.0</td>\n",
       "      <td>No</td>\n",
       "      <td>No</td>\n",
       "      <td>0</td>\n",
       "      <td>0</td>\n",
       "      <td>(17.959, 26.2]</td>\n",
       "    </tr>\n",
       "    <tr>\n",
       "      <th>999</th>\n",
       "      <td>54.0</td>\n",
       "      <td>Yes</td>\n",
       "      <td>No</td>\n",
       "      <td>1</td>\n",
       "      <td>0</td>\n",
       "      <td>(50.8, 59.0]</td>\n",
       "    </tr>\n",
       "  </tbody>\n",
       "</table>\n",
       "<p>1000 rows × 6 columns</p>\n",
       "</div>"
      ],
      "text/plain": [
       "      age likes_videogames converted  likes_videogames_bool  converted_bool  \\\n",
       "0    40.0               No       Yes                      0               1   \n",
       "1    39.0               No        No                      0               0   \n",
       "2    26.0               No       Yes                      0               1   \n",
       "3    18.0               No        No                      0               0   \n",
       "4    29.0              Yes        No                      1               0   \n",
       "..    ...              ...       ...                    ...             ...   \n",
       "995  34.0              Yes        No                      1               0   \n",
       "996  23.0               No       Yes                      0               1   \n",
       "997  46.0               No        No                      0               0   \n",
       "998  26.0               No        No                      0               0   \n",
       "999  54.0              Yes        No                      1               0   \n",
       "\n",
       "        age_buckets  \n",
       "0      (34.4, 42.6]  \n",
       "1      (34.4, 42.6]  \n",
       "2    (17.959, 26.2]  \n",
       "3    (17.959, 26.2]  \n",
       "4      (26.2, 34.4]  \n",
       "..              ...  \n",
       "995    (26.2, 34.4]  \n",
       "996  (17.959, 26.2]  \n",
       "997    (42.6, 50.8]  \n",
       "998  (17.959, 26.2]  \n",
       "999    (50.8, 59.0]  \n",
       "\n",
       "[1000 rows x 6 columns]"
      ]
     },
     "execution_count": 92,
     "metadata": {},
     "output_type": "execute_result"
    }
   ],
   "source": [
    "customers_table[\"age_buckets\"] = pd.cut(customers_table[\"age\"], bins=5)\n",
    "customers_table"
   ]
  },
  {
   "cell_type": "code",
   "execution_count": 96,
   "id": "6a4f3cea",
   "metadata": {},
   "outputs": [
    {
     "data": {
      "text/html": [
       "<div>\n",
       "<style scoped>\n",
       "    .dataframe tbody tr th:only-of-type {\n",
       "        vertical-align: middle;\n",
       "    }\n",
       "\n",
       "    .dataframe tbody tr th {\n",
       "        vertical-align: top;\n",
       "    }\n",
       "\n",
       "    .dataframe thead th {\n",
       "        text-align: right;\n",
       "    }\n",
       "</style>\n",
       "<table border=\"1\" class=\"dataframe\">\n",
       "  <thead>\n",
       "    <tr style=\"text-align: right;\">\n",
       "      <th></th>\n",
       "      <th>converted</th>\n",
       "      <th>visited</th>\n",
       "    </tr>\n",
       "    <tr>\n",
       "      <th>age_buckets</th>\n",
       "      <th></th>\n",
       "      <th></th>\n",
       "    </tr>\n",
       "  </thead>\n",
       "  <tbody>\n",
       "    <tr>\n",
       "      <th>(17.959, 26.2]</th>\n",
       "      <td>90</td>\n",
       "      <td>207</td>\n",
       "    </tr>\n",
       "    <tr>\n",
       "      <th>(26.2, 34.4]</th>\n",
       "      <td>68</td>\n",
       "      <td>205</td>\n",
       "    </tr>\n",
       "    <tr>\n",
       "      <th>(34.4, 42.6]</th>\n",
       "      <td>37</td>\n",
       "      <td>180</td>\n",
       "    </tr>\n",
       "    <tr>\n",
       "      <th>(42.6, 50.8]</th>\n",
       "      <td>23</td>\n",
       "      <td>210</td>\n",
       "    </tr>\n",
       "    <tr>\n",
       "      <th>(50.8, 59.0]</th>\n",
       "      <td>6</td>\n",
       "      <td>198</td>\n",
       "    </tr>\n",
       "  </tbody>\n",
       "</table>\n",
       "</div>"
      ],
      "text/plain": [
       "                converted  visited\n",
       "age_buckets                       \n",
       "(17.959, 26.2]         90      207\n",
       "(26.2, 34.4]           68      205\n",
       "(34.4, 42.6]           37      180\n",
       "(42.6, 50.8]           23      210\n",
       "(50.8, 59.0]            6      198"
      ]
     },
     "execution_count": 96,
     "metadata": {},
     "output_type": "execute_result"
    }
   ],
   "source": [
    "customers_table_summarized = customers_table[[\"age_buckets\", \"converted_bool\"]].groupby(\"age_buckets\").agg([np.sum, len])\n",
    "customers_table_summarized.columns = [\"converted\", \"visited\"]\n",
    "customers_table_summarized"
   ]
  },
  {
   "cell_type": "markdown",
   "id": "be8c854b",
   "metadata": {},
   "source": [
    "## Another quick EDA"
   ]
  },
  {
   "cell_type": "code",
   "execution_count": 97,
   "id": "0e6489e0",
   "metadata": {},
   "outputs": [
    {
     "data": {
      "image/png": "[encoded data removed]",
      "text/plain": [
       "<Figure size 1152x576 with 1 Axes>"
      ]
     },
     "metadata": {
      "needs_background": "light"
     },
     "output_type": "display_data"
    }
   ],
   "source": [
    "fig, ax = plt.subplots(figsize=FIGSIZE)\n",
    "ax.set_title(\"Conversions by like_videogame indicator\")\n",
    "ax.set_label(\"Count Conversion\")\n",
    "customers_table_summarized.plot(kind=\"bar\", ax=ax);"
   ]
  },
  {
   "cell_type": "markdown",
   "id": "59829b2d",
   "metadata": {},
   "source": [
    "## Our model"
   ]
  },
  {
   "cell_type": "code",
   "execution_count": 102,
   "id": "b50e47f1",
   "metadata": {},
   "outputs": [
    {
     "name": "stderr",
     "output_type": "stream",
     "text": [
      "Auto-assigning NUTS sampler...\n",
      "Initializing NUTS using jitter+adapt_diag...\n",
      "Multiprocess sampling (4 chains in 4 jobs)\n",
      "NUTS: [p_convert]\n"
     ]
    },
    {
     "data": {
      "text/html": [
       "\n",
       "<style>\n",
       "    /* Turns off some styling */\n",
       "    progress {\n",
       "        /* gets rid of default border in Firefox and Opera. */\n",
       "        border: none;\n",
       "        /* Needs to be in here for Safari polyfill so background images work as expected. */\n",
       "        background-size: auto;\n",
       "    }\n",
       "    progress:not([value]), progress:not([value])::-webkit-progress-bar {\n",
       "        background: repeating-linear-gradient(45deg, #7e7e7e, #7e7e7e 10px, #5c5c5c 10px, #5c5c5c 20px);\n",
       "    }\n",
       "    .progress-bar-interrupted, .progress-bar-interrupted::-webkit-progress-bar {\n",
       "        background: #F44336;\n",
       "    }\n",
       "</style>\n"
      ],
      "text/plain": [
       "<IPython.core.display.HTML object>"
      ]
     },
     "metadata": {},
     "output_type": "display_data"
    },
    {
     "data": {
      "text/html": [
       "\n",
       "    <div>\n",
       "      <progress value='8000' class='' max='8000' style='width:300px; height:20px; vertical-align: middle;'></progress>\n",
       "      100.00% [8000/8000 00:03&lt;00:00 Sampling 4 chains, 0 divergences]\n",
       "    </div>\n",
       "    "
      ],
      "text/plain": [
       "<IPython.core.display.HTML object>"
      ]
     },
     "metadata": {},
     "output_type": "display_data"
    },
    {
     "name": "stderr",
     "output_type": "stream",
     "text": [
      "Sampling 4 chains for 1_000 tune and 1_000 draw iterations (4_000 + 4_000 draws total) took 4 seconds.\n"
     ]
    }
   ],
   "source": [
    "coords = {\"age_buckets\": customers_table_summarized.index}\n",
    "\n",
    "with pm.Model(coords=coords) as ab_test:\n",
    "    p_convert = pm.Beta(\"p_convert\", 2, 2, dims=(\"age_buckets\"))\n",
    "    \n",
    "    obs = pm.Binomial(\"obs\", p=p_convert,\n",
    "                      n=customers_table_summarized[\"visited\"].to_numpy(),\n",
    "                      observed=customers_table_summarized[\"converted\"].to_numpy())\n",
    "    \n",
    "    idata_buckets = pm.sample()"
   ]
  },
  {
   "cell_type": "markdown",
   "id": "704da106",
   "metadata": {},
   "source": [
    "* Our AB testing framework only allowed for discrete variables\n",
    "* Maybe we could bucket more"
   ]
  },
  {
   "cell_type": "markdown",
   "id": "56c78795",
   "metadata": {},
   "source": [
    "## Checking our inference"
   ]
  },
  {
   "cell_type": "code",
   "execution_count": 105,
   "id": "da320c1d",
   "metadata": {},
   "outputs": [
    {
     "data": {
      "image/png": "[encoded data removed]",
      "text/plain": [
       "<Figure size 864x144 with 2 Axes>"
      ]
     },
     "metadata": {
      "needs_background": "light"
     },
     "output_type": "display_data"
    }
   ],
   "source": [
    "az.plot_trace(idata_buckets);"
   ]
  },
  {
   "cell_type": "markdown",
   "id": "29f5ea2f",
   "metadata": {},
   "source": [
    "Now we can see something going on, but this doesn't exactly answer our question of how age relates to conversion directly. We can compare group to group but our boss specifically wants to know exactly how the percentage conversion drops by age."
   ]
  },
  {
   "cell_type": "markdown",
   "id": "36c6a5c3",
   "metadata": {},
   "source": [
    "## But wait we know regression!"
   ]
  },
  {
   "cell_type": "code",
   "execution_count": 21,
   "id": "023b2992",
   "metadata": {},
   "outputs": [],
   "source": [
    "with pm.Model() as ab_test:\n",
    "    sigma = pm.Normal(\"p_convert\", .001)\n",
    "    β = pm.Normal(\"β\", 0, .001, size=2)\n",
    "    \n",
    "    mu = pm.Deterministic(\"p\", β[0] + β[1]*df[\"age\"].to_numpy())\n",
    "    \n",
    "    # Switch to Bernoulli because we're predicting individual observations\n",
    "    obs = pm.Bernoulli(\"obs\", p=mu, observed=df[\"converted_bool\"].to_numpy())\n"
   ]
  },
  {
   "cell_type": "markdown",
   "id": "0b40ae18",
   "metadata": {},
   "source": [
    "If we take this to the logical extreme we could  plot conversion by age, but since conversion is just 0 or 1 we get this plot. How do we get a covariate for slope?"
   ]
  },
  {
   "cell_type": "markdown",
   "id": "5f83eaae",
   "metadata": {},
   "source": [
    "## Lets try sampling"
   ]
  },
  {
   "cell_type": "code",
   "execution_count": 22,
   "id": "01eb411c",
   "metadata": {},
   "outputs": [
    {
     "name": "stderr",
     "output_type": "stream",
     "text": [
      "Auto-assigning NUTS sampler...\n",
      "Initializing NUTS using jitter+adapt_diag...\n"
     ]
    },
    {
     "ename": "SamplingError",
     "evalue": "Initial evaluation of model at starting point failed!\nStarting values:\n{'p_convert': array(-0.4198583), 'β': array([-0.37321148, -0.45775558])}\n\nInitial evaluation results:\n{'p_convert': -1.01, 'β': -174401.51, 'obs': -inf}",
     "output_type": "error",
     "traceback": [
      "\u001b[0;31m---------------------------------------------------------------------------\u001b[0m",
      "\u001b[0;31mSamplingError\u001b[0m                             Traceback (most recent call last)",
      "\u001b[1;32m/Users/alex_andorra/repos/IntuitiveBayes/AdvancedRegressionInternal/lessons/lesson_04.ipynb Celda 27\u001b[0m in \u001b[0;36m<cell line: 1>\u001b[0;34m()\u001b[0m\n\u001b[1;32m      <a href='vscode-notebook-cell:/Users/alex_andorra/repos/IntuitiveBayes/AdvancedRegressionInternal/lessons/lesson_04.ipynb#X31sZmlsZQ%3D%3D?line=0'>1</a>\u001b[0m \u001b[39mwith\u001b[39;00m ab_test:\n\u001b[0;32m----> <a href='vscode-notebook-cell:/Users/alex_andorra/repos/IntuitiveBayes/AdvancedRegressionInternal/lessons/lesson_04.ipynb#X31sZmlsZQ%3D%3D?line=1'>2</a>\u001b[0m     idata_age_reg \u001b[39m=\u001b[39m pm\u001b[39m.\u001b[39;49msample()\n",
      "File \u001b[0;32m~/mambaforge/envs/intuitive_bayes/lib/python3.10/site-packages/pymc/sampling.py:558\u001b[0m, in \u001b[0;36msample\u001b[0;34m(draws, step, init, n_init, initvals, trace, chain_idx, chains, cores, tune, progressbar, model, random_seed, discard_tuned_samples, compute_convergence_checks, callback, jitter_max_retries, return_inferencedata, idata_kwargs, mp_ctx, **kwargs)\u001b[0m\n\u001b[1;32m    556\u001b[0m \u001b[39m# One final check that shapes and logps at the starting points are okay.\u001b[39;00m\n\u001b[1;32m    557\u001b[0m \u001b[39mfor\u001b[39;00m ip \u001b[39min\u001b[39;00m initial_points:\n\u001b[0;32m--> 558\u001b[0m     model\u001b[39m.\u001b[39;49mcheck_start_vals(ip)\n\u001b[1;32m    559\u001b[0m     _check_start_shape(model, ip)\n\u001b[1;32m    561\u001b[0m sample_args \u001b[39m=\u001b[39m {\n\u001b[1;32m    562\u001b[0m     \u001b[39m\"\u001b[39m\u001b[39mdraws\u001b[39m\u001b[39m\"\u001b[39m: draws,\n\u001b[1;32m    563\u001b[0m     \u001b[39m\"\u001b[39m\u001b[39mstep\u001b[39m\u001b[39m\"\u001b[39m: step,\n\u001b[0;32m   (...)\u001b[0m\n\u001b[1;32m    573\u001b[0m     \u001b[39m\"\u001b[39m\u001b[39mdiscard_tuned_samples\u001b[39m\u001b[39m\"\u001b[39m: discard_tuned_samples,\n\u001b[1;32m    574\u001b[0m }\n",
      "File \u001b[0;32m~/mambaforge/envs/intuitive_bayes/lib/python3.10/site-packages/pymc/model.py:1725\u001b[0m, in \u001b[0;36mModel.check_start_vals\u001b[0;34m(self, start)\u001b[0m\n\u001b[1;32m   1722\u001b[0m initial_eval \u001b[39m=\u001b[39m \u001b[39mself\u001b[39m\u001b[39m.\u001b[39mpoint_logps(point\u001b[39m=\u001b[39melem)\n\u001b[1;32m   1724\u001b[0m \u001b[39mif\u001b[39;00m \u001b[39mnot\u001b[39;00m \u001b[39mall\u001b[39m(np\u001b[39m.\u001b[39misfinite(v) \u001b[39mfor\u001b[39;00m v \u001b[39min\u001b[39;00m initial_eval\u001b[39m.\u001b[39mvalues()):\n\u001b[0;32m-> 1725\u001b[0m     \u001b[39mraise\u001b[39;00m SamplingError(\n\u001b[1;32m   1726\u001b[0m         \u001b[39m\"\u001b[39m\u001b[39mInitial evaluation of model at starting point failed!\u001b[39m\u001b[39m\\n\u001b[39;00m\u001b[39m\"\u001b[39m\n\u001b[1;32m   1727\u001b[0m         \u001b[39mf\u001b[39m\u001b[39m\"\u001b[39m\u001b[39mStarting values:\u001b[39m\u001b[39m\\n\u001b[39;00m\u001b[39m{\u001b[39;00melem\u001b[39m}\u001b[39;00m\u001b[39m\\n\u001b[39;00m\u001b[39m\\n\u001b[39;00m\u001b[39m\"\u001b[39m\n\u001b[1;32m   1728\u001b[0m         \u001b[39mf\u001b[39m\u001b[39m\"\u001b[39m\u001b[39mInitial evaluation results:\u001b[39m\u001b[39m\\n\u001b[39;00m\u001b[39m{\u001b[39;00minitial_eval\u001b[39m}\u001b[39;00m\u001b[39m\"\u001b[39m\n\u001b[1;32m   1729\u001b[0m     )\n",
      "\u001b[0;31mSamplingError\u001b[0m: Initial evaluation of model at starting point failed!\nStarting values:\n{'p_convert': array(-0.4198583), 'β': array([-0.37321148, -0.45775558])}\n\nInitial evaluation results:\n{'p_convert': -1.01, 'β': -174401.51, 'obs': -inf}"
     ]
    }
   ],
   "source": [
    "with ab_test:\n",
    "    idata_age_reg = pm.sample()"
   ]
  },
  {
   "cell_type": "markdown",
   "id": "70d04b60",
   "metadata": {},
   "source": [
    "Ugh we're running into sampler issues. Looking at the error we see some things about negative p_convert but we don't ahve time for this"
   ]
  },
  {
   "cell_type": "markdown",
   "id": "e5464203",
   "metadata": {},
   "source": [
    "## Forget Bayes. Go back to OLS"
   ]
  },
  {
   "cell_type": "code",
   "execution_count": 193,
   "id": "df0f8d0f",
   "metadata": {},
   "outputs": [
    {
     "data": {
      "text/plain": [
       "Intercept    0.701618\n",
       "age         -0.012451\n",
       "dtype: float64"
      ]
     },
     "execution_count": 193,
     "metadata": {},
     "output_type": "execute_result"
    }
   ],
   "source": [
    "import statsmodels.formula.api as smf\n",
    "results = smf.ols('converted_bool ~ age', data=df).fit()\n",
    "results.params"
   ]
  },
  {
   "cell_type": "markdown",
   "id": "429551b4",
   "metadata": {},
   "source": [
    "We obviously see a trend related to age though and we want to use regression. Our bayesian regression isn't working so lets just go to statsmodel and use ordinary least squares. A\n",
    "\n",
    "And look we immediately get an answer. The probability of conversin drop 1% for every year \n",
    "Check it out, now we know the prob of conversion across our observed vals. \n",
    "\n",
    "Lets go tell our boss!"
   ]
  },
  {
   "cell_type": "markdown",
   "id": "b6ff07eb",
   "metadata": {},
   "source": [
    "## Issues when we look at our result"
   ]
  },
  {
   "cell_type": "code",
   "execution_count": 195,
   "id": "3145fb6c",
   "metadata": {},
   "outputs": [
    {
     "data": {
      "text/plain": [
       "<matplotlib.legend.Legend at 0x7f8447c59b10>"
      ]
     },
     "execution_count": 195,
     "metadata": {},
     "output_type": "execute_result"
    },
    {
     "data": {
      "image/png": "[encoded data removed]",
      "text/plain": [
       "<Figure size 432x288 with 1 Axes>"
      ]
     },
     "metadata": {
      "needs_background": "light"
     },
     "output_type": "display_data"
    }
   ],
   "source": [
    "fig, ax = plt.subplots(1)\n",
    "\n",
    "converted_filter = df[\"converted_bool\"].astype(bool)\n",
    "# Add some jitter\n",
    "\n",
    "jittered_y = df[\"converted_bool\"] + stats.norm(scale=.05).rvs(df.shape[0])\n",
    "\n",
    "alpha = .3\n",
    "ax.scatter(df.loc[converted_filter, \"age\"],\n",
    "          jittered_y[converted_filter],\n",
    "          label=\"Converted\",\n",
    "          alpha=alpha)\n",
    "\n",
    "ax.scatter( df.loc[~converted_filter, \"age\"],\n",
    "           jittered_y[~converted_filter],\n",
    "           label=\"Not Converted\",\n",
    "           alpha=alpha)\n",
    "\n",
    "\n",
    "age_x = np.linspace(df[\"age\"].min(), 80, 1000 )\n",
    "y_pred = results.params[0] + results.params[1]*age_x\n",
    "plt.plot(age_x, y_pred)\n",
    "plt.legend()"
   ]
  },
  {
   "cell_type": "markdown",
   "id": "601b7997",
   "metadata": {},
   "source": [
    "But before we do lets just double check out plot. \n",
    "Negative probability? This is why our sampler was failing, it was telling us something\n",
    "Oh man if we had reported these results we would have been fired\n",
    "But look at the age of 60, something seems off?\n"
   ]
  },
  {
   "cell_type": "markdown",
   "id": "75b89486",
   "metadata": {},
   "source": [
    "## Section Recap\n",
    "* Discrete AB testing is quite straightforward\n",
    "* Run into issues when we're trying to estimate prob against a continuous variable\n",
    "  * Discretizing isn't super usfeul\n",
    "* Regression against average has\n",
    "  * Non continuous\n",
    "  * Probability can go over 0 and 1 which is impossible\n",
    "* A big advantage of modern Bayesian frameworks is they \"tell you\" when something is wrong\n",
    "  *  The standard solvers in most other tools don't tell you when something is wrong!\n",
    "  * They just give you an answer"
   ]
  },
  {
   "cell_type": "markdown",
   "id": "2d79734b",
   "metadata": {},
   "source": [
    "# Section 40: Link Functions\n"
   ]
  },
  {
   "cell_type": "markdown",
   "id": "0f577569",
   "metadata": {},
   "source": [
    "## Statistics and math review\n",
    "* Probability is 0 1 bounded\n",
    "* Linear regression is not"
   ]
  },
  {
   "cell_type": "markdown",
   "id": "a932293b",
   "metadata": {},
   "source": [
    "Linear regression will \n",
    "What if we can remap our observed to be between 0 and 1?\n",
    "\n",
    "\n",
    "Turns out we you already know how. Remember our log transformation in the last lesson? What if we can apply a transformation?"
   ]
  },
  {
   "cell_type": "markdown",
   "id": "a6fae345",
   "metadata": {},
   "source": [
    "## Sigmoid transformation\n",
    "$$ \\large\n",
    "S(x) = \\frac{1}{1 + e^{-x}} = \\frac{e^x}{e^x + 1}\n",
    "$$\n",
    "\n",
    "Note this is also called\n",
    "* Logistic \n",
    "* Expit \n",
    "* Logistic Sigmoid"
   ]
  },
  {
   "cell_type": "markdown",
   "id": "76688c91",
   "metadata": {},
   "source": [
    "Here's what it looks like in math"
   ]
  },
  {
   "cell_type": "markdown",
   "id": "dfcfb9bb",
   "metadata": {},
   "source": [
    "## Plotting the Sigmoid function\n",
    "**Note** We will switch this to an animation to make it more clear what's happening"
   ]
  },
  {
   "cell_type": "code",
   "execution_count": null,
   "id": "29225552",
   "metadata": {},
   "outputs": [],
   "source": [
    "x = np.linspace(-10, 10, 1000)\n",
    "y = x\n",
    "transformed_y = 1/(1+np.exp(-x))"
   ]
  },
  {
   "cell_type": "code",
   "execution_count": 217,
   "id": "2f89ba2d",
   "metadata": {},
   "outputs": [
    {
     "data": {
      "text/plain": [
       "[<matplotlib.lines.Line2D at 0x7f83f52a7220>]"
      ]
     },
     "execution_count": 217,
     "metadata": {},
     "output_type": "execute_result"
    },
    {
     "data": {
      "image/png": "[encoded data removed]",
      "text/plain": [
       "<Figure size 1800x576 with 2 Axes>"
      ]
     },
     "metadata": {
      "needs_background": "light"
     },
     "output_type": "display_data"
    }
   ],
   "source": [
    "fig, axes = plt.subplots(1,2, figsize=(25,8))\n",
    "axes[0].plot(x, y)\n",
    "axes[1].plot(x, transformed_y)"
   ]
  },
  {
   "cell_type": "markdown",
   "id": "51cbb7a0",
   "metadata": {},
   "source": [
    "And here's what it looks like in code"
   ]
  },
  {
   "cell_type": "markdown",
   "id": "53bcaaa0",
   "metadata": {},
   "source": [
    "## Logistic Regression in PyMC"
   ]
  },
  {
   "cell_type": "code",
   "execution_count": 237,
   "id": "9937ad3f",
   "metadata": {},
   "outputs": [
    {
     "name": "stderr",
     "output_type": "stream",
     "text": [
      "Auto-assigning NUTS sampler...\n",
      "Initializing NUTS using jitter+adapt_diag...\n",
      "Multiprocess sampling (4 chains in 4 jobs)\n",
      "NUTS: [p_convert, β]\n"
     ]
    },
    {
     "data": {
      "text/html": [
       "\n",
       "<style>\n",
       "    /* Turns off some styling */\n",
       "    progress {\n",
       "        /* gets rid of default border in Firefox and Opera. */\n",
       "        border: none;\n",
       "        /* Needs to be in here for Safari polyfill so background images work as expected. */\n",
       "        background-size: auto;\n",
       "    }\n",
       "    progress:not([value]), progress:not([value])::-webkit-progress-bar {\n",
       "        background: repeating-linear-gradient(45deg, #7e7e7e, #7e7e7e 10px, #5c5c5c 10px, #5c5c5c 20px);\n",
       "    }\n",
       "    .progress-bar-interrupted, .progress-bar-interrupted::-webkit-progress-bar {\n",
       "        background: #F44336;\n",
       "    }\n",
       "</style>\n"
      ],
      "text/plain": [
       "<IPython.core.display.HTML object>"
      ]
     },
     "metadata": {},
     "output_type": "display_data"
    },
    {
     "data": {
      "text/html": [
       "\n",
       "    <div>\n",
       "      <progress value='8000' class='' max='8000' style='width:300px; height:20px; vertical-align: middle;'></progress>\n",
       "      100.00% [8000/8000 00:08&lt;00:00 Sampling 4 chains, 0 divergences]\n",
       "    </div>\n",
       "    "
      ],
      "text/plain": [
       "<IPython.core.display.HTML object>"
      ]
     },
     "metadata": {},
     "output_type": "display_data"
    },
    {
     "name": "stderr",
     "output_type": "stream",
     "text": [
      "Sampling 4 chains for 1_000 tune and 1_000 draw iterations (4_000 + 4_000 draws total) took 9 seconds.\n",
      "The acceptance probability does not match the target. It is 0.8823, but should be close to 0.8. Try to increase the number of tuning steps.\n"
     ]
    }
   ],
   "source": [
    "from scipy import special\n",
    "with pm.Model() as ab_test:\n",
    "    \n",
    "    # This is all the same linear regression as before\n",
    "    sigma = pm.Normal(\"p_convert\", 1)\n",
    "    β = pm.Normal(\"β\", 0, 1, size=2)\n",
    "    \n",
    "    mu = pm.Deterministic(\"mu\", β[0] + β[1]*df[\"age\"])\n",
    "    \n",
    "    # Our is our new sigmoid transoformation\n",
    "    p = pm.Deterministic(\"p\", pm.math.sigmoid(mu))\n",
    "    \n",
    "    # Switch to Bernoulli because we're predicting individual observations\n",
    "    obs = pm.Bernoulli(\"obs\", p=p, observed=df[\"converted_bool\"].values)\n",
    "    idata_sigmoid = pm.sample()"
   ]
  },
  {
   "cell_type": "code",
   "execution_count": 238,
   "id": "1bf24f28",
   "metadata": {},
   "outputs": [
    {
     "data": {
      "text/html": [
       "<div>\n",
       "<style scoped>\n",
       "    .dataframe tbody tr th:only-of-type {\n",
       "        vertical-align: middle;\n",
       "    }\n",
       "\n",
       "    .dataframe tbody tr th {\n",
       "        vertical-align: top;\n",
       "    }\n",
       "\n",
       "    .dataframe thead th {\n",
       "        text-align: right;\n",
       "    }\n",
       "</style>\n",
       "<table border=\"1\" class=\"dataframe\">\n",
       "  <thead>\n",
       "    <tr style=\"text-align: right;\">\n",
       "      <th></th>\n",
       "      <th>mean</th>\n",
       "      <th>sd</th>\n",
       "      <th>hdi_3%</th>\n",
       "      <th>hdi_97%</th>\n",
       "      <th>mcse_mean</th>\n",
       "      <th>mcse_sd</th>\n",
       "      <th>ess_bulk</th>\n",
       "      <th>ess_tail</th>\n",
       "      <th>r_hat</th>\n",
       "    </tr>\n",
       "  </thead>\n",
       "  <tbody>\n",
       "    <tr>\n",
       "      <th>β[0]</th>\n",
       "      <td>1.587</td>\n",
       "      <td>0.265</td>\n",
       "      <td>1.074</td>\n",
       "      <td>2.079</td>\n",
       "      <td>0.007</td>\n",
       "      <td>0.005</td>\n",
       "      <td>1518.0</td>\n",
       "      <td>1953.0</td>\n",
       "      <td>1.0</td>\n",
       "    </tr>\n",
       "    <tr>\n",
       "      <th>β[1]</th>\n",
       "      <td>-0.080</td>\n",
       "      <td>0.008</td>\n",
       "      <td>-0.095</td>\n",
       "      <td>-0.066</td>\n",
       "      <td>0.000</td>\n",
       "      <td>0.000</td>\n",
       "      <td>1491.0</td>\n",
       "      <td>2075.0</td>\n",
       "      <td>1.0</td>\n",
       "    </tr>\n",
       "  </tbody>\n",
       "</table>\n",
       "</div>"
      ],
      "text/plain": [
       "       mean     sd  hdi_3%  hdi_97%  mcse_mean  mcse_sd  ess_bulk  ess_tail  \\\n",
       "β[0]  1.587  0.265   1.074    2.079      0.007    0.005    1518.0    1953.0   \n",
       "β[1] -0.080  0.008  -0.095   -0.066      0.000    0.000    1491.0    2075.0   \n",
       "\n",
       "      r_hat  \n",
       "β[0]    1.0  \n",
       "β[1]    1.0  "
      ]
     },
     "execution_count": 238,
     "metadata": {},
     "output_type": "execute_result"
    }
   ],
   "source": [
    "az.summary(idata_sigmoid, var_names=[\"β\"])"
   ]
  },
  {
   "cell_type": "code",
   "execution_count": 235,
   "id": "2676d8a1",
   "metadata": {},
   "outputs": [
    {
     "data": {
      "image/png": "[encoded data removed]",
      "text/plain": [
       "<Figure size 864x288 with 4 Axes>"
      ]
     },
     "metadata": {
      "needs_background": "light"
     },
     "output_type": "display_data"
    }
   ],
   "source": [
    "az.plot_trace(idata_sigmoid, var_names=[\"β\"], compact=False, kind=\"rank_bars\");"
   ]
  },
  {
   "cell_type": "markdown",
   "id": "d903d2b7",
   "metadata": {},
   "source": [
    "## This is a generalized linear model\n",
    "$$\n",
    "g(\\mu_i) = \\eta_i = \\mathbf{x}_i^T\\mathbf{\\beta}\n",
    "$$"
   ]
  },
  {
   "cell_type": "markdown",
   "id": "9ad63cb5",
   "metadata": {},
   "source": [
    "We took an ordinary linear regression, and how we've generalized it. Its typically notated as this\n",
    "\n",
    "G is the the **link function** in this case sigmoid. You're going to see other versions of this in the upcoming lesson"
   ]
  },
  {
   "cell_type": "markdown",
   "id": "b3372e4e",
   "metadata": {},
   "source": [
    "## Link functions in Bambi"
   ]
  },
  {
   "cell_type": "code",
   "execution_count": 25,
   "id": "108f3744",
   "metadata": {},
   "outputs": [
    {
     "name": "stderr",
     "output_type": "stream",
     "text": [
      "Modeling the probability that converted==Yes\n",
      "Auto-assigning NUTS sampler...\n",
      "Initializing NUTS using jitter+adapt_diag...\n",
      "Multiprocess sampling (4 chains in 4 jobs)\n",
      "NUTS: [Intercept, age]\n"
     ]
    },
    {
     "data": {
      "text/html": [
       "\n",
       "<style>\n",
       "    /* Turns off some styling */\n",
       "    progress {\n",
       "        /* gets rid of default border in Firefox and Opera. */\n",
       "        border: none;\n",
       "        /* Needs to be in here for Safari polyfill so background images work as expected. */\n",
       "        background-size: auto;\n",
       "    }\n",
       "    .progress-bar-interrupted, .progress-bar-interrupted::-webkit-progress-bar {\n",
       "        background: #F44336;\n",
       "    }\n",
       "</style>\n"
      ],
      "text/plain": [
       "<IPython.core.display.HTML object>"
      ]
     },
     "metadata": {},
     "output_type": "display_data"
    },
    {
     "data": {
      "text/html": [
       "\n",
       "    <div>\n",
       "      <progress value='12000' class='' max='12000' style='width:300px; height:20px; vertical-align: middle;'></progress>\n",
       "      100.00% [12000/12000 00:02<00:00 Sampling 4 chains, 0 divergences]\n",
       "    </div>\n",
       "    "
      ],
      "text/plain": [
       "<IPython.core.display.HTML object>"
      ]
     },
     "metadata": {},
     "output_type": "display_data"
    },
    {
     "name": "stderr",
     "output_type": "stream",
     "text": [
      "Sampling 4 chains for 1_000 tune and 2_000 draw iterations (4_000 + 8_000 draws total) took 11 seconds.\n"
     ]
    },
    {
     "data": {
      "text/html": [
       "<div>\n",
       "<style scoped>\n",
       "    .dataframe tbody tr th:only-of-type {\n",
       "        vertical-align: middle;\n",
       "    }\n",
       "\n",
       "    .dataframe tbody tr th {\n",
       "        vertical-align: top;\n",
       "    }\n",
       "\n",
       "    .dataframe thead th {\n",
       "        text-align: right;\n",
       "    }\n",
       "</style>\n",
       "<table border=\"1\" class=\"dataframe\">\n",
       "  <thead>\n",
       "    <tr style=\"text-align: right;\">\n",
       "      <th></th>\n",
       "      <th>mean</th>\n",
       "      <th>sd</th>\n",
       "      <th>hdi_3%</th>\n",
       "      <th>hdi_97%</th>\n",
       "      <th>mcse_mean</th>\n",
       "      <th>mcse_sd</th>\n",
       "      <th>ess_bulk</th>\n",
       "      <th>ess_tail</th>\n",
       "      <th>r_hat</th>\n",
       "    </tr>\n",
       "  </thead>\n",
       "  <tbody>\n",
       "    <tr>\n",
       "      <th>Intercept</th>\n",
       "      <td>1.706</td>\n",
       "      <td>0.278</td>\n",
       "      <td>1.190</td>\n",
       "      <td>2.233</td>\n",
       "      <td>0.004</td>\n",
       "      <td>0.003</td>\n",
       "      <td>4318.0</td>\n",
       "      <td>5194.0</td>\n",
       "      <td>1.0</td>\n",
       "    </tr>\n",
       "    <tr>\n",
       "      <th>age</th>\n",
       "      <td>-0.084</td>\n",
       "      <td>0.008</td>\n",
       "      <td>-0.099</td>\n",
       "      <td>-0.068</td>\n",
       "      <td>0.000</td>\n",
       "      <td>0.000</td>\n",
       "      <td>3679.0</td>\n",
       "      <td>4613.0</td>\n",
       "      <td>1.0</td>\n",
       "    </tr>\n",
       "  </tbody>\n",
       "</table>\n",
       "</div>"
      ],
      "text/plain": [
       "            mean     sd  hdi_3%  hdi_97%  mcse_mean  mcse_sd  ess_bulk  \\\n",
       "Intercept  1.706  0.278   1.190    2.233      0.004    0.003    4318.0   \n",
       "age       -0.084  0.008  -0.099   -0.068      0.000    0.000    3679.0   \n",
       "\n",
       "           ess_tail  r_hat  \n",
       "Intercept    5194.0    1.0  \n",
       "age          4613.0    1.0  "
      ]
     },
     "execution_count": 25,
     "metadata": {},
     "output_type": "execute_result"
    }
   ],
   "source": [
    "model = bmb.Model(\"converted['Yes'] ~ age\", df, family=\"bernoulli\")\n",
    "idata = model.fit(draws=2000, target_accept=0.85, random_seed=SEED)\n",
    "az.summary(idata)"
   ]
  },
  {
   "cell_type": "markdown",
   "id": "ca355cbb",
   "metadata": {},
   "source": [
    "Turns out we can \n",
    "Look we get the same answer as the PyMC Model!"
   ]
  },
  {
   "cell_type": "markdown",
   "id": "47600aca",
   "metadata": {},
   "source": [
    "## Section Recap\n",
    "* Transformations are the tool that turns linear regression into generalized linear equations\n",
    "* Typically these are referred to as link functions "
   ]
  },
  {
   "cell_type": "markdown",
   "id": "b185ae33",
   "metadata": {},
   "source": [
    "# End to End Analysis with Bambi and A infinite testing\n",
    "Lets go through the Bayesian workflow step by step to ensure we have a reliable result for out boss"
   ]
  },
  {
   "cell_type": "markdown",
   "id": "0be56eff",
   "metadata": {},
   "source": [
    "## Single bool covariate regression"
   ]
  },
  {
   "cell_type": "code",
   "execution_count": 26,
   "id": "88fad139",
   "metadata": {},
   "outputs": [
    {
     "name": "stderr",
     "output_type": "stream",
     "text": [
      "Modeling the probability that converted==Yes\n",
      "Auto-assigning NUTS sampler...\n",
      "Initializing NUTS using jitter+adapt_diag...\n",
      "Multiprocess sampling (4 chains in 4 jobs)\n",
      "NUTS: [likes_videogames]\n"
     ]
    },
    {
     "data": {
      "text/html": [
       "\n",
       "<style>\n",
       "    /* Turns off some styling */\n",
       "    progress {\n",
       "        /* gets rid of default border in Firefox and Opera. */\n",
       "        border: none;\n",
       "        /* Needs to be in here for Safari polyfill so background images work as expected. */\n",
       "        background-size: auto;\n",
       "    }\n",
       "    .progress-bar-interrupted, .progress-bar-interrupted::-webkit-progress-bar {\n",
       "        background: #F44336;\n",
       "    }\n",
       "</style>\n"
      ],
      "text/plain": [
       "<IPython.core.display.HTML object>"
      ]
     },
     "metadata": {},
     "output_type": "display_data"
    },
    {
     "data": {
      "text/html": [
       "\n",
       "    <div>\n",
       "      <progress value='12000' class='' max='12000' style='width:300px; height:20px; vertical-align: middle;'></progress>\n",
       "      100.00% [12000/12000 00:01<00:00 Sampling 4 chains, 0 divergences]\n",
       "    </div>\n",
       "    "
      ],
      "text/plain": [
       "<IPython.core.display.HTML object>"
      ]
     },
     "metadata": {},
     "output_type": "display_data"
    },
    {
     "name": "stderr",
     "output_type": "stream",
     "text": [
      "Sampling 4 chains for 1_000 tune and 2_000 draw iterations (4_000 + 8_000 draws total) took 9 seconds.\n"
     ]
    },
    {
     "data": {
      "text/html": [
       "<div>\n",
       "<style scoped>\n",
       "    .dataframe tbody tr th:only-of-type {\n",
       "        vertical-align: middle;\n",
       "    }\n",
       "\n",
       "    .dataframe tbody tr th {\n",
       "        vertical-align: top;\n",
       "    }\n",
       "\n",
       "    .dataframe thead th {\n",
       "        text-align: right;\n",
       "    }\n",
       "</style>\n",
       "<table border=\"1\" class=\"dataframe\">\n",
       "  <thead>\n",
       "    <tr style=\"text-align: right;\">\n",
       "      <th></th>\n",
       "      <th>mean</th>\n",
       "      <th>sd</th>\n",
       "      <th>hdi_3%</th>\n",
       "      <th>hdi_97%</th>\n",
       "      <th>mcse_mean</th>\n",
       "      <th>mcse_sd</th>\n",
       "      <th>ess_bulk</th>\n",
       "      <th>ess_tail</th>\n",
       "      <th>r_hat</th>\n",
       "    </tr>\n",
       "  </thead>\n",
       "  <tbody>\n",
       "    <tr>\n",
       "      <th>likes_videogames[No]</th>\n",
       "      <td>-2.219</td>\n",
       "      <td>0.150</td>\n",
       "      <td>-2.495</td>\n",
       "      <td>-1.939</td>\n",
       "      <td>0.002</td>\n",
       "      <td>0.001</td>\n",
       "      <td>7177.0</td>\n",
       "      <td>5798.0</td>\n",
       "      <td>1.0</td>\n",
       "    </tr>\n",
       "    <tr>\n",
       "      <th>likes_videogames[Yes]</th>\n",
       "      <td>-0.584</td>\n",
       "      <td>0.097</td>\n",
       "      <td>-0.766</td>\n",
       "      <td>-0.402</td>\n",
       "      <td>0.001</td>\n",
       "      <td>0.001</td>\n",
       "      <td>6382.0</td>\n",
       "      <td>4213.0</td>\n",
       "      <td>1.0</td>\n",
       "    </tr>\n",
       "  </tbody>\n",
       "</table>\n",
       "</div>"
      ],
      "text/plain": [
       "                        mean     sd  hdi_3%  hdi_97%  mcse_mean  mcse_sd  \\\n",
       "likes_videogames[No]  -2.219  0.150  -2.495   -1.939      0.002    0.001   \n",
       "likes_videogames[Yes] -0.584  0.097  -0.766   -0.402      0.001    0.001   \n",
       "\n",
       "                       ess_bulk  ess_tail  r_hat  \n",
       "likes_videogames[No]     7177.0    5798.0    1.0  \n",
       "likes_videogames[Yes]    6382.0    4213.0    1.0  "
      ]
     },
     "execution_count": 26,
     "metadata": {},
     "output_type": "execute_result"
    }
   ],
   "source": [
    "model = bmb.Model(\"converted['Yes'] ~ likes_videogames+0\", df, family=\"bernoulli\")\n",
    "idata = model.fit(draws=2000, target_accept=0.85, random_seed=SEED)\n",
    "az.summary(idata)"
   ]
  },
  {
   "cell_type": "code",
   "execution_count": 27,
   "id": "76e7fc02",
   "metadata": {},
   "outputs": [
    {
     "data": {
      "text/plain": [
       "likes_videogames[No]     0.098057\n",
       "likes_videogames[Yes]    0.358013\n",
       "Name: mean, dtype: float64"
      ]
     },
     "execution_count": 27,
     "metadata": {},
     "output_type": "execute_result"
    }
   ],
   "source": [
    "special.expit(az.summary(idata)[\"mean\"])"
   ]
  },
  {
   "cell_type": "markdown",
   "id": "b47f40a1",
   "metadata": {},
   "source": [
    "Lets start with the easiest thing. Now check this out. Do these numbers look familiar? that's because its the exact same thing as our first AB Test how cool is that? When we transform the means we end up with our original probabilities"
   ]
  },
  {
   "cell_type": "markdown",
   "id": "e824c273",
   "metadata": {},
   "source": [
    "## Lets fit on age and A infinite testing"
   ]
  },
  {
   "cell_type": "code",
   "execution_count": 28,
   "id": "8b44029b",
   "metadata": {},
   "outputs": [
    {
     "name": "stderr",
     "output_type": "stream",
     "text": [
      "Modeling the probability that converted==Yes\n",
      "Auto-assigning NUTS sampler...\n",
      "Initializing NUTS using jitter+adapt_diag...\n",
      "Multiprocess sampling (4 chains in 4 jobs)\n",
      "NUTS: [Intercept, age]\n"
     ]
    },
    {
     "data": {
      "text/html": [
       "\n",
       "<style>\n",
       "    /* Turns off some styling */\n",
       "    progress {\n",
       "        /* gets rid of default border in Firefox and Opera. */\n",
       "        border: none;\n",
       "        /* Needs to be in here for Safari polyfill so background images work as expected. */\n",
       "        background-size: auto;\n",
       "    }\n",
       "    .progress-bar-interrupted, .progress-bar-interrupted::-webkit-progress-bar {\n",
       "        background: #F44336;\n",
       "    }\n",
       "</style>\n"
      ],
      "text/plain": [
       "<IPython.core.display.HTML object>"
      ]
     },
     "metadata": {},
     "output_type": "display_data"
    },
    {
     "data": {
      "text/html": [
       "\n",
       "    <div>\n",
       "      <progress value='12000' class='' max='12000' style='width:300px; height:20px; vertical-align: middle;'></progress>\n",
       "      100.00% [12000/12000 00:02<00:00 Sampling 4 chains, 0 divergences]\n",
       "    </div>\n",
       "    "
      ],
      "text/plain": [
       "<IPython.core.display.HTML object>"
      ]
     },
     "metadata": {},
     "output_type": "display_data"
    },
    {
     "name": "stderr",
     "output_type": "stream",
     "text": [
      "Sampling 4 chains for 1_000 tune and 2_000 draw iterations (4_000 + 8_000 draws total) took 12 seconds.\n"
     ]
    },
    {
     "data": {
      "text/html": [
       "<div>\n",
       "<style scoped>\n",
       "    .dataframe tbody tr th:only-of-type {\n",
       "        vertical-align: middle;\n",
       "    }\n",
       "\n",
       "    .dataframe tbody tr th {\n",
       "        vertical-align: top;\n",
       "    }\n",
       "\n",
       "    .dataframe thead th {\n",
       "        text-align: right;\n",
       "    }\n",
       "</style>\n",
       "<table border=\"1\" class=\"dataframe\">\n",
       "  <thead>\n",
       "    <tr style=\"text-align: right;\">\n",
       "      <th></th>\n",
       "      <th>mean</th>\n",
       "      <th>sd</th>\n",
       "      <th>hdi_3%</th>\n",
       "      <th>hdi_97%</th>\n",
       "      <th>mcse_mean</th>\n",
       "      <th>mcse_sd</th>\n",
       "      <th>ess_bulk</th>\n",
       "      <th>ess_tail</th>\n",
       "      <th>r_hat</th>\n",
       "    </tr>\n",
       "  </thead>\n",
       "  <tbody>\n",
       "    <tr>\n",
       "      <th>Intercept</th>\n",
       "      <td>1.706</td>\n",
       "      <td>0.278</td>\n",
       "      <td>1.190</td>\n",
       "      <td>2.233</td>\n",
       "      <td>0.004</td>\n",
       "      <td>0.003</td>\n",
       "      <td>4318.0</td>\n",
       "      <td>5194.0</td>\n",
       "      <td>1.0</td>\n",
       "    </tr>\n",
       "    <tr>\n",
       "      <th>age</th>\n",
       "      <td>-0.084</td>\n",
       "      <td>0.008</td>\n",
       "      <td>-0.099</td>\n",
       "      <td>-0.068</td>\n",
       "      <td>0.000</td>\n",
       "      <td>0.000</td>\n",
       "      <td>3679.0</td>\n",
       "      <td>4613.0</td>\n",
       "      <td>1.0</td>\n",
       "    </tr>\n",
       "  </tbody>\n",
       "</table>\n",
       "</div>"
      ],
      "text/plain": [
       "            mean     sd  hdi_3%  hdi_97%  mcse_mean  mcse_sd  ess_bulk  \\\n",
       "Intercept  1.706  0.278   1.190    2.233      0.004    0.003    4318.0   \n",
       "age       -0.084  0.008  -0.099   -0.068      0.000    0.000    3679.0   \n",
       "\n",
       "           ess_tail  r_hat  \n",
       "Intercept    5194.0    1.0  \n",
       "age          4613.0    1.0  "
      ]
     },
     "execution_count": 28,
     "metadata": {},
     "output_type": "execute_result"
    }
   ],
   "source": [
    "model = bmb.Model(\"converted['Yes'] ~ age\", df, family=\"bernoulli\")\n",
    "idata = model.fit(draws=2000, target_accept=0.85, random_seed=SEED)\n",
    "az.summary(idata)"
   ]
  },
  {
   "cell_type": "code",
   "execution_count": 29,
   "id": "45b2c46b",
   "metadata": {},
   "outputs": [
    {
     "data": {
      "image/png": "[encoded data removed]",
      "text/plain": [
       "<Figure size 648x432 with 1 Axes>"
      ]
     },
     "metadata": {
      "needs_background": "light"
     },
     "output_type": "display_data"
    }
   ],
   "source": [
    "from bambi.plots import plot_cap\n",
    "fig, ax = plt.subplots(figsize=(9, 6))\n",
    "plot_cap(model, idata, [\"age\"], ax=ax);"
   ]
  },
  {
   "cell_type": "markdown",
   "id": "07edde4e",
   "metadata": {},
   "source": [
    "Check this out! We have the answer for our boss. As age increase prob decrease by this much.\n",
    "\n",
    "This is basically A infinite testing because we have the p value as an INFINITE amount of ages along the x range. How freaking cool is that?"
   ]
  },
  {
   "cell_type": "markdown",
   "id": "250c521c",
   "metadata": {},
   "source": [
    "## Lets fit on age and likes videogames\n"
   ]
  },
  {
   "cell_type": "code",
   "execution_count": 30,
   "id": "5fd96188",
   "metadata": {},
   "outputs": [
    {
     "name": "stderr",
     "output_type": "stream",
     "text": [
      "Modeling the probability that converted==Yes\n",
      "Auto-assigning NUTS sampler...\n",
      "Initializing NUTS using jitter+adapt_diag...\n",
      "Multiprocess sampling (4 chains in 4 jobs)\n",
      "NUTS: [Intercept, age, likes_videogames]\n"
     ]
    },
    {
     "data": {
      "text/html": [
       "\n",
       "<style>\n",
       "    /* Turns off some styling */\n",
       "    progress {\n",
       "        /* gets rid of default border in Firefox and Opera. */\n",
       "        border: none;\n",
       "        /* Needs to be in here for Safari polyfill so background images work as expected. */\n",
       "        background-size: auto;\n",
       "    }\n",
       "    .progress-bar-interrupted, .progress-bar-interrupted::-webkit-progress-bar {\n",
       "        background: #F44336;\n",
       "    }\n",
       "</style>\n"
      ],
      "text/plain": [
       "<IPython.core.display.HTML object>"
      ]
     },
     "metadata": {},
     "output_type": "display_data"
    },
    {
     "data": {
      "text/html": [
       "\n",
       "    <div>\n",
       "      <progress value='12000' class='' max='12000' style='width:300px; height:20px; vertical-align: middle;'></progress>\n",
       "      100.00% [12000/12000 00:02<00:00 Sampling 4 chains, 0 divergences]\n",
       "    </div>\n",
       "    "
      ],
      "text/plain": [
       "<IPython.core.display.HTML object>"
      ]
     },
     "metadata": {},
     "output_type": "display_data"
    },
    {
     "name": "stderr",
     "output_type": "stream",
     "text": [
      "Sampling 4 chains for 1_000 tune and 2_000 draw iterations (4_000 + 8_000 draws total) took 11 seconds.\n"
     ]
    },
    {
     "data": {
      "text/html": [
       "<div>\n",
       "<style scoped>\n",
       "    .dataframe tbody tr th:only-of-type {\n",
       "        vertical-align: middle;\n",
       "    }\n",
       "\n",
       "    .dataframe tbody tr th {\n",
       "        vertical-align: top;\n",
       "    }\n",
       "\n",
       "    .dataframe thead th {\n",
       "        text-align: right;\n",
       "    }\n",
       "</style>\n",
       "<table border=\"1\" class=\"dataframe\">\n",
       "  <thead>\n",
       "    <tr style=\"text-align: right;\">\n",
       "      <th></th>\n",
       "      <th>mean</th>\n",
       "      <th>sd</th>\n",
       "      <th>hdi_3%</th>\n",
       "      <th>hdi_97%</th>\n",
       "      <th>mcse_mean</th>\n",
       "      <th>mcse_sd</th>\n",
       "      <th>ess_bulk</th>\n",
       "      <th>ess_tail</th>\n",
       "      <th>r_hat</th>\n",
       "    </tr>\n",
       "  </thead>\n",
       "  <tbody>\n",
       "    <tr>\n",
       "      <th>Intercept</th>\n",
       "      <td>1.010</td>\n",
       "      <td>0.304</td>\n",
       "      <td>0.443</td>\n",
       "      <td>1.574</td>\n",
       "      <td>0.003</td>\n",
       "      <td>0.002</td>\n",
       "      <td>8509.0</td>\n",
       "      <td>6175.0</td>\n",
       "      <td>1.0</td>\n",
       "    </tr>\n",
       "    <tr>\n",
       "      <th>age</th>\n",
       "      <td>-0.097</td>\n",
       "      <td>0.009</td>\n",
       "      <td>-0.113</td>\n",
       "      <td>-0.080</td>\n",
       "      <td>0.000</td>\n",
       "      <td>0.000</td>\n",
       "      <td>4850.0</td>\n",
       "      <td>4939.0</td>\n",
       "      <td>1.0</td>\n",
       "    </tr>\n",
       "    <tr>\n",
       "      <th>likes_videogames[Yes]</th>\n",
       "      <td>1.978</td>\n",
       "      <td>0.200</td>\n",
       "      <td>1.611</td>\n",
       "      <td>2.354</td>\n",
       "      <td>0.003</td>\n",
       "      <td>0.002</td>\n",
       "      <td>5501.0</td>\n",
       "      <td>5687.0</td>\n",
       "      <td>1.0</td>\n",
       "    </tr>\n",
       "  </tbody>\n",
       "</table>\n",
       "</div>"
      ],
      "text/plain": [
       "                        mean     sd  hdi_3%  hdi_97%  mcse_mean  mcse_sd  \\\n",
       "Intercept              1.010  0.304   0.443    1.574      0.003    0.002   \n",
       "age                   -0.097  0.009  -0.113   -0.080      0.000    0.000   \n",
       "likes_videogames[Yes]  1.978  0.200   1.611    2.354      0.003    0.002   \n",
       "\n",
       "                       ess_bulk  ess_tail  r_hat  \n",
       "Intercept                8509.0    6175.0    1.0  \n",
       "age                      4850.0    4939.0    1.0  \n",
       "likes_videogames[Yes]    5501.0    5687.0    1.0  "
      ]
     },
     "execution_count": 30,
     "metadata": {},
     "output_type": "execute_result"
    }
   ],
   "source": [
    "model = bmb.Model(\"converted['Yes'] ~ age + likes_videogames\", df, family=\"bernoulli\")\n",
    "idata = model.fit(draws=2000, target_accept=0.85, random_seed=SEED)\n",
    "az.summary(idata)"
   ]
  },
  {
   "cell_type": "code",
   "execution_count": 31,
   "id": "82605b7d",
   "metadata": {},
   "outputs": [
    {
     "data": {
      "image/png": "[encoded data removed]",
      "text/plain": [
       "<Figure size 648x432 with 1 Axes>"
      ]
     },
     "metadata": {
      "needs_background": "light"
     },
     "output_type": "display_data"
    }
   ],
   "source": [
    "fig, ax = plt.subplots(figsize=(9, 6))\n",
    "plot_cap(model, idata, [\"age\", \"likes_videogames\"], ax=ax);"
   ]
  },
  {
   "cell_type": "markdown",
   "id": "5ca6b810",
   "metadata": {},
   "source": [
    "Holy crap guys this result is truly mindblowing. Not only do we know the prob at every age. When we control for whether people like videogames or not we see a totally different trend.\n",
    "\n",
    "Now when you go talk to your boss you not only provided the age insight, but you can recommend who to target per age and preference. And with this intuitive plot your boss is sure to give you a rise!"
   ]
  },
  {
   "cell_type": "markdown",
   "id": "701580d3",
   "metadata": {},
   "source": [
    "## Making a prediction"
   ]
  },
  {
   "cell_type": "code",
   "execution_count": 32,
   "id": "1c04e3d8",
   "metadata": {},
   "outputs": [],
   "source": [
    "df_predict = pd.DataFrame({\"age\": [20, 30, 40], \"likes_videogames\":[\"No\",\"Yes\", \"Yes\"]})\n",
    "predictions = model.predict(idata, data=df_predict, inplace=False, kind=\"pps\")"
   ]
  },
  {
   "cell_type": "code",
   "execution_count": 33,
   "id": "c591bab0",
   "metadata": {},
   "outputs": [
    {
     "data": {
      "text/html": [
       "<div><svg style=\"position: absolute; width: 0; height: 0; overflow: hidden\">\n",
       "<defs>\n",
       "<symbol id=\"icon-database\" viewBox=\"0 0 32 32\">\n",
       "<path d=\"M16 0c-8.837 0-16 2.239-16 5v4c0 2.761 7.163 5 16 5s16-2.239 16-5v-4c0-2.761-7.163-5-16-5z\"></path>\n",
       "<path d=\"M16 17c-8.837 0-16-2.239-16-5v6c0 2.761 7.163 5 16 5s16-2.239 16-5v-6c0 2.761-7.163 5-16 5z\"></path>\n",
       "<path d=\"M16 26c-8.837 0-16-2.239-16-5v6c0 2.761 7.163 5 16 5s16-2.239 16-5v-6c0 2.761-7.163 5-16 5z\"></path>\n",
       "</symbol>\n",
       "<symbol id=\"icon-file-text2\" viewBox=\"0 0 32 32\">\n",
       "<path d=\"M28.681 7.159c-0.694-0.947-1.662-2.053-2.724-3.116s-2.169-2.030-3.116-2.724c-1.612-1.182-2.393-1.319-2.841-1.319h-15.5c-1.378 0-2.5 1.121-2.5 2.5v27c0 1.378 1.122 2.5 2.5 2.5h23c1.378 0 2.5-1.122 2.5-2.5v-19.5c0-0.448-0.137-1.23-1.319-2.841zM24.543 5.457c0.959 0.959 1.712 1.825 2.268 2.543h-4.811v-4.811c0.718 0.556 1.584 1.309 2.543 2.268zM28 29.5c0 0.271-0.229 0.5-0.5 0.5h-23c-0.271 0-0.5-0.229-0.5-0.5v-27c0-0.271 0.229-0.5 0.5-0.5 0 0 15.499-0 15.5 0v7c0 0.552 0.448 1 1 1h7v19.5z\"></path>\n",
       "<path d=\"M23 26h-14c-0.552 0-1-0.448-1-1s0.448-1 1-1h14c0.552 0 1 0.448 1 1s-0.448 1-1 1z\"></path>\n",
       "<path d=\"M23 22h-14c-0.552 0-1-0.448-1-1s0.448-1 1-1h14c0.552 0 1 0.448 1 1s-0.448 1-1 1z\"></path>\n",
       "<path d=\"M23 18h-14c-0.552 0-1-0.448-1-1s0.448-1 1-1h14c0.552 0 1 0.448 1 1s-0.448 1-1 1z\"></path>\n",
       "</symbol>\n",
       "</defs>\n",
       "</svg>\n",
       "<style>/* CSS stylesheet for displaying xarray objects in jupyterlab.\n",
       " *\n",
       " */\n",
       "\n",
       ":root {\n",
       "  --xr-font-color0: var(--jp-content-font-color0, rgba(0, 0, 0, 1));\n",
       "  --xr-font-color2: var(--jp-content-font-color2, rgba(0, 0, 0, 0.54));\n",
       "  --xr-font-color3: var(--jp-content-font-color3, rgba(0, 0, 0, 0.38));\n",
       "  --xr-border-color: var(--jp-border-color2, #e0e0e0);\n",
       "  --xr-disabled-color: var(--jp-layout-color3, #bdbdbd);\n",
       "  --xr-background-color: var(--jp-layout-color0, white);\n",
       "  --xr-background-color-row-even: var(--jp-layout-color1, white);\n",
       "  --xr-background-color-row-odd: var(--jp-layout-color2, #eeeeee);\n",
       "}\n",
       "\n",
       "html[theme=dark],\n",
       "body.vscode-dark {\n",
       "  --xr-font-color0: rgba(255, 255, 255, 1);\n",
       "  --xr-font-color2: rgba(255, 255, 255, 0.54);\n",
       "  --xr-font-color3: rgba(255, 255, 255, 0.38);\n",
       "  --xr-border-color: #1F1F1F;\n",
       "  --xr-disabled-color: #515151;\n",
       "  --xr-background-color: #111111;\n",
       "  --xr-background-color-row-even: #111111;\n",
       "  --xr-background-color-row-odd: #313131;\n",
       "}\n",
       "\n",
       ".xr-wrap {\n",
       "  display: block !important;\n",
       "  min-width: 300px;\n",
       "  max-width: 700px;\n",
       "}\n",
       "\n",
       ".xr-text-repr-fallback {\n",
       "  /* fallback to plain text repr when CSS is not injected (untrusted notebook) */\n",
       "  display: none;\n",
       "}\n",
       "\n",
       ".xr-header {\n",
       "  padding-top: 6px;\n",
       "  padding-bottom: 6px;\n",
       "  margin-bottom: 4px;\n",
       "  border-bottom: solid 1px var(--xr-border-color);\n",
       "}\n",
       "\n",
       ".xr-header > div,\n",
       ".xr-header > ul {\n",
       "  display: inline;\n",
       "  margin-top: 0;\n",
       "  margin-bottom: 0;\n",
       "}\n",
       "\n",
       ".xr-obj-type,\n",
       ".xr-array-name {\n",
       "  margin-left: 2px;\n",
       "  margin-right: 10px;\n",
       "}\n",
       "\n",
       ".xr-obj-type {\n",
       "  color: var(--xr-font-color2);\n",
       "}\n",
       "\n",
       ".xr-sections {\n",
       "  padding-left: 0 !important;\n",
       "  display: grid;\n",
       "  grid-template-columns: 150px auto auto 1fr 20px 20px;\n",
       "}\n",
       "\n",
       ".xr-section-item {\n",
       "  display: contents;\n",
       "}\n",
       "\n",
       ".xr-section-item input {\n",
       "  display: none;\n",
       "}\n",
       "\n",
       ".xr-section-item input + label {\n",
       "  color: var(--xr-disabled-color);\n",
       "}\n",
       "\n",
       ".xr-section-item input:enabled + label {\n",
       "  cursor: pointer;\n",
       "  color: var(--xr-font-color2);\n",
       "}\n",
       "\n",
       ".xr-section-item input:enabled + label:hover {\n",
       "  color: var(--xr-font-color0);\n",
       "}\n",
       "\n",
       ".xr-section-summary {\n",
       "  grid-column: 1;\n",
       "  color: var(--xr-font-color2);\n",
       "  font-weight: 500;\n",
       "}\n",
       "\n",
       ".xr-section-summary > span {\n",
       "  display: inline-block;\n",
       "  padding-left: 0.5em;\n",
       "}\n",
       "\n",
       ".xr-section-summary-in:disabled + label {\n",
       "  color: var(--xr-font-color2);\n",
       "}\n",
       "\n",
       ".xr-section-summary-in + label:before {\n",
       "  display: inline-block;\n",
       "  content: '►';\n",
       "  font-size: 11px;\n",
       "  width: 15px;\n",
       "  text-align: center;\n",
       "}\n",
       "\n",
       ".xr-section-summary-in:disabled + label:before {\n",
       "  color: var(--xr-disabled-color);\n",
       "}\n",
       "\n",
       ".xr-section-summary-in:checked + label:before {\n",
       "  content: '▼';\n",
       "}\n",
       "\n",
       ".xr-section-summary-in:checked + label > span {\n",
       "  display: none;\n",
       "}\n",
       "\n",
       ".xr-section-summary,\n",
       ".xr-section-inline-details {\n",
       "  padding-top: 4px;\n",
       "  padding-bottom: 4px;\n",
       "}\n",
       "\n",
       ".xr-section-inline-details {\n",
       "  grid-column: 2 / -1;\n",
       "}\n",
       "\n",
       ".xr-section-details {\n",
       "  display: none;\n",
       "  grid-column: 1 / -1;\n",
       "  margin-bottom: 5px;\n",
       "}\n",
       "\n",
       ".xr-section-summary-in:checked ~ .xr-section-details {\n",
       "  display: contents;\n",
       "}\n",
       "\n",
       ".xr-array-wrap {\n",
       "  grid-column: 1 / -1;\n",
       "  display: grid;\n",
       "  grid-template-columns: 20px auto;\n",
       "}\n",
       "\n",
       ".xr-array-wrap > label {\n",
       "  grid-column: 1;\n",
       "  vertical-align: top;\n",
       "}\n",
       "\n",
       ".xr-preview {\n",
       "  color: var(--xr-font-color3);\n",
       "}\n",
       "\n",
       ".xr-array-preview,\n",
       ".xr-array-data {\n",
       "  padding: 0 5px !important;\n",
       "  grid-column: 2;\n",
       "}\n",
       "\n",
       ".xr-array-data,\n",
       ".xr-array-in:checked ~ .xr-array-preview {\n",
       "  display: none;\n",
       "}\n",
       "\n",
       ".xr-array-in:checked ~ .xr-array-data,\n",
       ".xr-array-preview {\n",
       "  display: inline-block;\n",
       "}\n",
       "\n",
       ".xr-dim-list {\n",
       "  display: inline-block !important;\n",
       "  list-style: none;\n",
       "  padding: 0 !important;\n",
       "  margin: 0;\n",
       "}\n",
       "\n",
       ".xr-dim-list li {\n",
       "  display: inline-block;\n",
       "  padding: 0;\n",
       "  margin: 0;\n",
       "}\n",
       "\n",
       ".xr-dim-list:before {\n",
       "  content: '(';\n",
       "}\n",
       "\n",
       ".xr-dim-list:after {\n",
       "  content: ')';\n",
       "}\n",
       "\n",
       ".xr-dim-list li:not(:last-child):after {\n",
       "  content: ',';\n",
       "  padding-right: 5px;\n",
       "}\n",
       "\n",
       ".xr-has-index {\n",
       "  font-weight: bold;\n",
       "}\n",
       "\n",
       ".xr-var-list,\n",
       ".xr-var-item {\n",
       "  display: contents;\n",
       "}\n",
       "\n",
       ".xr-var-item > div,\n",
       ".xr-var-item label,\n",
       ".xr-var-item > .xr-var-name span {\n",
       "  background-color: var(--xr-background-color-row-even);\n",
       "  margin-bottom: 0;\n",
       "}\n",
       "\n",
       ".xr-var-item > .xr-var-name:hover span {\n",
       "  padding-right: 5px;\n",
       "}\n",
       "\n",
       ".xr-var-list > li:nth-child(odd) > div,\n",
       ".xr-var-list > li:nth-child(odd) > label,\n",
       ".xr-var-list > li:nth-child(odd) > .xr-var-name span {\n",
       "  background-color: var(--xr-background-color-row-odd);\n",
       "}\n",
       "\n",
       ".xr-var-name {\n",
       "  grid-column: 1;\n",
       "}\n",
       "\n",
       ".xr-var-dims {\n",
       "  grid-column: 2;\n",
       "}\n",
       "\n",
       ".xr-var-dtype {\n",
       "  grid-column: 3;\n",
       "  text-align: right;\n",
       "  color: var(--xr-font-color2);\n",
       "}\n",
       "\n",
       ".xr-var-preview {\n",
       "  grid-column: 4;\n",
       "}\n",
       "\n",
       ".xr-var-name,\n",
       ".xr-var-dims,\n",
       ".xr-var-dtype,\n",
       ".xr-preview,\n",
       ".xr-attrs dt {\n",
       "  white-space: nowrap;\n",
       "  overflow: hidden;\n",
       "  text-overflow: ellipsis;\n",
       "  padding-right: 10px;\n",
       "}\n",
       "\n",
       ".xr-var-name:hover,\n",
       ".xr-var-dims:hover,\n",
       ".xr-var-dtype:hover,\n",
       ".xr-attrs dt:hover {\n",
       "  overflow: visible;\n",
       "  width: auto;\n",
       "  z-index: 1;\n",
       "}\n",
       "\n",
       ".xr-var-attrs,\n",
       ".xr-var-data {\n",
       "  display: none;\n",
       "  background-color: var(--xr-background-color) !important;\n",
       "  padding-bottom: 5px !important;\n",
       "}\n",
       "\n",
       ".xr-var-attrs-in:checked ~ .xr-var-attrs,\n",
       ".xr-var-data-in:checked ~ .xr-var-data {\n",
       "  display: block;\n",
       "}\n",
       "\n",
       ".xr-var-data > table {\n",
       "  float: right;\n",
       "}\n",
       "\n",
       ".xr-var-name span,\n",
       ".xr-var-data,\n",
       ".xr-attrs {\n",
       "  padding-left: 25px !important;\n",
       "}\n",
       "\n",
       ".xr-attrs,\n",
       ".xr-var-attrs,\n",
       ".xr-var-data {\n",
       "  grid-column: 1 / -1;\n",
       "}\n",
       "\n",
       "dl.xr-attrs {\n",
       "  padding: 0;\n",
       "  margin: 0;\n",
       "  display: grid;\n",
       "  grid-template-columns: 125px auto;\n",
       "}\n",
       "\n",
       ".xr-attrs dt,\n",
       ".xr-attrs dd {\n",
       "  padding: 0;\n",
       "  margin: 0;\n",
       "  float: left;\n",
       "  padding-right: 10px;\n",
       "  width: auto;\n",
       "}\n",
       "\n",
       ".xr-attrs dt {\n",
       "  font-weight: normal;\n",
       "  grid-column: 1;\n",
       "}\n",
       "\n",
       ".xr-attrs dt:hover span {\n",
       "  display: inline-block;\n",
       "  background: var(--xr-background-color);\n",
       "  padding-right: 10px;\n",
       "}\n",
       "\n",
       ".xr-attrs dd {\n",
       "  grid-column: 2;\n",
       "  white-space: pre-wrap;\n",
       "  word-break: break-all;\n",
       "}\n",
       "\n",
       ".xr-icon-database,\n",
       ".xr-icon-file-text2 {\n",
       "  display: inline-block;\n",
       "  vertical-align: middle;\n",
       "  width: 1em;\n",
       "  height: 1.5em !important;\n",
       "  stroke-width: 0;\n",
       "  stroke: currentColor;\n",
       "  fill: currentColor;\n",
       "}\n",
       "</style><pre class='xr-text-repr-fallback'>&lt;xarray.DataArray &#x27;converted&#x27; (converted_dim_0: 3)&gt;\n",
       "array([0.282875, 0.526625, 0.2875  ])\n",
       "Coordinates:\n",
       "  * converted_dim_0  (converted_dim_0) int64 0 1 2</pre><div class='xr-wrap' style='display:none'><div class='xr-header'><div class='xr-obj-type'>xarray.DataArray</div><div class='xr-array-name'>'converted'</div><ul class='xr-dim-list'><li><span class='xr-has-index'>converted_dim_0</span>: 3</li></ul></div><ul class='xr-sections'><li class='xr-section-item'><div class='xr-array-wrap'><input id='section-033400f5-10d8-4386-9a3b-e0e19160676d' class='xr-array-in' type='checkbox' checked><label for='section-033400f5-10d8-4386-9a3b-e0e19160676d' title='Show/hide data repr'><svg class='icon xr-icon-database'><use xlink:href='#icon-database'></use></svg></label><div class='xr-array-preview xr-preview'><span>0.2829 0.5266 0.2875</span></div><div class='xr-array-data'><pre>array([0.282875, 0.526625, 0.2875  ])</pre></div></div></li><li class='xr-section-item'><input id='section-de5a35df-f431-44fe-af82-21b264d74073' class='xr-section-summary-in' type='checkbox'  checked><label for='section-de5a35df-f431-44fe-af82-21b264d74073' class='xr-section-summary' >Coordinates: <span>(1)</span></label><div class='xr-section-inline-details'></div><div class='xr-section-details'><ul class='xr-var-list'><li class='xr-var-item'><div class='xr-var-name'><span class='xr-has-index'>converted_dim_0</span></div><div class='xr-var-dims'>(converted_dim_0)</div><div class='xr-var-dtype'>int64</div><div class='xr-var-preview xr-preview'>0 1 2</div><input id='attrs-f18eb99f-d9cf-4e2b-938c-6a401fe29c4c' class='xr-var-attrs-in' type='checkbox' disabled><label for='attrs-f18eb99f-d9cf-4e2b-938c-6a401fe29c4c' title='Show/Hide attributes'><svg class='icon xr-icon-file-text2'><use xlink:href='#icon-file-text2'></use></svg></label><input id='data-9c97750c-cc5d-4e99-a840-054735bf9f15' class='xr-var-data-in' type='checkbox'><label for='data-9c97750c-cc5d-4e99-a840-054735bf9f15' title='Show/Hide data repr'><svg class='icon xr-icon-database'><use xlink:href='#icon-database'></use></svg></label><div class='xr-var-attrs'><dl class='xr-attrs'></dl></div><div class='xr-var-data'><pre>array([0, 1, 2])</pre></div></li></ul></div></li><li class='xr-section-item'><input id='section-ff3d2d1b-adc5-42c6-97fe-460d79d2a328' class='xr-section-summary-in' type='checkbox' disabled ><label for='section-ff3d2d1b-adc5-42c6-97fe-460d79d2a328' class='xr-section-summary'  title='Expand/collapse section'>Attributes: <span>(0)</span></label><div class='xr-section-inline-details'></div><div class='xr-section-details'><dl class='xr-attrs'></dl></div></li></ul></div></div>"
      ],
      "text/plain": [
       "<xarray.DataArray 'converted' (converted_dim_0: 3)>\n",
       "array([0.282875, 0.526625, 0.2875  ])\n",
       "Coordinates:\n",
       "  * converted_dim_0  (converted_dim_0) int64 0 1 2"
      ]
     },
     "execution_count": 33,
     "metadata": {},
     "output_type": "execute_result"
    }
   ],
   "source": [
    "predictions.posterior_predictive.mean([\"chain\", \"draw\"])[\"converted\"]"
   ]
  },
  {
   "cell_type": "markdown",
   "id": "874fb300",
   "metadata": {},
   "source": [
    "Check this out\n",
    "Turns out a 20 year old will convert at 20 percent rate, even if they dont like videogames, which is less than 30 year old that does like video games, and about the same as a 40 year old that likes videogames!\n",
    "\n",
    "Now if any new customer comes in we can predict their prob conversion"
   ]
  },
  {
   "cell_type": "markdown",
   "id": "5dd414a3",
   "metadata": {},
   "source": [
    "## Section Recap\n",
    "* AB testing is equivalent to categorical regression\n",
    "* plot_cap helps us easily visualize continuous results\n",
    "  * Gives us the answer for probability of conversion with age\n",
    "* Since this is regression we can even control for preference quite easily\n",
    "  * Can easily discern the differing trend in conversion between the two groups\n",
    "* Predictions are quite easy as well!"
   ]
  },
  {
   "cell_type": "markdown",
   "id": "84515cee",
   "metadata": {},
   "source": [
    "# Logistic Regression in practice\n",
    "**Insert applied example here**"
   ]
  },
  {
   "cell_type": "markdown",
   "id": "e2f33918",
   "metadata": {},
   "source": [
    "## Section Recap\n",
    "* Recap 1\n",
    "* Recap 2\n",
    "* Recap 3"
   ]
  },
  {
   "cell_type": "markdown",
   "id": "d0ddd978",
   "metadata": {},
   "source": [
    "# Lesson Recap\n"
   ]
  },
  {
   "cell_type": "markdown",
   "id": "bdb69fb6",
   "metadata": {},
   "source": [
    "# Appendix Section: Binomial Model\n",
    "If we'd rather prefer binomial heres how todo it."
   ]
  },
  {
   "cell_type": "code",
   "execution_count": 34,
   "id": "ec691f60",
   "metadata": {},
   "outputs": [
    {
     "data": {
      "text/html": [
       "<div>\n",
       "<style scoped>\n",
       "    .dataframe tbody tr th:only-of-type {\n",
       "        vertical-align: middle;\n",
       "    }\n",
       "\n",
       "    .dataframe tbody tr th {\n",
       "        vertical-align: top;\n",
       "    }\n",
       "\n",
       "    .dataframe thead th {\n",
       "        text-align: right;\n",
       "    }\n",
       "</style>\n",
       "<table border=\"1\" class=\"dataframe\">\n",
       "  <thead>\n",
       "    <tr style=\"text-align: right;\">\n",
       "      <th></th>\n",
       "      <th>age</th>\n",
       "      <th>likes_videogames</th>\n",
       "      <th>likes_videogames_bool</th>\n",
       "      <th>p_convert</th>\n",
       "      <th>converted_bool</th>\n",
       "      <th>converted</th>\n",
       "    </tr>\n",
       "  </thead>\n",
       "  <tbody>\n",
       "    <tr>\n",
       "      <th>355</th>\n",
       "      <td>18.0</td>\n",
       "      <td>Yes</td>\n",
       "      <td>1</td>\n",
       "      <td>0.768525</td>\n",
       "      <td>1</td>\n",
       "      <td>Yes</td>\n",
       "    </tr>\n",
       "    <tr>\n",
       "      <th>720</th>\n",
       "      <td>18.0</td>\n",
       "      <td>Yes</td>\n",
       "      <td>1</td>\n",
       "      <td>0.768525</td>\n",
       "      <td>1</td>\n",
       "      <td>Yes</td>\n",
       "    </tr>\n",
       "    <tr>\n",
       "      <th>678</th>\n",
       "      <td>18.0</td>\n",
       "      <td>No</td>\n",
       "      <td>0</td>\n",
       "      <td>0.310026</td>\n",
       "      <td>0</td>\n",
       "      <td>No</td>\n",
       "    </tr>\n",
       "    <tr>\n",
       "      <th>113</th>\n",
       "      <td>18.0</td>\n",
       "      <td>No</td>\n",
       "      <td>0</td>\n",
       "      <td>0.310026</td>\n",
       "      <td>0</td>\n",
       "      <td>No</td>\n",
       "    </tr>\n",
       "    <tr>\n",
       "      <th>425</th>\n",
       "      <td>18.0</td>\n",
       "      <td>No</td>\n",
       "      <td>0</td>\n",
       "      <td>0.310026</td>\n",
       "      <td>0</td>\n",
       "      <td>No</td>\n",
       "    </tr>\n",
       "    <tr>\n",
       "      <th>...</th>\n",
       "      <td>...</td>\n",
       "      <td>...</td>\n",
       "      <td>...</td>\n",
       "      <td>...</td>\n",
       "      <td>...</td>\n",
       "      <td>...</td>\n",
       "    </tr>\n",
       "    <tr>\n",
       "      <th>825</th>\n",
       "      <td>59.0</td>\n",
       "      <td>Yes</td>\n",
       "      <td>1</td>\n",
       "      <td>0.052154</td>\n",
       "      <td>0</td>\n",
       "      <td>No</td>\n",
       "    </tr>\n",
       "    <tr>\n",
       "      <th>207</th>\n",
       "      <td>59.0</td>\n",
       "      <td>No</td>\n",
       "      <td>0</td>\n",
       "      <td>0.007392</td>\n",
       "      <td>0</td>\n",
       "      <td>No</td>\n",
       "    </tr>\n",
       "    <tr>\n",
       "      <th>170</th>\n",
       "      <td>59.0</td>\n",
       "      <td>Yes</td>\n",
       "      <td>1</td>\n",
       "      <td>0.052154</td>\n",
       "      <td>0</td>\n",
       "      <td>No</td>\n",
       "    </tr>\n",
       "    <tr>\n",
       "      <th>436</th>\n",
       "      <td>59.0</td>\n",
       "      <td>Yes</td>\n",
       "      <td>1</td>\n",
       "      <td>0.052154</td>\n",
       "      <td>0</td>\n",
       "      <td>No</td>\n",
       "    </tr>\n",
       "    <tr>\n",
       "      <th>552</th>\n",
       "      <td>59.0</td>\n",
       "      <td>No</td>\n",
       "      <td>0</td>\n",
       "      <td>0.007392</td>\n",
       "      <td>0</td>\n",
       "      <td>No</td>\n",
       "    </tr>\n",
       "  </tbody>\n",
       "</table>\n",
       "<p>1000 rows × 6 columns</p>\n",
       "</div>"
      ],
      "text/plain": [
       "      age likes_videogames  likes_videogames_bool  p_convert  converted_bool  \\\n",
       "355  18.0              Yes                      1   0.768525               1   \n",
       "720  18.0              Yes                      1   0.768525               1   \n",
       "678  18.0               No                      0   0.310026               0   \n",
       "113  18.0               No                      0   0.310026               0   \n",
       "425  18.0               No                      0   0.310026               0   \n",
       "..    ...              ...                    ...        ...             ...   \n",
       "825  59.0              Yes                      1   0.052154               0   \n",
       "207  59.0               No                      0   0.007392               0   \n",
       "170  59.0              Yes                      1   0.052154               0   \n",
       "436  59.0              Yes                      1   0.052154               0   \n",
       "552  59.0               No                      0   0.007392               0   \n",
       "\n",
       "    converted  \n",
       "355       Yes  \n",
       "720       Yes  \n",
       "678        No  \n",
       "113        No  \n",
       "425        No  \n",
       "..        ...  \n",
       "825        No  \n",
       "207        No  \n",
       "170        No  \n",
       "436        No  \n",
       "552        No  \n",
       "\n",
       "[1000 rows x 6 columns]"
      ]
     },
     "execution_count": 34,
     "metadata": {},
     "output_type": "execute_result"
    }
   ],
   "source": [
    "df"
   ]
  },
  {
   "cell_type": "code",
   "execution_count": 35,
   "id": "0f19b9b8",
   "metadata": {},
   "outputs": [
    {
     "data": {
      "text/html": [
       "<div>\n",
       "<style scoped>\n",
       "    .dataframe tbody tr th:only-of-type {\n",
       "        vertical-align: middle;\n",
       "    }\n",
       "\n",
       "    .dataframe tbody tr th {\n",
       "        vertical-align: top;\n",
       "    }\n",
       "\n",
       "    .dataframe thead th {\n",
       "        text-align: right;\n",
       "    }\n",
       "</style>\n",
       "<table border=\"1\" class=\"dataframe\">\n",
       "  <thead>\n",
       "    <tr style=\"text-align: right;\">\n",
       "      <th></th>\n",
       "      <th>likes_videogames</th>\n",
       "      <th>age</th>\n",
       "      <th>Converted</th>\n",
       "      <th>Count</th>\n",
       "    </tr>\n",
       "  </thead>\n",
       "  <tbody>\n",
       "    <tr>\n",
       "      <th>0</th>\n",
       "      <td>No</td>\n",
       "      <td>18.0</td>\n",
       "      <td>2</td>\n",
       "      <td>9</td>\n",
       "    </tr>\n",
       "    <tr>\n",
       "      <th>1</th>\n",
       "      <td>No</td>\n",
       "      <td>19.0</td>\n",
       "      <td>3</td>\n",
       "      <td>8</td>\n",
       "    </tr>\n",
       "    <tr>\n",
       "      <th>2</th>\n",
       "      <td>No</td>\n",
       "      <td>20.0</td>\n",
       "      <td>1</td>\n",
       "      <td>8</td>\n",
       "    </tr>\n",
       "    <tr>\n",
       "      <th>3</th>\n",
       "      <td>No</td>\n",
       "      <td>21.0</td>\n",
       "      <td>1</td>\n",
       "      <td>17</td>\n",
       "    </tr>\n",
       "    <tr>\n",
       "      <th>4</th>\n",
       "      <td>No</td>\n",
       "      <td>22.0</td>\n",
       "      <td>3</td>\n",
       "      <td>17</td>\n",
       "    </tr>\n",
       "    <tr>\n",
       "      <th>...</th>\n",
       "      <td>...</td>\n",
       "      <td>...</td>\n",
       "      <td>...</td>\n",
       "      <td>...</td>\n",
       "    </tr>\n",
       "    <tr>\n",
       "      <th>79</th>\n",
       "      <td>Yes</td>\n",
       "      <td>55.0</td>\n",
       "      <td>0</td>\n",
       "      <td>22</td>\n",
       "    </tr>\n",
       "    <tr>\n",
       "      <th>80</th>\n",
       "      <td>Yes</td>\n",
       "      <td>56.0</td>\n",
       "      <td>0</td>\n",
       "      <td>13</td>\n",
       "    </tr>\n",
       "    <tr>\n",
       "      <th>81</th>\n",
       "      <td>Yes</td>\n",
       "      <td>57.0</td>\n",
       "      <td>1</td>\n",
       "      <td>14</td>\n",
       "    </tr>\n",
       "    <tr>\n",
       "      <th>82</th>\n",
       "      <td>Yes</td>\n",
       "      <td>58.0</td>\n",
       "      <td>0</td>\n",
       "      <td>9</td>\n",
       "    </tr>\n",
       "    <tr>\n",
       "      <th>83</th>\n",
       "      <td>Yes</td>\n",
       "      <td>59.0</td>\n",
       "      <td>0</td>\n",
       "      <td>10</td>\n",
       "    </tr>\n",
       "  </tbody>\n",
       "</table>\n",
       "<p>84 rows × 4 columns</p>\n",
       "</div>"
      ],
      "text/plain": [
       "   likes_videogames   age  Converted  Count\n",
       "0                No  18.0          2      9\n",
       "1                No  19.0          3      8\n",
       "2                No  20.0          1      8\n",
       "3                No  21.0          1     17\n",
       "4                No  22.0          3     17\n",
       "..              ...   ...        ...    ...\n",
       "79              Yes  55.0          0     22\n",
       "80              Yes  56.0          0     13\n",
       "81              Yes  57.0          1     14\n",
       "82              Yes  58.0          0      9\n",
       "83              Yes  59.0          0     10\n",
       "\n",
       "[84 rows x 4 columns]"
      ]
     },
     "execution_count": 35,
     "metadata": {},
     "output_type": "execute_result"
    }
   ],
   "source": [
    "binom_df = df[[\"likes_videogames\", \"age\", \"converted_bool\"]].groupby([\"likes_videogames\", \"age\"]).agg([np.sum, len])\n",
    "binom_df.columns = [\"Converted\", \"Count\"]\n",
    "\n",
    "binom_df  = binom_df.reset_index()\n",
    "binom_df"
   ]
  },
  {
   "cell_type": "code",
   "execution_count": 36,
   "id": "a8fe92cf",
   "metadata": {},
   "outputs": [
    {
     "name": "stderr",
     "output_type": "stream",
     "text": [
      "Auto-assigning NUTS sampler...\n",
      "Initializing NUTS using jitter+adapt_diag...\n",
      "Multiprocess sampling (4 chains in 4 jobs)\n",
      "NUTS: [Intercept, likes_videogames, age]\n"
     ]
    },
    {
     "data": {
      "text/html": [
       "\n",
       "<style>\n",
       "    /* Turns off some styling */\n",
       "    progress {\n",
       "        /* gets rid of default border in Firefox and Opera. */\n",
       "        border: none;\n",
       "        /* Needs to be in here for Safari polyfill so background images work as expected. */\n",
       "        background-size: auto;\n",
       "    }\n",
       "    .progress-bar-interrupted, .progress-bar-interrupted::-webkit-progress-bar {\n",
       "        background: #F44336;\n",
       "    }\n",
       "</style>\n"
      ],
      "text/plain": [
       "<IPython.core.display.HTML object>"
      ]
     },
     "metadata": {},
     "output_type": "display_data"
    },
    {
     "data": {
      "text/html": [
       "\n",
       "    <div>\n",
       "      <progress value='12000' class='' max='12000' style='width:300px; height:20px; vertical-align: middle;'></progress>\n",
       "      100.00% [12000/12000 00:01<00:00 Sampling 4 chains, 0 divergences]\n",
       "    </div>\n",
       "    "
      ],
      "text/plain": [
       "<IPython.core.display.HTML object>"
      ]
     },
     "metadata": {},
     "output_type": "display_data"
    },
    {
     "name": "stderr",
     "output_type": "stream",
     "text": [
      "Sampling 4 chains for 1_000 tune and 2_000 draw iterations (4_000 + 8_000 draws total) took 10 seconds.\n"
     ]
    }
   ],
   "source": [
    "conversion_model = bmb.Model(\"p(Converted, Count) ~ likes_videogames + age\", binom_df, family=\"binomial\")\n",
    "conversion_model_fitted = conversion_model.fit(draws=2000, target_accept=0.85, random_seed=SEED)"
   ]
  },
  {
   "cell_type": "code",
   "execution_count": 37,
   "id": "efc71ef7",
   "metadata": {},
   "outputs": [
    {
     "data": {
      "text/html": [
       "<div>\n",
       "<style scoped>\n",
       "    .dataframe tbody tr th:only-of-type {\n",
       "        vertical-align: middle;\n",
       "    }\n",
       "\n",
       "    .dataframe tbody tr th {\n",
       "        vertical-align: top;\n",
       "    }\n",
       "\n",
       "    .dataframe thead th {\n",
       "        text-align: right;\n",
       "    }\n",
       "</style>\n",
       "<table border=\"1\" class=\"dataframe\">\n",
       "  <thead>\n",
       "    <tr style=\"text-align: right;\">\n",
       "      <th></th>\n",
       "      <th>mean</th>\n",
       "      <th>sd</th>\n",
       "      <th>hdi_3%</th>\n",
       "      <th>hdi_97%</th>\n",
       "      <th>mcse_mean</th>\n",
       "      <th>mcse_sd</th>\n",
       "      <th>ess_bulk</th>\n",
       "      <th>ess_tail</th>\n",
       "      <th>r_hat</th>\n",
       "    </tr>\n",
       "  </thead>\n",
       "  <tbody>\n",
       "    <tr>\n",
       "      <th>Intercept</th>\n",
       "      <td>1.006</td>\n",
       "      <td>0.306</td>\n",
       "      <td>0.469</td>\n",
       "      <td>1.625</td>\n",
       "      <td>0.003</td>\n",
       "      <td>0.002</td>\n",
       "      <td>8685.0</td>\n",
       "      <td>5865.0</td>\n",
       "      <td>1.0</td>\n",
       "    </tr>\n",
       "    <tr>\n",
       "      <th>likes_videogames[Yes]</th>\n",
       "      <td>1.978</td>\n",
       "      <td>0.198</td>\n",
       "      <td>1.598</td>\n",
       "      <td>2.334</td>\n",
       "      <td>0.003</td>\n",
       "      <td>0.002</td>\n",
       "      <td>4890.0</td>\n",
       "      <td>5468.0</td>\n",
       "      <td>1.0</td>\n",
       "    </tr>\n",
       "    <tr>\n",
       "      <th>age</th>\n",
       "      <td>-0.097</td>\n",
       "      <td>0.009</td>\n",
       "      <td>-0.114</td>\n",
       "      <td>-0.081</td>\n",
       "      <td>0.000</td>\n",
       "      <td>0.000</td>\n",
       "      <td>4790.0</td>\n",
       "      <td>5618.0</td>\n",
       "      <td>1.0</td>\n",
       "    </tr>\n",
       "  </tbody>\n",
       "</table>\n",
       "</div>"
      ],
      "text/plain": [
       "                        mean     sd  hdi_3%  hdi_97%  mcse_mean  mcse_sd  \\\n",
       "Intercept              1.006  0.306   0.469    1.625      0.003    0.002   \n",
       "likes_videogames[Yes]  1.978  0.198   1.598    2.334      0.003    0.002   \n",
       "age                   -0.097  0.009  -0.114   -0.081      0.000    0.000   \n",
       "\n",
       "                       ess_bulk  ess_tail  r_hat  \n",
       "Intercept                8685.0    5865.0    1.0  \n",
       "likes_videogames[Yes]    4890.0    5468.0    1.0  \n",
       "age                      4790.0    5618.0    1.0  "
      ]
     },
     "execution_count": 37,
     "metadata": {},
     "output_type": "execute_result"
    }
   ],
   "source": [
    "az.summary(conversion_model_fitted)"
   ]
  },
  {
   "cell_type": "code",
   "execution_count": 38,
   "id": "7a892f1e",
   "metadata": {},
   "outputs": [
    {
     "name": "stderr",
     "output_type": "stream",
     "text": [
      "Auto-assigning NUTS sampler...\n",
      "Initializing NUTS using jitter+adapt_diag...\n",
      "Multiprocess sampling (4 chains in 4 jobs)\n",
      "NUTS: [Intercept, likes_videogames, age]\n"
     ]
    },
    {
     "data": {
      "text/html": [
       "\n",
       "<style>\n",
       "    /* Turns off some styling */\n",
       "    progress {\n",
       "        /* gets rid of default border in Firefox and Opera. */\n",
       "        border: none;\n",
       "        /* Needs to be in here for Safari polyfill so background images work as expected. */\n",
       "        background-size: auto;\n",
       "    }\n",
       "    .progress-bar-interrupted, .progress-bar-interrupted::-webkit-progress-bar {\n",
       "        background: #F44336;\n",
       "    }\n",
       "</style>\n"
      ],
      "text/plain": [
       "<IPython.core.display.HTML object>"
      ]
     },
     "metadata": {},
     "output_type": "display_data"
    },
    {
     "data": {
      "text/html": [
       "\n",
       "    <div>\n",
       "      <progress value='12000' class='' max='12000' style='width:300px; height:20px; vertical-align: middle;'></progress>\n",
       "      100.00% [12000/12000 00:01<00:00 Sampling 4 chains, 0 divergences]\n",
       "    </div>\n",
       "    "
      ],
      "text/plain": [
       "<IPython.core.display.HTML object>"
      ]
     },
     "metadata": {},
     "output_type": "display_data"
    },
    {
     "name": "stderr",
     "output_type": "stream",
     "text": [
      "Sampling 4 chains for 1_000 tune and 2_000 draw iterations (4_000 + 8_000 draws total) took 10 seconds.\n"
     ]
    }
   ],
   "source": [
    "conversion_model = bmb.Model(\"p(Converted, Count) ~ likes_videogames + age\", binom_df, family=\"binomial\")\n",
    "conversion_model_fitted = conversion_model.fit(draws=2000, target_accept=0.85, random_seed=SEED)"
   ]
  },
  {
   "cell_type": "code",
   "execution_count": 39,
   "id": "d2e12b4c",
   "metadata": {},
   "outputs": [
    {
     "data": {
      "text/html": [
       "<div>\n",
       "<style scoped>\n",
       "    .dataframe tbody tr th:only-of-type {\n",
       "        vertical-align: middle;\n",
       "    }\n",
       "\n",
       "    .dataframe tbody tr th {\n",
       "        vertical-align: top;\n",
       "    }\n",
       "\n",
       "    .dataframe thead th {\n",
       "        text-align: right;\n",
       "    }\n",
       "</style>\n",
       "<table border=\"1\" class=\"dataframe\">\n",
       "  <thead>\n",
       "    <tr style=\"text-align: right;\">\n",
       "      <th></th>\n",
       "      <th>mean</th>\n",
       "      <th>sd</th>\n",
       "      <th>hdi_3%</th>\n",
       "      <th>hdi_97%</th>\n",
       "      <th>mcse_mean</th>\n",
       "      <th>mcse_sd</th>\n",
       "      <th>ess_bulk</th>\n",
       "      <th>ess_tail</th>\n",
       "      <th>r_hat</th>\n",
       "    </tr>\n",
       "  </thead>\n",
       "  <tbody>\n",
       "    <tr>\n",
       "      <th>Intercept</th>\n",
       "      <td>1.006</td>\n",
       "      <td>0.306</td>\n",
       "      <td>0.469</td>\n",
       "      <td>1.625</td>\n",
       "      <td>0.003</td>\n",
       "      <td>0.002</td>\n",
       "      <td>8685.0</td>\n",
       "      <td>5865.0</td>\n",
       "      <td>1.0</td>\n",
       "    </tr>\n",
       "    <tr>\n",
       "      <th>likes_videogames[Yes]</th>\n",
       "      <td>1.978</td>\n",
       "      <td>0.198</td>\n",
       "      <td>1.598</td>\n",
       "      <td>2.334</td>\n",
       "      <td>0.003</td>\n",
       "      <td>0.002</td>\n",
       "      <td>4890.0</td>\n",
       "      <td>5468.0</td>\n",
       "      <td>1.0</td>\n",
       "    </tr>\n",
       "    <tr>\n",
       "      <th>age</th>\n",
       "      <td>-0.097</td>\n",
       "      <td>0.009</td>\n",
       "      <td>-0.114</td>\n",
       "      <td>-0.081</td>\n",
       "      <td>0.000</td>\n",
       "      <td>0.000</td>\n",
       "      <td>4790.0</td>\n",
       "      <td>5618.0</td>\n",
       "      <td>1.0</td>\n",
       "    </tr>\n",
       "  </tbody>\n",
       "</table>\n",
       "</div>"
      ],
      "text/plain": [
       "                        mean     sd  hdi_3%  hdi_97%  mcse_mean  mcse_sd  \\\n",
       "Intercept              1.006  0.306   0.469    1.625      0.003    0.002   \n",
       "likes_videogames[Yes]  1.978  0.198   1.598    2.334      0.003    0.002   \n",
       "age                   -0.097  0.009  -0.114   -0.081      0.000    0.000   \n",
       "\n",
       "                       ess_bulk  ess_tail  r_hat  \n",
       "Intercept                8685.0    5865.0    1.0  \n",
       "likes_videogames[Yes]    4890.0    5468.0    1.0  \n",
       "age                      4790.0    5618.0    1.0  "
      ]
     },
     "execution_count": 39,
     "metadata": {},
     "output_type": "execute_result"
    }
   ],
   "source": [
    "az.summary(conversion_model_fitted)"
   ]
  },
  {
   "cell_type": "markdown",
   "id": "7a611a35",
   "metadata": {},
   "source": [
    "## Temporary Appendix\n",
    "Code that doesn't need to be in the script but I don't want to get rid of yet"
   ]
  },
  {
   "cell_type": "code",
   "execution_count": 106,
   "id": "657f623f",
   "metadata": {},
   "outputs": [
    {
     "data": {
      "image/png": "[encoded data removed]",
      "text/plain": [
       "<Figure size 1152x576 with 1 Axes>"
      ]
     },
     "metadata": {
      "needs_background": "light"
     },
     "output_type": "display_data"
    }
   ],
   "source": [
    "fig, ax = plt.subplots(1)\n",
    "\n",
    "converted_filter = df[\"converted_bool\"].astype(bool)\n",
    "# Add some jitter\n",
    "\n",
    "jittered_y = df[\"converted_bool\"] + stats.norm(scale=.05).rvs(df.shape[0])\n",
    "\n",
    "alpha = .3\n",
    "ax.scatter(df.loc[converted_filter, \"age\"],\n",
    "          jittered_y[converted_filter],\n",
    "          label=\"Converted\",\n",
    "          alpha=alpha)\n",
    "\n",
    "ax.scatter( df.loc[~converted_filter, \"age\"],\n",
    "           jittered_y[~converted_filter],\n",
    "           label=\"Not Converted\",\n",
    "           alpha=alpha)\n",
    "\n",
    "plt.legend();"
   ]
  }
 ],
 "metadata": {
  "kernelspec": {
   "display_name": "Python 3 (ipykernel)",
   "language": "python",
   "name": "python3"
  },
  "language_info": {
   "codemirror_mode": {
    "name": "ipython",
    "version": 3
   },
   "file_extension": ".py",
   "mimetype": "text/x-python",
   "name": "python",
   "nbconvert_exporter": "python",
   "pygments_lexer": "ipython3",
   "version": "3.10.4"
  },
  "vscode": {
   "interpreter": {
    "hash": "894fb80d761728a628e76ec26c428594c877627242f4f1d028aa39863aa2798a"
   }
  }
 },
 "nbformat": 4,
 "nbformat_minor": 5
}
