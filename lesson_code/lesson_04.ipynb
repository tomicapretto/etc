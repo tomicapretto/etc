{
 "cells": [
  {
   "cell_type": "markdown",
   "id": "08d140e6",
   "metadata": {
    "slideshow": {
     "slide_type": "slide"
    }
   },
   "source": [
    "# Link Functions, Logistic Regression, and Advanced AB Testing"
   ]
  },
  {
   "cell_type": "code",
   "execution_count": null,
   "id": "cdbd025b",
   "metadata": {
    "slideshow": {
     "slide_type": "skip"
    }
   },
   "outputs": [],
   "source": [
    "**Current Status**: WIP Presentation ready notebook"
   ]
  },
  {
   "cell_type": "markdown",
   "id": "5d1655b6",
   "metadata": {
    "slideshow": {
     "slide_type": "skip"
    }
   },
   "source": [
    "**Insert picture of a video game store**"
   ]
  },
  {
   "cell_type": "markdown",
   "id": "1b123461",
   "metadata": {
    "slideshow": {
     "slide_type": "notes"
    }
   },
   "source": [
    "Congratulations, in this lesson we are all data scientists at a video game shop. Our job is to help sell more video games. You have all sorts of data on customers and your boss wants to know who to market to. But before we get ahead of ourselves lets talk through the over vi"
   ]
  },
  {
   "cell_type": "markdown",
   "id": "d781da00",
   "metadata": {
    "slideshow": {
     "slide_type": "slide"
    }
   },
   "source": [
    "## Bayesian AB Test\n",
    "* Revisit the basic Bayesian AB test\n",
    "* Estimate probability of a potential customer converting\n"
   ]
  },
  {
   "cell_type": "markdown",
   "id": "815c2ce4",
   "metadata": {
    "slideshow": {
     "slide_type": "slide"
    }
   },
   "source": [
    "## Regression on Age\n",
    "* How can we include a continuous variable into our analysis\n",
    "* Various approaches\n",
    "  * And why they don't work"
   ]
  },
  {
   "cell_type": "markdown",
   "id": "4aa71daa",
   "metadata": {
    "slideshow": {
     "slide_type": "slide"
    }
   },
   "source": [
    "## Generalizing linear models with link functions\n",
    "* The **most** important concept of this course  \n",
    "  * The most useful transformation"
   ]
  },
  {
   "cell_type": "markdown",
   "id": "a954e1ae",
   "metadata": {
    "slideshow": {
     "slide_type": "slide"
    }
   },
   "source": [
    "## \"A Infinite Testing\" with Generalized Linear Models\n",
    "* Use our generalized linear modeling capability to incorporate age"
   ]
  },
  {
   "cell_type": "markdown",
   "id": "ad1c441e",
   "metadata": {
    "slideshow": {
     "slide_type": "slide"
    }
   },
   "source": [
    "## Case Study: U.S.A Election Voting\n",
    "* How does voter preference chance with age and party"
   ]
  },
  {
   "cell_type": "code",
   "execution_count": 131,
   "id": "7e81b773",
   "metadata": {
    "slideshow": {
     "slide_type": "skip"
    }
   },
   "outputs": [],
   "source": [
    "import bambi as bmb\n",
    "from bambi import plots\n",
    "import arviz as az\n",
    "from scipy import stats\n",
    "from scipy import special\n",
    "import numpy as np\n",
    "import pandas as pd\n",
    "import matplotlib.pyplot as plt\n",
    "import pymc as pm\n",
    "import seaborn as sns\n",
    "import statsmodels\n",
    "\n",
    "\n",
    "plt.style.use('intuitivebayes.mplstyle')\n",
    "\n",
    "FIGSIZE = (16, 8)\n",
    "rng = np.random.default_rng(0)\n",
    "SEED = 0"
   ]
  },
  {
   "cell_type": "markdown",
   "id": "1c3f789a",
   "metadata": {
    "slideshow": {
     "slide_type": "skip"
    }
   },
   "source": [
    "# Hidden Section: Generate data\n",
    "**Hello students**\n",
    "\n",
    "Welcome to the hidden section where we generate the data. We've included this in the notebook purposefully so you can use it to aid your learnings. Simulation is an important tool because\n",
    "\n",
    "* During learning you can create new scenarios to have an infinite amount of practice data\n",
    "* During EDA you can use simulation to see what functional\n",
    "* Check if your models are correctly specified, especially complex models, by simulating data and seeing if you can recover the parameters\n",
    "\n"
   ]
  },
  {
   "cell_type": "code",
   "execution_count": 75,
   "id": "99dd2b01",
   "metadata": {
    "slideshow": {
     "slide_type": "skip"
    }
   },
   "outputs": [
    {
     "data": {
      "text/html": [
       "<div>\n",
       "<style scoped>\n",
       "    .dataframe tbody tr th:only-of-type {\n",
       "        vertical-align: middle;\n",
       "    }\n",
       "\n",
       "    .dataframe tbody tr th {\n",
       "        vertical-align: top;\n",
       "    }\n",
       "\n",
       "    .dataframe thead th {\n",
       "        text-align: right;\n",
       "    }\n",
       "</style>\n",
       "<table border=\"1\" class=\"dataframe\">\n",
       "  <thead>\n",
       "    <tr style=\"text-align: right;\">\n",
       "      <th></th>\n",
       "      <th>age</th>\n",
       "      <th>likes_videogames</th>\n",
       "      <th>likes_videogames_bool</th>\n",
       "    </tr>\n",
       "  </thead>\n",
       "  <tbody>\n",
       "    <tr>\n",
       "      <th>355</th>\n",
       "      <td>18.0</td>\n",
       "      <td>Yes</td>\n",
       "      <td>1</td>\n",
       "    </tr>\n",
       "    <tr>\n",
       "      <th>720</th>\n",
       "      <td>18.0</td>\n",
       "      <td>Yes</td>\n",
       "      <td>1</td>\n",
       "    </tr>\n",
       "    <tr>\n",
       "      <th>678</th>\n",
       "      <td>18.0</td>\n",
       "      <td>No</td>\n",
       "      <td>0</td>\n",
       "    </tr>\n",
       "    <tr>\n",
       "      <th>113</th>\n",
       "      <td>18.0</td>\n",
       "      <td>No</td>\n",
       "      <td>0</td>\n",
       "    </tr>\n",
       "    <tr>\n",
       "      <th>425</th>\n",
       "      <td>18.0</td>\n",
       "      <td>No</td>\n",
       "      <td>0</td>\n",
       "    </tr>\n",
       "  </tbody>\n",
       "</table>\n",
       "</div>"
      ],
      "text/plain": [
       "      age likes_videogames  likes_videogames_bool\n",
       "355  18.0              Yes                      1\n",
       "720  18.0              Yes                      1\n",
       "678  18.0               No                      0\n",
       "113  18.0               No                      0\n",
       "425  18.0               No                      0"
      ]
     },
     "execution_count": 75,
     "metadata": {},
     "output_type": "execute_result"
    }
   ],
   "source": [
    "np.random.seed(SEED)\n",
    "\n",
    "samples = 1000\n",
    "\n",
    "# 1 indicates likes videogames\n",
    "likes_videogames_bool = stats.bernoulli(p=.5).rvs(samples)\n",
    "like_videogames_categorical = [\"No\" if x == 0 else \"Yes\" for x in likes_videogames_bool]\n",
    "\n",
    "# Age\n",
    "age = stats.randint(low=18, high=60).rvs(samples).astype(float)\n",
    "\n",
    "df = pd.DataFrame({\"age\":age,\n",
    "                   \"likes_videogames\":like_videogames_categorical,\n",
    "                   \"likes_videogames_bool\":likes_videogames_bool}).sort_values(\"age\")\n",
    "df.head()"
   ]
  },
  {
   "cell_type": "markdown",
   "id": "6287c2e4",
   "metadata": {
    "slideshow": {
     "slide_type": "skip"
    }
   },
   "source": [
    "## Simulate our data\n",
    "Unfortunately there are differing names for the sigmoid function in particular\n",
    "* logistic (or logistic sigmoid)\n",
    "* expit\n",
    "\n",
    "Scipy uses the name expit. Since we use scipy in this course we'll use their naming so you learn both, and also can find the documentation for the code"
   ]
  },
  {
   "cell_type": "code",
   "execution_count": 76,
   "id": "55da86ad",
   "metadata": {
    "slideshow": {
     "slide_type": "skip"
    }
   },
   "outputs": [
    {
     "data": {
      "text/plain": [
       "0.9525741268224334"
      ]
     },
     "execution_count": 76,
     "metadata": {},
     "output_type": "execute_result"
    }
   ],
   "source": [
    "special.expit(3)"
   ]
  },
  {
   "cell_type": "code",
   "execution_count": 77,
   "id": "9ad840b4",
   "metadata": {
    "scrolled": true,
    "slideshow": {
     "slide_type": "skip"
    }
   },
   "outputs": [
    {
     "data": {
      "text/html": [
       "<div>\n",
       "<style scoped>\n",
       "    .dataframe tbody tr th:only-of-type {\n",
       "        vertical-align: middle;\n",
       "    }\n",
       "\n",
       "    .dataframe tbody tr th {\n",
       "        vertical-align: top;\n",
       "    }\n",
       "\n",
       "    .dataframe thead th {\n",
       "        text-align: right;\n",
       "    }\n",
       "</style>\n",
       "<table border=\"1\" class=\"dataframe\">\n",
       "  <thead>\n",
       "    <tr style=\"text-align: right;\">\n",
       "      <th></th>\n",
       "      <th>age</th>\n",
       "      <th>likes_videogames</th>\n",
       "      <th>likes_videogames_bool</th>\n",
       "      <th>p_convert</th>\n",
       "      <th>converted_bool</th>\n",
       "      <th>converted</th>\n",
       "    </tr>\n",
       "  </thead>\n",
       "  <tbody>\n",
       "    <tr>\n",
       "      <th>355</th>\n",
       "      <td>18.0</td>\n",
       "      <td>Yes</td>\n",
       "      <td>1</td>\n",
       "      <td>0.768525</td>\n",
       "      <td>1</td>\n",
       "      <td>Yes</td>\n",
       "    </tr>\n",
       "    <tr>\n",
       "      <th>720</th>\n",
       "      <td>18.0</td>\n",
       "      <td>Yes</td>\n",
       "      <td>1</td>\n",
       "      <td>0.768525</td>\n",
       "      <td>1</td>\n",
       "      <td>Yes</td>\n",
       "    </tr>\n",
       "    <tr>\n",
       "      <th>678</th>\n",
       "      <td>18.0</td>\n",
       "      <td>No</td>\n",
       "      <td>0</td>\n",
       "      <td>0.310026</td>\n",
       "      <td>0</td>\n",
       "      <td>No</td>\n",
       "    </tr>\n",
       "    <tr>\n",
       "      <th>113</th>\n",
       "      <td>18.0</td>\n",
       "      <td>No</td>\n",
       "      <td>0</td>\n",
       "      <td>0.310026</td>\n",
       "      <td>0</td>\n",
       "      <td>No</td>\n",
       "    </tr>\n",
       "    <tr>\n",
       "      <th>425</th>\n",
       "      <td>18.0</td>\n",
       "      <td>No</td>\n",
       "      <td>0</td>\n",
       "      <td>0.310026</td>\n",
       "      <td>1</td>\n",
       "      <td>Yes</td>\n",
       "    </tr>\n",
       "  </tbody>\n",
       "</table>\n",
       "</div>"
      ],
      "text/plain": [
       "      age likes_videogames  likes_videogames_bool  p_convert  converted_bool  \\\n",
       "355  18.0              Yes                      1   0.768525               1   \n",
       "720  18.0              Yes                      1   0.768525               1   \n",
       "678  18.0               No                      0   0.310026               0   \n",
       "113  18.0               No                      0   0.310026               0   \n",
       "425  18.0               No                      0   0.310026               1   \n",
       "\n",
       "    converted  \n",
       "355       Yes  \n",
       "720       Yes  \n",
       "678        No  \n",
       "113        No  \n",
       "425       Yes  "
      ]
     },
     "execution_count": 77,
     "metadata": {},
     "output_type": "execute_result"
    }
   ],
   "source": [
    "# Parameters of model\n",
    "intercept = 1\n",
    "coeff_age = -0.1\n",
    "coeff_likes_videogames = 2\n",
    "\n",
    "# Construction of mean p_convert\n",
    "y = intercept + coeff_age * df[\"age\"] + coeff_likes_videogames * df[\"likes_videogames_bool\"]\n",
    "\n",
    "# Convert the continuous value to 0 1 bounded\n",
    "# This is the link function\n",
    "p_convert = special.expit(y)\n",
    "\n",
    "# Simulate actual conversions. Rememver a prob of .99 doesn't guarantee someone will convert!\n",
    "# To see that look at the graph below\n",
    "converted_bool = stats.bernoulli(p=p_convert).rvs(random_state=rng)\n",
    "\n",
    "df[\"p_convert\"] = p_convert\n",
    "df[\"converted_bool\"] = converted_bool\n",
    "df[\"converted\"] = [{1:\"Yes\", 0:\"No\"}[outcome] for outcome in converted_bool]\n",
    "df.head()"
   ]
  },
  {
   "cell_type": "markdown",
   "id": "dc57dfd9",
   "metadata": {
    "slideshow": {
     "slide_type": "skip"
    }
   },
   "source": [
    "## Logistic curves"
   ]
  },
  {
   "cell_type": "code",
   "execution_count": 78,
   "id": "16455203",
   "metadata": {
    "slideshow": {
     "slide_type": "skip"
    }
   },
   "outputs": [
    {
     "data": {
      "image/png": "[encoded data removed]",
      "text/plain": [
       "<Figure size 1152x576 with 1 Axes>"
      ]
     },
     "metadata": {
      "needs_background": "light"
     },
     "output_type": "display_data"
    }
   ],
   "source": [
    "fig, ax = plt.subplots(figsize=FIGSIZE)\n",
    "sns.scatterplot(x=\"age\", y=\"p_convert\", hue=\"converted\", data=df, ax=ax, s=200);"
   ]
  },
  {
   "cell_type": "code",
   "execution_count": 79,
   "id": "d2eda971",
   "metadata": {
    "slideshow": {
     "slide_type": "skip"
    }
   },
   "outputs": [
    {
     "data": {
      "text/html": [
       "<div>\n",
       "<style scoped>\n",
       "    .dataframe tbody tr th:only-of-type {\n",
       "        vertical-align: middle;\n",
       "    }\n",
       "\n",
       "    .dataframe tbody tr th {\n",
       "        vertical-align: top;\n",
       "    }\n",
       "\n",
       "    .dataframe thead th {\n",
       "        text-align: right;\n",
       "    }\n",
       "</style>\n",
       "<table border=\"1\" class=\"dataframe\">\n",
       "  <thead>\n",
       "    <tr style=\"text-align: right;\">\n",
       "      <th></th>\n",
       "      <th>age</th>\n",
       "      <th>likes_videogames</th>\n",
       "      <th>converted</th>\n",
       "      <th>likes_videogames_bool</th>\n",
       "      <th>converted_bool</th>\n",
       "    </tr>\n",
       "  </thead>\n",
       "  <tbody>\n",
       "    <tr>\n",
       "      <th>0</th>\n",
       "      <td>40.0</td>\n",
       "      <td>No</td>\n",
       "      <td>No</td>\n",
       "      <td>0</td>\n",
       "      <td>0</td>\n",
       "    </tr>\n",
       "    <tr>\n",
       "      <th>1</th>\n",
       "      <td>39.0</td>\n",
       "      <td>No</td>\n",
       "      <td>No</td>\n",
       "      <td>0</td>\n",
       "      <td>0</td>\n",
       "    </tr>\n",
       "    <tr>\n",
       "      <th>2</th>\n",
       "      <td>26.0</td>\n",
       "      <td>No</td>\n",
       "      <td>No</td>\n",
       "      <td>0</td>\n",
       "      <td>0</td>\n",
       "    </tr>\n",
       "    <tr>\n",
       "      <th>3</th>\n",
       "      <td>18.0</td>\n",
       "      <td>No</td>\n",
       "      <td>No</td>\n",
       "      <td>0</td>\n",
       "      <td>0</td>\n",
       "    </tr>\n",
       "    <tr>\n",
       "      <th>4</th>\n",
       "      <td>29.0</td>\n",
       "      <td>Yes</td>\n",
       "      <td>No</td>\n",
       "      <td>1</td>\n",
       "      <td>0</td>\n",
       "    </tr>\n",
       "    <tr>\n",
       "      <th>5</th>\n",
       "      <td>45.0</td>\n",
       "      <td>No</td>\n",
       "      <td>No</td>\n",
       "      <td>0</td>\n",
       "      <td>0</td>\n",
       "    </tr>\n",
       "    <tr>\n",
       "      <th>6</th>\n",
       "      <td>44.0</td>\n",
       "      <td>No</td>\n",
       "      <td>No</td>\n",
       "      <td>0</td>\n",
       "      <td>0</td>\n",
       "    </tr>\n",
       "    <tr>\n",
       "      <th>7</th>\n",
       "      <td>49.0</td>\n",
       "      <td>Yes</td>\n",
       "      <td>Yes</td>\n",
       "      <td>1</td>\n",
       "      <td>1</td>\n",
       "    </tr>\n",
       "    <tr>\n",
       "      <th>8</th>\n",
       "      <td>26.0</td>\n",
       "      <td>Yes</td>\n",
       "      <td>No</td>\n",
       "      <td>1</td>\n",
       "      <td>0</td>\n",
       "    </tr>\n",
       "    <tr>\n",
       "      <th>9</th>\n",
       "      <td>47.0</td>\n",
       "      <td>Yes</td>\n",
       "      <td>No</td>\n",
       "      <td>1</td>\n",
       "      <td>0</td>\n",
       "    </tr>\n",
       "  </tbody>\n",
       "</table>\n",
       "</div>"
      ],
      "text/plain": [
       "    age likes_videogames converted  likes_videogames_bool  converted_bool\n",
       "0  40.0               No        No                      0               0\n",
       "1  39.0               No        No                      0               0\n",
       "2  26.0               No        No                      0               0\n",
       "3  18.0               No        No                      0               0\n",
       "4  29.0              Yes        No                      1               0\n",
       "5  45.0               No        No                      0               0\n",
       "6  44.0               No        No                      0               0\n",
       "7  49.0              Yes       Yes                      1               1\n",
       "8  26.0              Yes        No                      1               0\n",
       "9  47.0              Yes        No                      1               0"
      ]
     },
     "execution_count": 79,
     "metadata": {},
     "output_type": "execute_result"
    }
   ],
   "source": [
    "customers_table = (df.drop(\"p_convert\", axis=1).sample(frac=1, random_state=5).reset_index()\n",
    "                          [[\"age\", \"likes_videogames\", \"converted\", \"likes_videogames_bool\", \"converted_bool\"]])\n",
    "customers_table.head(10)"
   ]
  },
  {
   "cell_type": "markdown",
   "id": "dab27a08",
   "metadata": {
    "slideshow": {
     "slide_type": "slide"
    }
   },
   "source": [
    "# Bayesian AB Test \n",
    "The statistics test that everyone loves"
   ]
  },
  {
   "cell_type": "markdown",
   "id": "83919bde",
   "metadata": {
    "slideshow": {
     "slide_type": "slide"
    }
   },
   "source": [
    "## A conversation with your boss\n"
   ]
  },
  {
   "cell_type": "markdown",
   "id": "ad0276f9",
   "metadata": {
    "slideshow": {
     "slide_type": "fragment"
    }
   },
   "source": [
    "### \"Take a look at our website checkout data.\n"
   ]
  },
  {
   "cell_type": "markdown",
   "id": "cbb27a7f",
   "metadata": {
    "slideshow": {
     "slide_type": "fragment"
    }
   },
   "source": [
    "### I want to know which customers are most likely to convert so we can focus our marketing efforts on them"
   ]
  },
  {
   "cell_type": "markdown",
   "id": "4d6fa25c",
   "metadata": {
    "slideshow": {
     "slide_type": "notes"
    }
   },
   "source": [
    "Your boss comes to you with a question, a question that basically every data scientist will get asked in their career. Given a new feature, or some properties about the customer, which are most likely to convert?\n",
    "\n",
    "Now you're stressed out. You need to turn our results fast. Better get to it"
   ]
  },
  {
   "cell_type": "markdown",
   "id": "f22089e1",
   "metadata": {
    "slideshow": {
     "slide_type": "slide"
    }
   },
   "source": [
    "### Oh and I want the results by the end of the day. I have a meeting with the CEO\""
   ]
  },
  {
   "cell_type": "markdown",
   "id": "3cc6afcd",
   "metadata": {
    "slideshow": {
     "slide_type": "slide"
    }
   },
   "source": [
    "## Available data"
   ]
  },
  {
   "cell_type": "code",
   "execution_count": 80,
   "id": "06413a68",
   "metadata": {},
   "outputs": [
    {
     "data": {
      "text/html": [
       "<div>\n",
       "<style scoped>\n",
       "    .dataframe tbody tr th:only-of-type {\n",
       "        vertical-align: middle;\n",
       "    }\n",
       "\n",
       "    .dataframe tbody tr th {\n",
       "        vertical-align: top;\n",
       "    }\n",
       "\n",
       "    .dataframe thead th {\n",
       "        text-align: right;\n",
       "    }\n",
       "</style>\n",
       "<table border=\"1\" class=\"dataframe\">\n",
       "  <thead>\n",
       "    <tr style=\"text-align: right;\">\n",
       "      <th></th>\n",
       "      <th>age</th>\n",
       "      <th>likes_videogames</th>\n",
       "      <th>converted</th>\n",
       "      <th>likes_videogames_bool</th>\n",
       "      <th>converted_bool</th>\n",
       "    </tr>\n",
       "  </thead>\n",
       "  <tbody>\n",
       "    <tr>\n",
       "      <th>0</th>\n",
       "      <td>40.0</td>\n",
       "      <td>No</td>\n",
       "      <td>No</td>\n",
       "      <td>0</td>\n",
       "      <td>0</td>\n",
       "    </tr>\n",
       "    <tr>\n",
       "      <th>1</th>\n",
       "      <td>39.0</td>\n",
       "      <td>No</td>\n",
       "      <td>No</td>\n",
       "      <td>0</td>\n",
       "      <td>0</td>\n",
       "    </tr>\n",
       "    <tr>\n",
       "      <th>2</th>\n",
       "      <td>26.0</td>\n",
       "      <td>No</td>\n",
       "      <td>No</td>\n",
       "      <td>0</td>\n",
       "      <td>0</td>\n",
       "    </tr>\n",
       "    <tr>\n",
       "      <th>3</th>\n",
       "      <td>18.0</td>\n",
       "      <td>No</td>\n",
       "      <td>No</td>\n",
       "      <td>0</td>\n",
       "      <td>0</td>\n",
       "    </tr>\n",
       "    <tr>\n",
       "      <th>4</th>\n",
       "      <td>29.0</td>\n",
       "      <td>Yes</td>\n",
       "      <td>No</td>\n",
       "      <td>1</td>\n",
       "      <td>0</td>\n",
       "    </tr>\n",
       "    <tr>\n",
       "      <th>5</th>\n",
       "      <td>45.0</td>\n",
       "      <td>No</td>\n",
       "      <td>No</td>\n",
       "      <td>0</td>\n",
       "      <td>0</td>\n",
       "    </tr>\n",
       "    <tr>\n",
       "      <th>6</th>\n",
       "      <td>44.0</td>\n",
       "      <td>No</td>\n",
       "      <td>No</td>\n",
       "      <td>0</td>\n",
       "      <td>0</td>\n",
       "    </tr>\n",
       "    <tr>\n",
       "      <th>7</th>\n",
       "      <td>49.0</td>\n",
       "      <td>Yes</td>\n",
       "      <td>Yes</td>\n",
       "      <td>1</td>\n",
       "      <td>1</td>\n",
       "    </tr>\n",
       "    <tr>\n",
       "      <th>8</th>\n",
       "      <td>26.0</td>\n",
       "      <td>Yes</td>\n",
       "      <td>No</td>\n",
       "      <td>1</td>\n",
       "      <td>0</td>\n",
       "    </tr>\n",
       "    <tr>\n",
       "      <th>9</th>\n",
       "      <td>47.0</td>\n",
       "      <td>Yes</td>\n",
       "      <td>No</td>\n",
       "      <td>1</td>\n",
       "      <td>0</td>\n",
       "    </tr>\n",
       "  </tbody>\n",
       "</table>\n",
       "</div>"
      ],
      "text/plain": [
       "    age likes_videogames converted  likes_videogames_bool  converted_bool\n",
       "0  40.0               No        No                      0               0\n",
       "1  39.0               No        No                      0               0\n",
       "2  26.0               No        No                      0               0\n",
       "3  18.0               No        No                      0               0\n",
       "4  29.0              Yes        No                      1               0\n",
       "5  45.0               No        No                      0               0\n",
       "6  44.0               No        No                      0               0\n",
       "7  49.0              Yes       Yes                      1               1\n",
       "8  26.0              Yes        No                      1               0\n",
       "9  47.0              Yes        No                      1               0"
      ]
     },
     "execution_count": 80,
     "metadata": {},
     "output_type": "execute_result"
    }
   ],
   "source": [
    "customers_table.head(10)"
   ]
  },
  {
   "cell_type": "markdown",
   "id": "7f98018d",
   "metadata": {
    "slideshow": {
     "slide_type": "notes"
    }
   },
   "source": [
    "So we look at the data we have three things. The age, whether they like videogames\n",
    ", and whether they converted or not.\n",
    "\n",
    "We can see four cases here\n",
    "The first two are obvious.\n",
    "We have\n",
    "* People that don't like videogames that didn't convert\n",
    "* People that did like videogmes and did convert\n",
    "\n",
    "The second two though are more interesting\n",
    "* Folks that didn't like videogames but did convert\n",
    "* Folks that do like videogames that didn't convert\n"
   ]
  },
  {
   "cell_type": "markdown",
   "id": "fbfd4389",
   "metadata": {
    "slideshow": {
     "slide_type": "slide"
    }
   },
   "source": [
    "## Summarizing our DF"
   ]
  },
  {
   "cell_type": "code",
   "execution_count": 154,
   "id": "e126732e",
   "metadata": {},
   "outputs": [
    {
     "data": {
      "text/html": [
       "<div>\n",
       "<style scoped>\n",
       "    .dataframe tbody tr th:only-of-type {\n",
       "        vertical-align: middle;\n",
       "    }\n",
       "\n",
       "    .dataframe tbody tr th {\n",
       "        vertical-align: top;\n",
       "    }\n",
       "\n",
       "    .dataframe thead th {\n",
       "        text-align: right;\n",
       "    }\n",
       "</style>\n",
       "<table border=\"1\" class=\"dataframe\">\n",
       "  <thead>\n",
       "    <tr style=\"text-align: right;\">\n",
       "      <th></th>\n",
       "      <th>converted</th>\n",
       "      <th>visited</th>\n",
       "    </tr>\n",
       "    <tr>\n",
       "      <th>likes_videogames</th>\n",
       "      <th></th>\n",
       "      <th></th>\n",
       "    </tr>\n",
       "  </thead>\n",
       "  <tbody>\n",
       "    <tr>\n",
       "      <th>No</th>\n",
       "      <td>54</td>\n",
       "      <td>517</td>\n",
       "    </tr>\n",
       "    <tr>\n",
       "      <th>Yes</th>\n",
       "      <td>159</td>\n",
       "      <td>483</td>\n",
       "    </tr>\n",
       "  </tbody>\n",
       "</table>\n",
       "</div>"
      ],
      "text/plain": [
       "                  converted  visited\n",
       "likes_videogames                    \n",
       "No                       54      517\n",
       "Yes                     159      483"
      ]
     },
     "execution_count": 154,
     "metadata": {},
     "output_type": "execute_result"
    }
   ],
   "source": [
    "customers_table_summarized = (df\n",
    "  .groupby(\"likes_videogames\")\n",
    "  .agg(\n",
    "       converted = (\"converted_bool\", sum),\n",
    "        visited = (\"converted_bool\", len)\n",
    "    )\n",
    ")\n",
    "customers_table_summarized"
   ]
  },
  {
   "cell_type": "markdown",
   "id": "87c9ce52",
   "metadata": {
    "slideshow": {
     "slide_type": "notes"
    }
   },
   "source": [
    "Because were short on time we start with the obvious thing, which is the boolean. Lets summarize our customer level data to 2x2 grid for simplicity. Just glancing at the rows we can already see a difference."
   ]
  },
  {
   "cell_type": "markdown",
   "id": "4ddecb12",
   "metadata": {
    "slideshow": {
     "slide_type": "slide"
    }
   },
   "source": [
    "## Quick EDA"
   ]
  },
  {
   "cell_type": "code",
   "execution_count": 139,
   "id": "29747375",
   "metadata": {
    "hide_input": false
   },
   "outputs": [
    {
     "data": {
      "image/png": "[encoded data removed]",
      "text/plain": [
       "<Figure size 1152x576 with 1 Axes>"
      ]
     },
     "metadata": {
      "needs_background": "light"
     },
     "output_type": "display_data"
    }
   ],
   "source": [
    "fig, ax = plt.subplots(figsize=FIGSIZE)\n",
    "ax.set_title(\"Conversions by like_videogame boolean\")\n",
    "ax.set_label(\"Count Conversion\")\n",
    "ax.set_ylabel(\"Count\")\n",
    "customers_table_summarized.plot(kind=\"bar\", ax=ax);"
   ]
  },
  {
   "cell_type": "markdown",
   "id": "e3cefa13",
   "metadata": {
    "slideshow": {
     "slide_type": "notes"
    }
   },
   "source": [
    "ITs always a god idea to plot the results as well  just as as double check"
   ]
  },
  {
   "cell_type": "markdown",
   "id": "e9525bde",
   "metadata": {
    "slideshow": {
     "slide_type": "slide"
    }
   },
   "source": [
    "## A/B Test in PyMC"
   ]
  },
  {
   "cell_type": "code",
   "execution_count": 83,
   "id": "964c4710",
   "metadata": {},
   "outputs": [
    {
     "name": "stderr",
     "output_type": "stream",
     "text": [
      "Auto-assigning NUTS sampler...\n",
      "Initializing NUTS using jitter+adapt_diag...\n",
      "Multiprocess sampling (4 chains in 4 jobs)\n",
      "NUTS: [p_convert]\n"
     ]
    },
    {
     "data": {
      "text/html": [
       "\n",
       "<style>\n",
       "    /* Turns off some styling */\n",
       "    progress {\n",
       "        /* gets rid of default border in Firefox and Opera. */\n",
       "        border: none;\n",
       "        /* Needs to be in here for Safari polyfill so background images work as expected. */\n",
       "        background-size: auto;\n",
       "    }\n",
       "    progress:not([value]), progress:not([value])::-webkit-progress-bar {\n",
       "        background: repeating-linear-gradient(45deg, #7e7e7e, #7e7e7e 10px, #5c5c5c 10px, #5c5c5c 20px);\n",
       "    }\n",
       "    .progress-bar-interrupted, .progress-bar-interrupted::-webkit-progress-bar {\n",
       "        background: #F44336;\n",
       "    }\n",
       "</style>\n"
      ],
      "text/plain": [
       "<IPython.core.display.HTML object>"
      ]
     },
     "metadata": {},
     "output_type": "display_data"
    },
    {
     "data": {
      "text/html": [
       "\n",
       "    <div>\n",
       "      <progress value='8000' class='' max='8000' style='width:300px; height:20px; vertical-align: middle;'></progress>\n",
       "      100.00% [8000/8000 00:02&lt;00:00 Sampling 4 chains, 0 divergences]\n",
       "    </div>\n",
       "    "
      ],
      "text/plain": [
       "<IPython.core.display.HTML object>"
      ]
     },
     "metadata": {},
     "output_type": "display_data"
    },
    {
     "name": "stderr",
     "output_type": "stream",
     "text": [
      "Sampling 4 chains for 1_000 tune and 1_000 draw iterations (4_000 + 4_000 draws total) took 3 seconds.\n"
     ]
    }
   ],
   "source": [
    "visited = customers_table_summarized[\"visited\"].to_numpy()\n",
    "converted = customers_table_summarized[\"converted\"].to_numpy()\n",
    "coords = {\"likes_videogames\": customers_table_summarized.index}\n",
    "\n",
    "with pm.Model(coords=coords) as ab_test:\n",
    "\n",
    "    p_convert = pm.Beta(\"p_convert\", 2, 2, dims=\"likes_videogames\")\n",
    "    pm.Binomial(\"obs\", p=p_convert, n=visited, observed=converted)\n",
    "\n",
    "    idata_likes_video_games = pm.sample()"
   ]
  },
  {
   "cell_type": "markdown",
   "id": "9ba47cad",
   "metadata": {
    "slideshow": {
     "slide_type": "notes"
    }
   },
   "source": [
    "We're not quite sure how to AB test in Bambi so for now we just use PyMC. Luckily the model is quite small so its quick to code up. Because we summed Everything here should look familiar to you\n"
   ]
  },
  {
   "cell_type": "markdown",
   "id": "9fc409ed",
   "metadata": {
    "slideshow": {
     "slide_type": "slide"
    }
   },
   "source": [
    "## Let's check out results"
   ]
  },
  {
   "cell_type": "code",
   "execution_count": 143,
   "id": "e64afb69",
   "metadata": {
    "slideshow": {
     "slide_type": "-"
    }
   },
   "outputs": [
    {
     "data": {
      "image/png": "[encoded data removed]",
      "text/plain": [
       "<Figure size 1152x432 with 2 Axes>"
      ]
     },
     "metadata": {
      "needs_background": "light"
     },
     "output_type": "display_data"
    }
   ],
   "source": [
    "az.plot_trace(idata_likes_video_games, kind=\"rank_bars\", figsize=(16,6));"
   ]
  },
  {
   "cell_type": "markdown",
   "id": "f01cb996",
   "metadata": {
    "slideshow": {
     "slide_type": "notes"
    }
   },
   "source": [
    "Our sampling looks good, and we can already see from the KDE estimate that theres a big difference between the two groups"
   ]
  },
  {
   "cell_type": "markdown",
   "id": "d4f436a2",
   "metadata": {
    "slideshow": {
     "slide_type": "slide"
    }
   },
   "source": [
    "## Comparing the two groups"
   ]
  },
  {
   "cell_type": "code",
   "execution_count": 156,
   "id": "0b6f9e8f",
   "metadata": {},
   "outputs": [
    {
     "data": {
      "image/png": "[encoded data removed]",
      "text/plain": [
       "<Figure size 1152x576 with 1 Axes>"
      ]
     },
     "metadata": {
      "needs_background": "light"
     },
     "output_type": "display_data"
    }
   ],
   "source": [
    "az.plot_forest(idata_likes_video_games, figsize=(16,8));"
   ]
  },
  {
   "cell_type": "markdown",
   "id": "c7e5ed09",
   "metadata": {
    "slideshow": {
     "slide_type": "notes"
    }
   },
   "source": [
    "Great, were now very sure that there's a difference. "
   ]
  },
  {
   "cell_type": "markdown",
   "id": "b41805c4",
   "metadata": {
    "slideshow": {
     "slide_type": "slide"
    }
   },
   "source": [
    "## Section Recap\n",
    "* Our boss asked us to analyze the probability of customer converting\n",
    "* Our data includes\n",
    "  * Whether people like video games\n",
    "  * Age\n",
    "* Wrote a Bayesian AB Test to show a credible difference in conversion due to age"
   ]
  },
  {
   "cell_type": "markdown",
   "id": "5ac56af2",
   "metadata": {
    "slideshow": {
     "slide_type": "slide"
    }
   },
   "source": [
    "# Incorporating age\n",
    "How continuity makes things hard"
   ]
  },
  {
   "cell_type": "markdown",
   "id": "c3241a6e",
   "metadata": {
    "slideshow": {
     "slide_type": "slide"
    }
   },
   "source": [
    "## Showing your boss the results"
   ]
  },
  {
   "cell_type": "markdown",
   "id": "8b284c06",
   "metadata": {
    "slideshow": {
     "slide_type": "fragment"
    }
   },
   "source": [
    "### Well that was obvious"
   ]
  },
  {
   "cell_type": "markdown",
   "id": "9e0ac7e8",
   "metadata": {
    "slideshow": {
     "slide_type": "fragment"
    }
   },
   "source": [
    "### Why didn't you include age? How does that affect things"
   ]
  },
  {
   "cell_type": "markdown",
   "id": "043399eb",
   "metadata": {
    "slideshow": {
     "slide_type": "fragment"
    }
   },
   "source": [
    "### Hurry up! I have a meeting with the CEO soon"
   ]
  },
  {
   "cell_type": "markdown",
   "id": "31fb793d",
   "metadata": {
    "slideshow": {
     "slide_type": "slide"
    }
   },
   "source": [
    "## Unfortunately we've only worked with discrete data"
   ]
  },
  {
   "cell_type": "code",
   "execution_count": 150,
   "id": "5be7e0c1",
   "metadata": {},
   "outputs": [
    {
     "data": {
      "text/plain": [
       "0       No\n",
       "1       No\n",
       "2       No\n",
       "3       No\n",
       "4      Yes\n",
       "      ... \n",
       "995    Yes\n",
       "996     No\n",
       "997     No\n",
       "998     No\n",
       "999    Yes\n",
       "Name: likes_videogames, Length: 1000, dtype: object"
      ]
     },
     "execution_count": 150,
     "metadata": {},
     "output_type": "execute_result"
    }
   ],
   "source": [
    "customers_table[\"likes_videogames\"]"
   ]
  },
  {
   "cell_type": "markdown",
   "id": "6e1beaf7",
   "metadata": {
    "slideshow": {
     "slide_type": "slide"
    }
   },
   "source": [
    "## How do work with a continuous attribute?"
   ]
  },
  {
   "cell_type": "code",
   "execution_count": 149,
   "id": "777e5bde",
   "metadata": {},
   "outputs": [
    {
     "data": {
      "text/plain": [
       "0      40.0\n",
       "1      39.0\n",
       "2      26.0\n",
       "3      18.0\n",
       "4      29.0\n",
       "       ... \n",
       "995    34.0\n",
       "996    23.0\n",
       "997    46.0\n",
       "998    26.0\n",
       "999    54.0\n",
       "Name: age, Length: 1000, dtype: float64"
      ]
     },
     "execution_count": 149,
     "metadata": {},
     "output_type": "execute_result"
    }
   ],
   "source": [
    "customers_table[\"age\"]"
   ]
  },
  {
   "cell_type": "markdown",
   "id": "b3a18df6",
   "metadata": {},
   "source": [
    "We need to figure out how to work with a continuous attribute like age"
   ]
  },
  {
   "cell_type": "markdown",
   "id": "d35cf006",
   "metadata": {},
   "source": [
    "## A, B, C, D, E, .... Comparison\n"
   ]
  },
  {
   "cell_type": "markdown",
   "id": "bf8edad0",
   "metadata": {
    "slideshow": {
     "slide_type": "notes"
    }
   },
   "source": [
    "Excited you show your boss and say there is a big difference between the two groups, but then he asks\n",
    "\n",
    "\n",
    "Now you're really under pressure"
   ]
  },
  {
   "cell_type": "markdown",
   "id": "517c5d00",
   "metadata": {
    "slideshow": {
     "slide_type": "notes"
    }
   },
   "source": [
    "Our framework only works with discrete values that are either one value or another"
   ]
  },
  {
   "cell_type": "code",
   "execution_count": 86,
   "id": "e3fc98fb",
   "metadata": {
    "slideshow": {
     "slide_type": "slide"
    }
   },
   "outputs": [
    {
     "data": {
      "text/html": [
       "<div>\n",
       "<style scoped>\n",
       "    .dataframe tbody tr th:only-of-type {\n",
       "        vertical-align: middle;\n",
       "    }\n",
       "\n",
       "    .dataframe tbody tr th {\n",
       "        vertical-align: top;\n",
       "    }\n",
       "\n",
       "    .dataframe thead th {\n",
       "        text-align: right;\n",
       "    }\n",
       "</style>\n",
       "<table border=\"1\" class=\"dataframe\">\n",
       "  <thead>\n",
       "    <tr style=\"text-align: right;\">\n",
       "      <th></th>\n",
       "      <th>age</th>\n",
       "      <th>likes_videogames</th>\n",
       "      <th>converted</th>\n",
       "      <th>likes_videogames_bool</th>\n",
       "      <th>converted_bool</th>\n",
       "      <th>age_buckets</th>\n",
       "    </tr>\n",
       "  </thead>\n",
       "  <tbody>\n",
       "    <tr>\n",
       "      <th>0</th>\n",
       "      <td>40.0</td>\n",
       "      <td>No</td>\n",
       "      <td>No</td>\n",
       "      <td>0</td>\n",
       "      <td>0</td>\n",
       "      <td>(34.4, 42.6]</td>\n",
       "    </tr>\n",
       "    <tr>\n",
       "      <th>1</th>\n",
       "      <td>39.0</td>\n",
       "      <td>No</td>\n",
       "      <td>No</td>\n",
       "      <td>0</td>\n",
       "      <td>0</td>\n",
       "      <td>(34.4, 42.6]</td>\n",
       "    </tr>\n",
       "    <tr>\n",
       "      <th>2</th>\n",
       "      <td>26.0</td>\n",
       "      <td>No</td>\n",
       "      <td>No</td>\n",
       "      <td>0</td>\n",
       "      <td>0</td>\n",
       "      <td>(17.959, 26.2]</td>\n",
       "    </tr>\n",
       "    <tr>\n",
       "      <th>3</th>\n",
       "      <td>18.0</td>\n",
       "      <td>No</td>\n",
       "      <td>No</td>\n",
       "      <td>0</td>\n",
       "      <td>0</td>\n",
       "      <td>(17.959, 26.2]</td>\n",
       "    </tr>\n",
       "    <tr>\n",
       "      <th>4</th>\n",
       "      <td>29.0</td>\n",
       "      <td>Yes</td>\n",
       "      <td>No</td>\n",
       "      <td>1</td>\n",
       "      <td>0</td>\n",
       "      <td>(26.2, 34.4]</td>\n",
       "    </tr>\n",
       "    <tr>\n",
       "      <th>...</th>\n",
       "      <td>...</td>\n",
       "      <td>...</td>\n",
       "      <td>...</td>\n",
       "      <td>...</td>\n",
       "      <td>...</td>\n",
       "      <td>...</td>\n",
       "    </tr>\n",
       "    <tr>\n",
       "      <th>995</th>\n",
       "      <td>34.0</td>\n",
       "      <td>Yes</td>\n",
       "      <td>No</td>\n",
       "      <td>1</td>\n",
       "      <td>0</td>\n",
       "      <td>(26.2, 34.4]</td>\n",
       "    </tr>\n",
       "    <tr>\n",
       "      <th>996</th>\n",
       "      <td>23.0</td>\n",
       "      <td>No</td>\n",
       "      <td>Yes</td>\n",
       "      <td>0</td>\n",
       "      <td>1</td>\n",
       "      <td>(17.959, 26.2]</td>\n",
       "    </tr>\n",
       "    <tr>\n",
       "      <th>997</th>\n",
       "      <td>46.0</td>\n",
       "      <td>No</td>\n",
       "      <td>No</td>\n",
       "      <td>0</td>\n",
       "      <td>0</td>\n",
       "      <td>(42.6, 50.8]</td>\n",
       "    </tr>\n",
       "    <tr>\n",
       "      <th>998</th>\n",
       "      <td>26.0</td>\n",
       "      <td>No</td>\n",
       "      <td>Yes</td>\n",
       "      <td>0</td>\n",
       "      <td>1</td>\n",
       "      <td>(17.959, 26.2]</td>\n",
       "    </tr>\n",
       "    <tr>\n",
       "      <th>999</th>\n",
       "      <td>54.0</td>\n",
       "      <td>Yes</td>\n",
       "      <td>No</td>\n",
       "      <td>1</td>\n",
       "      <td>0</td>\n",
       "      <td>(50.8, 59.0]</td>\n",
       "    </tr>\n",
       "  </tbody>\n",
       "</table>\n",
       "<p>1000 rows × 6 columns</p>\n",
       "</div>"
      ],
      "text/plain": [
       "      age likes_videogames converted  likes_videogames_bool  converted_bool  \\\n",
       "0    40.0               No        No                      0               0   \n",
       "1    39.0               No        No                      0               0   \n",
       "2    26.0               No        No                      0               0   \n",
       "3    18.0               No        No                      0               0   \n",
       "4    29.0              Yes        No                      1               0   \n",
       "..    ...              ...       ...                    ...             ...   \n",
       "995  34.0              Yes        No                      1               0   \n",
       "996  23.0               No       Yes                      0               1   \n",
       "997  46.0               No        No                      0               0   \n",
       "998  26.0               No       Yes                      0               1   \n",
       "999  54.0              Yes        No                      1               0   \n",
       "\n",
       "        age_buckets  \n",
       "0      (34.4, 42.6]  \n",
       "1      (34.4, 42.6]  \n",
       "2    (17.959, 26.2]  \n",
       "3    (17.959, 26.2]  \n",
       "4      (26.2, 34.4]  \n",
       "..              ...  \n",
       "995    (26.2, 34.4]  \n",
       "996  (17.959, 26.2]  \n",
       "997    (42.6, 50.8]  \n",
       "998  (17.959, 26.2]  \n",
       "999    (50.8, 59.0]  \n",
       "\n",
       "[1000 rows x 6 columns]"
      ]
     },
     "execution_count": 86,
     "metadata": {},
     "output_type": "execute_result"
    }
   ],
   "source": [
    "customers_table[\"age_buckets\"] = pd.cut(customers_table[\"age\"], bins=5)\n",
    "customers_table"
   ]
  },
  {
   "cell_type": "markdown",
   "id": "ff234466",
   "metadata": {
    "slideshow": {
     "slide_type": "notes"
    }
   },
   "source": [
    "One thing we could try doing is bucketing the values into discrete ranges"
   ]
  },
  {
   "cell_type": "markdown",
   "id": "eccee8dd",
   "metadata": {
    "slideshow": {
     "slide_type": "slide"
    }
   },
   "source": [
    "## Summarizing the table"
   ]
  },
  {
   "cell_type": "code",
   "execution_count": 152,
   "id": "4f8b561e",
   "metadata": {},
   "outputs": [
    {
     "data": {
      "text/html": [
       "<div>\n",
       "<style scoped>\n",
       "    .dataframe tbody tr th:only-of-type {\n",
       "        vertical-align: middle;\n",
       "    }\n",
       "\n",
       "    .dataframe tbody tr th {\n",
       "        vertical-align: top;\n",
       "    }\n",
       "\n",
       "    .dataframe thead th {\n",
       "        text-align: right;\n",
       "    }\n",
       "</style>\n",
       "<table border=\"1\" class=\"dataframe\">\n",
       "  <thead>\n",
       "    <tr style=\"text-align: right;\">\n",
       "      <th></th>\n",
       "      <th>converted</th>\n",
       "      <th>visited</th>\n",
       "    </tr>\n",
       "    <tr>\n",
       "      <th>age_buckets</th>\n",
       "      <th></th>\n",
       "      <th></th>\n",
       "    </tr>\n",
       "  </thead>\n",
       "  <tbody>\n",
       "    <tr>\n",
       "      <th>(17.959, 26.2]</th>\n",
       "      <td>100</td>\n",
       "      <td>207</td>\n",
       "    </tr>\n",
       "    <tr>\n",
       "      <th>(26.2, 34.4]</th>\n",
       "      <td>63</td>\n",
       "      <td>205</td>\n",
       "    </tr>\n",
       "    <tr>\n",
       "      <th>(34.4, 42.6]</th>\n",
       "      <td>26</td>\n",
       "      <td>180</td>\n",
       "    </tr>\n",
       "    <tr>\n",
       "      <th>(42.6, 50.8]</th>\n",
       "      <td>20</td>\n",
       "      <td>210</td>\n",
       "    </tr>\n",
       "    <tr>\n",
       "      <th>(50.8, 59.0]</th>\n",
       "      <td>4</td>\n",
       "      <td>198</td>\n",
       "    </tr>\n",
       "  </tbody>\n",
       "</table>\n",
       "</div>"
      ],
      "text/plain": [
       "                converted  visited\n",
       "age_buckets                       \n",
       "(17.959, 26.2]        100      207\n",
       "(26.2, 34.4]           63      205\n",
       "(34.4, 42.6]           26      180\n",
       "(42.6, 50.8]           20      210\n",
       "(50.8, 59.0]            4      198"
      ]
     },
     "execution_count": 152,
     "metadata": {},
     "output_type": "execute_result"
    }
   ],
   "source": [
    "customers_table_summarized = (customers_table.groupby(\"age_buckets\")\n",
    "    .agg(\n",
    "        converted = (\"converted_bool\", sum),\n",
    "        visited = (\"converted_bool\", len)\n",
    "    )\n",
    ")\n",
    "customers_table_summarized"
   ]
  },
  {
   "cell_type": "markdown",
   "id": "d3fffb08",
   "metadata": {
    "slideshow": {
     "slide_type": "notes"
    }
   },
   "source": [
    "To make things easier to see lets summarize it as well"
   ]
  },
  {
   "cell_type": "markdown",
   "id": "be8c854b",
   "metadata": {},
   "source": [
    "## Another quick EDA"
   ]
  },
  {
   "cell_type": "code",
   "execution_count": 153,
   "id": "0e6489e0",
   "metadata": {},
   "outputs": [
    {
     "data": {
      "image/png": "[encoded data removed]",
      "text/plain": [
       "<Figure size 1152x576 with 1 Axes>"
      ]
     },
     "metadata": {
      "needs_background": "light"
     },
     "output_type": "display_data"
    }
   ],
   "source": [
    "fig, ax = plt.subplots(figsize=FIGSIZE)\n",
    "ax.set_title(\"Conversions by like_videogame indicator\")\n",
    "ax.set_label(\"Count Conversion\")\n",
    "ax.set_ylabel(\"Count\")\n",
    "customers_table_summarized.plot(kind=\"bar\", ax=ax);"
   ]
  },
  {
   "cell_type": "markdown",
   "id": "59829b2d",
   "metadata": {
    "slideshow": {
     "slide_type": "slide"
    }
   },
   "source": [
    "## Our bucketed model"
   ]
  },
  {
   "cell_type": "code",
   "execution_count": 90,
   "id": "b50e47f1",
   "metadata": {},
   "outputs": [
    {
     "name": "stderr",
     "output_type": "stream",
     "text": [
      "Auto-assigning NUTS sampler...\n",
      "Initializing NUTS using jitter+adapt_diag...\n",
      "Multiprocess sampling (4 chains in 4 jobs)\n",
      "NUTS: [p_convert]\n"
     ]
    },
    {
     "data": {
      "text/html": [
       "\n",
       "<style>\n",
       "    /* Turns off some styling */\n",
       "    progress {\n",
       "        /* gets rid of default border in Firefox and Opera. */\n",
       "        border: none;\n",
       "        /* Needs to be in here for Safari polyfill so background images work as expected. */\n",
       "        background-size: auto;\n",
       "    }\n",
       "    progress:not([value]), progress:not([value])::-webkit-progress-bar {\n",
       "        background: repeating-linear-gradient(45deg, #7e7e7e, #7e7e7e 10px, #5c5c5c 10px, #5c5c5c 20px);\n",
       "    }\n",
       "    .progress-bar-interrupted, .progress-bar-interrupted::-webkit-progress-bar {\n",
       "        background: #F44336;\n",
       "    }\n",
       "</style>\n"
      ],
      "text/plain": [
       "<IPython.core.display.HTML object>"
      ]
     },
     "metadata": {},
     "output_type": "display_data"
    },
    {
     "data": {
      "text/html": [
       "\n",
       "    <div>\n",
       "      <progress value='8000' class='' max='8000' style='width:300px; height:20px; vertical-align: middle;'></progress>\n",
       "      100.00% [8000/8000 00:03&lt;00:00 Sampling 4 chains, 0 divergences]\n",
       "    </div>\n",
       "    "
      ],
      "text/plain": [
       "<IPython.core.display.HTML object>"
      ]
     },
     "metadata": {},
     "output_type": "display_data"
    },
    {
     "name": "stderr",
     "output_type": "stream",
     "text": [
      "Sampling 4 chains for 1_000 tune and 1_000 draw iterations (4_000 + 4_000 draws total) took 4 seconds.\n"
     ]
    }
   ],
   "source": [
    "coords = {\"age_buckets\": customers_table_summarized.index}\n",
    "num_customers = customers_table_summarized[\"visited\"].to_numpy()\n",
    "customers_converted = customers_table_summarized[\"converted\"].to_numpy()\n",
    "\n",
    "with pm.Model(coords=coords) as ab_test:\n",
    "    p_convert = pm.Beta(\"p_convert\", 2, 2, dims=(\"age_buckets\"))\n",
    "    \n",
    "    obs = pm.Binomial(\"obs\", p=p_convert,\n",
    "                      n=num_customers,\n",
    "                      observed=customers_converted)\n",
    "    \n",
    "    idata_buckets = pm.sample()"
   ]
  },
  {
   "cell_type": "markdown",
   "id": "704da106",
   "metadata": {
    "slideshow": {
     "slide_type": "notes"
    }
   },
   "source": [
    "Lets run sampling again. Notice how we changed the coords"
   ]
  },
  {
   "cell_type": "markdown",
   "id": "56c78795",
   "metadata": {
    "slideshow": {
     "slide_type": "notes"
    }
   },
   "source": [
    "## Checking our inference"
   ]
  },
  {
   "cell_type": "code",
   "execution_count": 91,
   "id": "da320c1d",
   "metadata": {},
   "outputs": [
    {
     "data": {
      "image/png": "[encoded data removed]",
      "text/plain": [
       "<Figure size 864x144 with 2 Axes>"
      ]
     },
     "metadata": {
      "needs_background": "light"
     },
     "output_type": "display_data"
    }
   ],
   "source": [
    "az.plot_trace(idata_buckets);"
   ]
  },
  {
   "cell_type": "markdown",
   "id": "29f5ea2f",
   "metadata": {},
   "source": [
    "Now we can see something going on, but this doesn't exactly answer our question of how age relates to conversion directly. We can compare group to group but our boss specifically wants to know exactly how the percentage conversion drops by age."
   ]
  },
  {
   "cell_type": "markdown",
   "id": "36c6a5c3",
   "metadata": {},
   "source": [
    "## But wait we know regression!"
   ]
  },
  {
   "cell_type": "code",
   "execution_count": 92,
   "id": "023b2992",
   "metadata": {},
   "outputs": [],
   "source": [
    "converted_bool = df[\"converted_bool\"].to_numpy()\n",
    "\n",
    "with pm.Model() as ab_test:\n",
    "    sigma = pm.Normal(\"p_convert\", .001)\n",
    "    β = pm.Normal(\"β\", 0, .001, size=2)\n",
    "    \n",
    "    mu = pm.Deterministic(\"p\", β[0] + β[1]*df[\"age\"].to_numpy())\n",
    "    \n",
    "    # Switch to Bernoulli because we're predicting individual observations\n",
    "    obs = pm.Bernoulli(\"obs\", p=mu, observed=converted_bool)\n"
   ]
  },
  {
   "cell_type": "markdown",
   "id": "0b40ae18",
   "metadata": {},
   "source": [
    "If we take this to the logical extreme we could  plot conversion by age, but since conversion is just 0 or 1 we get this plot. How do we get a covariate for slope?\n",
    "\n",
    "Note, potentially call this out as a difference between prior lessons to ensure its a learning point"
   ]
  },
  {
   "cell_type": "markdown",
   "id": "5f83eaae",
   "metadata": {},
   "source": [
    "## Lets try sampling"
   ]
  },
  {
   "cell_type": "code",
   "execution_count": 93,
   "id": "01eb411c",
   "metadata": {},
   "outputs": [
    {
     "name": "stderr",
     "output_type": "stream",
     "text": [
      "Auto-assigning NUTS sampler...\n",
      "Initializing NUTS using jitter+adapt_diag...\n"
     ]
    },
    {
     "ename": "SamplingError",
     "evalue": "Initial evaluation of model at starting point failed!\nStarting values:\n{'p_convert': array(-0.61974776), 'β': array([0.77978414, 0.68742832])}\n\nInitial evaluation results:\n{'p_convert': -1.11, 'β': -540298.52, 'obs': -inf}",
     "output_type": "error",
     "traceback": [
      "\u001b[0;31m---------------------------------------------------------------------------\u001b[0m",
      "\u001b[0;31mSamplingError\u001b[0m                             Traceback (most recent call last)",
      "Input \u001b[0;32mIn [93]\u001b[0m, in \u001b[0;36m<cell line: 1>\u001b[0;34m()\u001b[0m\n\u001b[1;32m      1\u001b[0m \u001b[38;5;28;01mwith\u001b[39;00m ab_test:\n\u001b[0;32m----> 2\u001b[0m     idata_age_reg \u001b[38;5;241m=\u001b[39m \u001b[43mpm\u001b[49m\u001b[38;5;241;43m.\u001b[39;49m\u001b[43msample\u001b[49m\u001b[43m(\u001b[49m\u001b[43m)\u001b[49m\n",
      "File \u001b[0;32m~/miniconda3/envs/ib_advanced_regression/lib/python3.10/site-packages/pymc/sampling.py:565\u001b[0m, in \u001b[0;36msample\u001b[0;34m(draws, step, init, n_init, initvals, trace, chain_idx, chains, cores, tune, progressbar, model, random_seed, discard_tuned_samples, compute_convergence_checks, callback, jitter_max_retries, return_inferencedata, idata_kwargs, mp_ctx, **kwargs)\u001b[0m\n\u001b[1;32m    563\u001b[0m \u001b[38;5;66;03m# One final check that shapes and logps at the starting points are okay.\u001b[39;00m\n\u001b[1;32m    564\u001b[0m \u001b[38;5;28;01mfor\u001b[39;00m ip \u001b[38;5;129;01min\u001b[39;00m initial_points:\n\u001b[0;32m--> 565\u001b[0m     \u001b[43mmodel\u001b[49m\u001b[38;5;241;43m.\u001b[39;49m\u001b[43mcheck_start_vals\u001b[49m\u001b[43m(\u001b[49m\u001b[43mip\u001b[49m\u001b[43m)\u001b[49m\n\u001b[1;32m    566\u001b[0m     _check_start_shape(model, ip)\n\u001b[1;32m    568\u001b[0m sample_args \u001b[38;5;241m=\u001b[39m {\n\u001b[1;32m    569\u001b[0m     \u001b[38;5;124m\"\u001b[39m\u001b[38;5;124mdraws\u001b[39m\u001b[38;5;124m\"\u001b[39m: draws,\n\u001b[1;32m    570\u001b[0m     \u001b[38;5;124m\"\u001b[39m\u001b[38;5;124mstep\u001b[39m\u001b[38;5;124m\"\u001b[39m: step,\n\u001b[0;32m   (...)\u001b[0m\n\u001b[1;32m    580\u001b[0m     \u001b[38;5;124m\"\u001b[39m\u001b[38;5;124mdiscard_tuned_samples\u001b[39m\u001b[38;5;124m\"\u001b[39m: discard_tuned_samples,\n\u001b[1;32m    581\u001b[0m }\n",
      "File \u001b[0;32m~/miniconda3/envs/ib_advanced_regression/lib/python3.10/site-packages/pymc/model.py:1794\u001b[0m, in \u001b[0;36mModel.check_start_vals\u001b[0;34m(self, start)\u001b[0m\n\u001b[1;32m   1791\u001b[0m initial_eval \u001b[38;5;241m=\u001b[39m \u001b[38;5;28mself\u001b[39m\u001b[38;5;241m.\u001b[39mpoint_logps(point\u001b[38;5;241m=\u001b[39melem)\n\u001b[1;32m   1793\u001b[0m \u001b[38;5;28;01mif\u001b[39;00m \u001b[38;5;129;01mnot\u001b[39;00m \u001b[38;5;28mall\u001b[39m(np\u001b[38;5;241m.\u001b[39misfinite(v) \u001b[38;5;28;01mfor\u001b[39;00m v \u001b[38;5;129;01min\u001b[39;00m initial_eval\u001b[38;5;241m.\u001b[39mvalues()):\n\u001b[0;32m-> 1794\u001b[0m     \u001b[38;5;28;01mraise\u001b[39;00m SamplingError(\n\u001b[1;32m   1795\u001b[0m         \u001b[38;5;124m\"\u001b[39m\u001b[38;5;124mInitial evaluation of model at starting point failed!\u001b[39m\u001b[38;5;130;01m\\n\u001b[39;00m\u001b[38;5;124m\"\u001b[39m\n\u001b[1;32m   1796\u001b[0m         \u001b[38;5;124mf\u001b[39m\u001b[38;5;124m\"\u001b[39m\u001b[38;5;124mStarting values:\u001b[39m\u001b[38;5;130;01m\\n\u001b[39;00m\u001b[38;5;132;01m{\u001b[39;00melem\u001b[38;5;132;01m}\u001b[39;00m\u001b[38;5;130;01m\\n\u001b[39;00m\u001b[38;5;130;01m\\n\u001b[39;00m\u001b[38;5;124m\"\u001b[39m\n\u001b[1;32m   1797\u001b[0m         \u001b[38;5;124mf\u001b[39m\u001b[38;5;124m\"\u001b[39m\u001b[38;5;124mInitial evaluation results:\u001b[39m\u001b[38;5;130;01m\\n\u001b[39;00m\u001b[38;5;132;01m{\u001b[39;00minitial_eval\u001b[38;5;132;01m}\u001b[39;00m\u001b[38;5;124m\"\u001b[39m\n\u001b[1;32m   1798\u001b[0m     )\n",
      "\u001b[0;31mSamplingError\u001b[0m: Initial evaluation of model at starting point failed!\nStarting values:\n{'p_convert': array(-0.61974776), 'β': array([0.77978414, 0.68742832])}\n\nInitial evaluation results:\n{'p_convert': -1.11, 'β': -540298.52, 'obs': -inf}"
     ]
    }
   ],
   "source": [
    "with ab_test:\n",
    "    idata_age_reg = pm.sample()"
   ]
  },
  {
   "cell_type": "markdown",
   "id": "70d04b60",
   "metadata": {},
   "source": [
    "Ugh we're running into sampler issues. Looking at the error we see some things about negative p_convert but we don't ahve time for this"
   ]
  },
  {
   "cell_type": "markdown",
   "id": "e5464203",
   "metadata": {},
   "source": [
    "## Forget Bayes. Go back to OLS"
   ]
  },
  {
   "cell_type": "code",
   "execution_count": 94,
   "id": "df0f8d0f",
   "metadata": {},
   "outputs": [
    {
     "data": {
      "text/plain": [
       "Intercept    0.741432\n",
       "age         -0.013776\n",
       "dtype: float64"
      ]
     },
     "execution_count": 94,
     "metadata": {},
     "output_type": "execute_result"
    }
   ],
   "source": [
    "import statsmodels.formula.api as smf\n",
    "results = smf.ols('converted_bool ~ age', data=df).fit()\n",
    "results.params"
   ]
  },
  {
   "cell_type": "markdown",
   "id": "429551b4",
   "metadata": {},
   "source": [
    "We obviously see a trend related to age though and we want to use regression. Our bayesian regression isn't working so lets just go to statsmodel and use ordinary least squares. A\n",
    "\n",
    "And look we immediately get an answer. The probability of conversin drop 1% for every year \n",
    "Check it out, now we know the prob of conversion across our observed vals. \n",
    "\n",
    "Lets go tell our boss!"
   ]
  },
  {
   "cell_type": "markdown",
   "id": "b6ff07eb",
   "metadata": {},
   "source": [
    "## Issues when we look at our result"
   ]
  },
  {
   "cell_type": "code",
   "execution_count": 95,
   "id": "3145fb6c",
   "metadata": {},
   "outputs": [
    {
     "data": {
      "text/plain": [
       "<matplotlib.legend.Legend at 0x7f8ad1906aa0>"
      ]
     },
     "execution_count": 95,
     "metadata": {},
     "output_type": "execute_result"
    },
    {
     "data": {
      "image/png": "[encoded data removed]",
      "text/plain": [
       "<Figure size 1152x576 with 1 Axes>"
      ]
     },
     "metadata": {
      "needs_background": "light"
     },
     "output_type": "display_data"
    }
   ],
   "source": [
    "fig, ax = plt.subplots(1)\n",
    "\n",
    "converted_filter = df[\"converted_bool\"].astype(bool)\n",
    "# Add some jitter\n",
    "\n",
    "jittered_y = df[\"converted_bool\"] + stats.norm(scale=.05).rvs(df.shape[0])\n",
    "\n",
    "alpha = .3\n",
    "ax.scatter(df.loc[converted_filter, \"age\"],\n",
    "          jittered_y[converted_filter],\n",
    "          label=\"Converted\",\n",
    "          alpha=alpha)\n",
    "\n",
    "ax.scatter( df.loc[~converted_filter, \"age\"],\n",
    "           jittered_y[~converted_filter],\n",
    "           label=\"Not Converted\",\n",
    "           alpha=alpha)\n",
    "\n",
    "\n",
    "age_x = np.linspace(df[\"age\"].min(), 80, 1000 )\n",
    "y_pred = results.params[0] + results.params[1]*age_x\n",
    "ax.plot(age_x, y_pred)\n",
    "ax.legend()"
   ]
  },
  {
   "cell_type": "markdown",
   "id": "601b7997",
   "metadata": {},
   "source": [
    "But before we do lets just double check out plot. \n",
    "Negative probability? This is why our sampler was failing, it was telling us something\n",
    "Oh man if we had reported these results we would have been fired\n",
    "But look at the age of 60, something seems off?\n"
   ]
  },
  {
   "cell_type": "markdown",
   "id": "75b89486",
   "metadata": {},
   "source": [
    "## Section Recap\n",
    "* Discrete AB testing is quite straightforward\n",
    "* Run into issues when we're trying to estimate prob against a continuous variable\n",
    "  * Discretizing isn't super usfeul\n",
    "* Regression against average has\n",
    "  * Non continuous\n",
    "  * Probability can go over 0 and 1 which is impossible\n",
    "* A big advantage of modern Bayesian frameworks is they \"tell you\" when something is wrong\n",
    "  *  The standard solvers in most other tools don't tell you when something is wrong!\n",
    "  * They just give you an answer"
   ]
  },
  {
   "cell_type": "markdown",
   "id": "2d79734b",
   "metadata": {},
   "source": [
    "# Section 40: Link Functions\n"
   ]
  },
  {
   "cell_type": "markdown",
   "id": "0f577569",
   "metadata": {},
   "source": [
    "## Statistics and math review\n",
    "* Probability is 0 1 bounded\n",
    "* Linear regression is not"
   ]
  },
  {
   "cell_type": "markdown",
   "id": "a932293b",
   "metadata": {},
   "source": [
    "Linear regression will \n",
    "What if we can remap our observed to be between 0 and 1?\n",
    "\n",
    "\n",
    "Turns out we you already know how. Remember our log transformation in the last lesson? What if we can apply a transformation?"
   ]
  },
  {
   "cell_type": "markdown",
   "id": "a6fae345",
   "metadata": {},
   "source": [
    "## Sigmoid transformation\n",
    "$$ \\large\n",
    "S(x) = \\frac{1}{1 + e^{-x}} = \\frac{e^x}{e^x + 1}\n",
    "$$\n",
    "\n",
    "Note this is also called\n",
    "* Logistic \n",
    "* Expit \n",
    "* Logistic Sigmoid"
   ]
  },
  {
   "cell_type": "markdown",
   "id": "76688c91",
   "metadata": {},
   "source": [
    "Here's what it looks like in math"
   ]
  },
  {
   "cell_type": "markdown",
   "id": "dfcfb9bb",
   "metadata": {},
   "source": [
    "## Plotting the Sigmoid function\n",
    "**Note** We will switch this to an animation to make it more clear what's happening"
   ]
  },
  {
   "cell_type": "code",
   "execution_count": 96,
   "id": "29225552",
   "metadata": {},
   "outputs": [],
   "source": [
    "x = np.linspace(-10, 10, 1000)\n",
    "y = x\n",
    "transformed_y = 1/(1+np.exp(-x))"
   ]
  },
  {
   "cell_type": "code",
   "execution_count": 97,
   "id": "2f89ba2d",
   "metadata": {},
   "outputs": [
    {
     "data": {
      "text/plain": [
       "[<matplotlib.lines.Line2D at 0x7f8ad1977400>]"
      ]
     },
     "execution_count": 97,
     "metadata": {},
     "output_type": "execute_result"
    },
    {
     "data": {
      "image/png": "[encoded data removed]",
      "text/plain": [
       "<Figure size 1800x576 with 2 Axes>"
      ]
     },
     "metadata": {
      "needs_background": "light"
     },
     "output_type": "display_data"
    }
   ],
   "source": [
    "fig, axes = plt.subplots(1,2, figsize=(25,8))\n",
    "axes[0].plot(x, y)\n",
    "axes[1].plot(x, transformed_y)"
   ]
  },
  {
   "cell_type": "markdown",
   "id": "51cbb7a0",
   "metadata": {},
   "source": [
    "And here's what it looks like in code"
   ]
  },
  {
   "cell_type": "markdown",
   "id": "53bcaaa0",
   "metadata": {},
   "source": [
    "## Logistic Regression in PyMC"
   ]
  },
  {
   "cell_type": "code",
   "execution_count": 98,
   "id": "9937ad3f",
   "metadata": {},
   "outputs": [
    {
     "name": "stderr",
     "output_type": "stream",
     "text": [
      "Auto-assigning NUTS sampler...\n",
      "Initializing NUTS using jitter+adapt_diag...\n",
      "Multiprocess sampling (4 chains in 4 jobs)\n",
      "NUTS: [p_convert, β]\n"
     ]
    },
    {
     "data": {
      "text/html": [
       "\n",
       "<style>\n",
       "    /* Turns off some styling */\n",
       "    progress {\n",
       "        /* gets rid of default border in Firefox and Opera. */\n",
       "        border: none;\n",
       "        /* Needs to be in here for Safari polyfill so background images work as expected. */\n",
       "        background-size: auto;\n",
       "    }\n",
       "    progress:not([value]), progress:not([value])::-webkit-progress-bar {\n",
       "        background: repeating-linear-gradient(45deg, #7e7e7e, #7e7e7e 10px, #5c5c5c 10px, #5c5c5c 20px);\n",
       "    }\n",
       "    .progress-bar-interrupted, .progress-bar-interrupted::-webkit-progress-bar {\n",
       "        background: #F44336;\n",
       "    }\n",
       "</style>\n"
      ],
      "text/plain": [
       "<IPython.core.display.HTML object>"
      ]
     },
     "metadata": {},
     "output_type": "display_data"
    },
    {
     "data": {
      "text/html": [
       "\n",
       "    <div>\n",
       "      <progress value='8000' class='' max='8000' style='width:300px; height:20px; vertical-align: middle;'></progress>\n",
       "      100.00% [8000/8000 00:07&lt;00:00 Sampling 4 chains, 0 divergences]\n",
       "    </div>\n",
       "    "
      ],
      "text/plain": [
       "<IPython.core.display.HTML object>"
      ]
     },
     "metadata": {},
     "output_type": "display_data"
    },
    {
     "name": "stderr",
     "output_type": "stream",
     "text": [
      "Sampling 4 chains for 1_000 tune and 1_000 draw iterations (4_000 + 4_000 draws total) took 8 seconds.\n"
     ]
    }
   ],
   "source": [
    "converted_bool = df[\"converted_bool\"].to_numpy()\n",
    "\n",
    "with pm.Model() as ab_test:\n",
    "    \n",
    "    # This is all the same linear regression as before\n",
    "    sigma = pm.Normal(\"p_convert\", 1)\n",
    "    β = pm.Normal(\"β\", 0, 1, size=2)\n",
    "    \n",
    "    mu = pm.Deterministic(\"mu\", β[0] + β[1]*df[\"age\"])\n",
    "    \n",
    "    # Our is our new sigmoid transoformation\n",
    "    p = pm.Deterministic(\"p\", pm.math.sigmoid(mu))\n",
    "    \n",
    "    # Switch to Bernoulli because we're predicting individual observations\n",
    "    obs = pm.Bernoulli(\"obs\", p=p, observed=converted_bool)\n",
    "    idata_sigmoid = pm.sample()"
   ]
  },
  {
   "cell_type": "markdown",
   "id": "fb705030",
   "metadata": {},
   "source": [
    "You might notice we used the beta symbol here"
   ]
  },
  {
   "cell_type": "code",
   "execution_count": 99,
   "id": "1bf24f28",
   "metadata": {},
   "outputs": [
    {
     "data": {
      "text/html": [
       "<div>\n",
       "<style scoped>\n",
       "    .dataframe tbody tr th:only-of-type {\n",
       "        vertical-align: middle;\n",
       "    }\n",
       "\n",
       "    .dataframe tbody tr th {\n",
       "        vertical-align: top;\n",
       "    }\n",
       "\n",
       "    .dataframe thead th {\n",
       "        text-align: right;\n",
       "    }\n",
       "</style>\n",
       "<table border=\"1\" class=\"dataframe\">\n",
       "  <thead>\n",
       "    <tr style=\"text-align: right;\">\n",
       "      <th></th>\n",
       "      <th>mean</th>\n",
       "      <th>sd</th>\n",
       "      <th>hdi_3%</th>\n",
       "      <th>hdi_97%</th>\n",
       "      <th>mcse_mean</th>\n",
       "      <th>mcse_sd</th>\n",
       "      <th>ess_bulk</th>\n",
       "      <th>ess_tail</th>\n",
       "      <th>r_hat</th>\n",
       "    </tr>\n",
       "  </thead>\n",
       "  <tbody>\n",
       "    <tr>\n",
       "      <th>β[0]</th>\n",
       "      <td>2.047</td>\n",
       "      <td>0.291</td>\n",
       "      <td>1.463</td>\n",
       "      <td>2.557</td>\n",
       "      <td>0.007</td>\n",
       "      <td>0.005</td>\n",
       "      <td>1648.0</td>\n",
       "      <td>1542.0</td>\n",
       "      <td>1.0</td>\n",
       "    </tr>\n",
       "    <tr>\n",
       "      <th>β[1]</th>\n",
       "      <td>-0.097</td>\n",
       "      <td>0.009</td>\n",
       "      <td>-0.114</td>\n",
       "      <td>-0.081</td>\n",
       "      <td>0.000</td>\n",
       "      <td>0.000</td>\n",
       "      <td>1646.0</td>\n",
       "      <td>1557.0</td>\n",
       "      <td>1.0</td>\n",
       "    </tr>\n",
       "  </tbody>\n",
       "</table>\n",
       "</div>"
      ],
      "text/plain": [
       "       mean     sd  hdi_3%  hdi_97%  mcse_mean  mcse_sd  ess_bulk  ess_tail  \\\n",
       "β[0]  2.047  0.291   1.463    2.557      0.007    0.005    1648.0    1542.0   \n",
       "β[1] -0.097  0.009  -0.114   -0.081      0.000    0.000    1646.0    1557.0   \n",
       "\n",
       "      r_hat  \n",
       "β[0]    1.0  \n",
       "β[1]    1.0  "
      ]
     },
     "execution_count": 99,
     "metadata": {},
     "output_type": "execute_result"
    }
   ],
   "source": [
    "az.summary(idata_sigmoid, var_names=[\"β\"])"
   ]
  },
  {
   "cell_type": "code",
   "execution_count": 100,
   "id": "2676d8a1",
   "metadata": {},
   "outputs": [
    {
     "data": {
      "image/png": "[encoded data removed]",
      "text/plain": [
       "<Figure size 864x288 with 4 Axes>"
      ]
     },
     "metadata": {
      "needs_background": "light"
     },
     "output_type": "display_data"
    }
   ],
   "source": [
    "az.plot_trace(idata_sigmoid, var_names=[\"β\"], compact=False, kind=\"rank_bars\");"
   ]
  },
  {
   "cell_type": "markdown",
   "id": "d903d2b7",
   "metadata": {},
   "source": [
    "## This is a generalized linear model\n",
    "$$\n",
    "g(\\mu_i) = \\eta_i = \\mathbf{x}_i^T\\mathbf{\\beta}\n",
    "$$"
   ]
  },
  {
   "cell_type": "markdown",
   "id": "9ad63cb5",
   "metadata": {},
   "source": [
    "We took an ordinary linear regression, and how we've generalized it. Its typically notated as this\n",
    "\n",
    "G is the the **link function** in this case sigmoid. You're going to see other versions of this in the upcoming lesson"
   ]
  },
  {
   "cell_type": "markdown",
   "id": "b3372e4e",
   "metadata": {},
   "source": [
    "## Link functions in Bambi"
   ]
  },
  {
   "cell_type": "code",
   "execution_count": 101,
   "id": "108f3744",
   "metadata": {},
   "outputs": [
    {
     "name": "stderr",
     "output_type": "stream",
     "text": [
      "Modeling the probability that converted==Yes\n",
      "Auto-assigning NUTS sampler...\n",
      "Initializing NUTS using jitter+adapt_diag...\n",
      "Multiprocess sampling (4 chains in 4 jobs)\n",
      "NUTS: [Intercept, age]\n"
     ]
    },
    {
     "data": {
      "text/html": [
       "\n",
       "<style>\n",
       "    /* Turns off some styling */\n",
       "    progress {\n",
       "        /* gets rid of default border in Firefox and Opera. */\n",
       "        border: none;\n",
       "        /* Needs to be in here for Safari polyfill so background images work as expected. */\n",
       "        background-size: auto;\n",
       "    }\n",
       "    progress:not([value]), progress:not([value])::-webkit-progress-bar {\n",
       "        background: repeating-linear-gradient(45deg, #7e7e7e, #7e7e7e 10px, #5c5c5c 10px, #5c5c5c 20px);\n",
       "    }\n",
       "    .progress-bar-interrupted, .progress-bar-interrupted::-webkit-progress-bar {\n",
       "        background: #F44336;\n",
       "    }\n",
       "</style>\n"
      ],
      "text/plain": [
       "<IPython.core.display.HTML object>"
      ]
     },
     "metadata": {},
     "output_type": "display_data"
    },
    {
     "data": {
      "text/html": [
       "\n",
       "    <div>\n",
       "      <progress value='12000' class='' max='12000' style='width:300px; height:20px; vertical-align: middle;'></progress>\n",
       "      100.00% [12000/12000 00:03&lt;00:00 Sampling 4 chains, 0 divergences]\n",
       "    </div>\n",
       "    "
      ],
      "text/plain": [
       "<IPython.core.display.HTML object>"
      ]
     },
     "metadata": {},
     "output_type": "display_data"
    },
    {
     "name": "stderr",
     "output_type": "stream",
     "text": [
      "Sampling 4 chains for 1_000 tune and 2_000 draw iterations (4_000 + 8_000 draws total) took 4 seconds.\n"
     ]
    },
    {
     "data": {
      "text/html": [
       "<div>\n",
       "<style scoped>\n",
       "    .dataframe tbody tr th:only-of-type {\n",
       "        vertical-align: middle;\n",
       "    }\n",
       "\n",
       "    .dataframe tbody tr th {\n",
       "        vertical-align: top;\n",
       "    }\n",
       "\n",
       "    .dataframe thead th {\n",
       "        text-align: right;\n",
       "    }\n",
       "</style>\n",
       "<table border=\"1\" class=\"dataframe\">\n",
       "  <thead>\n",
       "    <tr style=\"text-align: right;\">\n",
       "      <th></th>\n",
       "      <th>mean</th>\n",
       "      <th>sd</th>\n",
       "      <th>hdi_3%</th>\n",
       "      <th>hdi_97%</th>\n",
       "      <th>mcse_mean</th>\n",
       "      <th>mcse_sd</th>\n",
       "      <th>ess_bulk</th>\n",
       "      <th>ess_tail</th>\n",
       "      <th>r_hat</th>\n",
       "    </tr>\n",
       "  </thead>\n",
       "  <tbody>\n",
       "    <tr>\n",
       "      <th>Intercept</th>\n",
       "      <td>2.220</td>\n",
       "      <td>0.296</td>\n",
       "      <td>1.666</td>\n",
       "      <td>2.782</td>\n",
       "      <td>0.004</td>\n",
       "      <td>0.003</td>\n",
       "      <td>4754.0</td>\n",
       "      <td>5428.0</td>\n",
       "      <td>1.0</td>\n",
       "    </tr>\n",
       "    <tr>\n",
       "      <th>age</th>\n",
       "      <td>-0.102</td>\n",
       "      <td>0.009</td>\n",
       "      <td>-0.119</td>\n",
       "      <td>-0.085</td>\n",
       "      <td>0.000</td>\n",
       "      <td>0.000</td>\n",
       "      <td>3966.0</td>\n",
       "      <td>4777.0</td>\n",
       "      <td>1.0</td>\n",
       "    </tr>\n",
       "  </tbody>\n",
       "</table>\n",
       "</div>"
      ],
      "text/plain": [
       "            mean     sd  hdi_3%  hdi_97%  mcse_mean  mcse_sd  ess_bulk  \\\n",
       "Intercept  2.220  0.296   1.666    2.782      0.004    0.003    4754.0   \n",
       "age       -0.102  0.009  -0.119   -0.085      0.000    0.000    3966.0   \n",
       "\n",
       "           ess_tail  r_hat  \n",
       "Intercept    5428.0    1.0  \n",
       "age          4777.0    1.0  "
      ]
     },
     "execution_count": 101,
     "metadata": {},
     "output_type": "execute_result"
    }
   ],
   "source": [
    "model = bmb.Model(\"converted[Yes] ~ age\", df, family=\"bernoulli\")\n",
    "idata = model.fit(draws=2000, target_accept=0.85, random_seed=SEED)\n",
    "az.summary(idata)"
   ]
  },
  {
   "cell_type": "markdown",
   "id": "ca355cbb",
   "metadata": {},
   "source": [
    "Turns out we can \n",
    "Look we get the same answer as the PyMC Model!"
   ]
  },
  {
   "cell_type": "markdown",
   "id": "47600aca",
   "metadata": {},
   "source": [
    "## Section Recap\n",
    "* Transformations are the tool that turns linear regression into generalized linear equations\n",
    "* Typically these are referred to as link functions "
   ]
  },
  {
   "cell_type": "markdown",
   "id": "b185ae33",
   "metadata": {},
   "source": [
    "# End to End Analysis with Bambi and A infinite testing\n",
    "Lets go through the Bayesian workflow step by step to ensure we have a reliable result for out boss"
   ]
  },
  {
   "cell_type": "markdown",
   "id": "0be56eff",
   "metadata": {},
   "source": [
    "## Single bool covariate regression"
   ]
  },
  {
   "cell_type": "code",
   "execution_count": 102,
   "id": "88fad139",
   "metadata": {},
   "outputs": [
    {
     "name": "stderr",
     "output_type": "stream",
     "text": [
      "Modeling the probability that converted==Yes\n",
      "Auto-assigning NUTS sampler...\n",
      "Initializing NUTS using jitter+adapt_diag...\n",
      "Multiprocess sampling (4 chains in 4 jobs)\n",
      "NUTS: [likes_videogames]\n"
     ]
    },
    {
     "data": {
      "text/html": [
       "\n",
       "<style>\n",
       "    /* Turns off some styling */\n",
       "    progress {\n",
       "        /* gets rid of default border in Firefox and Opera. */\n",
       "        border: none;\n",
       "        /* Needs to be in here for Safari polyfill so background images work as expected. */\n",
       "        background-size: auto;\n",
       "    }\n",
       "    progress:not([value]), progress:not([value])::-webkit-progress-bar {\n",
       "        background: repeating-linear-gradient(45deg, #7e7e7e, #7e7e7e 10px, #5c5c5c 10px, #5c5c5c 20px);\n",
       "    }\n",
       "    .progress-bar-interrupted, .progress-bar-interrupted::-webkit-progress-bar {\n",
       "        background: #F44336;\n",
       "    }\n",
       "</style>\n"
      ],
      "text/plain": [
       "<IPython.core.display.HTML object>"
      ]
     },
     "metadata": {},
     "output_type": "display_data"
    },
    {
     "data": {
      "text/html": [
       "\n",
       "    <div>\n",
       "      <progress value='12000' class='' max='12000' style='width:300px; height:20px; vertical-align: middle;'></progress>\n",
       "      100.00% [12000/12000 00:10&lt;00:00 Sampling 4 chains, 0 divergences]\n",
       "    </div>\n",
       "    "
      ],
      "text/plain": [
       "<IPython.core.display.HTML object>"
      ]
     },
     "metadata": {},
     "output_type": "display_data"
    },
    {
     "name": "stderr",
     "output_type": "stream",
     "text": [
      "Sampling 4 chains for 1_000 tune and 2_000 draw iterations (4_000 + 8_000 draws total) took 10 seconds.\n"
     ]
    },
    {
     "data": {
      "text/html": [
       "<div>\n",
       "<style scoped>\n",
       "    .dataframe tbody tr th:only-of-type {\n",
       "        vertical-align: middle;\n",
       "    }\n",
       "\n",
       "    .dataframe tbody tr th {\n",
       "        vertical-align: top;\n",
       "    }\n",
       "\n",
       "    .dataframe thead th {\n",
       "        text-align: right;\n",
       "    }\n",
       "</style>\n",
       "<table border=\"1\" class=\"dataframe\">\n",
       "  <thead>\n",
       "    <tr style=\"text-align: right;\">\n",
       "      <th></th>\n",
       "      <th>mean</th>\n",
       "      <th>sd</th>\n",
       "      <th>hdi_3%</th>\n",
       "      <th>hdi_97%</th>\n",
       "      <th>mcse_mean</th>\n",
       "      <th>mcse_sd</th>\n",
       "      <th>ess_bulk</th>\n",
       "      <th>ess_tail</th>\n",
       "      <th>r_hat</th>\n",
       "    </tr>\n",
       "  </thead>\n",
       "  <tbody>\n",
       "    <tr>\n",
       "      <th>likes_videogames[No]</th>\n",
       "      <td>-2.154</td>\n",
       "      <td>0.143</td>\n",
       "      <td>-2.425</td>\n",
       "      <td>-1.889</td>\n",
       "      <td>0.002</td>\n",
       "      <td>0.001</td>\n",
       "      <td>8833.0</td>\n",
       "      <td>5862.0</td>\n",
       "      <td>1.0</td>\n",
       "    </tr>\n",
       "    <tr>\n",
       "      <th>likes_videogames[Yes]</th>\n",
       "      <td>-0.714</td>\n",
       "      <td>0.097</td>\n",
       "      <td>-0.893</td>\n",
       "      <td>-0.534</td>\n",
       "      <td>0.001</td>\n",
       "      <td>0.001</td>\n",
       "      <td>7975.0</td>\n",
       "      <td>5567.0</td>\n",
       "      <td>1.0</td>\n",
       "    </tr>\n",
       "  </tbody>\n",
       "</table>\n",
       "</div>"
      ],
      "text/plain": [
       "                        mean     sd  hdi_3%  hdi_97%  mcse_mean  mcse_sd  \\\n",
       "likes_videogames[No]  -2.154  0.143  -2.425   -1.889      0.002    0.001   \n",
       "likes_videogames[Yes] -0.714  0.097  -0.893   -0.534      0.001    0.001   \n",
       "\n",
       "                       ess_bulk  ess_tail  r_hat  \n",
       "likes_videogames[No]     8833.0    5862.0    1.0  \n",
       "likes_videogames[Yes]    7975.0    5567.0    1.0  "
      ]
     },
     "execution_count": 102,
     "metadata": {},
     "output_type": "execute_result"
    }
   ],
   "source": [
    "model = bmb.Model(\"converted['Yes'] ~ likes_videogames+0\", df, link=\"logit\", family=\"bernoulli\")\n",
    "idata = model.fit(draws=2000, target_accept=0.85, random_seed=SEED)\n",
    "az.summary(idata)"
   ]
  },
  {
   "cell_type": "code",
   "execution_count": 103,
   "id": "76e7fc02",
   "metadata": {},
   "outputs": [
    {
     "data": {
      "text/plain": [
       "likes_videogames[No]     0.103958\n",
       "likes_videogames[Yes]    0.328716\n",
       "Name: mean, dtype: float64"
      ]
     },
     "execution_count": 103,
     "metadata": {},
     "output_type": "execute_result"
    }
   ],
   "source": [
    "special.expit(az.summary(idata)[\"mean\"])"
   ]
  },
  {
   "cell_type": "markdown",
   "id": "b47f40a1",
   "metadata": {},
   "source": [
    "Lets start with the easiest thing. Now check this out. Do these numbers look familiar? that's because its the exact same thing as our first AB Test how cool is that? When we transform the means we end up with our original probabilities"
   ]
  },
  {
   "cell_type": "markdown",
   "id": "e824c273",
   "metadata": {},
   "source": [
    "## Lets fit on age and A infinite testing"
   ]
  },
  {
   "cell_type": "code",
   "execution_count": 104,
   "id": "8b44029b",
   "metadata": {},
   "outputs": [
    {
     "name": "stderr",
     "output_type": "stream",
     "text": [
      "Modeling the probability that converted==Yes\n",
      "Auto-assigning NUTS sampler...\n",
      "Initializing NUTS using jitter+adapt_diag...\n",
      "Multiprocess sampling (4 chains in 4 jobs)\n",
      "NUTS: [Intercept, age]\n"
     ]
    },
    {
     "data": {
      "text/html": [
       "\n",
       "<style>\n",
       "    /* Turns off some styling */\n",
       "    progress {\n",
       "        /* gets rid of default border in Firefox and Opera. */\n",
       "        border: none;\n",
       "        /* Needs to be in here for Safari polyfill so background images work as expected. */\n",
       "        background-size: auto;\n",
       "    }\n",
       "    progress:not([value]), progress:not([value])::-webkit-progress-bar {\n",
       "        background: repeating-linear-gradient(45deg, #7e7e7e, #7e7e7e 10px, #5c5c5c 10px, #5c5c5c 20px);\n",
       "    }\n",
       "    .progress-bar-interrupted, .progress-bar-interrupted::-webkit-progress-bar {\n",
       "        background: #F44336;\n",
       "    }\n",
       "</style>\n"
      ],
      "text/plain": [
       "<IPython.core.display.HTML object>"
      ]
     },
     "metadata": {},
     "output_type": "display_data"
    },
    {
     "data": {
      "text/html": [
       "\n",
       "    <div>\n",
       "      <progress value='12000' class='' max='12000' style='width:300px; height:20px; vertical-align: middle;'></progress>\n",
       "      100.00% [12000/12000 00:03&lt;00:00 Sampling 4 chains, 0 divergences]\n",
       "    </div>\n",
       "    "
      ],
      "text/plain": [
       "<IPython.core.display.HTML object>"
      ]
     },
     "metadata": {},
     "output_type": "display_data"
    },
    {
     "name": "stderr",
     "output_type": "stream",
     "text": [
      "Sampling 4 chains for 1_000 tune and 2_000 draw iterations (4_000 + 8_000 draws total) took 4 seconds.\n"
     ]
    },
    {
     "data": {
      "text/html": [
       "<div>\n",
       "<style scoped>\n",
       "    .dataframe tbody tr th:only-of-type {\n",
       "        vertical-align: middle;\n",
       "    }\n",
       "\n",
       "    .dataframe tbody tr th {\n",
       "        vertical-align: top;\n",
       "    }\n",
       "\n",
       "    .dataframe thead th {\n",
       "        text-align: right;\n",
       "    }\n",
       "</style>\n",
       "<table border=\"1\" class=\"dataframe\">\n",
       "  <thead>\n",
       "    <tr style=\"text-align: right;\">\n",
       "      <th></th>\n",
       "      <th>mean</th>\n",
       "      <th>sd</th>\n",
       "      <th>hdi_3%</th>\n",
       "      <th>hdi_97%</th>\n",
       "      <th>mcse_mean</th>\n",
       "      <th>mcse_sd</th>\n",
       "      <th>ess_bulk</th>\n",
       "      <th>ess_tail</th>\n",
       "      <th>r_hat</th>\n",
       "    </tr>\n",
       "  </thead>\n",
       "  <tbody>\n",
       "    <tr>\n",
       "      <th>Intercept</th>\n",
       "      <td>2.220</td>\n",
       "      <td>0.296</td>\n",
       "      <td>1.666</td>\n",
       "      <td>2.782</td>\n",
       "      <td>0.004</td>\n",
       "      <td>0.003</td>\n",
       "      <td>4754.0</td>\n",
       "      <td>5428.0</td>\n",
       "      <td>1.0</td>\n",
       "    </tr>\n",
       "    <tr>\n",
       "      <th>age</th>\n",
       "      <td>-0.102</td>\n",
       "      <td>0.009</td>\n",
       "      <td>-0.119</td>\n",
       "      <td>-0.085</td>\n",
       "      <td>0.000</td>\n",
       "      <td>0.000</td>\n",
       "      <td>3966.0</td>\n",
       "      <td>4777.0</td>\n",
       "      <td>1.0</td>\n",
       "    </tr>\n",
       "  </tbody>\n",
       "</table>\n",
       "</div>"
      ],
      "text/plain": [
       "            mean     sd  hdi_3%  hdi_97%  mcse_mean  mcse_sd  ess_bulk  \\\n",
       "Intercept  2.220  0.296   1.666    2.782      0.004    0.003    4754.0   \n",
       "age       -0.102  0.009  -0.119   -0.085      0.000    0.000    3966.0   \n",
       "\n",
       "           ess_tail  r_hat  \n",
       "Intercept    5428.0    1.0  \n",
       "age          4777.0    1.0  "
      ]
     },
     "execution_count": 104,
     "metadata": {},
     "output_type": "execute_result"
    }
   ],
   "source": [
    "model = bmb.Model(\"converted['Yes'] ~ age\", df, link=\"logit\", family=\"bernoulli\")\n",
    "idata = model.fit(draws=2000, target_accept=0.85, random_seed=SEED)\n",
    "az.summary(idata)"
   ]
  },
  {
   "cell_type": "code",
   "execution_count": 106,
   "id": "45b2c46b",
   "metadata": {},
   "outputs": [
    {
     "data": {
      "image/png": "[encoded data removed]",
      "text/plain": [
       "<Figure size 648x432 with 1 Axes>"
      ]
     },
     "metadata": {
      "needs_background": "light"
     },
     "output_type": "display_data"
    }
   ],
   "source": [
    "fig, ax = plt.subplots(figsize=(9, 6))\n",
    "plots.plot_cap(model, idata, [\"age\"], ax=ax)\n",
    "ax.set(ylabel=\"Conversion probability\");"
   ]
  },
  {
   "cell_type": "markdown",
   "id": "07edde4e",
   "metadata": {},
   "source": [
    "Check this out! We have the answer for our boss. As age increase prob decrease by this much.\n",
    "\n",
    "This is basically A infinite testing because we have the p value as an INFINITE amount of ages along the x range. How freaking cool is that?"
   ]
  },
  {
   "cell_type": "markdown",
   "id": "250c521c",
   "metadata": {},
   "source": [
    "## Lets fit on age and likes videogames\n"
   ]
  },
  {
   "cell_type": "code",
   "execution_count": 110,
   "id": "d2d9f878",
   "metadata": {},
   "outputs": [
    {
     "name": "stderr",
     "output_type": "stream",
     "text": [
      "Modeling the probability that converted==Yes\n",
      "Auto-assigning NUTS sampler...\n",
      "Initializing NUTS using jitter+adapt_diag...\n",
      "Multiprocess sampling (4 chains in 4 jobs)\n",
      "NUTS: [Intercept, age, likes_videogames]\n"
     ]
    },
    {
     "data": {
      "text/html": [
       "\n",
       "<style>\n",
       "    /* Turns off some styling */\n",
       "    progress {\n",
       "        /* gets rid of default border in Firefox and Opera. */\n",
       "        border: none;\n",
       "        /* Needs to be in here for Safari polyfill so background images work as expected. */\n",
       "        background-size: auto;\n",
       "    }\n",
       "    progress:not([value]), progress:not([value])::-webkit-progress-bar {\n",
       "        background: repeating-linear-gradient(45deg, #7e7e7e, #7e7e7e 10px, #5c5c5c 10px, #5c5c5c 20px);\n",
       "    }\n",
       "    .progress-bar-interrupted, .progress-bar-interrupted::-webkit-progress-bar {\n",
       "        background: #F44336;\n",
       "    }\n",
       "</style>\n"
      ],
      "text/plain": [
       "<IPython.core.display.HTML object>"
      ]
     },
     "metadata": {},
     "output_type": "display_data"
    },
    {
     "data": {
      "text/html": [
       "\n",
       "    <div>\n",
       "      <progress value='12000' class='' max='12000' style='width:300px; height:20px; vertical-align: middle;'></progress>\n",
       "      100.00% [12000/12000 00:16&lt;00:00 Sampling 4 chains, 0 divergences]\n",
       "    </div>\n",
       "    "
      ],
      "text/plain": [
       "<IPython.core.display.HTML object>"
      ]
     },
     "metadata": {},
     "output_type": "display_data"
    },
    {
     "name": "stderr",
     "output_type": "stream",
     "text": [
      "Sampling 4 chains for 1_000 tune and 2_000 draw iterations (4_000 + 8_000 draws total) took 17 seconds.\n"
     ]
    },
    {
     "data": {
      "text/html": [
       "<div>\n",
       "<style scoped>\n",
       "    .dataframe tbody tr th:only-of-type {\n",
       "        vertical-align: middle;\n",
       "    }\n",
       "\n",
       "    .dataframe tbody tr th {\n",
       "        vertical-align: top;\n",
       "    }\n",
       "\n",
       "    .dataframe thead th {\n",
       "        text-align: right;\n",
       "    }\n",
       "</style>\n",
       "<table border=\"1\" class=\"dataframe\">\n",
       "  <thead>\n",
       "    <tr style=\"text-align: right;\">\n",
       "      <th></th>\n",
       "      <th>mean</th>\n",
       "      <th>sd</th>\n",
       "      <th>hdi_3%</th>\n",
       "      <th>hdi_97%</th>\n",
       "      <th>mcse_mean</th>\n",
       "      <th>mcse_sd</th>\n",
       "      <th>ess_bulk</th>\n",
       "      <th>ess_tail</th>\n",
       "      <th>r_hat</th>\n",
       "    </tr>\n",
       "  </thead>\n",
       "  <tbody>\n",
       "    <tr>\n",
       "      <th>Intercept</th>\n",
       "      <td>1.608</td>\n",
       "      <td>0.316</td>\n",
       "      <td>1.007</td>\n",
       "      <td>2.203</td>\n",
       "      <td>0.004</td>\n",
       "      <td>0.003</td>\n",
       "      <td>7341.0</td>\n",
       "      <td>6648.0</td>\n",
       "      <td>1.0</td>\n",
       "    </tr>\n",
       "    <tr>\n",
       "      <th>age</th>\n",
       "      <td>-0.115</td>\n",
       "      <td>0.010</td>\n",
       "      <td>-0.134</td>\n",
       "      <td>-0.097</td>\n",
       "      <td>0.000</td>\n",
       "      <td>0.000</td>\n",
       "      <td>4332.0</td>\n",
       "      <td>5250.0</td>\n",
       "      <td>1.0</td>\n",
       "    </tr>\n",
       "    <tr>\n",
       "      <th>likes_videogames[Yes]</th>\n",
       "      <td>1.834</td>\n",
       "      <td>0.195</td>\n",
       "      <td>1.480</td>\n",
       "      <td>2.214</td>\n",
       "      <td>0.003</td>\n",
       "      <td>0.002</td>\n",
       "      <td>4855.0</td>\n",
       "      <td>5910.0</td>\n",
       "      <td>1.0</td>\n",
       "    </tr>\n",
       "  </tbody>\n",
       "</table>\n",
       "</div>"
      ],
      "text/plain": [
       "                        mean     sd  hdi_3%  hdi_97%  mcse_mean  mcse_sd  \\\n",
       "Intercept              1.608  0.316   1.007    2.203      0.004    0.003   \n",
       "age                   -0.115  0.010  -0.134   -0.097      0.000    0.000   \n",
       "likes_videogames[Yes]  1.834  0.195   1.480    2.214      0.003    0.002   \n",
       "\n",
       "                       ess_bulk  ess_tail  r_hat  \n",
       "Intercept                7341.0    6648.0    1.0  \n",
       "age                      4332.0    5250.0    1.0  \n",
       "likes_videogames[Yes]    4855.0    5910.0    1.0  "
      ]
     },
     "execution_count": 110,
     "metadata": {},
     "output_type": "execute_result"
    }
   ],
   "source": [
    "model_age_videogames = bmb.Model(\"converted['Yes'] ~ age + likes_videogames\", df, link=\"logit\", family=\"bernoulli\")\n",
    "idata_age_videogames = model_age_videogames.fit(draws=2000, target_accept=0.85, random_seed=SEED)\n",
    "az.summary(idata)"
   ]
  },
  {
   "cell_type": "code",
   "execution_count": 108,
   "id": "5fd96188",
   "metadata": {},
   "outputs": [],
   "source": [
    "# # Testing an intercept only fit\n",
    "# model_age_videogames = bmb.Model(\"converted['Yes'] ~ age + likes_videogames + 0\", df, link=\"logit\", family=\"bernoulli\")\n",
    "# idata_age_videogames = model_age_videogames.fit(draws=2000, target_accept=0.85, random_seed=SEED)\n",
    "# az.summary(idata_age_videogames)"
   ]
  },
  {
   "cell_type": "code",
   "execution_count": 111,
   "id": "82605b7d",
   "metadata": {},
   "outputs": [
    {
     "data": {
      "image/png": "[encoded data removed]",
      "text/plain": [
       "<Figure size 648x432 with 1 Axes>"
      ]
     },
     "metadata": {
      "needs_background": "light"
     },
     "output_type": "display_data"
    }
   ],
   "source": [
    "fig, ax = plt.subplots(figsize=(9, 6))\n",
    "plots.plot_cap(model_age_videogames, idata_age_videogames, [\"age\", \"likes_videogames\"], ax=ax);"
   ]
  },
  {
   "cell_type": "markdown",
   "id": "5ca6b810",
   "metadata": {},
   "source": [
    "Holy crap guys this result is truly mindblowing. Not only do we know the prob at every age. When we control for whether people like videogames or not we see a totally different trend.\n",
    "\n",
    "Now when you go talk to your boss you not only provided the age insight, but you can recommend who to target per age and preference. And with this intuitive plot your boss is sure to give you a rise!"
   ]
  },
  {
   "cell_type": "markdown",
   "id": "701580d3",
   "metadata": {},
   "source": [
    "## Making a prediction"
   ]
  },
  {
   "cell_type": "code",
   "execution_count": 112,
   "id": "1c04e3d8",
   "metadata": {},
   "outputs": [],
   "source": [
    "df_predict = pd.DataFrame({\"age\": [20, 30, 40], \"likes_videogames\":[\"No\",\"Yes\", \"Yes\"]})\n",
    "predictions = model.predict(idata, data=df_predict, inplace=False, kind=\"pps\")"
   ]
  },
  {
   "cell_type": "code",
   "execution_count": 113,
   "id": "c591bab0",
   "metadata": {},
   "outputs": [
    {
     "data": {
      "text/html": [
       "<div><svg style=\"position: absolute; width: 0; height: 0; overflow: hidden\">\n",
       "<defs>\n",
       "<symbol id=\"icon-database\" viewBox=\"0 0 32 32\">\n",
       "<path d=\"M16 0c-8.837 0-16 2.239-16 5v4c0 2.761 7.163 5 16 5s16-2.239 16-5v-4c0-2.761-7.163-5-16-5z\"></path>\n",
       "<path d=\"M16 17c-8.837 0-16-2.239-16-5v6c0 2.761 7.163 5 16 5s16-2.239 16-5v-6c0 2.761-7.163 5-16 5z\"></path>\n",
       "<path d=\"M16 26c-8.837 0-16-2.239-16-5v6c0 2.761 7.163 5 16 5s16-2.239 16-5v-6c0 2.761-7.163 5-16 5z\"></path>\n",
       "</symbol>\n",
       "<symbol id=\"icon-file-text2\" viewBox=\"0 0 32 32\">\n",
       "<path d=\"M28.681 7.159c-0.694-0.947-1.662-2.053-2.724-3.116s-2.169-2.030-3.116-2.724c-1.612-1.182-2.393-1.319-2.841-1.319h-15.5c-1.378 0-2.5 1.121-2.5 2.5v27c0 1.378 1.122 2.5 2.5 2.5h23c1.378 0 2.5-1.122 2.5-2.5v-19.5c0-0.448-0.137-1.23-1.319-2.841zM24.543 5.457c0.959 0.959 1.712 1.825 2.268 2.543h-4.811v-4.811c0.718 0.556 1.584 1.309 2.543 2.268zM28 29.5c0 0.271-0.229 0.5-0.5 0.5h-23c-0.271 0-0.5-0.229-0.5-0.5v-27c0-0.271 0.229-0.5 0.5-0.5 0 0 15.499-0 15.5 0v7c0 0.552 0.448 1 1 1h7v19.5z\"></path>\n",
       "<path d=\"M23 26h-14c-0.552 0-1-0.448-1-1s0.448-1 1-1h14c0.552 0 1 0.448 1 1s-0.448 1-1 1z\"></path>\n",
       "<path d=\"M23 22h-14c-0.552 0-1-0.448-1-1s0.448-1 1-1h14c0.552 0 1 0.448 1 1s-0.448 1-1 1z\"></path>\n",
       "<path d=\"M23 18h-14c-0.552 0-1-0.448-1-1s0.448-1 1-1h14c0.552 0 1 0.448 1 1s-0.448 1-1 1z\"></path>\n",
       "</symbol>\n",
       "</defs>\n",
       "</svg>\n",
       "<style>/* CSS stylesheet for displaying xarray objects in jupyterlab.\n",
       " *\n",
       " */\n",
       "\n",
       ":root {\n",
       "  --xr-font-color0: var(--jp-content-font-color0, rgba(0, 0, 0, 1));\n",
       "  --xr-font-color2: var(--jp-content-font-color2, rgba(0, 0, 0, 0.54));\n",
       "  --xr-font-color3: var(--jp-content-font-color3, rgba(0, 0, 0, 0.38));\n",
       "  --xr-border-color: var(--jp-border-color2, #e0e0e0);\n",
       "  --xr-disabled-color: var(--jp-layout-color3, #bdbdbd);\n",
       "  --xr-background-color: var(--jp-layout-color0, white);\n",
       "  --xr-background-color-row-even: var(--jp-layout-color1, white);\n",
       "  --xr-background-color-row-odd: var(--jp-layout-color2, #eeeeee);\n",
       "}\n",
       "\n",
       "html[theme=dark],\n",
       "body[data-theme=dark],\n",
       "body.vscode-dark {\n",
       "  --xr-font-color0: rgba(255, 255, 255, 1);\n",
       "  --xr-font-color2: rgba(255, 255, 255, 0.54);\n",
       "  --xr-font-color3: rgba(255, 255, 255, 0.38);\n",
       "  --xr-border-color: #1F1F1F;\n",
       "  --xr-disabled-color: #515151;\n",
       "  --xr-background-color: #111111;\n",
       "  --xr-background-color-row-even: #111111;\n",
       "  --xr-background-color-row-odd: #313131;\n",
       "}\n",
       "\n",
       ".xr-wrap {\n",
       "  display: block !important;\n",
       "  min-width: 300px;\n",
       "  max-width: 700px;\n",
       "}\n",
       "\n",
       ".xr-text-repr-fallback {\n",
       "  /* fallback to plain text repr when CSS is not injected (untrusted notebook) */\n",
       "  display: none;\n",
       "}\n",
       "\n",
       ".xr-header {\n",
       "  padding-top: 6px;\n",
       "  padding-bottom: 6px;\n",
       "  margin-bottom: 4px;\n",
       "  border-bottom: solid 1px var(--xr-border-color);\n",
       "}\n",
       "\n",
       ".xr-header > div,\n",
       ".xr-header > ul {\n",
       "  display: inline;\n",
       "  margin-top: 0;\n",
       "  margin-bottom: 0;\n",
       "}\n",
       "\n",
       ".xr-obj-type,\n",
       ".xr-array-name {\n",
       "  margin-left: 2px;\n",
       "  margin-right: 10px;\n",
       "}\n",
       "\n",
       ".xr-obj-type {\n",
       "  color: var(--xr-font-color2);\n",
       "}\n",
       "\n",
       ".xr-sections {\n",
       "  padding-left: 0 !important;\n",
       "  display: grid;\n",
       "  grid-template-columns: 150px auto auto 1fr 20px 20px;\n",
       "}\n",
       "\n",
       ".xr-section-item {\n",
       "  display: contents;\n",
       "}\n",
       "\n",
       ".xr-section-item input {\n",
       "  display: none;\n",
       "}\n",
       "\n",
       ".xr-section-item input + label {\n",
       "  color: var(--xr-disabled-color);\n",
       "}\n",
       "\n",
       ".xr-section-item input:enabled + label {\n",
       "  cursor: pointer;\n",
       "  color: var(--xr-font-color2);\n",
       "}\n",
       "\n",
       ".xr-section-item input:enabled + label:hover {\n",
       "  color: var(--xr-font-color0);\n",
       "}\n",
       "\n",
       ".xr-section-summary {\n",
       "  grid-column: 1;\n",
       "  color: var(--xr-font-color2);\n",
       "  font-weight: 500;\n",
       "}\n",
       "\n",
       ".xr-section-summary > span {\n",
       "  display: inline-block;\n",
       "  padding-left: 0.5em;\n",
       "}\n",
       "\n",
       ".xr-section-summary-in:disabled + label {\n",
       "  color: var(--xr-font-color2);\n",
       "}\n",
       "\n",
       ".xr-section-summary-in + label:before {\n",
       "  display: inline-block;\n",
       "  content: '►';\n",
       "  font-size: 11px;\n",
       "  width: 15px;\n",
       "  text-align: center;\n",
       "}\n",
       "\n",
       ".xr-section-summary-in:disabled + label:before {\n",
       "  color: var(--xr-disabled-color);\n",
       "}\n",
       "\n",
       ".xr-section-summary-in:checked + label:before {\n",
       "  content: '▼';\n",
       "}\n",
       "\n",
       ".xr-section-summary-in:checked + label > span {\n",
       "  display: none;\n",
       "}\n",
       "\n",
       ".xr-section-summary,\n",
       ".xr-section-inline-details {\n",
       "  padding-top: 4px;\n",
       "  padding-bottom: 4px;\n",
       "}\n",
       "\n",
       ".xr-section-inline-details {\n",
       "  grid-column: 2 / -1;\n",
       "}\n",
       "\n",
       ".xr-section-details {\n",
       "  display: none;\n",
       "  grid-column: 1 / -1;\n",
       "  margin-bottom: 5px;\n",
       "}\n",
       "\n",
       ".xr-section-summary-in:checked ~ .xr-section-details {\n",
       "  display: contents;\n",
       "}\n",
       "\n",
       ".xr-array-wrap {\n",
       "  grid-column: 1 / -1;\n",
       "  display: grid;\n",
       "  grid-template-columns: 20px auto;\n",
       "}\n",
       "\n",
       ".xr-array-wrap > label {\n",
       "  grid-column: 1;\n",
       "  vertical-align: top;\n",
       "}\n",
       "\n",
       ".xr-preview {\n",
       "  color: var(--xr-font-color3);\n",
       "}\n",
       "\n",
       ".xr-array-preview,\n",
       ".xr-array-data {\n",
       "  padding: 0 5px !important;\n",
       "  grid-column: 2;\n",
       "}\n",
       "\n",
       ".xr-array-data,\n",
       ".xr-array-in:checked ~ .xr-array-preview {\n",
       "  display: none;\n",
       "}\n",
       "\n",
       ".xr-array-in:checked ~ .xr-array-data,\n",
       ".xr-array-preview {\n",
       "  display: inline-block;\n",
       "}\n",
       "\n",
       ".xr-dim-list {\n",
       "  display: inline-block !important;\n",
       "  list-style: none;\n",
       "  padding: 0 !important;\n",
       "  margin: 0;\n",
       "}\n",
       "\n",
       ".xr-dim-list li {\n",
       "  display: inline-block;\n",
       "  padding: 0;\n",
       "  margin: 0;\n",
       "}\n",
       "\n",
       ".xr-dim-list:before {\n",
       "  content: '(';\n",
       "}\n",
       "\n",
       ".xr-dim-list:after {\n",
       "  content: ')';\n",
       "}\n",
       "\n",
       ".xr-dim-list li:not(:last-child):after {\n",
       "  content: ',';\n",
       "  padding-right: 5px;\n",
       "}\n",
       "\n",
       ".xr-has-index {\n",
       "  font-weight: bold;\n",
       "}\n",
       "\n",
       ".xr-var-list,\n",
       ".xr-var-item {\n",
       "  display: contents;\n",
       "}\n",
       "\n",
       ".xr-var-item > div,\n",
       ".xr-var-item label,\n",
       ".xr-var-item > .xr-var-name span {\n",
       "  background-color: var(--xr-background-color-row-even);\n",
       "  margin-bottom: 0;\n",
       "}\n",
       "\n",
       ".xr-var-item > .xr-var-name:hover span {\n",
       "  padding-right: 5px;\n",
       "}\n",
       "\n",
       ".xr-var-list > li:nth-child(odd) > div,\n",
       ".xr-var-list > li:nth-child(odd) > label,\n",
       ".xr-var-list > li:nth-child(odd) > .xr-var-name span {\n",
       "  background-color: var(--xr-background-color-row-odd);\n",
       "}\n",
       "\n",
       ".xr-var-name {\n",
       "  grid-column: 1;\n",
       "}\n",
       "\n",
       ".xr-var-dims {\n",
       "  grid-column: 2;\n",
       "}\n",
       "\n",
       ".xr-var-dtype {\n",
       "  grid-column: 3;\n",
       "  text-align: right;\n",
       "  color: var(--xr-font-color2);\n",
       "}\n",
       "\n",
       ".xr-var-preview {\n",
       "  grid-column: 4;\n",
       "}\n",
       "\n",
       ".xr-var-name,\n",
       ".xr-var-dims,\n",
       ".xr-var-dtype,\n",
       ".xr-preview,\n",
       ".xr-attrs dt {\n",
       "  white-space: nowrap;\n",
       "  overflow: hidden;\n",
       "  text-overflow: ellipsis;\n",
       "  padding-right: 10px;\n",
       "}\n",
       "\n",
       ".xr-var-name:hover,\n",
       ".xr-var-dims:hover,\n",
       ".xr-var-dtype:hover,\n",
       ".xr-attrs dt:hover {\n",
       "  overflow: visible;\n",
       "  width: auto;\n",
       "  z-index: 1;\n",
       "}\n",
       "\n",
       ".xr-var-attrs,\n",
       ".xr-var-data {\n",
       "  display: none;\n",
       "  background-color: var(--xr-background-color) !important;\n",
       "  padding-bottom: 5px !important;\n",
       "}\n",
       "\n",
       ".xr-var-attrs-in:checked ~ .xr-var-attrs,\n",
       ".xr-var-data-in:checked ~ .xr-var-data {\n",
       "  display: block;\n",
       "}\n",
       "\n",
       ".xr-var-data > table {\n",
       "  float: right;\n",
       "}\n",
       "\n",
       ".xr-var-name span,\n",
       ".xr-var-data,\n",
       ".xr-attrs {\n",
       "  padding-left: 25px !important;\n",
       "}\n",
       "\n",
       ".xr-attrs,\n",
       ".xr-var-attrs,\n",
       ".xr-var-data {\n",
       "  grid-column: 1 / -1;\n",
       "}\n",
       "\n",
       "dl.xr-attrs {\n",
       "  padding: 0;\n",
       "  margin: 0;\n",
       "  display: grid;\n",
       "  grid-template-columns: 125px auto;\n",
       "}\n",
       "\n",
       ".xr-attrs dt,\n",
       ".xr-attrs dd {\n",
       "  padding: 0;\n",
       "  margin: 0;\n",
       "  float: left;\n",
       "  padding-right: 10px;\n",
       "  width: auto;\n",
       "}\n",
       "\n",
       ".xr-attrs dt {\n",
       "  font-weight: normal;\n",
       "  grid-column: 1;\n",
       "}\n",
       "\n",
       ".xr-attrs dt:hover span {\n",
       "  display: inline-block;\n",
       "  background: var(--xr-background-color);\n",
       "  padding-right: 10px;\n",
       "}\n",
       "\n",
       ".xr-attrs dd {\n",
       "  grid-column: 2;\n",
       "  white-space: pre-wrap;\n",
       "  word-break: break-all;\n",
       "}\n",
       "\n",
       ".xr-icon-database,\n",
       ".xr-icon-file-text2 {\n",
       "  display: inline-block;\n",
       "  vertical-align: middle;\n",
       "  width: 1em;\n",
       "  height: 1.5em !important;\n",
       "  stroke-width: 0;\n",
       "  stroke: currentColor;\n",
       "  fill: currentColor;\n",
       "}\n",
       "</style><pre class='xr-text-repr-fallback'>&lt;xarray.DataArray &#x27;converted&#x27; (converted_dim_0: 3)&gt;\n",
       "array([0.326625, 0.495375, 0.234625])\n",
       "Coordinates:\n",
       "  * converted_dim_0  (converted_dim_0) int64 0 1 2</pre><div class='xr-wrap' style='display:none'><div class='xr-header'><div class='xr-obj-type'>xarray.DataArray</div><div class='xr-array-name'>'converted'</div><ul class='xr-dim-list'><li><span class='xr-has-index'>converted_dim_0</span>: 3</li></ul></div><ul class='xr-sections'><li class='xr-section-item'><div class='xr-array-wrap'><input id='section-ca8a071e-28ad-48b0-86df-15552d6dd2ed' class='xr-array-in' type='checkbox' checked><label for='section-ca8a071e-28ad-48b0-86df-15552d6dd2ed' title='Show/hide data repr'><svg class='icon xr-icon-database'><use xlink:href='#icon-database'></use></svg></label><div class='xr-array-preview xr-preview'><span>0.3266 0.4954 0.2346</span></div><div class='xr-array-data'><pre>array([0.326625, 0.495375, 0.234625])</pre></div></div></li><li class='xr-section-item'><input id='section-a34e61cc-8694-4d2c-9cfd-2240b891a2d8' class='xr-section-summary-in' type='checkbox'  checked><label for='section-a34e61cc-8694-4d2c-9cfd-2240b891a2d8' class='xr-section-summary' >Coordinates: <span>(1)</span></label><div class='xr-section-inline-details'></div><div class='xr-section-details'><ul class='xr-var-list'><li class='xr-var-item'><div class='xr-var-name'><span class='xr-has-index'>converted_dim_0</span></div><div class='xr-var-dims'>(converted_dim_0)</div><div class='xr-var-dtype'>int64</div><div class='xr-var-preview xr-preview'>0 1 2</div><input id='attrs-602142fb-b5e9-4b47-844d-ce717251e9b3' class='xr-var-attrs-in' type='checkbox' disabled><label for='attrs-602142fb-b5e9-4b47-844d-ce717251e9b3' title='Show/Hide attributes'><svg class='icon xr-icon-file-text2'><use xlink:href='#icon-file-text2'></use></svg></label><input id='data-3df3e874-1420-4b7e-a358-e8e6eb8f7e67' class='xr-var-data-in' type='checkbox'><label for='data-3df3e874-1420-4b7e-a358-e8e6eb8f7e67' title='Show/Hide data repr'><svg class='icon xr-icon-database'><use xlink:href='#icon-database'></use></svg></label><div class='xr-var-attrs'><dl class='xr-attrs'></dl></div><div class='xr-var-data'><pre>array([0, 1, 2])</pre></div></li></ul></div></li><li class='xr-section-item'><input id='section-0eaa689a-f056-43b2-8f70-3240d30ed16c' class='xr-section-summary-in' type='checkbox' disabled ><label for='section-0eaa689a-f056-43b2-8f70-3240d30ed16c' class='xr-section-summary'  title='Expand/collapse section'>Attributes: <span>(0)</span></label><div class='xr-section-inline-details'></div><div class='xr-section-details'><dl class='xr-attrs'></dl></div></li></ul></div></div>"
      ],
      "text/plain": [
       "<xarray.DataArray 'converted' (converted_dim_0: 3)>\n",
       "array([0.326625, 0.495375, 0.234625])\n",
       "Coordinates:\n",
       "  * converted_dim_0  (converted_dim_0) int64 0 1 2"
      ]
     },
     "execution_count": 113,
     "metadata": {},
     "output_type": "execute_result"
    }
   ],
   "source": [
    "predictions.posterior_predictive.mean([\"chain\", \"draw\"])[\"converted\"]"
   ]
  },
  {
   "cell_type": "markdown",
   "id": "874fb300",
   "metadata": {},
   "source": [
    "Check this out\n",
    "Turns out a 20 year old will convert at 20 percent rate, even if they dont like videogames, which is less than 30 year old that does like video games, and about the same as a 40 year old that likes videogames!\n",
    "\n",
    "Now if any new customer comes in we can predict their prob conversion"
   ]
  },
  {
   "cell_type": "markdown",
   "id": "5dd414a3",
   "metadata": {},
   "source": [
    "## Section Recap\n",
    "* AB testing is equivalent to categorical regression\n",
    "* plot_cap helps us easily visualize continuous results\n",
    "  * Gives us the answer for probability of conversion with age\n",
    "* Since this is regression we can even control for preference quite easily\n",
    "  * Can easily discern the differing trend in conversion between the two groups\n",
    "* Predictions are quite easy as well!"
   ]
  },
  {
   "cell_type": "markdown",
   "id": "84515cee",
   "metadata": {},
   "source": [
    "# Logistic Regression in practice\n",
    "**Insert applied example here**"
   ]
  },
  {
   "cell_type": "markdown",
   "id": "3a175115",
   "metadata": {},
   "source": [
    "The ANES is a nationally representative, cross-sectional survey used extensively in political science. This is a dataset from the 2016 pilot study, consisting of responses from 1200 voting-age U.S. citizens.\n",
    "\n",
    "https://electionstudies.org/data-center/anes-2016-pilot-study/"
   ]
  },
  {
   "cell_type": "code",
   "execution_count": 114,
   "id": "133ea4aa",
   "metadata": {},
   "outputs": [
    {
     "data": {
      "text/plain": [
       "(421, 3)"
      ]
     },
     "execution_count": 114,
     "metadata": {},
     "output_type": "execute_result"
    }
   ],
   "source": [
    "data = bmb.load_data(\"ANES\")\n",
    "data.shape"
   ]
  },
  {
   "cell_type": "code",
   "execution_count": 115,
   "id": "0a4de1f6",
   "metadata": {},
   "outputs": [
    {
     "data": {
      "text/plain": [
       "clinton         215\n",
       "trump           158\n",
       "someone_else     48\n",
       "Name: vote, dtype: int64"
      ]
     },
     "execution_count": 115,
     "metadata": {},
     "output_type": "execute_result"
    }
   ],
   "source": [
    "data[\"vote\"].value_counts()"
   ]
  },
  {
   "cell_type": "code",
   "execution_count": 116,
   "id": "7fde1d0f",
   "metadata": {},
   "outputs": [
    {
     "name": "stdout",
     "output_type": "stream",
     "text": [
      "(373, 3)\n"
     ]
    },
    {
     "data": {
      "text/html": [
       "<div>\n",
       "<style scoped>\n",
       "    .dataframe tbody tr th:only-of-type {\n",
       "        vertical-align: middle;\n",
       "    }\n",
       "\n",
       "    .dataframe tbody tr th {\n",
       "        vertical-align: top;\n",
       "    }\n",
       "\n",
       "    .dataframe thead th {\n",
       "        text-align: right;\n",
       "    }\n",
       "</style>\n",
       "<table border=\"1\" class=\"dataframe\">\n",
       "  <thead>\n",
       "    <tr style=\"text-align: right;\">\n",
       "      <th></th>\n",
       "      <th>vote</th>\n",
       "      <th>age</th>\n",
       "      <th>party_id</th>\n",
       "    </tr>\n",
       "  </thead>\n",
       "  <tbody>\n",
       "    <tr>\n",
       "      <th>0</th>\n",
       "      <td>clinton</td>\n",
       "      <td>56</td>\n",
       "      <td>democrat</td>\n",
       "    </tr>\n",
       "    <tr>\n",
       "      <th>1</th>\n",
       "      <td>trump</td>\n",
       "      <td>65</td>\n",
       "      <td>republican</td>\n",
       "    </tr>\n",
       "    <tr>\n",
       "      <th>2</th>\n",
       "      <td>clinton</td>\n",
       "      <td>80</td>\n",
       "      <td>democrat</td>\n",
       "    </tr>\n",
       "    <tr>\n",
       "      <th>3</th>\n",
       "      <td>trump</td>\n",
       "      <td>38</td>\n",
       "      <td>republican</td>\n",
       "    </tr>\n",
       "    <tr>\n",
       "      <th>4</th>\n",
       "      <td>trump</td>\n",
       "      <td>60</td>\n",
       "      <td>republican</td>\n",
       "    </tr>\n",
       "  </tbody>\n",
       "</table>\n",
       "</div>"
      ],
      "text/plain": [
       "      vote  age    party_id\n",
       "0  clinton   56    democrat\n",
       "1    trump   65  republican\n",
       "2  clinton   80    democrat\n",
       "3    trump   38  republican\n",
       "4    trump   60  republican"
      ]
     },
     "execution_count": 116,
     "metadata": {},
     "output_type": "execute_result"
    }
   ],
   "source": [
    "data = data.loc[data[\"vote\"].isin([\"clinton\", \"trump\"]), :]\n",
    "print(data.shape)\n",
    "data.head()"
   ]
  },
  {
   "cell_type": "code",
   "execution_count": 117,
   "id": "1dcfe515",
   "metadata": {},
   "outputs": [
    {
     "name": "stderr",
     "output_type": "stream",
     "text": [
      "Modeling the probability that vote==clinton\n",
      "Auto-assigning NUTS sampler...\n",
      "Initializing NUTS using jitter+adapt_diag...\n",
      "Multiprocess sampling (4 chains in 4 jobs)\n",
      "NUTS: [Intercept, party_id, scale(age)]\n"
     ]
    },
    {
     "data": {
      "text/html": [
       "\n",
       "<style>\n",
       "    /* Turns off some styling */\n",
       "    progress {\n",
       "        /* gets rid of default border in Firefox and Opera. */\n",
       "        border: none;\n",
       "        /* Needs to be in here for Safari polyfill so background images work as expected. */\n",
       "        background-size: auto;\n",
       "    }\n",
       "    progress:not([value]), progress:not([value])::-webkit-progress-bar {\n",
       "        background: repeating-linear-gradient(45deg, #7e7e7e, #7e7e7e 10px, #5c5c5c 10px, #5c5c5c 20px);\n",
       "    }\n",
       "    .progress-bar-interrupted, .progress-bar-interrupted::-webkit-progress-bar {\n",
       "        background: #F44336;\n",
       "    }\n",
       "</style>\n"
      ],
      "text/plain": [
       "<IPython.core.display.HTML object>"
      ]
     },
     "metadata": {},
     "output_type": "display_data"
    },
    {
     "data": {
      "text/html": [
       "\n",
       "    <div>\n",
       "      <progress value='16000' class='' max='16000' style='width:300px; height:20px; vertical-align: middle;'></progress>\n",
       "      100.00% [16000/16000 00:15&lt;00:00 Sampling 4 chains, 0 divergences]\n",
       "    </div>\n",
       "    "
      ],
      "text/plain": [
       "<IPython.core.display.HTML object>"
      ]
     },
     "metadata": {},
     "output_type": "display_data"
    },
    {
     "name": "stderr",
     "output_type": "stream",
     "text": [
      "Sampling 4 chains for 2_000 tune and 2_000 draw iterations (8_000 + 8_000 draws total) took 16 seconds.\n"
     ]
    }
   ],
   "source": [
    "model_age = bmb.Model(\"vote[clinton] ~ party_id + scale(age)\", data, family=\"bernoulli\")\n",
    "inf_data_age = model_age.fit(draws = 2000, tune = 2000)"
   ]
  },
  {
   "cell_type": "code",
   "execution_count": 118,
   "id": "3e65ef01",
   "metadata": {},
   "outputs": [
    {
     "data": {
      "image/svg+xml": [
       "<?xml version=\"1.0\" encoding=\"UTF-8\" standalone=\"no\"?>\n",
       "<!DOCTYPE svg PUBLIC \"-//W3C//DTD SVG 1.1//EN\"\n",
       " \"http://www.w3.org/Graphics/SVG/1.1/DTD/svg11.dtd\">\n",
       "<!-- Generated by graphviz version 2.50.0 (0)\n",
       " -->\n",
       "<!-- Pages: 1 -->\n",
       "<svg width=\"350pt\" height=\"260pt\"\n",
       " viewBox=\"0.00 0.00 349.96 259.91\" xmlns=\"http://www.w3.org/2000/svg\" xmlns:xlink=\"http://www.w3.org/1999/xlink\">\n",
       "<g id=\"graph0\" class=\"graph\" transform=\"scale(1 1) rotate(0) translate(4 255.91)\">\n",
       "<polygon fill=\"white\" stroke=\"transparent\" points=\"-4,4 -4,-255.91 345.96,-255.91 345.96,4 -4,4\"/>\n",
       "<g id=\"clust1\" class=\"cluster\">\n",
       "<title>clusterparty_id_dim (2)</title>\n",
       "<path fill=\"none\" stroke=\"black\" d=\"M111.96,-129.95C111.96,-129.95 197.96,-129.95 197.96,-129.95 203.96,-129.95 209.96,-135.95 209.96,-141.95 209.96,-141.95 209.96,-231.91 209.96,-231.91 209.96,-237.91 203.96,-243.91 197.96,-243.91 197.96,-243.91 111.96,-243.91 111.96,-243.91 105.96,-243.91 99.96,-237.91 99.96,-231.91 99.96,-231.91 99.96,-141.95 99.96,-141.95 99.96,-135.95 105.96,-129.95 111.96,-129.95\"/>\n",
       "<text text-anchor=\"middle\" x=\"154.96\" y=\"-137.75\" font-family=\"Times,serif\" font-size=\"14.00\">party_id_dim (2)</text>\n",
       "</g>\n",
       "<g id=\"clust2\" class=\"cluster\">\n",
       "<title>cluster1</title>\n",
       "<path fill=\"none\" stroke=\"black\" d=\"M229.96,-129.95C229.96,-129.95 321.96,-129.95 321.96,-129.95 327.96,-129.95 333.96,-135.95 333.96,-141.95 333.96,-141.95 333.96,-231.91 333.96,-231.91 333.96,-237.91 327.96,-243.91 321.96,-243.91 321.96,-243.91 229.96,-243.91 229.96,-243.91 223.96,-243.91 217.96,-237.91 217.96,-231.91 217.96,-231.91 217.96,-141.95 217.96,-141.95 217.96,-135.95 223.96,-129.95 229.96,-129.95\"/>\n",
       "<text text-anchor=\"middle\" x=\"322.46\" y=\"-137.75\" font-family=\"Times,serif\" font-size=\"14.00\">1</text>\n",
       "</g>\n",
       "<g id=\"clust3\" class=\"cluster\">\n",
       "<title>cluster373</title>\n",
       "<path fill=\"none\" stroke=\"black\" d=\"M110.96,-8C110.96,-8 198.96,-8 198.96,-8 204.96,-8 210.96,-14 210.96,-20 210.96,-20 210.96,-109.95 210.96,-109.95 210.96,-115.95 204.96,-121.95 198.96,-121.95 198.96,-121.95 110.96,-121.95 110.96,-121.95 104.96,-121.95 98.96,-115.95 98.96,-109.95 98.96,-109.95 98.96,-20 98.96,-20 98.96,-14 104.96,-8 110.96,-8\"/>\n",
       "<text text-anchor=\"middle\" x=\"192.46\" y=\"-15.8\" font-family=\"Times,serif\" font-size=\"14.00\">373</text>\n",
       "</g>\n",
       "<!-- Intercept -->\n",
       "<g id=\"node1\" class=\"node\">\n",
       "<title>Intercept</title>\n",
       "<ellipse fill=\"none\" stroke=\"black\" cx=\"45.96\" cy=\"-198.43\" rx=\"45.92\" ry=\"37.45\"/>\n",
       "<text text-anchor=\"middle\" x=\"45.96\" y=\"-209.73\" font-family=\"Times,serif\" font-size=\"14.00\">Intercept</text>\n",
       "<text text-anchor=\"middle\" x=\"45.96\" y=\"-194.73\" font-family=\"Times,serif\" font-size=\"14.00\">~</text>\n",
       "<text text-anchor=\"middle\" x=\"45.96\" y=\"-179.73\" font-family=\"Times,serif\" font-size=\"14.00\">Normal</text>\n",
       "</g>\n",
       "<!-- vote -->\n",
       "<g id=\"node4\" class=\"node\">\n",
       "<title>vote</title>\n",
       "<ellipse fill=\"lightgrey\" stroke=\"black\" cx=\"154.96\" cy=\"-76.48\" rx=\"48.17\" ry=\"37.45\"/>\n",
       "<text text-anchor=\"middle\" x=\"154.96\" y=\"-87.78\" font-family=\"Times,serif\" font-size=\"14.00\">vote</text>\n",
       "<text text-anchor=\"middle\" x=\"154.96\" y=\"-72.78\" font-family=\"Times,serif\" font-size=\"14.00\">~</text>\n",
       "<text text-anchor=\"middle\" x=\"154.96\" y=\"-57.78\" font-family=\"Times,serif\" font-size=\"14.00\">Bernoulli</text>\n",
       "</g>\n",
       "<!-- Intercept&#45;&gt;vote -->\n",
       "<g id=\"edge3\" class=\"edge\">\n",
       "<title>Intercept&#45;&gt;vote</title>\n",
       "<path fill=\"none\" stroke=\"black\" d=\"M67.83,-165.13C76.14,-153.62 86.02,-140.82 95.96,-129.95 101.75,-123.63 108.23,-117.26 114.71,-111.25\"/>\n",
       "<polygon fill=\"black\" stroke=\"black\" points=\"117.23,-113.69 122.3,-104.38 112.53,-108.5 117.23,-113.69\"/>\n",
       "</g>\n",
       "<!-- party_id -->\n",
       "<g id=\"node2\" class=\"node\">\n",
       "<title>party_id</title>\n",
       "<ellipse fill=\"none\" stroke=\"black\" cx=\"154.96\" cy=\"-198.43\" rx=\"43.68\" ry=\"37.45\"/>\n",
       "<text text-anchor=\"middle\" x=\"154.96\" y=\"-209.73\" font-family=\"Times,serif\" font-size=\"14.00\">party_id</text>\n",
       "<text text-anchor=\"middle\" x=\"154.96\" y=\"-194.73\" font-family=\"Times,serif\" font-size=\"14.00\">~</text>\n",
       "<text text-anchor=\"middle\" x=\"154.96\" y=\"-179.73\" font-family=\"Times,serif\" font-size=\"14.00\">Normal</text>\n",
       "</g>\n",
       "<!-- party_id&#45;&gt;vote -->\n",
       "<g id=\"edge1\" class=\"edge\">\n",
       "<title>party_id&#45;&gt;vote</title>\n",
       "<path fill=\"none\" stroke=\"black\" d=\"M154.96,-160.79C154.96,-149.38 154.96,-136.65 154.96,-124.63\"/>\n",
       "<polygon fill=\"black\" stroke=\"black\" points=\"158.46,-124.31 154.96,-114.31 151.46,-124.31 158.46,-124.31\"/>\n",
       "</g>\n",
       "<!-- scale(age) -->\n",
       "<g id=\"node3\" class=\"node\">\n",
       "<title>scale(age)</title>\n",
       "<ellipse fill=\"none\" stroke=\"black\" cx=\"275.96\" cy=\"-198.43\" rx=\"50.41\" ry=\"37.45\"/>\n",
       "<text text-anchor=\"middle\" x=\"275.96\" y=\"-209.73\" font-family=\"Times,serif\" font-size=\"14.00\">scale(age)</text>\n",
       "<text text-anchor=\"middle\" x=\"275.96\" y=\"-194.73\" font-family=\"Times,serif\" font-size=\"14.00\">~</text>\n",
       "<text text-anchor=\"middle\" x=\"275.96\" y=\"-179.73\" font-family=\"Times,serif\" font-size=\"14.00\">Normal</text>\n",
       "</g>\n",
       "<!-- scale(age)&#45;&gt;vote -->\n",
       "<g id=\"edge2\" class=\"edge\">\n",
       "<title>scale(age)&#45;&gt;vote</title>\n",
       "<path fill=\"none\" stroke=\"black\" d=\"M248.82,-166.59C238.2,-154.87 225.76,-141.56 213.96,-129.95 207.78,-123.87 201.05,-117.59 194.43,-111.58\"/>\n",
       "<polygon fill=\"black\" stroke=\"black\" points=\"196.51,-108.75 186.73,-104.68 191.84,-113.96 196.51,-108.75\"/>\n",
       "</g>\n",
       "</g>\n",
       "</svg>\n"
      ],
      "text/plain": [
       "<graphviz.graphs.Digraph at 0x7f8ad334d2d0>"
      ]
     },
     "execution_count": 118,
     "metadata": {},
     "output_type": "execute_result"
    }
   ],
   "source": [
    "model_age.graph()"
   ]
  },
  {
   "cell_type": "code",
   "execution_count": 119,
   "id": "3c5cf8a4",
   "metadata": {},
   "outputs": [
    {
     "data": {
      "text/html": [
       "<div>\n",
       "<style scoped>\n",
       "    .dataframe tbody tr th:only-of-type {\n",
       "        vertical-align: middle;\n",
       "    }\n",
       "\n",
       "    .dataframe tbody tr th {\n",
       "        vertical-align: top;\n",
       "    }\n",
       "\n",
       "    .dataframe thead th {\n",
       "        text-align: right;\n",
       "    }\n",
       "</style>\n",
       "<table border=\"1\" class=\"dataframe\">\n",
       "  <thead>\n",
       "    <tr style=\"text-align: right;\">\n",
       "      <th></th>\n",
       "      <th>mean</th>\n",
       "      <th>sd</th>\n",
       "      <th>hdi_3%</th>\n",
       "      <th>hdi_97%</th>\n",
       "      <th>mcse_mean</th>\n",
       "      <th>mcse_sd</th>\n",
       "      <th>ess_bulk</th>\n",
       "      <th>ess_tail</th>\n",
       "      <th>r_hat</th>\n",
       "    </tr>\n",
       "  </thead>\n",
       "  <tbody>\n",
       "    <tr>\n",
       "      <th>party_id[independent]</th>\n",
       "      <td>-2.518</td>\n",
       "      <td>0.322</td>\n",
       "      <td>-3.122</td>\n",
       "      <td>-1.926</td>\n",
       "      <td>0.004</td>\n",
       "      <td>0.003</td>\n",
       "      <td>5715.0</td>\n",
       "      <td>5561.0</td>\n",
       "      <td>1.0</td>\n",
       "    </tr>\n",
       "    <tr>\n",
       "      <th>party_id[republican]</th>\n",
       "      <td>-5.071</td>\n",
       "      <td>0.546</td>\n",
       "      <td>-6.138</td>\n",
       "      <td>-4.099</td>\n",
       "      <td>0.007</td>\n",
       "      <td>0.005</td>\n",
       "      <td>5497.0</td>\n",
       "      <td>5418.0</td>\n",
       "      <td>1.0</td>\n",
       "    </tr>\n",
       "    <tr>\n",
       "      <th>scale(age)</th>\n",
       "      <td>-0.357</td>\n",
       "      <td>0.151</td>\n",
       "      <td>-0.643</td>\n",
       "      <td>-0.079</td>\n",
       "      <td>0.002</td>\n",
       "      <td>0.001</td>\n",
       "      <td>8277.0</td>\n",
       "      <td>6382.0</td>\n",
       "      <td>1.0</td>\n",
       "    </tr>\n",
       "  </tbody>\n",
       "</table>\n",
       "</div>"
      ],
      "text/plain": [
       "                        mean     sd  hdi_3%  hdi_97%  mcse_mean  mcse_sd  \\\n",
       "party_id[independent] -2.518  0.322  -3.122   -1.926      0.004    0.003   \n",
       "party_id[republican]  -5.071  0.546  -6.138   -4.099      0.007    0.005   \n",
       "scale(age)            -0.357  0.151  -0.643   -0.079      0.002    0.001   \n",
       "\n",
       "                       ess_bulk  ess_tail  r_hat  \n",
       "party_id[independent]    5715.0    5561.0    1.0  \n",
       "party_id[republican]     5497.0    5418.0    1.0  \n",
       "scale(age)               8277.0    6382.0    1.0  "
      ]
     },
     "execution_count": 119,
     "metadata": {},
     "output_type": "execute_result"
    }
   ],
   "source": [
    "az.summary(inf_data_age, var_names=[\"party_id\", \"scale(age)\"])"
   ]
  },
  {
   "cell_type": "markdown",
   "id": "c5124b1a",
   "metadata": {},
   "source": [
    "## Create a new dataset with age going from 18 to 90"
   ]
  },
  {
   "cell_type": "code",
   "execution_count": 120,
   "id": "32f2bd9d",
   "metadata": {},
   "outputs": [
    {
     "data": {
      "text/html": [
       "<div>\n",
       "<style scoped>\n",
       "    .dataframe tbody tr th:only-of-type {\n",
       "        vertical-align: middle;\n",
       "    }\n",
       "\n",
       "    .dataframe tbody tr th {\n",
       "        vertical-align: top;\n",
       "    }\n",
       "\n",
       "    .dataframe thead th {\n",
       "        text-align: right;\n",
       "    }\n",
       "</style>\n",
       "<table border=\"1\" class=\"dataframe\">\n",
       "  <thead>\n",
       "    <tr style=\"text-align: right;\">\n",
       "      <th></th>\n",
       "      <th>age</th>\n",
       "      <th>party_id</th>\n",
       "    </tr>\n",
       "  </thead>\n",
       "  <tbody>\n",
       "    <tr>\n",
       "      <th>0</th>\n",
       "      <td>18</td>\n",
       "      <td>democrat</td>\n",
       "    </tr>\n",
       "    <tr>\n",
       "      <th>1</th>\n",
       "      <td>19</td>\n",
       "      <td>democrat</td>\n",
       "    </tr>\n",
       "    <tr>\n",
       "      <th>2</th>\n",
       "      <td>20</td>\n",
       "      <td>democrat</td>\n",
       "    </tr>\n",
       "    <tr>\n",
       "      <th>3</th>\n",
       "      <td>21</td>\n",
       "      <td>democrat</td>\n",
       "    </tr>\n",
       "    <tr>\n",
       "      <th>4</th>\n",
       "      <td>22</td>\n",
       "      <td>democrat</td>\n",
       "    </tr>\n",
       "    <tr>\n",
       "      <th>...</th>\n",
       "      <td>...</td>\n",
       "      <td>...</td>\n",
       "    </tr>\n",
       "    <tr>\n",
       "      <th>214</th>\n",
       "      <td>86</td>\n",
       "      <td>independent</td>\n",
       "    </tr>\n",
       "    <tr>\n",
       "      <th>215</th>\n",
       "      <td>87</td>\n",
       "      <td>independent</td>\n",
       "    </tr>\n",
       "    <tr>\n",
       "      <th>216</th>\n",
       "      <td>88</td>\n",
       "      <td>independent</td>\n",
       "    </tr>\n",
       "    <tr>\n",
       "      <th>217</th>\n",
       "      <td>89</td>\n",
       "      <td>independent</td>\n",
       "    </tr>\n",
       "    <tr>\n",
       "      <th>218</th>\n",
       "      <td>90</td>\n",
       "      <td>independent</td>\n",
       "    </tr>\n",
       "  </tbody>\n",
       "</table>\n",
       "<p>219 rows × 2 columns</p>\n",
       "</div>"
      ],
      "text/plain": [
       "     age     party_id\n",
       "0     18     democrat\n",
       "1     19     democrat\n",
       "2     20     democrat\n",
       "3     21     democrat\n",
       "4     22     democrat\n",
       "..   ...          ...\n",
       "214   86  independent\n",
       "215   87  independent\n",
       "216   88  independent\n",
       "217   89  independent\n",
       "218   90  independent\n",
       "\n",
       "[219 rows x 2 columns]"
      ]
     },
     "execution_count": 120,
     "metadata": {},
     "output_type": "execute_result"
    }
   ],
   "source": [
    "age = np.arange(18, 91)\n",
    "parties = [\"democrat\", \"republican\", \"independent\"]\n",
    "new_data = pd.DataFrame({\n",
    "    \"age\": np.tile(age, 3),\n",
    "    \"party_id\": np.repeat(parties, len(age))\n",
    "})\n",
    "new_data"
   ]
  },
  {
   "cell_type": "markdown",
   "id": "2fec7f01",
   "metadata": {},
   "source": [
    "## Define Prediction Machine"
   ]
  },
  {
   "cell_type": "code",
   "execution_count": 121,
   "id": "0735e023",
   "metadata": {},
   "outputs": [],
   "source": [
    "def make_vote_predictions(model, idata):\n",
    "\n",
    "    # Predict mean of P(vote = clinton | age) by plugging in new data\n",
    "    model.predict(idata, data=new_data)\n",
    "\n",
    "    # Compute mean across chains\n",
    "    posterior_mean = idata.posterior[\"vote_mean\"].values.mean(0)\n",
    "\n",
    "    # Select 500 draws\n",
    "    # Transpose to get an array of shape (219, 500)\n",
    "    posterior_mean = posterior_mean[:500, :].T\n",
    "    return posterior_mean\n",
    "\n",
    "posterior_mean = make_vote_predictions(model_age, inf_data_age)"
   ]
  },
  {
   "cell_type": "code",
   "execution_count": 122,
   "id": "dbdbd692",
   "metadata": {},
   "outputs": [],
   "source": [
    "from matplotlib.lines import Line2D\n",
    "\n",
    "\n",
    "def plot_vote_predictions(posterior_mean, ax):\n",
    "\n",
    "    for i, party in enumerate(parties):\n",
    "        idx = new_data.index[new_data[\"party_id\"] == party]\n",
    "        ax.plot(age, posterior_mean[idx], alpha=0.05, color=f\"C{i}\")\n",
    "\n",
    "    ax.axhline(y = 0, ls=\"--\", color=\"#a3a3a3\", zorder=1)\n",
    "    ax.axhline(y = 1, ls=\"--\", color=\"#a3a3a3\", zorder=1)\n",
    "    ax.set_ylabel(\"P(vote=clinton | age)\")\n",
    "    ax.set_xlabel(\"Age\", fontsize=15)\n",
    "    ax.set_ylim(-0.025, 1.025)\n",
    "    ax.set_xlim(18, 90)\n",
    "\n",
    "    fig.subplots_adjust(top=0.925, left=0.1, right=0.95, bottom=0.1)\n",
    "\n",
    "    labels = [party.capitalize() for party in parties]\n",
    "\n",
    "    # Create legend\n",
    "    handles = [\n",
    "        Line2D(\n",
    "            [0], [0], label=label, marker=\"o\", color=\"None\", \n",
    "            markerfacecolor=f\"C{i}\", markeredgewidth=0, markersize=10\n",
    "        )\n",
    "        for i, label in enumerate(labels)\n",
    "    ]\n",
    "\n",
    "    # Add legend\n",
    "    x_center = 0.1 + (0.95 - 0.1) / 2 \n",
    "    legend = fig.legend(\n",
    "        handles=handles, \n",
    "        ncol=5,\n",
    "        loc=\"lower center\",\n",
    "        bbox_to_anchor=(x_center, 0.925),\n",
    "        handletextpad=0.2,\n",
    "        columnspacing=2,\n",
    "        fontsize=11,\n",
    "    )"
   ]
  },
  {
   "cell_type": "code",
   "execution_count": 123,
   "id": "efca6229",
   "metadata": {},
   "outputs": [
    {
     "data": {
      "image/png": "[encoded data removed]",
      "text/plain": [
       "<Figure size 864x360 with 1 Axes>"
      ]
     },
     "metadata": {
      "needs_background": "light"
     },
     "output_type": "display_data"
    }
   ],
   "source": [
    "fig, ax = plt.subplots(figsize=(12, 5))\n",
    "\n",
    "posterior_mean = make_vote_predictions(model_age, inf_data_age)\n",
    "plot_vote_predictions(posterior_mean, ax=ax)"
   ]
  },
  {
   "cell_type": "markdown",
   "id": "ee14f9f4",
   "metadata": {},
   "source": [
    "## Voting Age Interaction Model"
   ]
  },
  {
   "cell_type": "code",
   "execution_count": 124,
   "id": "120949ee",
   "metadata": {},
   "outputs": [
    {
     "name": "stderr",
     "output_type": "stream",
     "text": [
      "Modeling the probability that vote==clinton\n",
      "Auto-assigning NUTS sampler...\n",
      "Initializing NUTS using jitter+adapt_diag...\n",
      "Multiprocess sampling (4 chains in 4 jobs)\n",
      "NUTS: [Intercept, party_id, party_id:scale(age)]\n"
     ]
    },
    {
     "data": {
      "text/html": [
       "\n",
       "<style>\n",
       "    /* Turns off some styling */\n",
       "    progress {\n",
       "        /* gets rid of default border in Firefox and Opera. */\n",
       "        border: none;\n",
       "        /* Needs to be in here for Safari polyfill so background images work as expected. */\n",
       "        background-size: auto;\n",
       "    }\n",
       "    progress:not([value]), progress:not([value])::-webkit-progress-bar {\n",
       "        background: repeating-linear-gradient(45deg, #7e7e7e, #7e7e7e 10px, #5c5c5c 10px, #5c5c5c 20px);\n",
       "    }\n",
       "    .progress-bar-interrupted, .progress-bar-interrupted::-webkit-progress-bar {\n",
       "        background: #F44336;\n",
       "    }\n",
       "</style>\n"
      ],
      "text/plain": [
       "<IPython.core.display.HTML object>"
      ]
     },
     "metadata": {},
     "output_type": "display_data"
    },
    {
     "data": {
      "text/html": [
       "\n",
       "    <div>\n",
       "      <progress value='16000' class='' max='16000' style='width:300px; height:20px; vertical-align: middle;'></progress>\n",
       "      100.00% [16000/16000 00:22&lt;00:00 Sampling 4 chains, 0 divergences]\n",
       "    </div>\n",
       "    "
      ],
      "text/plain": [
       "<IPython.core.display.HTML object>"
      ]
     },
     "metadata": {},
     "output_type": "display_data"
    },
    {
     "name": "stderr",
     "output_type": "stream",
     "text": [
      "Sampling 4 chains for 2_000 tune and 2_000 draw iterations (8_000 + 8_000 draws total) took 22 seconds.\n"
     ]
    }
   ],
   "source": [
    "model_age_interaction = bmb.Model(\"vote[clinton] ~ party_id + party_id:scale(age)\", data, family=\"bernoulli\")\n",
    "idata_age_interaction = model_age_interaction.fit(draws = 2000, tune = 2000)"
   ]
  },
  {
   "cell_type": "code",
   "execution_count": 125,
   "id": "818c54e7",
   "metadata": {},
   "outputs": [
    {
     "data": {
      "image/svg+xml": [
       "<?xml version=\"1.0\" encoding=\"UTF-8\" standalone=\"no\"?>\n",
       "<!DOCTYPE svg PUBLIC \"-//W3C//DTD SVG 1.1//EN\"\n",
       " \"http://www.w3.org/Graphics/SVG/1.1/DTD/svg11.dtd\">\n",
       "<!-- Generated by graphviz version 2.50.0 (0)\n",
       " -->\n",
       "<!-- Pages: 1 -->\n",
       "<svg width=\"420pt\" height=\"260pt\"\n",
       " viewBox=\"0.00 0.00 419.96 259.91\" xmlns=\"http://www.w3.org/2000/svg\" xmlns:xlink=\"http://www.w3.org/1999/xlink\">\n",
       "<g id=\"graph0\" class=\"graph\" transform=\"scale(1 1) rotate(0) translate(4 255.91)\">\n",
       "<polygon fill=\"white\" stroke=\"transparent\" points=\"-4,4 -4,-255.91 415.96,-255.91 415.96,4 -4,4\"/>\n",
       "<g id=\"clust1\" class=\"cluster\">\n",
       "<title>clusterparty_id_dim (2)</title>\n",
       "<path fill=\"none\" stroke=\"black\" d=\"M111.96,-129.95C111.96,-129.95 197.96,-129.95 197.96,-129.95 203.96,-129.95 209.96,-135.95 209.96,-141.95 209.96,-141.95 209.96,-231.91 209.96,-231.91 209.96,-237.91 203.96,-243.91 197.96,-243.91 197.96,-243.91 111.96,-243.91 111.96,-243.91 105.96,-243.91 99.96,-237.91 99.96,-231.91 99.96,-231.91 99.96,-141.95 99.96,-141.95 99.96,-135.95 105.96,-129.95 111.96,-129.95\"/>\n",
       "<text text-anchor=\"middle\" x=\"154.96\" y=\"-137.75\" font-family=\"Times,serif\" font-size=\"14.00\">party_id_dim (2)</text>\n",
       "</g>\n",
       "<g id=\"clust2\" class=\"cluster\">\n",
       "<title>clusterparty_id:scale(age)_dim (3)</title>\n",
       "<path fill=\"none\" stroke=\"black\" d=\"M229.96,-129.95C229.96,-129.95 391.96,-129.95 391.96,-129.95 397.96,-129.95 403.96,-135.95 403.96,-141.95 403.96,-141.95 403.96,-231.91 403.96,-231.91 403.96,-237.91 397.96,-243.91 391.96,-243.91 391.96,-243.91 229.96,-243.91 229.96,-243.91 223.96,-243.91 217.96,-237.91 217.96,-231.91 217.96,-231.91 217.96,-141.95 217.96,-141.95 217.96,-135.95 223.96,-129.95 229.96,-129.95\"/>\n",
       "<text text-anchor=\"middle\" x=\"319.96\" y=\"-137.75\" font-family=\"Times,serif\" font-size=\"14.00\">party_id:scale(age)_dim (3)</text>\n",
       "</g>\n",
       "<g id=\"clust3\" class=\"cluster\">\n",
       "<title>cluster373</title>\n",
       "<path fill=\"none\" stroke=\"black\" d=\"M110.96,-8C110.96,-8 198.96,-8 198.96,-8 204.96,-8 210.96,-14 210.96,-20 210.96,-20 210.96,-109.95 210.96,-109.95 210.96,-115.95 204.96,-121.95 198.96,-121.95 198.96,-121.95 110.96,-121.95 110.96,-121.95 104.96,-121.95 98.96,-115.95 98.96,-109.95 98.96,-109.95 98.96,-20 98.96,-20 98.96,-14 104.96,-8 110.96,-8\"/>\n",
       "<text text-anchor=\"middle\" x=\"192.46\" y=\"-15.8\" font-family=\"Times,serif\" font-size=\"14.00\">373</text>\n",
       "</g>\n",
       "<!-- Intercept -->\n",
       "<g id=\"node1\" class=\"node\">\n",
       "<title>Intercept</title>\n",
       "<ellipse fill=\"none\" stroke=\"black\" cx=\"45.96\" cy=\"-198.43\" rx=\"45.92\" ry=\"37.45\"/>\n",
       "<text text-anchor=\"middle\" x=\"45.96\" y=\"-209.73\" font-family=\"Times,serif\" font-size=\"14.00\">Intercept</text>\n",
       "<text text-anchor=\"middle\" x=\"45.96\" y=\"-194.73\" font-family=\"Times,serif\" font-size=\"14.00\">~</text>\n",
       "<text text-anchor=\"middle\" x=\"45.96\" y=\"-179.73\" font-family=\"Times,serif\" font-size=\"14.00\">Normal</text>\n",
       "</g>\n",
       "<!-- vote -->\n",
       "<g id=\"node4\" class=\"node\">\n",
       "<title>vote</title>\n",
       "<ellipse fill=\"lightgrey\" stroke=\"black\" cx=\"154.96\" cy=\"-76.48\" rx=\"48.17\" ry=\"37.45\"/>\n",
       "<text text-anchor=\"middle\" x=\"154.96\" y=\"-87.78\" font-family=\"Times,serif\" font-size=\"14.00\">vote</text>\n",
       "<text text-anchor=\"middle\" x=\"154.96\" y=\"-72.78\" font-family=\"Times,serif\" font-size=\"14.00\">~</text>\n",
       "<text text-anchor=\"middle\" x=\"154.96\" y=\"-57.78\" font-family=\"Times,serif\" font-size=\"14.00\">Bernoulli</text>\n",
       "</g>\n",
       "<!-- Intercept&#45;&gt;vote -->\n",
       "<g id=\"edge3\" class=\"edge\">\n",
       "<title>Intercept&#45;&gt;vote</title>\n",
       "<path fill=\"none\" stroke=\"black\" d=\"M67.83,-165.13C76.14,-153.62 86.02,-140.82 95.96,-129.95 101.75,-123.63 108.23,-117.26 114.71,-111.25\"/>\n",
       "<polygon fill=\"black\" stroke=\"black\" points=\"117.23,-113.69 122.3,-104.38 112.53,-108.5 117.23,-113.69\"/>\n",
       "</g>\n",
       "<!-- party_id -->\n",
       "<g id=\"node2\" class=\"node\">\n",
       "<title>party_id</title>\n",
       "<ellipse fill=\"none\" stroke=\"black\" cx=\"154.96\" cy=\"-198.43\" rx=\"43.68\" ry=\"37.45\"/>\n",
       "<text text-anchor=\"middle\" x=\"154.96\" y=\"-209.73\" font-family=\"Times,serif\" font-size=\"14.00\">party_id</text>\n",
       "<text text-anchor=\"middle\" x=\"154.96\" y=\"-194.73\" font-family=\"Times,serif\" font-size=\"14.00\">~</text>\n",
       "<text text-anchor=\"middle\" x=\"154.96\" y=\"-179.73\" font-family=\"Times,serif\" font-size=\"14.00\">Normal</text>\n",
       "</g>\n",
       "<!-- party_id&#45;&gt;vote -->\n",
       "<g id=\"edge1\" class=\"edge\">\n",
       "<title>party_id&#45;&gt;vote</title>\n",
       "<path fill=\"none\" stroke=\"black\" d=\"M154.96,-160.79C154.96,-149.38 154.96,-136.65 154.96,-124.63\"/>\n",
       "<polygon fill=\"black\" stroke=\"black\" points=\"158.46,-124.31 154.96,-114.31 151.46,-124.31 158.46,-124.31\"/>\n",
       "</g>\n",
       "<!-- party_id&amp;scale(age) -->\n",
       "<g id=\"node3\" class=\"node\">\n",
       "<title>party_id&amp;scale(age)</title>\n",
       "<ellipse fill=\"none\" stroke=\"black\" cx=\"310.96\" cy=\"-198.43\" rx=\"84.71\" ry=\"37.45\"/>\n",
       "<text text-anchor=\"middle\" x=\"310.96\" y=\"-209.73\" font-family=\"Times,serif\" font-size=\"14.00\">party_id:scale(age)</text>\n",
       "<text text-anchor=\"middle\" x=\"310.96\" y=\"-194.73\" font-family=\"Times,serif\" font-size=\"14.00\">~</text>\n",
       "<text text-anchor=\"middle\" x=\"310.96\" y=\"-179.73\" font-family=\"Times,serif\" font-size=\"14.00\">Normal</text>\n",
       "</g>\n",
       "<!-- party_id&amp;scale(age)&#45;&gt;vote -->\n",
       "<g id=\"edge2\" class=\"edge\">\n",
       "<title>party_id&amp;scale(age)&#45;&gt;vote</title>\n",
       "<path fill=\"none\" stroke=\"black\" d=\"M269.57,-165.6C247.06,-148.29 219.29,-126.94 196.72,-109.59\"/>\n",
       "<polygon fill=\"black\" stroke=\"black\" points=\"198.72,-106.71 188.66,-103.39 194.46,-112.26 198.72,-106.71\"/>\n",
       "</g>\n",
       "</g>\n",
       "</svg>\n"
      ],
      "text/plain": [
       "<graphviz.graphs.Digraph at 0x7f8adbebada0>"
      ]
     },
     "execution_count": 125,
     "metadata": {},
     "output_type": "execute_result"
    }
   ],
   "source": [
    "model_age_interaction.graph()"
   ]
  },
  {
   "cell_type": "code",
   "execution_count": 126,
   "id": "299c5ff1",
   "metadata": {},
   "outputs": [
    {
     "data": {
      "text/html": [
       "<div>\n",
       "<style scoped>\n",
       "    .dataframe tbody tr th:only-of-type {\n",
       "        vertical-align: middle;\n",
       "    }\n",
       "\n",
       "    .dataframe tbody tr th {\n",
       "        vertical-align: top;\n",
       "    }\n",
       "\n",
       "    .dataframe thead th {\n",
       "        text-align: right;\n",
       "    }\n",
       "</style>\n",
       "<table border=\"1\" class=\"dataframe\">\n",
       "  <thead>\n",
       "    <tr style=\"text-align: right;\">\n",
       "      <th></th>\n",
       "      <th>mean</th>\n",
       "      <th>sd</th>\n",
       "      <th>hdi_3%</th>\n",
       "      <th>hdi_97%</th>\n",
       "      <th>mcse_mean</th>\n",
       "      <th>mcse_sd</th>\n",
       "      <th>ess_bulk</th>\n",
       "      <th>ess_tail</th>\n",
       "      <th>r_hat</th>\n",
       "    </tr>\n",
       "  </thead>\n",
       "  <tbody>\n",
       "    <tr>\n",
       "      <th>party_id[independent]</th>\n",
       "      <td>-2.558</td>\n",
       "      <td>0.334</td>\n",
       "      <td>-3.175</td>\n",
       "      <td>-1.946</td>\n",
       "      <td>0.004</td>\n",
       "      <td>0.003</td>\n",
       "      <td>7175.0</td>\n",
       "      <td>5551.0</td>\n",
       "      <td>1.0</td>\n",
       "    </tr>\n",
       "    <tr>\n",
       "      <th>party_id[republican]</th>\n",
       "      <td>-5.757</td>\n",
       "      <td>0.818</td>\n",
       "      <td>-7.269</td>\n",
       "      <td>-4.313</td>\n",
       "      <td>0.014</td>\n",
       "      <td>0.010</td>\n",
       "      <td>3868.0</td>\n",
       "      <td>3476.0</td>\n",
       "      <td>1.0</td>\n",
       "    </tr>\n",
       "    <tr>\n",
       "      <th>party_id:scale(age)[democrat]</th>\n",
       "      <td>0.219</td>\n",
       "      <td>0.265</td>\n",
       "      <td>-0.283</td>\n",
       "      <td>0.706</td>\n",
       "      <td>0.003</td>\n",
       "      <td>0.003</td>\n",
       "      <td>7743.0</td>\n",
       "      <td>5595.0</td>\n",
       "      <td>1.0</td>\n",
       "    </tr>\n",
       "    <tr>\n",
       "      <th>party_id:scale(age)[independent]</th>\n",
       "      <td>-0.579</td>\n",
       "      <td>0.204</td>\n",
       "      <td>-0.960</td>\n",
       "      <td>-0.188</td>\n",
       "      <td>0.002</td>\n",
       "      <td>0.002</td>\n",
       "      <td>7552.0</td>\n",
       "      <td>5530.0</td>\n",
       "      <td>1.0</td>\n",
       "    </tr>\n",
       "    <tr>\n",
       "      <th>party_id:scale(age)[republican]</th>\n",
       "      <td>-1.465</td>\n",
       "      <td>0.719</td>\n",
       "      <td>-2.880</td>\n",
       "      <td>-0.222</td>\n",
       "      <td>0.012</td>\n",
       "      <td>0.009</td>\n",
       "      <td>4127.0</td>\n",
       "      <td>3626.0</td>\n",
       "      <td>1.0</td>\n",
       "    </tr>\n",
       "  </tbody>\n",
       "</table>\n",
       "</div>"
      ],
      "text/plain": [
       "                                   mean     sd  hdi_3%  hdi_97%  mcse_mean  \\\n",
       "party_id[independent]            -2.558  0.334  -3.175   -1.946      0.004   \n",
       "party_id[republican]             -5.757  0.818  -7.269   -4.313      0.014   \n",
       "party_id:scale(age)[democrat]     0.219  0.265  -0.283    0.706      0.003   \n",
       "party_id:scale(age)[independent] -0.579  0.204  -0.960   -0.188      0.002   \n",
       "party_id:scale(age)[republican]  -1.465  0.719  -2.880   -0.222      0.012   \n",
       "\n",
       "                                  mcse_sd  ess_bulk  ess_tail  r_hat  \n",
       "party_id[independent]               0.003    7175.0    5551.0    1.0  \n",
       "party_id[republican]                0.010    3868.0    3476.0    1.0  \n",
       "party_id:scale(age)[democrat]       0.003    7743.0    5595.0    1.0  \n",
       "party_id:scale(age)[independent]    0.002    7552.0    5530.0    1.0  \n",
       "party_id:scale(age)[republican]     0.009    4127.0    3626.0    1.0  "
      ]
     },
     "execution_count": 126,
     "metadata": {},
     "output_type": "execute_result"
    }
   ],
   "source": [
    "az.summary(idata_age_interaction, var_names=[\"party_id\", \"party_id:scale(age)\"])"
   ]
  },
  {
   "cell_type": "code",
   "execution_count": 127,
   "id": "5346bcdd",
   "metadata": {},
   "outputs": [
    {
     "data": {
      "image/png": "[encoded data removed]",
      "text/plain": [
       "<Figure size 864x360 with 1 Axes>"
      ]
     },
     "metadata": {
      "needs_background": "light"
     },
     "output_type": "display_data"
    }
   ],
   "source": [
    "fig, ax = plt.subplots(figsize=(12, 5))\n",
    "\n",
    "posterior_mean = make_vote_predictions(model_age_interaction, idata_age_interaction)\n",
    "plot_vote_predictions(posterior_mean, ax=ax)"
   ]
  },
  {
   "cell_type": "markdown",
   "id": "e2f33918",
   "metadata": {},
   "source": [
    "## Section Recap\n",
    "* Logistic Regression can help us understand voter preferences\n",
    "* Interaction effects help us answer different questions\n",
    "  * How does propensity to vote for one candidate or another?\n",
    "  * How does it change per subgroup\n",
    "* Plotting many posterior predictive samples helps us understand varability"
   ]
  },
  {
   "cell_type": "markdown",
   "id": "d0ddd978",
   "metadata": {},
   "source": [
    "# Lesson Recap\n"
   ]
  },
  {
   "cell_type": "markdown",
   "id": "bdb69fb6",
   "metadata": {},
   "source": [
    "# Appendix Section: Binomial Model\n",
    "Reviewer's note: This section would be recorded\n",
    "If we'd rather prefer binomial heres how todo it."
   ]
  },
  {
   "cell_type": "markdown",
   "id": "64b16425",
   "metadata": {},
   "source": [
    "## DataFrame at individual level"
   ]
  },
  {
   "cell_type": "code",
   "execution_count": 128,
   "id": "ec691f60",
   "metadata": {},
   "outputs": [
    {
     "data": {
      "text/html": [
       "<div>\n",
       "<style scoped>\n",
       "    .dataframe tbody tr th:only-of-type {\n",
       "        vertical-align: middle;\n",
       "    }\n",
       "\n",
       "    .dataframe tbody tr th {\n",
       "        vertical-align: top;\n",
       "    }\n",
       "\n",
       "    .dataframe thead th {\n",
       "        text-align: right;\n",
       "    }\n",
       "</style>\n",
       "<table border=\"1\" class=\"dataframe\">\n",
       "  <thead>\n",
       "    <tr style=\"text-align: right;\">\n",
       "      <th></th>\n",
       "      <th>age</th>\n",
       "      <th>likes_videogames</th>\n",
       "      <th>likes_videogames_bool</th>\n",
       "      <th>p_convert</th>\n",
       "      <th>converted_bool</th>\n",
       "      <th>converted</th>\n",
       "    </tr>\n",
       "  </thead>\n",
       "  <tbody>\n",
       "    <tr>\n",
       "      <th>355</th>\n",
       "      <td>18.0</td>\n",
       "      <td>Yes</td>\n",
       "      <td>1</td>\n",
       "      <td>0.768525</td>\n",
       "      <td>1</td>\n",
       "      <td>Yes</td>\n",
       "    </tr>\n",
       "    <tr>\n",
       "      <th>720</th>\n",
       "      <td>18.0</td>\n",
       "      <td>Yes</td>\n",
       "      <td>1</td>\n",
       "      <td>0.768525</td>\n",
       "      <td>1</td>\n",
       "      <td>Yes</td>\n",
       "    </tr>\n",
       "    <tr>\n",
       "      <th>678</th>\n",
       "      <td>18.0</td>\n",
       "      <td>No</td>\n",
       "      <td>0</td>\n",
       "      <td>0.310026</td>\n",
       "      <td>0</td>\n",
       "      <td>No</td>\n",
       "    </tr>\n",
       "    <tr>\n",
       "      <th>113</th>\n",
       "      <td>18.0</td>\n",
       "      <td>No</td>\n",
       "      <td>0</td>\n",
       "      <td>0.310026</td>\n",
       "      <td>0</td>\n",
       "      <td>No</td>\n",
       "    </tr>\n",
       "    <tr>\n",
       "      <th>425</th>\n",
       "      <td>18.0</td>\n",
       "      <td>No</td>\n",
       "      <td>0</td>\n",
       "      <td>0.310026</td>\n",
       "      <td>1</td>\n",
       "      <td>Yes</td>\n",
       "    </tr>\n",
       "    <tr>\n",
       "      <th>...</th>\n",
       "      <td>...</td>\n",
       "      <td>...</td>\n",
       "      <td>...</td>\n",
       "      <td>...</td>\n",
       "      <td>...</td>\n",
       "      <td>...</td>\n",
       "    </tr>\n",
       "    <tr>\n",
       "      <th>825</th>\n",
       "      <td>59.0</td>\n",
       "      <td>Yes</td>\n",
       "      <td>1</td>\n",
       "      <td>0.052154</td>\n",
       "      <td>0</td>\n",
       "      <td>No</td>\n",
       "    </tr>\n",
       "    <tr>\n",
       "      <th>207</th>\n",
       "      <td>59.0</td>\n",
       "      <td>No</td>\n",
       "      <td>0</td>\n",
       "      <td>0.007392</td>\n",
       "      <td>0</td>\n",
       "      <td>No</td>\n",
       "    </tr>\n",
       "    <tr>\n",
       "      <th>170</th>\n",
       "      <td>59.0</td>\n",
       "      <td>Yes</td>\n",
       "      <td>1</td>\n",
       "      <td>0.052154</td>\n",
       "      <td>0</td>\n",
       "      <td>No</td>\n",
       "    </tr>\n",
       "    <tr>\n",
       "      <th>436</th>\n",
       "      <td>59.0</td>\n",
       "      <td>Yes</td>\n",
       "      <td>1</td>\n",
       "      <td>0.052154</td>\n",
       "      <td>0</td>\n",
       "      <td>No</td>\n",
       "    </tr>\n",
       "    <tr>\n",
       "      <th>552</th>\n",
       "      <td>59.0</td>\n",
       "      <td>No</td>\n",
       "      <td>0</td>\n",
       "      <td>0.007392</td>\n",
       "      <td>0</td>\n",
       "      <td>No</td>\n",
       "    </tr>\n",
       "  </tbody>\n",
       "</table>\n",
       "<p>1000 rows × 6 columns</p>\n",
       "</div>"
      ],
      "text/plain": [
       "      age likes_videogames  likes_videogames_bool  p_convert  converted_bool  \\\n",
       "355  18.0              Yes                      1   0.768525               1   \n",
       "720  18.0              Yes                      1   0.768525               1   \n",
       "678  18.0               No                      0   0.310026               0   \n",
       "113  18.0               No                      0   0.310026               0   \n",
       "425  18.0               No                      0   0.310026               1   \n",
       "..    ...              ...                    ...        ...             ...   \n",
       "825  59.0              Yes                      1   0.052154               0   \n",
       "207  59.0               No                      0   0.007392               0   \n",
       "170  59.0              Yes                      1   0.052154               0   \n",
       "436  59.0              Yes                      1   0.052154               0   \n",
       "552  59.0               No                      0   0.007392               0   \n",
       "\n",
       "    converted  \n",
       "355       Yes  \n",
       "720       Yes  \n",
       "678        No  \n",
       "113        No  \n",
       "425       Yes  \n",
       "..        ...  \n",
       "825        No  \n",
       "207        No  \n",
       "170        No  \n",
       "436        No  \n",
       "552        No  \n",
       "\n",
       "[1000 rows x 6 columns]"
      ]
     },
     "execution_count": 128,
     "metadata": {},
     "output_type": "execute_result"
    }
   ],
   "source": [
    "df"
   ]
  },
  {
   "cell_type": "markdown",
   "id": "89c5e456",
   "metadata": {},
   "source": [
    "## Aggregate to (Converted, Count)"
   ]
  },
  {
   "cell_type": "code",
   "execution_count": 133,
   "id": "fa37d840",
   "metadata": {},
   "outputs": [
    {
     "data": {
      "text/html": [
       "<div>\n",
       "<style scoped>\n",
       "    .dataframe tbody tr th:only-of-type {\n",
       "        vertical-align: middle;\n",
       "    }\n",
       "\n",
       "    .dataframe tbody tr th {\n",
       "        vertical-align: top;\n",
       "    }\n",
       "\n",
       "    .dataframe thead th {\n",
       "        text-align: right;\n",
       "    }\n",
       "</style>\n",
       "<table border=\"1\" class=\"dataframe\">\n",
       "  <thead>\n",
       "    <tr style=\"text-align: right;\">\n",
       "      <th></th>\n",
       "      <th>likes_videogames</th>\n",
       "      <th>age</th>\n",
       "      <th>Converted</th>\n",
       "      <th>Count</th>\n",
       "    </tr>\n",
       "  </thead>\n",
       "  <tbody>\n",
       "    <tr>\n",
       "      <th>0</th>\n",
       "      <td>No</td>\n",
       "      <td>18.0</td>\n",
       "      <td>4</td>\n",
       "      <td>9</td>\n",
       "    </tr>\n",
       "    <tr>\n",
       "      <th>1</th>\n",
       "      <td>No</td>\n",
       "      <td>19.0</td>\n",
       "      <td>0</td>\n",
       "      <td>8</td>\n",
       "    </tr>\n",
       "    <tr>\n",
       "      <th>2</th>\n",
       "      <td>No</td>\n",
       "      <td>20.0</td>\n",
       "      <td>2</td>\n",
       "      <td>8</td>\n",
       "    </tr>\n",
       "    <tr>\n",
       "      <th>3</th>\n",
       "      <td>No</td>\n",
       "      <td>21.0</td>\n",
       "      <td>6</td>\n",
       "      <td>17</td>\n",
       "    </tr>\n",
       "    <tr>\n",
       "      <th>4</th>\n",
       "      <td>No</td>\n",
       "      <td>22.0</td>\n",
       "      <td>8</td>\n",
       "      <td>17</td>\n",
       "    </tr>\n",
       "    <tr>\n",
       "      <th>...</th>\n",
       "      <td>...</td>\n",
       "      <td>...</td>\n",
       "      <td>...</td>\n",
       "      <td>...</td>\n",
       "    </tr>\n",
       "    <tr>\n",
       "      <th>79</th>\n",
       "      <td>Yes</td>\n",
       "      <td>55.0</td>\n",
       "      <td>1</td>\n",
       "      <td>22</td>\n",
       "    </tr>\n",
       "    <tr>\n",
       "      <th>80</th>\n",
       "      <td>Yes</td>\n",
       "      <td>56.0</td>\n",
       "      <td>0</td>\n",
       "      <td>13</td>\n",
       "    </tr>\n",
       "    <tr>\n",
       "      <th>81</th>\n",
       "      <td>Yes</td>\n",
       "      <td>57.0</td>\n",
       "      <td>1</td>\n",
       "      <td>14</td>\n",
       "    </tr>\n",
       "    <tr>\n",
       "      <th>82</th>\n",
       "      <td>Yes</td>\n",
       "      <td>58.0</td>\n",
       "      <td>0</td>\n",
       "      <td>9</td>\n",
       "    </tr>\n",
       "    <tr>\n",
       "      <th>83</th>\n",
       "      <td>Yes</td>\n",
       "      <td>59.0</td>\n",
       "      <td>0</td>\n",
       "      <td>10</td>\n",
       "    </tr>\n",
       "  </tbody>\n",
       "</table>\n",
       "<p>84 rows × 4 columns</p>\n",
       "</div>"
      ],
      "text/plain": [
       "   likes_videogames   age  Converted  Count\n",
       "0                No  18.0          4      9\n",
       "1                No  19.0          0      8\n",
       "2                No  20.0          2      8\n",
       "3                No  21.0          6     17\n",
       "4                No  22.0          8     17\n",
       "..              ...   ...        ...    ...\n",
       "79              Yes  55.0          1     22\n",
       "80              Yes  56.0          0     13\n",
       "81              Yes  57.0          1     14\n",
       "82              Yes  58.0          0      9\n",
       "83              Yes  59.0          0     10\n",
       "\n",
       "[84 rows x 4 columns]"
      ]
     },
     "execution_count": 133,
     "metadata": {},
     "output_type": "execute_result"
    }
   ],
   "source": [
    "(\n",
    "    df\n",
    "    .groupby([\"likes_videogames\", \"age\"])\n",
    "    .agg(\n",
    "        Converted = (\"converted_bool\", sum),\n",
    "        Count = (\"converted_bool\", len)\n",
    "    )\n",
    "    .reset_index()\n",
    ")"
   ]
  },
  {
   "cell_type": "code",
   "execution_count": 135,
   "id": "0f19b9b8",
   "metadata": {},
   "outputs": [
    {
     "data": {
      "text/html": [
       "<div>\n",
       "<style scoped>\n",
       "    .dataframe tbody tr th:only-of-type {\n",
       "        vertical-align: middle;\n",
       "    }\n",
       "\n",
       "    .dataframe tbody tr th {\n",
       "        vertical-align: top;\n",
       "    }\n",
       "\n",
       "    .dataframe thead th {\n",
       "        text-align: right;\n",
       "    }\n",
       "</style>\n",
       "<table border=\"1\" class=\"dataframe\">\n",
       "  <thead>\n",
       "    <tr style=\"text-align: right;\">\n",
       "      <th></th>\n",
       "      <th>likes_videogames</th>\n",
       "      <th>age</th>\n",
       "      <th>Converted</th>\n",
       "      <th>Count</th>\n",
       "    </tr>\n",
       "  </thead>\n",
       "  <tbody>\n",
       "    <tr>\n",
       "      <th>0</th>\n",
       "      <td>No</td>\n",
       "      <td>18.0</td>\n",
       "      <td>4</td>\n",
       "      <td>9</td>\n",
       "    </tr>\n",
       "    <tr>\n",
       "      <th>1</th>\n",
       "      <td>No</td>\n",
       "      <td>19.0</td>\n",
       "      <td>0</td>\n",
       "      <td>8</td>\n",
       "    </tr>\n",
       "    <tr>\n",
       "      <th>2</th>\n",
       "      <td>No</td>\n",
       "      <td>20.0</td>\n",
       "      <td>2</td>\n",
       "      <td>8</td>\n",
       "    </tr>\n",
       "    <tr>\n",
       "      <th>3</th>\n",
       "      <td>No</td>\n",
       "      <td>21.0</td>\n",
       "      <td>6</td>\n",
       "      <td>17</td>\n",
       "    </tr>\n",
       "    <tr>\n",
       "      <th>4</th>\n",
       "      <td>No</td>\n",
       "      <td>22.0</td>\n",
       "      <td>8</td>\n",
       "      <td>17</td>\n",
       "    </tr>\n",
       "    <tr>\n",
       "      <th>...</th>\n",
       "      <td>...</td>\n",
       "      <td>...</td>\n",
       "      <td>...</td>\n",
       "      <td>...</td>\n",
       "    </tr>\n",
       "    <tr>\n",
       "      <th>79</th>\n",
       "      <td>Yes</td>\n",
       "      <td>55.0</td>\n",
       "      <td>1</td>\n",
       "      <td>22</td>\n",
       "    </tr>\n",
       "    <tr>\n",
       "      <th>80</th>\n",
       "      <td>Yes</td>\n",
       "      <td>56.0</td>\n",
       "      <td>0</td>\n",
       "      <td>13</td>\n",
       "    </tr>\n",
       "    <tr>\n",
       "      <th>81</th>\n",
       "      <td>Yes</td>\n",
       "      <td>57.0</td>\n",
       "      <td>1</td>\n",
       "      <td>14</td>\n",
       "    </tr>\n",
       "    <tr>\n",
       "      <th>82</th>\n",
       "      <td>Yes</td>\n",
       "      <td>58.0</td>\n",
       "      <td>0</td>\n",
       "      <td>9</td>\n",
       "    </tr>\n",
       "    <tr>\n",
       "      <th>83</th>\n",
       "      <td>Yes</td>\n",
       "      <td>59.0</td>\n",
       "      <td>0</td>\n",
       "      <td>10</td>\n",
       "    </tr>\n",
       "  </tbody>\n",
       "</table>\n",
       "<p>84 rows × 4 columns</p>\n",
       "</div>"
      ],
      "text/plain": [
       "   likes_videogames   age  Converted  Count\n",
       "0                No  18.0          4      9\n",
       "1                No  19.0          0      8\n",
       "2                No  20.0          2      8\n",
       "3                No  21.0          6     17\n",
       "4                No  22.0          8     17\n",
       "..              ...   ...        ...    ...\n",
       "79              Yes  55.0          1     22\n",
       "80              Yes  56.0          0     13\n",
       "81              Yes  57.0          1     14\n",
       "82              Yes  58.0          0      9\n",
       "83              Yes  59.0          0     10\n",
       "\n",
       "[84 rows x 4 columns]"
      ]
     },
     "execution_count": 135,
     "metadata": {},
     "output_type": "execute_result"
    }
   ],
   "source": [
    "binom_df = (df\n",
    "    .groupby([\"likes_videogames\", \"age\"])\n",
    "    .agg(\n",
    "        Converted = (\"converted_bool\", sum),\n",
    "        Count = (\"converted_bool\", len)\n",
    "    )\n",
    "    .reset_index()\n",
    ")\n",
    "binom_df"
   ]
  },
  {
   "cell_type": "code",
   "execution_count": 136,
   "id": "a8fe92cf",
   "metadata": {},
   "outputs": [
    {
     "ename": "TypeError",
     "evalue": "'TensorVariable' object is not callable",
     "output_type": "error",
     "traceback": [
      "\u001b[0;31m---------------------------------------------------------------------------\u001b[0m",
      "\u001b[0;31mTypeError\u001b[0m                                 Traceback (most recent call last)",
      "Input \u001b[0;32mIn [136]\u001b[0m, in \u001b[0;36m<cell line: 1>\u001b[0;34m()\u001b[0m\n\u001b[0;32m----> 1\u001b[0m conversion_model \u001b[38;5;241m=\u001b[39m \u001b[43mbmb\u001b[49m\u001b[38;5;241;43m.\u001b[39;49m\u001b[43mModel\u001b[49m\u001b[43m(\u001b[49m\u001b[38;5;124;43m\"\u001b[39;49m\u001b[38;5;124;43mp(Converted, Count) ~ likes_videogames + age\u001b[39;49m\u001b[38;5;124;43m\"\u001b[39;49m\u001b[43m,\u001b[49m\u001b[43m \u001b[49m\u001b[43mbinom_df\u001b[49m\u001b[43m,\u001b[49m\u001b[43m \u001b[49m\u001b[43mfamily\u001b[49m\u001b[38;5;241;43m=\u001b[39;49m\u001b[38;5;124;43m\"\u001b[39;49m\u001b[38;5;124;43mbinomial\u001b[39;49m\u001b[38;5;124;43m\"\u001b[39;49m\u001b[43m)\u001b[49m\n\u001b[1;32m      2\u001b[0m conversion_model_fitted \u001b[38;5;241m=\u001b[39m conversion_model\u001b[38;5;241m.\u001b[39mfit(draws\u001b[38;5;241m=\u001b[39m\u001b[38;5;241m2000\u001b[39m, target_accept\u001b[38;5;241m=\u001b[39m\u001b[38;5;241m0.85\u001b[39m, random_seed\u001b[38;5;241m=\u001b[39mSEED)\n",
      "File \u001b[0;32m~/miniconda3/envs/ib_advanced_regression/lib/python3.10/site-packages/bambi/models.py:148\u001b[0m, in \u001b[0;36mModel.__init__\u001b[0;34m(self, formula, data, family, priors, link, categorical, potentials, dropna, auto_scale, automatic_priors, noncentered, priors_cor)\u001b[0m\n\u001b[1;32m    146\u001b[0m na_action \u001b[38;5;241m=\u001b[39m \u001b[38;5;124m\"\u001b[39m\u001b[38;5;124mdrop\u001b[39m\u001b[38;5;124m\"\u001b[39m \u001b[38;5;28;01mif\u001b[39;00m dropna \u001b[38;5;28;01melse\u001b[39;00m \u001b[38;5;124m\"\u001b[39m\u001b[38;5;124merror\u001b[39m\u001b[38;5;124m\"\u001b[39m\n\u001b[1;32m    147\u001b[0m \u001b[38;5;28mself\u001b[39m\u001b[38;5;241m.\u001b[39mformula \u001b[38;5;241m=\u001b[39m formula\n\u001b[0;32m--> 148\u001b[0m \u001b[38;5;28mself\u001b[39m\u001b[38;5;241m.\u001b[39m_design \u001b[38;5;241m=\u001b[39m \u001b[43mdesign_matrices\u001b[49m\u001b[43m(\u001b[49m\u001b[43mformula\u001b[49m\u001b[43m,\u001b[49m\u001b[43m \u001b[49m\u001b[43mdata\u001b[49m\u001b[43m,\u001b[49m\u001b[43m \u001b[49m\u001b[43mna_action\u001b[49m\u001b[43m,\u001b[49m\u001b[43m \u001b[49m\u001b[38;5;241;43m1\u001b[39;49m\u001b[43m,\u001b[49m\u001b[43m \u001b[49m\u001b[43mextra_namespace\u001b[49m\u001b[43m)\u001b[49m\n\u001b[1;32m    150\u001b[0m \u001b[38;5;28;01mif\u001b[39;00m \u001b[38;5;28mself\u001b[39m\u001b[38;5;241m.\u001b[39m_design\u001b[38;5;241m.\u001b[39mresponse \u001b[38;5;129;01mis\u001b[39;00m \u001b[38;5;28;01mNone\u001b[39;00m:\n\u001b[1;32m    151\u001b[0m     \u001b[38;5;28;01mraise\u001b[39;00m \u001b[38;5;167;01mValueError\u001b[39;00m(\n\u001b[1;32m    152\u001b[0m         \u001b[38;5;124m\"\u001b[39m\u001b[38;5;124mNo outcome variable is set! \u001b[39m\u001b[38;5;124m\"\u001b[39m\n\u001b[1;32m    153\u001b[0m         \u001b[38;5;124m\"\u001b[39m\u001b[38;5;124mPlease specify an outcome variable using the formula interface.\u001b[39m\u001b[38;5;124m\"\u001b[39m\n\u001b[1;32m    154\u001b[0m     )\n",
      "File \u001b[0;32m~/miniconda3/envs/ib_advanced_regression/lib/python3.10/site-packages/formulae/matrices.py:523\u001b[0m, in \u001b[0;36mdesign_matrices\u001b[0;34m(formula, data, na_action, env, extra_namespace)\u001b[0m\n\u001b[1;32m    520\u001b[0m     \u001b[38;5;28;01melse\u001b[39;00m:\n\u001b[1;32m    521\u001b[0m         \u001b[38;5;28;01mraise\u001b[39;00m \u001b[38;5;167;01mValueError\u001b[39;00m(\u001b[38;5;124mf\u001b[39m\u001b[38;5;124m\"\u001b[39m\u001b[38;5;124m'\u001b[39m\u001b[38;5;124mdata\u001b[39m\u001b[38;5;124m'\u001b[39m\u001b[38;5;124m contains \u001b[39m\u001b[38;5;132;01m{\u001b[39;00mincomplete_rows_n\u001b[38;5;132;01m}\u001b[39;00m\u001b[38;5;124m incomplete rows.\u001b[39m\u001b[38;5;124m\"\u001b[39m)\n\u001b[0;32m--> 523\u001b[0m design \u001b[38;5;241m=\u001b[39m \u001b[43mDesignMatrices\u001b[49m\u001b[43m(\u001b[49m\u001b[43mdescription\u001b[49m\u001b[43m,\u001b[49m\u001b[43m \u001b[49m\u001b[43mdata\u001b[49m\u001b[43m,\u001b[49m\u001b[43m \u001b[49m\u001b[43menv\u001b[49m\u001b[43m)\u001b[49m\n\u001b[1;32m    524\u001b[0m \u001b[38;5;28;01mreturn\u001b[39;00m design\n",
      "File \u001b[0;32m~/miniconda3/envs/ib_advanced_regression/lib/python3.10/site-packages/formulae/matrices.py:58\u001b[0m, in \u001b[0;36mDesignMatrices.__init__\u001b[0;34m(self, model, data, env)\u001b[0m\n\u001b[1;32m     56\u001b[0m \u001b[38;5;28;01mif\u001b[39;00m \u001b[38;5;28mself\u001b[39m\u001b[38;5;241m.\u001b[39mmodel\u001b[38;5;241m.\u001b[39mresponse:\n\u001b[1;32m     57\u001b[0m     \u001b[38;5;28mself\u001b[39m\u001b[38;5;241m.\u001b[39mresponse \u001b[38;5;241m=\u001b[39m ResponseMatrix(\u001b[38;5;28mself\u001b[39m\u001b[38;5;241m.\u001b[39mmodel\u001b[38;5;241m.\u001b[39mresponse)\n\u001b[0;32m---> 58\u001b[0m     \u001b[38;5;28;43mself\u001b[39;49m\u001b[38;5;241;43m.\u001b[39;49m\u001b[43mresponse\u001b[49m\u001b[38;5;241;43m.\u001b[39;49m\u001b[43mevaluate\u001b[49m\u001b[43m(\u001b[49m\u001b[43mdata\u001b[49m\u001b[43m,\u001b[49m\u001b[43m \u001b[49m\u001b[43menv\u001b[49m\u001b[43m)\u001b[49m\n\u001b[1;32m     60\u001b[0m \u001b[38;5;28;01mif\u001b[39;00m \u001b[38;5;28mself\u001b[39m\u001b[38;5;241m.\u001b[39mmodel\u001b[38;5;241m.\u001b[39mcommon_terms:\n\u001b[1;32m     61\u001b[0m     \u001b[38;5;28mself\u001b[39m\u001b[38;5;241m.\u001b[39mcommon \u001b[38;5;241m=\u001b[39m CommonEffectsMatrix(\u001b[38;5;28mself\u001b[39m\u001b[38;5;241m.\u001b[39mmodel\u001b[38;5;241m.\u001b[39mcommon_terms)\n",
      "File \u001b[0;32m~/miniconda3/envs/ib_advanced_regression/lib/python3.10/site-packages/formulae/matrices.py:137\u001b[0m, in \u001b[0;36mResponseMatrix.evaluate\u001b[0;34m(self, data, env)\u001b[0m\n\u001b[1;32m    135\u001b[0m \u001b[38;5;28mself\u001b[39m\u001b[38;5;241m.\u001b[39mdata \u001b[38;5;241m=\u001b[39m data\n\u001b[1;32m    136\u001b[0m \u001b[38;5;28mself\u001b[39m\u001b[38;5;241m.\u001b[39menv \u001b[38;5;241m=\u001b[39m env\n\u001b[0;32m--> 137\u001b[0m \u001b[38;5;28;43mself\u001b[39;49m\u001b[38;5;241;43m.\u001b[39;49m\u001b[43mterm\u001b[49m\u001b[38;5;241;43m.\u001b[39;49m\u001b[43mset_type\u001b[49m\u001b[43m(\u001b[49m\u001b[38;5;28;43mself\u001b[39;49m\u001b[38;5;241;43m.\u001b[39;49m\u001b[43mdata\u001b[49m\u001b[43m,\u001b[49m\u001b[43m \u001b[49m\u001b[38;5;28;43mself\u001b[39;49m\u001b[38;5;241;43m.\u001b[39;49m\u001b[43menv\u001b[49m\u001b[43m)\u001b[49m\n\u001b[1;32m    138\u001b[0m \u001b[38;5;28mself\u001b[39m\u001b[38;5;241m.\u001b[39mterm\u001b[38;5;241m.\u001b[39mset_data()\n\u001b[1;32m    139\u001b[0m \u001b[38;5;28mself\u001b[39m\u001b[38;5;241m.\u001b[39mkind \u001b[38;5;241m=\u001b[39m \u001b[38;5;28mself\u001b[39m\u001b[38;5;241m.\u001b[39mterm\u001b[38;5;241m.\u001b[39mterm\u001b[38;5;241m.\u001b[39mkind\n",
      "File \u001b[0;32m~/miniconda3/envs/ib_advanced_regression/lib/python3.10/site-packages/formulae/terms/terms.py:813\u001b[0m, in \u001b[0;36mResponse.set_type\u001b[0;34m(self, data, env)\u001b[0m\n\u001b[1;32m    811\u001b[0m \u001b[38;5;28;01mdef\u001b[39;00m \u001b[38;5;21mset_type\u001b[39m(\u001b[38;5;28mself\u001b[39m, data, env):\n\u001b[1;32m    812\u001b[0m     \u001b[38;5;124;03m\"\"\"Set type of the response term.\"\"\"\u001b[39;00m\n\u001b[0;32m--> 813\u001b[0m     \u001b[38;5;28;43mself\u001b[39;49m\u001b[38;5;241;43m.\u001b[39;49m\u001b[43mterm\u001b[49m\u001b[38;5;241;43m.\u001b[39;49m\u001b[43mset_type\u001b[49m\u001b[43m(\u001b[49m\u001b[43mdata\u001b[49m\u001b[43m,\u001b[49m\u001b[43m \u001b[49m\u001b[43menv\u001b[49m\u001b[43m)\u001b[49m\n",
      "File \u001b[0;32m~/miniconda3/envs/ib_advanced_regression/lib/python3.10/site-packages/formulae/terms/terms.py:433\u001b[0m, in \u001b[0;36mTerm.set_type\u001b[0;34m(self, data, env)\u001b[0m\n\u001b[1;32m    431\u001b[0m     component\u001b[38;5;241m.\u001b[39mset_type(data)\n\u001b[1;32m    432\u001b[0m \u001b[38;5;28;01melif\u001b[39;00m \u001b[38;5;28misinstance\u001b[39m(component, Call):\n\u001b[0;32m--> 433\u001b[0m     \u001b[43mcomponent\u001b[49m\u001b[38;5;241;43m.\u001b[39;49m\u001b[43mset_type\u001b[49m\u001b[43m(\u001b[49m\u001b[43mdata\u001b[49m\u001b[43m,\u001b[49m\u001b[43m \u001b[49m\u001b[43menv\u001b[49m\u001b[43m)\u001b[49m\n\u001b[1;32m    434\u001b[0m \u001b[38;5;28;01melse\u001b[39;00m:\n\u001b[1;32m    435\u001b[0m     \u001b[38;5;28;01mraise\u001b[39;00m \u001b[38;5;167;01mValueError\u001b[39;00m(\n\u001b[1;32m    436\u001b[0m         \u001b[38;5;124m\"\u001b[39m\u001b[38;5;124mCan\u001b[39m\u001b[38;5;124m'\u001b[39m\u001b[38;5;124mt set type on Term because at least one of the components \u001b[39m\u001b[38;5;124m\"\u001b[39m\n\u001b[1;32m    437\u001b[0m         \u001b[38;5;124mf\u001b[39m\u001b[38;5;124m\"\u001b[39m\u001b[38;5;124mis of the unexpected type \u001b[39m\u001b[38;5;132;01m{\u001b[39;00m\u001b[38;5;28mtype\u001b[39m(component)\u001b[38;5;132;01m}\u001b[39;00m\u001b[38;5;124m.\u001b[39m\u001b[38;5;124m\"\u001b[39m\n\u001b[1;32m    438\u001b[0m     )\n",
      "File \u001b[0;32m~/miniconda3/envs/ib_advanced_regression/lib/python3.10/site-packages/formulae/terms/call.py:102\u001b[0m, in \u001b[0;36mCall.set_type\u001b[0;34m(self, data_mask, env)\u001b[0m\n\u001b[1;32m     86\u001b[0m \u001b[38;5;124;03m\"\"\"Evaluates function and determines the type of the result of the call.\u001b[39;00m\n\u001b[1;32m     87\u001b[0m \n\u001b[1;32m     88\u001b[0m \u001b[38;5;124;03mEvaluates the function call and sets the ``.kind`` property to ``\"numeric\"`` or\u001b[39;00m\n\u001b[0;32m   (...)\u001b[0m\n\u001b[1;32m     98\u001b[0m \u001b[38;5;124;03m    The environment where values and functions are taken from.\u001b[39;00m\n\u001b[1;32m     99\u001b[0m \u001b[38;5;124;03m\"\"\"\u001b[39;00m\n\u001b[1;32m    101\u001b[0m \u001b[38;5;28mself\u001b[39m\u001b[38;5;241m.\u001b[39menv \u001b[38;5;241m=\u001b[39m env\u001b[38;5;241m.\u001b[39mwith_outer_namespace({\u001b[38;5;241m*\u001b[39m\u001b[38;5;241m*\u001b[39mTRANSFORMS, \u001b[38;5;241m*\u001b[39m\u001b[38;5;241m*\u001b[39mENCODINGS})\n\u001b[0;32m--> 102\u001b[0m x \u001b[38;5;241m=\u001b[39m \u001b[38;5;28;43mself\u001b[39;49m\u001b[38;5;241;43m.\u001b[39;49m\u001b[43mcall\u001b[49m\u001b[38;5;241;43m.\u001b[39;49m\u001b[43meval\u001b[49m\u001b[43m(\u001b[49m\u001b[43mdata_mask\u001b[49m\u001b[43m,\u001b[49m\u001b[43m \u001b[49m\u001b[38;5;28;43mself\u001b[39;49m\u001b[38;5;241;43m.\u001b[39;49m\u001b[43menv\u001b[49m\u001b[43m)\u001b[49m\n\u001b[1;32m    104\u001b[0m \u001b[38;5;28;01mif\u001b[39;00m is_numeric_dtype(x):\n\u001b[1;32m    105\u001b[0m     \u001b[38;5;28mself\u001b[39m\u001b[38;5;241m.\u001b[39mkind \u001b[38;5;241m=\u001b[39m \u001b[38;5;124m\"\u001b[39m\u001b[38;5;124mnumeric\u001b[39m\u001b[38;5;124m\"\u001b[39m\n",
      "File \u001b[0;32m~/miniconda3/envs/ib_advanced_regression/lib/python3.10/site-packages/formulae/terms/call_resolver.py:258\u001b[0m, in \u001b[0;36mLazyCall.eval\u001b[0;34m(self, data_mask, env)\u001b[0m\n\u001b[1;32m    255\u001b[0m args \u001b[38;5;241m=\u001b[39m [arg\u001b[38;5;241m.\u001b[39meval(data_mask, env) \u001b[38;5;28;01mfor\u001b[39;00m arg \u001b[38;5;129;01min\u001b[39;00m \u001b[38;5;28mself\u001b[39m\u001b[38;5;241m.\u001b[39margs]\n\u001b[1;32m    256\u001b[0m kwargs \u001b[38;5;241m=\u001b[39m {name: arg\u001b[38;5;241m.\u001b[39meval(data_mask, env) \u001b[38;5;28;01mfor\u001b[39;00m name, arg \u001b[38;5;129;01min\u001b[39;00m \u001b[38;5;28mself\u001b[39m\u001b[38;5;241m.\u001b[39mkwargs\u001b[38;5;241m.\u001b[39mitems()}\n\u001b[0;32m--> 258\u001b[0m \u001b[38;5;28;01mreturn\u001b[39;00m \u001b[43mcallee\u001b[49m\u001b[43m(\u001b[49m\u001b[38;5;241;43m*\u001b[39;49m\u001b[43margs\u001b[49m\u001b[43m,\u001b[49m\u001b[43m \u001b[49m\u001b[38;5;241;43m*\u001b[39;49m\u001b[38;5;241;43m*\u001b[39;49m\u001b[43mkwargs\u001b[49m\u001b[43m)\u001b[49m\n",
      "\u001b[0;31mTypeError\u001b[0m: 'TensorVariable' object is not callable"
     ]
    }
   ],
   "source": [
    "conversion_model = bmb.Model(\"p(Converted, Count) ~ likes_videogames + age\", binom_df, family=\"binomial\")\n",
    "conversion_model_fitted = conversion_model.fit(draws=2000, target_accept=0.85, random_seed=SEED)"
   ]
  },
  {
   "cell_type": "code",
   "execution_count": null,
   "id": "efc71ef7",
   "metadata": {},
   "outputs": [],
   "source": [
    "az.summary(conversion_model_fitted)"
   ]
  },
  {
   "cell_type": "code",
   "execution_count": null,
   "id": "7a892f1e",
   "metadata": {},
   "outputs": [],
   "source": [
    "conversion_model = bmb.Model(\"p(Converted, Count) ~ likes_videogames + age\", binom_df, family=\"binomial\")\n",
    "conversion_model_fitted = conversion_model.fit(draws=2000, target_accept=0.85, random_seed=SEED)"
   ]
  }
 ],
 "metadata": {
  "celltoolbar": "Slideshow",
  "kernelspec": {
   "display_name": "Python 3 (ipykernel)",
   "language": "python",
   "name": "python3"
  },
  "language_info": {
   "codemirror_mode": {
    "name": "ipython",
    "version": 3
   },
   "file_extension": ".py",
   "mimetype": "text/x-python",
   "name": "python",
   "nbconvert_exporter": "python",
   "pygments_lexer": "ipython3",
   "version": "3.10.4"
  },
  "vscode": {
   "interpreter": {
    "hash": "894fb80d761728a628e76ec26c428594c877627242f4f1d028aa39863aa2798a"
   }
  }
 },
 "nbformat": 4,
 "nbformat_minor": 5
}
